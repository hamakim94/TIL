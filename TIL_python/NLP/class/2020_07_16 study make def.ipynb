{
 "cells": [
  {
   "cell_type": "code",
   "execution_count": 1,
   "metadata": {},
   "outputs": [
    {
     "name": "stdout",
     "output_type": "stream",
     "text": [
      "Requirement already satisfied: mecab-python==0.996-ko-0.9.2-msvc from file:///C:/Users/User/TIL/NLP/class/mecab_python-0.996_ko_0.9.2_msvc-cp36-cp36m-win_amd64.whl in c:\\users\\user\\anaconda3\\envs\\nlp\\lib\\site-packages (0.996-ko-0.9.2-msvc)\n"
     ]
    }
   ],
   "source": [
    "!pip install mecab_python-0.996_ko_0.9.2_msvc-cp36-cp36m-win_amd64.whl"
   ]
  },
  {
   "cell_type": "code",
   "execution_count": 2,
   "metadata": {},
   "outputs": [],
   "source": [
    "import MeCab\n",
    "from konlpy.tag import Mecab\n",
    "mecab = Mecab(dicpath = 'C:\\mecab\\mecab-ko-dic')"
   ]
  },
  {
   "cell_type": "code",
   "execution_count": 1,
   "metadata": {},
   "outputs": [],
   "source": [
    "token = ['딸기', '바나나', '사과', '딸기','파인애플']\n",
    "nodes = ['바나나', '사과', '파인애플', '딸기']"
   ]
  },
  {
   "cell_type": "code",
   "execution_count": 28,
   "metadata": {},
   "outputs": [],
   "source": [
    "import numpy as np\n",
    "import math\n",
    "\n",
    "def make_weight_edge(token, nodes, window_size):\n",
    "    vocab2idx = { nodes[i] : i for i in range(len(nodes))}\n",
    "    idx2vocab = { i : nodes[i] for i in range(len(nodes))}\n",
    "    vocab = nodes\n",
    "    \n",
    "    vocab_len = len(vocab)\n",
    "    weighted_edge = np.zeros((vocab_len, vocab_len))\n",
    "    window_size = window_size\n",
    "    covered_coocurrences = []\n",
    "    \n",
    "    for window_start in range(len(token) - window_size + 1):\n",
    "        window = token[window_start : (window_size + window_start)]\n",
    "        for i in range(window_size):\n",
    "            for j in range(i+1, window_size):\n",
    "                if (window[i] in vocab2idx.keys()) and (window[j] in vocab2idx.keys()):\n",
    "                    index_i = window_start + i\n",
    "                    index_j = window_start + j \n",
    "                    \n",
    "                    if [index_i, index_j] not in covered_coocurrences:\n",
    "                        weighted_edge[vocab2idx[window[i]]][vocab2idx[window[j]]] = 1\n",
    "                        weighted_edge[vocab2idx[window[j]]][vocab2idx[window[i]]] = 1\n",
    "                        covered_coocurrences.append([index_i, index_j])\n",
    "    \n",
    "    for i in range(vocab_len):\n",
    "        sumi = weighted_edge[i].sum()\n",
    "        weighted_edge[i] = weighted_edge[i] / sumi if sumi > 0 else 0\n",
    "    \n",
    "    print('u must return like : weighted_edge, vocab2idx, idx2vocab = func()')\n",
    "    return weighted_edge, vocab2idx, idx2vocab\n",
    "                        \n",
    "                    \n",
    "def find_score(weighted_edge, MAX_ITER = 50, threshold = 0.00001, d = 0.85):\n",
    "    \n",
    "    length = weighted_edge.shape[0]\n",
    "    score = np.ones((weighted_edge.shape[0]))\n",
    "    \n",
    "    for n in range(MAX_ITER):\n",
    "        prev_score = np.copy(score)\n",
    "        \n",
    "        for i in range(length):\n",
    "            summation = 0\n",
    "            for j in range(length):\n",
    "                if weighted_edge[j][i] != 0:\n",
    "                    summation += weighted_edge[j][i]* score[j]\n",
    "            score[i] = (1 - d ) + d*(summation)\n",
    "            \n",
    "            if np.sum(np.fabs(score - prev_score)) <= threshold:\n",
    "                break\n",
    "    print('u must return like : score = func()')\n",
    "    return score\n",
    "\n",
    "def show_top_n(score, vocab2idx, idx2vocab, n= 2):\n",
    "    \n",
    "    print('top {}'.format(n))\n",
    "    \n",
    "    for i in np.argsort(score)[::-1][:n]:\n",
    "        print('{} : {}'.format(idx2vocab[i], score[i]))\n",
    "        \n",
    "    \n",
    "    \n",
    "    "
   ]
  },
  {
   "cell_type": "code",
   "execution_count": 29,
   "metadata": {},
   "outputs": [
    {
     "name": "stdout",
     "output_type": "stream",
     "text": [
      "u must return like : weighted_edge, vocab2idx, idx2vocab = func()\n"
     ]
    }
   ],
   "source": [
    "weight, vocab2idx, idx2vocab = make_weight_edge(token, nodes, 2)"
   ]
  },
  {
   "cell_type": "code",
   "execution_count": 30,
   "metadata": {},
   "outputs": [
    {
     "name": "stdout",
     "output_type": "stream",
     "text": [
      "u must return like : score = func()\n"
     ]
    }
   ],
   "source": [
    "score = find_score(weight)"
   ]
  },
  {
   "cell_type": "code",
   "execution_count": 33,
   "metadata": {},
   "outputs": [
    {
     "name": "stdout",
     "output_type": "stream",
     "text": [
      "top 4\n",
      "딸기 : 1.4669032006770863\n",
      "바나나 : 0.983687150490425\n",
      "사과 : 0.9836813575652953\n",
      "파인애플 : 0.5656182256897291\n"
     ]
    }
   ],
   "source": [
    "show_top_n(score, vocab2idx, idx2vocab, 4)"
   ]
  },
  {
   "cell_type": "code",
   "execution_count": null,
   "metadata": {},
   "outputs": [],
   "source": [
    "import MeCab\n",
    "from konlpy.tag import Mecab\n",
    "mecab = Mecab(dicpath = 'C:\\mecab\\mecab-ko-dic\n",
    "            "
   ]
  },
  {
   "cell_type": "code",
   "execution_count": null,
   "metadata": {},
   "outputs": [],
   "source": []
  }
 ],
 "metadata": {
  "kernelspec": {
   "display_name": "Python 3",
   "language": "python",
   "name": "python3"
  },
  "language_info": {
   "codemirror_mode": {
    "name": "ipython",
    "version": 3
   },
   "file_extension": ".py",
   "mimetype": "text/x-python",
   "name": "python",
   "nbconvert_exporter": "python",
   "pygments_lexer": "ipython3",
   "version": "3.6.10"
  }
 },
 "nbformat": 4,
 "nbformat_minor": 4
}
