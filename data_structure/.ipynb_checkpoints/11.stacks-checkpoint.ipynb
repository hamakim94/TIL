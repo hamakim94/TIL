{
 "cells": [
  {
   "cell_type": "markdown",
   "metadata": {},
   "source": [
    "# STACK\n",
    "\n",
    "-  특정 문제를 풀기 위한 자료구조"
   ]
  },
  {
   "cell_type": "markdown",
   "metadata": {},
   "source": [
    "자료를 보관할 수 있는 선형 구조  \n",
    "- 단, 넣을 때에는 한쪽 끝에서 밀어 넣어야 함\n",
    "push 연산\n",
    "- 꺼낼 때에는 같은 쪽에서 뽑아 꺼내야 하는 제약이 있음\n",
    "pop 연산\n",
    "\n",
    "- 후입 선출구조(LIFO)인 선형"
   ]
  },
  {
   "cell_type": "markdown",
   "metadata": {},
   "source": [
    "## stack의 동작\n",
    " \n",
    "초기 상태 : 비어있다(S = Stack())    \n",
    "A 추가 : S.push(A) ( A 하나만 들어있음)  \n",
    "B 추가 : S.push(B) (B A 순으로 들어감)  \n",
    "    \n",
    "r1 = S.pop() -> 맨 위에있던 B가 꺼내짐  \n",
    "r2 = S.pop() -> 하나밖에 없던 A가 꺼내진다\n",
    "`"
   ]
  },
  {
   "cell_type": "markdown",
   "metadata": {},
   "source": [
    "## 스택의 오류\n",
    "\n",
    "- 비어있는 스택에서 데이터 원소를 꺼내려 할 떄\n",
    "    - 스택 언더플로우 ( stack Underflow)\n",
    "- 꽉 찬 스택에 데이터 원소를 넣으려고 할때(크기가 4인 스택에 push 할 떄)\n",
    "    - Stack OverFlow"
   ]
  },
  {
   "cell_type": "markdown",
   "metadata": {},
   "source": [
    "## 스택의 추상적 자료구조 구현\n",
    "\n",
    "- (1) 배열(array)을 아용하여 구현\n",
    "    - 파이썬 리스트와 메서드들을 이용한다\n",
    "    \n",
    "- (2) 연결 리스트(linked list)를 이용하여 구현\n",
    "    - 지난 강의에서 마련한 양방향 연결 리스트를 이용해야한다"
   ]
  },
  {
   "cell_type": "markdown",
   "metadata": {},
   "source": [
    "## 스택의 추상적 자료구조 구현\n",
    "\n",
    "- 연산의 정의\n",
    "    - size() 현재 스택에 들어있는 데이터 원소의 수를 구함\n",
    "    - isEmpty() - 현재 스택이 비어 있는지를 판다\n",
    "    - push(x) - 데이터 원소 x를 스택에 추가\n",
    "    - pop() - 스택의 맨 위에 저장된 데이터 원소를 제거(또는 반환)\n",
    "    - peek() - 스택의 맨 위에 저장된 데이터 원소를 반환(제거하지 않음!)\n",
    "    "
   ]
  },
  {
   "cell_type": "code",
   "execution_count": 6,
   "metadata": {},
   "outputs": [],
   "source": [
    "## 배열로 구현한 스택\n",
    "\n",
    "\n",
    "class ArrayStack:\n",
    "\n",
    "    def __init__(self):\n",
    "        self.data = []\n",
    "\n",
    "    def size(self):\n",
    "        return len(self.data)\n",
    "\n",
    "    def isEmpty(self):\n",
    "        return self.size() == 0\n",
    "\n",
    "    def push(self, item):\n",
    "        self.data.append(item)\n",
    "\n",
    "    def pop(self):\n",
    "        return self.data.pop()\n",
    "\n",
    "    def peek(self):\n",
    "        return self.data[-1]\n",
    "        "
   ]
  },
  {
   "cell_type": "markdown",
   "metadata": {},
   "source": [
    "알고리즘 설계\n",
    "\n",
    "- 여는 괄호 : 슽ㄱ에 푸쉬\n",
    "- 닫는 괄호 : 만나면\n",
    "    - 스택이 비어있으면 올바르지 않음\n",
    "    - 스택에서 pop, 쌍을 이루는 여는 괄호인지 검사\n",
    "        -맞지 않으면 올바릊 ㅣ않은 수식\n",
    "- 끝까지 검사하면 스택이 비어 있어야 올바른 수식\n"
   ]
  },
  {
   "cell_type": "code",
   "execution_count": null,
   "metadata": {},
   "outputs": [],
   "source": [
    "\n",
    "def solution(expr):\n",
    "    match = {\n",
    "        ')': '(',\n",
    "        '}': '{',\n",
    "        ']': '['\n",
    "    }\n",
    "    S = ArrayStack()\n",
    "    # (A+B)\n",
    "    for c in expr:\n",
    "        if c in '({[':\n",
    "            S.push(c)\n",
    "\n",
    "        elif c in match: # c가 오픈하는것들에 없으면..\n",
    "            if S.isEmpty() == 1 : # 이렇게 하면 안돼, 비어있으면 isempty는 1을 반환\n",
    "                return False\n",
    "            else:\n",
    "                t = S.pop()\n",
    "                if t != match['c']:\n",
    "                    return False\n",
    "    return S.isEmpty() # 1이 나오면 잘 작동동괸거니까~\n"
   ]
  },
  {
   "cell_type": "code",
   "execution_count": 10,
   "metadata": {},
   "outputs": [
    {
     "data": {
      "text/plain": [
       "False"
      ]
     },
     "execution_count": 10,
     "metadata": {},
     "output_type": "execute_result"
    }
   ],
   "source": [
    "match = {\n",
    "        ')': '(',\n",
    "        '}': '{',\n",
    "        ']': '['\n",
    "    }\n",
    "\n",
    "'(' in match"
   ]
  },
  {
   "cell_type": "code",
   "execution_count": null,
   "metadata": {},
   "outputs": [],
   "source": []
  }
 ],
 "metadata": {
  "kernelspec": {
   "display_name": "Python 3",
   "language": "python",
   "name": "python3"
  },
  "language_info": {
   "codemirror_mode": {
    "name": "ipython",
    "version": 3
   },
   "file_extension": ".py",
   "mimetype": "text/x-python",
   "name": "python",
   "nbconvert_exporter": "python",
   "pygments_lexer": "ipython3",
   "version": "3.6.10"
  }
 },
 "nbformat": 4,
 "nbformat_minor": 4
}
