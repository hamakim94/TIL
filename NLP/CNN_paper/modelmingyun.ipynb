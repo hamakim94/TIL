{
 "cells": [
  {
   "cell_type": "code",
   "execution_count": 135,
   "metadata": {},
   "outputs": [
    {
     "ename": "ModuleNotFoundError",
     "evalue": "No module named 'fasttext'",
     "output_type": "error",
     "traceback": [
      "\u001b[1;31m---------------------------------------------------------------------------\u001b[0m",
      "\u001b[1;31mModuleNotFoundError\u001b[0m                       Traceback (most recent call last)",
      "\u001b[1;32m<ipython-input-135-c5c00c7017fe>\u001b[0m in \u001b[0;36m<module>\u001b[1;34m\u001b[0m\n\u001b[1;32m----> 1\u001b[1;33m \u001b[1;32mimport\u001b[0m \u001b[0mfasttext\u001b[0m\u001b[1;33m\u001b[0m\u001b[1;33m\u001b[0m\u001b[0m\n\u001b[0m",
      "\u001b[1;31mModuleNotFoundError\u001b[0m: No module named 'fasttext'"
     ]
    }
   ],
   "source": [
    "import fasttext"
   ]
  },
  {
   "cell_type": "markdown",
   "metadata": {},
   "source": [
    "# 전처리"
   ]
  },
  {
   "cell_type": "code",
   "execution_count": 85,
   "metadata": {},
   "outputs": [],
   "source": [
    "import pandas as pd\n",
    "%matplotlib inline\n",
    "import matplotlib.pyplot as plt\n",
    "import re\n",
    "from konlpy.tag import Okt\n",
    "import numpy as np\n",
    "from konlpy.tag import Okt\n",
    "okt = Okt()\n",
    "train_data = pd.read_table('ratings_train.txt')\n",
    "test_data = pd.read_table('ratings_test.txt')"
   ]
  },
  {
   "cell_type": "markdown",
   "metadata": {},
   "source": [
    "## 중복된 데이터 개수 확인"
   ]
  },
  {
   "cell_type": "code",
   "execution_count": 86,
   "metadata": {},
   "outputs": [
    {
     "data": {
      "text/plain": [
       "(146182, 2)"
      ]
     },
     "execution_count": 86,
     "metadata": {},
     "output_type": "execute_result"
    }
   ],
   "source": [
    "train_data['document'].nunique(), train_data['label'].nunique() "
   ]
  },
  {
   "cell_type": "code",
   "execution_count": 87,
   "metadata": {},
   "outputs": [
    {
     "data": {
      "text/html": [
       "<div>\n",
       "<style scoped>\n",
       "    .dataframe tbody tr th:only-of-type {\n",
       "        vertical-align: middle;\n",
       "    }\n",
       "\n",
       "    .dataframe tbody tr th {\n",
       "        vertical-align: top;\n",
       "    }\n",
       "\n",
       "    .dataframe thead th {\n",
       "        text-align: right;\n",
       "    }\n",
       "</style>\n",
       "<table border=\"1\" class=\"dataframe\">\n",
       "  <thead>\n",
       "    <tr style=\"text-align: right;\">\n",
       "      <th></th>\n",
       "      <th>id</th>\n",
       "      <th>document</th>\n",
       "      <th>label</th>\n",
       "    </tr>\n",
       "  </thead>\n",
       "  <tbody>\n",
       "    <tr>\n",
       "      <th>0</th>\n",
       "      <td>9976970</td>\n",
       "      <td>아 더빙.. 진짜 짜증나네요 목소리</td>\n",
       "      <td>0</td>\n",
       "    </tr>\n",
       "    <tr>\n",
       "      <th>1</th>\n",
       "      <td>3819312</td>\n",
       "      <td>흠...포스터보고 초딩영화줄....오버연기조차 가볍지 않구나</td>\n",
       "      <td>1</td>\n",
       "    </tr>\n",
       "    <tr>\n",
       "      <th>2</th>\n",
       "      <td>10265843</td>\n",
       "      <td>너무재밓었다그래서보는것을추천한다</td>\n",
       "      <td>0</td>\n",
       "    </tr>\n",
       "    <tr>\n",
       "      <th>3</th>\n",
       "      <td>9045019</td>\n",
       "      <td>교도소 이야기구먼 ..솔직히 재미는 없다..평점 조정</td>\n",
       "      <td>0</td>\n",
       "    </tr>\n",
       "    <tr>\n",
       "      <th>4</th>\n",
       "      <td>6483659</td>\n",
       "      <td>사이몬페그의 익살스런 연기가 돋보였던 영화!스파이더맨에서 늙어보이기만 했던 커스틴 ...</td>\n",
       "      <td>1</td>\n",
       "    </tr>\n",
       "    <tr>\n",
       "      <th>...</th>\n",
       "      <td>...</td>\n",
       "      <td>...</td>\n",
       "      <td>...</td>\n",
       "    </tr>\n",
       "    <tr>\n",
       "      <th>149995</th>\n",
       "      <td>6222902</td>\n",
       "      <td>인간이 문제지.. 소는 뭔죄인가..</td>\n",
       "      <td>0</td>\n",
       "    </tr>\n",
       "    <tr>\n",
       "      <th>149996</th>\n",
       "      <td>8549745</td>\n",
       "      <td>평점이 너무 낮아서...</td>\n",
       "      <td>1</td>\n",
       "    </tr>\n",
       "    <tr>\n",
       "      <th>149997</th>\n",
       "      <td>9311800</td>\n",
       "      <td>이게 뭐요? 한국인은 거들먹거리고 필리핀 혼혈은 착하다?</td>\n",
       "      <td>0</td>\n",
       "    </tr>\n",
       "    <tr>\n",
       "      <th>149998</th>\n",
       "      <td>2376369</td>\n",
       "      <td>청춘 영화의 최고봉.방황과 우울했던 날들의 자화상</td>\n",
       "      <td>1</td>\n",
       "    </tr>\n",
       "    <tr>\n",
       "      <th>149999</th>\n",
       "      <td>9619869</td>\n",
       "      <td>한국 영화 최초로 수간하는 내용이 담긴 영화</td>\n",
       "      <td>0</td>\n",
       "    </tr>\n",
       "  </tbody>\n",
       "</table>\n",
       "<p>146183 rows × 3 columns</p>\n",
       "</div>"
      ],
      "text/plain": [
       "              id                                           document  label\n",
       "0        9976970                                아 더빙.. 진짜 짜증나네요 목소리      0\n",
       "1        3819312                  흠...포스터보고 초딩영화줄....오버연기조차 가볍지 않구나      1\n",
       "2       10265843                                  너무재밓었다그래서보는것을추천한다      0\n",
       "3        9045019                      교도소 이야기구먼 ..솔직히 재미는 없다..평점 조정      0\n",
       "4        6483659  사이몬페그의 익살스런 연기가 돋보였던 영화!스파이더맨에서 늙어보이기만 했던 커스틴 ...      1\n",
       "...          ...                                                ...    ...\n",
       "149995   6222902                                인간이 문제지.. 소는 뭔죄인가..      0\n",
       "149996   8549745                                      평점이 너무 낮아서...      1\n",
       "149997   9311800                    이게 뭐요? 한국인은 거들먹거리고 필리핀 혼혈은 착하다?      0\n",
       "149998   2376369                        청춘 영화의 최고봉.방황과 우울했던 날들의 자화상      1\n",
       "149999   9619869                           한국 영화 최초로 수간하는 내용이 담긴 영화      0\n",
       "\n",
       "[146183 rows x 3 columns]"
      ]
     },
     "execution_count": 87,
     "metadata": {},
     "output_type": "execute_result"
    }
   ],
   "source": [
    "train_data.drop_duplicates(subset=['document'], inplace=True) # document 열에서 중복인 내용이 있다면 중복 제거\n",
    "train_data # 삭제된걸 볼 수 있다"
   ]
  },
  {
   "cell_type": "code",
   "execution_count": 88,
   "metadata": {},
   "outputs": [
    {
     "data": {
      "text/plain": [
       "<matplotlib.axes._subplots.AxesSubplot at 0x271d830aa58>"
      ]
     },
     "execution_count": 88,
     "metadata": {},
     "output_type": "execute_result"
    },
    {
     "data": {
      "image/png": "[encoded data removed]",
      "text/plain": [
       "<Figure size 432x288 with 1 Axes>"
      ]
     },
     "metadata": {
      "needs_background": "light"
     },
     "output_type": "display_data"
    }
   ],
   "source": [
    "train_data['label'].value_counts().plot(kind = 'bar') # 비율 비슷"
   ]
  },
  {
   "cell_type": "markdown",
   "metadata": {},
   "source": [
    "## 중복제거 했으므로, null값 찾기"
   ]
  },
  {
   "cell_type": "code",
   "execution_count": 89,
   "metadata": {},
   "outputs": [
    {
     "name": "stdout",
     "output_type": "stream",
     "text": [
      "True\n"
     ]
    }
   ],
   "source": [
    "print(train_data.isnull().values.any()) # 이게 true가 나오면 결측치 있음"
   ]
  },
  {
   "cell_type": "code",
   "execution_count": 90,
   "metadata": {},
   "outputs": [
    {
     "name": "stdout",
     "output_type": "stream",
     "text": [
      "id          0\n",
      "document    1\n",
      "label       0\n",
      "dtype: int64\n"
     ]
    }
   ],
   "source": [
    "print(train_data.isnull().sum())"
   ]
  },
  {
   "cell_type": "code",
   "execution_count": 91,
   "metadata": {},
   "outputs": [
    {
     "data": {
      "text/html": [
       "<div>\n",
       "<style scoped>\n",
       "    .dataframe tbody tr th:only-of-type {\n",
       "        vertical-align: middle;\n",
       "    }\n",
       "\n",
       "    .dataframe tbody tr th {\n",
       "        vertical-align: top;\n",
       "    }\n",
       "\n",
       "    .dataframe thead th {\n",
       "        text-align: right;\n",
       "    }\n",
       "</style>\n",
       "<table border=\"1\" class=\"dataframe\">\n",
       "  <thead>\n",
       "    <tr style=\"text-align: right;\">\n",
       "      <th></th>\n",
       "      <th>id</th>\n",
       "      <th>document</th>\n",
       "      <th>label</th>\n",
       "    </tr>\n",
       "  </thead>\n",
       "  <tbody>\n",
       "    <tr>\n",
       "      <th>25857</th>\n",
       "      <td>2172111</td>\n",
       "      <td>NaN</td>\n",
       "      <td>1</td>\n",
       "    </tr>\n",
       "  </tbody>\n",
       "</table>\n",
       "</div>"
      ],
      "text/plain": [
       "            id document  label\n",
       "25857  2172111      NaN      1"
      ]
     },
     "execution_count": 91,
     "metadata": {},
     "output_type": "execute_result"
    }
   ],
   "source": [
    "train_data.loc[train_data.document.isnull()]"
   ]
  },
  {
   "cell_type": "code",
   "execution_count": 92,
   "metadata": {},
   "outputs": [
    {
     "name": "stdout",
     "output_type": "stream",
     "text": [
      "False\n"
     ]
    }
   ],
   "source": [
    "train_data = train_data.dropna(how = 'any') # Null 값이 존재하는 행 제거\n",
    "print(train_data.isnull().values.any()) "
   ]
  },
  {
   "cell_type": "code",
   "execution_count": 93,
   "metadata": {},
   "outputs": [
    {
     "data": {
      "text/html": [
       "<div>\n",
       "<style scoped>\n",
       "    .dataframe tbody tr th:only-of-type {\n",
       "        vertical-align: middle;\n",
       "    }\n",
       "\n",
       "    .dataframe tbody tr th {\n",
       "        vertical-align: top;\n",
       "    }\n",
       "\n",
       "    .dataframe thead th {\n",
       "        text-align: right;\n",
       "    }\n",
       "</style>\n",
       "<table border=\"1\" class=\"dataframe\">\n",
       "  <thead>\n",
       "    <tr style=\"text-align: right;\">\n",
       "      <th></th>\n",
       "      <th>id</th>\n",
       "      <th>document</th>\n",
       "      <th>label</th>\n",
       "    </tr>\n",
       "  </thead>\n",
       "  <tbody>\n",
       "    <tr>\n",
       "      <th>0</th>\n",
       "      <td>9976970</td>\n",
       "      <td>아 더빙.. 진짜 짜증나네요 목소리</td>\n",
       "      <td>0</td>\n",
       "    </tr>\n",
       "    <tr>\n",
       "      <th>1</th>\n",
       "      <td>3819312</td>\n",
       "      <td>흠...포스터보고 초딩영화줄....오버연기조차 가볍지 않구나</td>\n",
       "      <td>1</td>\n",
       "    </tr>\n",
       "    <tr>\n",
       "      <th>2</th>\n",
       "      <td>10265843</td>\n",
       "      <td>너무재밓었다그래서보는것을추천한다</td>\n",
       "      <td>0</td>\n",
       "    </tr>\n",
       "    <tr>\n",
       "      <th>3</th>\n",
       "      <td>9045019</td>\n",
       "      <td>교도소 이야기구먼 ..솔직히 재미는 없다..평점 조정</td>\n",
       "      <td>0</td>\n",
       "    </tr>\n",
       "    <tr>\n",
       "      <th>4</th>\n",
       "      <td>6483659</td>\n",
       "      <td>사이몬페그의 익살스런 연기가 돋보였던 영화!스파이더맨에서 늙어보이기만 했던 커스틴 ...</td>\n",
       "      <td>1</td>\n",
       "    </tr>\n",
       "  </tbody>\n",
       "</table>\n",
       "</div>"
      ],
      "text/plain": [
       "         id                                           document  label\n",
       "0   9976970                                아 더빙.. 진짜 짜증나네요 목소리      0\n",
       "1   3819312                  흠...포스터보고 초딩영화줄....오버연기조차 가볍지 않구나      1\n",
       "2  10265843                                  너무재밓었다그래서보는것을추천한다      0\n",
       "3   9045019                      교도소 이야기구먼 ..솔직히 재미는 없다..평점 조정      0\n",
       "4   6483659  사이몬페그의 익살스런 연기가 돋보였던 영화!스파이더맨에서 늙어보이기만 했던 커스틴 ...      1"
      ]
     },
     "execution_count": 93,
     "metadata": {},
     "output_type": "execute_result"
    }
   ],
   "source": [
    "train_data[:5] # 불필요한 특수문자를 제거해보자"
   ]
  },
  {
   "cell_type": "markdown",
   "metadata": {},
   "source": [
    "## 불필요한 문자 제거하는건데, 잘 안 되는 것 같다"
   ]
  },
  {
   "cell_type": "code",
   "execution_count": 95,
   "metadata": {},
   "outputs": [
    {
     "name": "stderr",
     "output_type": "stream",
     "text": [
      "C:\\Users\\User\\anaconda3\\envs\\nlp\\lib\\site-packages\\ipykernel_launcher.py:1: SettingWithCopyWarning: \n",
      "A value is trying to be set on a copy of a slice from a DataFrame.\n",
      "Try using .loc[row_indexer,col_indexer] = value instead\n",
      "\n",
      "See the caveats in the documentation: https://pandas.pydata.org/pandas-docs/stable/user_guide/indexing.html#returning-a-view-versus-a-copy\n",
      "  \"\"\"Entry point for launching an IPython kernel.\n"
     ]
    },
    {
     "data": {
      "text/html": [
       "<div>\n",
       "<style scoped>\n",
       "    .dataframe tbody tr th:only-of-type {\n",
       "        vertical-align: middle;\n",
       "    }\n",
       "\n",
       "    .dataframe tbody tr th {\n",
       "        vertical-align: top;\n",
       "    }\n",
       "\n",
       "    .dataframe thead th {\n",
       "        text-align: right;\n",
       "    }\n",
       "</style>\n",
       "<table border=\"1\" class=\"dataframe\">\n",
       "  <thead>\n",
       "    <tr style=\"text-align: right;\">\n",
       "      <th></th>\n",
       "      <th>id</th>\n",
       "      <th>document</th>\n",
       "      <th>label</th>\n",
       "    </tr>\n",
       "  </thead>\n",
       "  <tbody>\n",
       "    <tr>\n",
       "      <th>0</th>\n",
       "      <td>9976970</td>\n",
       "      <td>아 더빙 진짜 짜증나네요 목소리</td>\n",
       "      <td>0</td>\n",
       "    </tr>\n",
       "    <tr>\n",
       "      <th>1</th>\n",
       "      <td>3819312</td>\n",
       "      <td>흠포스터보고 초딩영화줄오버연기조차 가볍지 않구나</td>\n",
       "      <td>1</td>\n",
       "    </tr>\n",
       "    <tr>\n",
       "      <th>2</th>\n",
       "      <td>10265843</td>\n",
       "      <td>너무재밓었다그래서보는것을추천한다</td>\n",
       "      <td>0</td>\n",
       "    </tr>\n",
       "    <tr>\n",
       "      <th>3</th>\n",
       "      <td>9045019</td>\n",
       "      <td>교도소 이야기구먼 솔직히 재미는 없다평점 조정</td>\n",
       "      <td>0</td>\n",
       "    </tr>\n",
       "    <tr>\n",
       "      <th>4</th>\n",
       "      <td>6483659</td>\n",
       "      <td>사이몬페그의 익살스런 연기가 돋보였던 영화스파이더맨에서 늙어보이기만 했던 커스틴 던...</td>\n",
       "      <td>1</td>\n",
       "    </tr>\n",
       "  </tbody>\n",
       "</table>\n",
       "</div>"
      ],
      "text/plain": [
       "         id                                           document  label\n",
       "0   9976970                                  아 더빙 진짜 짜증나네요 목소리      0\n",
       "1   3819312                         흠포스터보고 초딩영화줄오버연기조차 가볍지 않구나      1\n",
       "2  10265843                                  너무재밓었다그래서보는것을추천한다      0\n",
       "3   9045019                          교도소 이야기구먼 솔직히 재미는 없다평점 조정      0\n",
       "4   6483659  사이몬페그의 익살스런 연기가 돋보였던 영화스파이더맨에서 늙어보이기만 했던 커스틴 던...      1"
      ]
     },
     "execution_count": 95,
     "metadata": {},
     "output_type": "execute_result"
    }
   ],
   "source": [
    "\n",
    "train_data['document'] = train_data['document'].str.replace(\"[^a-zA-Zㄱ-ㅎㅏ-ㅣ가-힣 ]\",\"\")\n",
    "train_data[:5]"
   ]
  },
  {
   "cell_type": "code",
   "execution_count": 96,
   "metadata": {},
   "outputs": [
    {
     "name": "stdout",
     "output_type": "stream",
     "text": [
      "id            0\n",
      "document    173\n",
      "label         0\n",
      "dtype: int64\n"
     ]
    },
    {
     "name": "stderr",
     "output_type": "stream",
     "text": [
      "C:\\Users\\User\\anaconda3\\envs\\nlp\\lib\\site-packages\\pandas\\core\\generic.py:6746: SettingWithCopyWarning: \n",
      "A value is trying to be set on a copy of a slice from a DataFrame\n",
      "\n",
      "See the caveats in the documentation: https://pandas.pydata.org/pandas-docs/stable/user_guide/indexing.html#returning-a-view-versus-a-copy\n",
      "  self._update_inplace(new_data)\n"
     ]
    }
   ],
   "source": [
    "train_data['document'].replace('', np.nan, inplace=True) # 한글만 찾는건데, 빈 값은 nan으로 바꿔주고\n",
    "print(train_data.isnull().sum()) # nan인거의 개수 찾기"
   ]
  },
  {
   "cell_type": "code",
   "execution_count": 97,
   "metadata": {},
   "outputs": [
    {
     "name": "stdout",
     "output_type": "stream",
     "text": [
      "146009\n"
     ]
    }
   ],
   "source": [
    "# 지우기\n",
    "train_data = train_data.dropna(how = 'any')\n",
    "print(len(train_data))"
   ]
  },
  {
   "cell_type": "markdown",
   "metadata": {},
   "source": [
    "## train_data 전처리 완료"
   ]
  },
  {
   "cell_type": "code",
   "execution_count": null,
   "metadata": {},
   "outputs": [],
   "source": []
  },
  {
   "cell_type": "code",
   "execution_count": 1,
   "metadata": {},
   "outputs": [],
   "source": [
    "from gensim import models"
   ]
  },
  {
   "cell_type": "code",
   "execution_count": 2,
   "metadata": {},
   "outputs": [],
   "source": [
    "# 불러들이는데 시간 오지게 걸리고, 다운 받아서 쥬피터 폴더에 넣어야함\n",
    "ko_model = models.fasttext.load_facebook_model('cc.ko.300.bin')"
   ]
  },
  {
   "cell_type": "code",
   "execution_count": 3,
   "metadata": {},
   "outputs": [],
   "source": [
    "ko_model?"
   ]
  },
  {
   "cell_type": "code",
   "execution_count": 3,
   "metadata": {},
   "outputs": [
    {
     "data": {
      "text/plain": [
       "array([ 7.83980787e-02,  9.76187885e-02, -7.85277858e-02,  1.01604983e-01,\n",
       "       -7.33330399e-02,  1.99361414e-01,  2.87973527e-02, -4.82029244e-02,\n",
       "       -6.48322031e-02,  1.31404757e-01, -1.08594797e-03, -4.06343453e-02,\n",
       "        6.77537024e-02, -6.27582669e-02,  1.47260278e-02, -1.36697933e-01,\n",
       "        1.01806007e-01, -9.05955508e-02,  7.79545978e-02,  9.42295417e-02,\n",
       "       -2.81342454e-02,  2.83462517e-02, -7.69589795e-03,  6.88294172e-02,\n",
       "        5.99902831e-02,  6.13487720e-01,  8.88875201e-02, -8.06730313e-05,\n",
       "       -3.28737386e-02, -6.24504425e-02,  1.70042858e-01, -4.16966788e-02,\n",
       "        3.41004133e-02,  1.17442183e-01, -7.60835875e-03,  6.93268925e-02,\n",
       "        2.40220856e-02, -9.32281092e-02,  1.95473403e-01, -2.47712776e-01,\n",
       "        6.97853640e-02, -3.70084345e-02, -2.98745465e-03, -2.62751821e-02,\n",
       "        7.47143850e-02, -1.84808403e-01,  8.72078240e-02, -1.26332879e-01,\n",
       "       -4.01524305e-02, -1.19021617e-01,  1.73295103e-02,  9.39118713e-02,\n",
       "        8.70536715e-02, -6.41845539e-02,  2.13253751e-01,  8.55147317e-02,\n",
       "       -1.74847648e-01, -4.85606380e-02, -2.46262178e-01,  4.14104499e-02,\n",
       "        2.05664575e-01, -1.02201767e-01,  3.23443353e-01,  3.16070676e-01,\n",
       "       -2.41583437e-01, -7.43833045e-03,  9.62694138e-02, -1.87421843e-01,\n",
       "        1.05386138e-01,  2.88031809e-02, -8.14434737e-02,  2.50870973e-01,\n",
       "       -2.10794613e-01, -8.02123025e-02,  9.82856974e-02,  3.30670714e-01,\n",
       "       -1.00626290e-01,  3.88469458e-01,  4.45703864e-02,  3.08326017e-02,\n",
       "       -1.15605652e-01,  8.61992780e-03, -1.22365663e-02, -4.28303182e-01,\n",
       "        5.32508902e-02,  3.73692997e-02,  7.05829263e-02,  3.41195874e-02,\n",
       "        8.62408727e-02,  5.20822629e-02, -3.94624583e-02,  6.27972558e-02,\n",
       "       -9.14971679e-02,  2.99241662e-01, -8.84465277e-02, -2.72295643e-02,\n",
       "       -1.68779306e-02,  1.38491811e-02,  6.92119524e-02,  1.18810683e-02,\n",
       "       -9.31424461e-03, -2.12512165e-02,  5.33446372e-02,  1.90697357e-01,\n",
       "        2.84196045e-02, -1.49960399e-01,  1.64976239e-01,  7.57117942e-02,\n",
       "       -6.62305020e-03, -1.01893302e-02,  1.11397833e-01,  1.76794589e-01,\n",
       "       -6.00429401e-02,  1.43190384e-01,  1.44709677e-01, -1.56821251e-01,\n",
       "       -2.01269180e-01, -1.94898881e-02, -4.29258317e-01, -2.69778538e-02,\n",
       "       -3.99932489e-02,  2.12295018e-02,  2.37225145e-02,  5.38620204e-02,\n",
       "       -9.87732485e-02, -1.16178051e-01,  1.22541897e-01,  1.50093526e-01,\n",
       "       -5.40791675e-02,  1.82972908e-01,  1.93726987e-01,  7.07030967e-02,\n",
       "        3.74809019e-02,  1.11397445e-01,  1.04102108e-03,  1.55547142e-01,\n",
       "       -4.33291420e-02,  1.44129656e-02, -1.18889607e-01, -1.65814739e-02,\n",
       "       -1.63921788e-01,  2.71899223e-01,  3.29437107e-02,  1.77609324e-01,\n",
       "       -1.75845355e-01,  6.41017556e-02, -3.50410193e-02, -1.64307207e-01,\n",
       "       -1.99752301e-01,  5.44674508e-02,  1.59116071e-02, -1.53516352e-01,\n",
       "       -1.35766760e-01, -1.00785363e-02, -9.16715413e-02,  1.54442772e-01,\n",
       "        5.07523445e-03, -7.84940366e-03,  1.48858339e-01, -8.23655427e-02,\n",
       "        1.10007502e-01,  3.29543501e-01,  5.83198213e-04,  1.17031358e-01,\n",
       "        3.91381644e-02,  1.33362368e-01,  9.75236446e-02, -1.12909287e-01,\n",
       "       -4.29216065e-02, -2.37178206e-02, -2.55976059e-02,  8.49416107e-02,\n",
       "        5.67741171e-02,  1.21711463e-01, -5.23876399e-02, -5.11102900e-02,\n",
       "       -5.51342666e-02,  2.26704846e-03,  1.05542950e-01, -3.41251604e-02,\n",
       "       -2.59800814e-02,  1.30489752e-01, -2.41977088e-02, -2.43139938e-02,\n",
       "        5.34521975e-02,  7.27488399e-02, -1.05774952e-02,  1.18772931e-01,\n",
       "       -9.58919376e-02, -1.12902857e-02, -5.36188707e-02, -7.37433732e-02,\n",
       "       -3.32081690e-02,  5.32468706e-02, -3.16425338e-02, -7.14288056e-02,\n",
       "        4.77557741e-02,  1.05398521e-02,  4.52823602e-02, -2.91581273e-01,\n",
       "        7.02220574e-02, -1.09939445e-02,  1.59332976e-01,  5.17472066e-02,\n",
       "       -7.55581632e-02,  1.19918622e-01, -1.58651933e-01,  3.40862200e-03,\n",
       "       -1.59535661e-01,  1.40955031e-01,  9.91681814e-02,  5.46601824e-02,\n",
       "        2.93595821e-01,  4.90270816e-02, -9.99070406e-02,  6.45292699e-02,\n",
       "       -9.07706246e-02, -2.32672378e-01, -4.87410165e-02,  7.32462779e-02,\n",
       "        4.94666286e-02,  8.83790851e-02, -3.00156265e-01,  2.00715233e-02,\n",
       "        2.33803801e-02, -7.42388740e-02, -1.11800537e-01,  1.45801501e-02,\n",
       "        3.93892825e-02, -8.81830677e-02, -1.44855917e-01, -5.61861917e-02,\n",
       "       -1.51643917e-01,  1.05951905e-01,  1.37627488e-02, -5.32590188e-02,\n",
       "       -1.48354738e-03, -1.36004835e-01, -2.62439642e-02, -2.19744772e-01,\n",
       "       -3.71103212e-02,  5.05776890e-02, -6.98165148e-02,  9.95020494e-02,\n",
       "        7.19590634e-02,  7.60489479e-02, -4.50707972e-02,  5.46155907e-02,\n",
       "        2.02365786e-01,  1.34212166e-01, -1.19746357e-01, -1.42291203e-01,\n",
       "       -1.53895617e-01, -1.00490406e-01,  2.88463652e-01, -1.82215050e-02,\n",
       "        1.51996285e-01,  1.32208437e-01,  1.77766979e-02,  9.45653915e-02,\n",
       "       -8.74252170e-02,  1.16252907e-01, -9.10910815e-02, -1.93311088e-02,\n",
       "        8.51594582e-02,  9.19028819e-02,  1.47473037e-01,  8.87627602e-02,\n",
       "        5.83584905e-02, -2.22948447e-01,  1.69438764e-01,  1.81083739e-01,\n",
       "        1.62569955e-02, -1.68191437e-02, -2.63603646e-02,  1.35321528e-01,\n",
       "        2.97889799e-01, -1.88393608e-01,  8.28675032e-02,  1.63333565e-02,\n",
       "        5.61571866e-02, -2.33331069e-01,  1.11469865e-01,  5.89928515e-02,\n",
       "        9.72769484e-02,  6.66509494e-02, -5.19427322e-02,  2.74170795e-03,\n",
       "       -1.58430830e-01,  1.27417058e-01,  5.08112609e-02,  1.33994952e-01,\n",
       "       -5.75265512e-02,  5.52340671e-02,  1.36286661e-01,  3.80643755e-02,\n",
       "       -2.75038313e-02,  6.87491223e-02, -1.39901504e-01, -6.69014826e-02],\n",
       "      dtype=float32)"
      ]
     },
     "execution_count": 3,
     "metadata": {},
     "output_type": "execute_result"
    }
   ],
   "source": [
    "# pre-trained된 단어-vector set, 개를 치면 이런 벡터가 나옴\n",
    "ko_model.wv.word_vec('개') # 이런식으로 vectorize 됩니다"
   ]
  },
  {
   "cell_type": "code",
   "execution_count": 3,
   "metadata": {},
   "outputs": [],
   "source": [
    "from konlpy.tag import Okt # 이걸 써서 포스 태깅을 할꺼고\n",
    "okt = Okt()"
   ]
  },
  {
   "cell_type": "code",
   "execution_count": 4,
   "metadata": {},
   "outputs": [],
   "source": [
    "import pandas as pd # 이것들 가져와"
   ]
  },
  {
   "cell_type": "code",
   "execution_count": 98,
   "metadata": {},
   "outputs": [
    {
     "data": {
      "text/html": [
       "<div>\n",
       "<style scoped>\n",
       "    .dataframe tbody tr th:only-of-type {\n",
       "        vertical-align: middle;\n",
       "    }\n",
       "\n",
       "    .dataframe tbody tr th {\n",
       "        vertical-align: top;\n",
       "    }\n",
       "\n",
       "    .dataframe thead th {\n",
       "        text-align: right;\n",
       "    }\n",
       "</style>\n",
       "<table border=\"1\" class=\"dataframe\">\n",
       "  <thead>\n",
       "    <tr style=\"text-align: right;\">\n",
       "      <th></th>\n",
       "      <th>id</th>\n",
       "      <th>document</th>\n",
       "      <th>label</th>\n",
       "    </tr>\n",
       "  </thead>\n",
       "  <tbody>\n",
       "    <tr>\n",
       "      <th>0</th>\n",
       "      <td>9976970</td>\n",
       "      <td>아 더빙 진짜 짜증나네요 목소리</td>\n",
       "      <td>0</td>\n",
       "    </tr>\n",
       "    <tr>\n",
       "      <th>1</th>\n",
       "      <td>3819312</td>\n",
       "      <td>흠포스터보고 초딩영화줄오버연기조차 가볍지 않구나</td>\n",
       "      <td>1</td>\n",
       "    </tr>\n",
       "    <tr>\n",
       "      <th>2</th>\n",
       "      <td>10265843</td>\n",
       "      <td>너무재밓었다그래서보는것을추천한다</td>\n",
       "      <td>0</td>\n",
       "    </tr>\n",
       "    <tr>\n",
       "      <th>3</th>\n",
       "      <td>9045019</td>\n",
       "      <td>교도소 이야기구먼 솔직히 재미는 없다평점 조정</td>\n",
       "      <td>0</td>\n",
       "    </tr>\n",
       "    <tr>\n",
       "      <th>4</th>\n",
       "      <td>6483659</td>\n",
       "      <td>사이몬페그의 익살스런 연기가 돋보였던 영화스파이더맨에서 늙어보이기만 했던 커스틴 던...</td>\n",
       "      <td>1</td>\n",
       "    </tr>\n",
       "  </tbody>\n",
       "</table>\n",
       "</div>"
      ],
      "text/plain": [
       "         id                                           document  label\n",
       "0   9976970                                  아 더빙 진짜 짜증나네요 목소리      0\n",
       "1   3819312                         흠포스터보고 초딩영화줄오버연기조차 가볍지 않구나      1\n",
       "2  10265843                                  너무재밓었다그래서보는것을추천한다      0\n",
       "3   9045019                          교도소 이야기구먼 솔직히 재미는 없다평점 조정      0\n",
       "4   6483659  사이몬페그의 익살스런 연기가 돋보였던 영화스파이더맨에서 늙어보이기만 했던 커스틴 던...      1"
      ]
     },
     "execution_count": 98,
     "metadata": {},
     "output_type": "execute_result"
    }
   ],
   "source": [
    "train_data.head() # 네이버 리뷰 트레인 데이터는 이렇게 생겼다"
   ]
  },
  {
   "cell_type": "code",
   "execution_count": 68,
   "metadata": {},
   "outputs": [],
   "source": [
    "import numpy as np"
   ]
  },
  {
   "cell_type": "code",
   "execution_count": 128,
   "metadata": {},
   "outputs": [],
   "source": [
    "label = train_data['label']\n",
    "\n",
    "train_label = np.array(label[:50000])"
   ]
  },
  {
   "cell_type": "code",
   "execution_count": 103,
   "metadata": {},
   "outputs": [
    {
     "data": {
      "text/plain": [
       "((146009,), (146009,))"
      ]
     },
     "execution_count": 103,
     "metadata": {},
     "output_type": "execute_result"
    }
   ],
   "source": [
    "train_data['document'].shape , train_label.shape"
   ]
  },
  {
   "cell_type": "code",
   "execution_count": 104,
   "metadata": {},
   "outputs": [],
   "source": [
    "sentences = train_data['document'].tolist() # 일단 저는 리스트로 했고"
   ]
  },
  {
   "cell_type": "code",
   "execution_count": 105,
   "metadata": {},
   "outputs": [],
   "source": [
    "# 단어 토큰화 하기\n",
    "def tokenize(sentence):\n",
    "    okt = Okt()\n",
    "    tokenized_sentence = []\n",
    "\n",
    "    # 우선 단어의 기본형으로 모두 살리고, 명사, 동사, 영어만 담는다.\n",
    "    # 그냥 nouns로 분리하는 것보다 좀 더 정확하고 많은 데이터를 얻을 수 있다.\n",
    "    for line in tqdm(sentence):\n",
    "        result = []\n",
    "        temp_sentence = okt.pos(line, norm=True, stem=True) # 먼저 형태소 분리해서 리스트에 담고\n",
    "        for i in temp_sentence:                             \n",
    "            if (i[1] == 'Noun' or i[1] == 'Adjective' or i[1] == 'Alpha'):                  \n",
    "                result.append(i[0])\n",
    "            \n",
    "        tokenized_sentence.append(result)\n",
    "\n",
    "    return tokenized_sentence"
   ]
  },
  {
   "cell_type": "code",
   "execution_count": 106,
   "metadata": {},
   "outputs": [
    {
     "data": {
      "application/vnd.jupyter.widget-view+json": {
       "model_id": "571a21a8f45a42579556d0ba88a05c78",
       "version_major": 2,
       "version_minor": 0
      },
      "text/plain": [
       "HBox(children=(FloatProgress(value=0.0, max=146009.0), HTML(value='')))"
      ]
     },
     "metadata": {},
     "output_type": "display_data"
    },
    {
     "name": "stdout",
     "output_type": "stream",
     "text": [
      "\n"
     ]
    }
   ],
   "source": [
    "toke = tokenize(sentences) # 이런식으로 프린팅 되지만 결과는 다름"
   ]
  },
  {
   "cell_type": "markdown",
   "metadata": {},
   "source": [
    "##  TRAIN_JSON으로 만들기"
   ]
  },
  {
   "cell_type": "code",
   "execution_count": 148,
   "metadata": {},
   "outputs": [],
   "source": [
    "import json"
   ]
  },
  {
   "cell_type": "code",
   "execution_count": 150,
   "metadata": {},
   "outputs": [
    {
     "ename": "NameError",
     "evalue": "name 'df' is not defined",
     "output_type": "error",
     "traceback": [
      "\u001b[1;31m---------------------------------------------------------------------------\u001b[0m",
      "\u001b[1;31mNameError\u001b[0m                                 Traceback (most recent call last)",
      "\u001b[1;32m<ipython-input-150-953303f65751>\u001b[0m in \u001b[0;36m<module>\u001b[1;34m\u001b[0m\n\u001b[0;32m      1\u001b[0m \u001b[1;32mwith\u001b[0m \u001b[0mopen\u001b[0m\u001b[1;33m(\u001b[0m\u001b[1;34m'df.json'\u001b[0m\u001b[1;33m,\u001b[0m \u001b[1;34m'w'\u001b[0m\u001b[1;33m,\u001b[0m \u001b[0mencoding\u001b[0m\u001b[1;33m=\u001b[0m\u001b[1;34m'utf-8'\u001b[0m\u001b[1;33m)\u001b[0m \u001b[1;32mas\u001b[0m \u001b[0mfile\u001b[0m\u001b[1;33m:\u001b[0m\u001b[1;33m\u001b[0m\u001b[1;33m\u001b[0m\u001b[0m\n\u001b[1;32m----> 2\u001b[1;33m     \u001b[0mdf\u001b[0m\u001b[1;33m.\u001b[0m\u001b[0mto_json\u001b[0m\u001b[1;33m(\u001b[0m\u001b[0mpd\u001b[0m\u001b[1;33m.\u001b[0m\u001b[0mDataFrame\u001b[0m\u001b[1;33m(\u001b[0m\u001b[0mtoke\u001b[0m\u001b[1;33m)\u001b[0m\u001b[1;33m,\u001b[0m \u001b[0mforce_ascii\u001b[0m\u001b[1;33m=\u001b[0m\u001b[1;32mFalse\u001b[0m\u001b[1;33m)\u001b[0m\u001b[1;33m\u001b[0m\u001b[1;33m\u001b[0m\u001b[0m\n\u001b[0m",
      "\u001b[1;31mNameError\u001b[0m: name 'df' is not defined"
     ]
    }
   ],
   "source": [
    "df = pd.DataFrame(toke)\n",
    "with open('df.json', 'w', encoding='utf-8') as file:\n",
    "    df.to_json(file, force_ascii=False)"
   ]
  },
  {
   "cell_type": "code",
   "execution_count": 73,
   "metadata": {},
   "outputs": [],
   "source": [
    "from tqdm.notebook import tqdm"
   ]
  },
  {
   "cell_type": "code",
   "execution_count": 115,
   "metadata": {},
   "outputs": [],
   "source": [
    "def pad_sequence(sentences, padding_word=\"<PAD/>\"): #  오른쪽을 패딩주기\n",
    "    maxlen = max(len(x) for x in sentences)\n",
    "    padded_sentences = []\n",
    "    for i in tqdm(range(len(sentences))):\n",
    "        sentence = sentences[i]\n",
    "        num_padding = maxlen - len(sentence)\n",
    "        new_sentence = sentence + [padding_word] * num_padding\n",
    "        padded_sentences.append(new_sentence)\n",
    "    print(maxlen)\n",
    "    return padded_sentences"
   ]
  },
  {
   "cell_type": "code",
   "execution_count": 116,
   "metadata": {},
   "outputs": [
    {
     "data": {
      "application/vnd.jupyter.widget-view+json": {
       "model_id": "17750406a54a40a0874f758d59cb5931",
       "version_major": 2,
       "version_minor": 0
      },
      "text/plain": [
       "HBox(children=(FloatProgress(value=0.0, max=146009.0), HTML(value='')))"
      ]
     },
     "metadata": {},
     "output_type": "display_data"
    },
    {
     "name": "stdout",
     "output_type": "stream",
     "text": [
      "\n",
      "53\n"
     ]
    }
   ],
   "source": [
    "padded = pad_sequence(toke)"
   ]
  },
  {
   "cell_type": "code",
   "execution_count": 145,
   "metadata": {},
   "outputs": [
    {
     "data": {
      "text/html": [
       "<div>\n",
       "<style scoped>\n",
       "    .dataframe tbody tr th:only-of-type {\n",
       "        vertical-align: middle;\n",
       "    }\n",
       "\n",
       "    .dataframe tbody tr th {\n",
       "        vertical-align: top;\n",
       "    }\n",
       "\n",
       "    .dataframe thead th {\n",
       "        text-align: right;\n",
       "    }\n",
       "</style>\n",
       "<table border=\"1\" class=\"dataframe\">\n",
       "  <thead>\n",
       "    <tr style=\"text-align: right;\">\n",
       "      <th></th>\n",
       "      <th>0</th>\n",
       "      <th>1</th>\n",
       "      <th>2</th>\n",
       "      <th>3</th>\n",
       "      <th>4</th>\n",
       "      <th>5</th>\n",
       "      <th>6</th>\n",
       "      <th>7</th>\n",
       "      <th>8</th>\n",
       "      <th>9</th>\n",
       "      <th>...</th>\n",
       "      <th>43</th>\n",
       "      <th>44</th>\n",
       "      <th>45</th>\n",
       "      <th>46</th>\n",
       "      <th>47</th>\n",
       "      <th>48</th>\n",
       "      <th>49</th>\n",
       "      <th>50</th>\n",
       "      <th>51</th>\n",
       "      <th>52</th>\n",
       "    </tr>\n",
       "  </thead>\n",
       "  <tbody>\n",
       "    <tr>\n",
       "      <th>0</th>\n",
       "      <td>더빙</td>\n",
       "      <td>진짜</td>\n",
       "      <td>짜증나다</td>\n",
       "      <td>목소리</td>\n",
       "      <td>&lt;PAD/&gt;</td>\n",
       "      <td>&lt;PAD/&gt;</td>\n",
       "      <td>&lt;PAD/&gt;</td>\n",
       "      <td>&lt;PAD/&gt;</td>\n",
       "      <td>&lt;PAD/&gt;</td>\n",
       "      <td>&lt;PAD/&gt;</td>\n",
       "      <td>...</td>\n",
       "      <td>&lt;PAD/&gt;</td>\n",
       "      <td>&lt;PAD/&gt;</td>\n",
       "      <td>&lt;PAD/&gt;</td>\n",
       "      <td>&lt;PAD/&gt;</td>\n",
       "      <td>&lt;PAD/&gt;</td>\n",
       "      <td>&lt;PAD/&gt;</td>\n",
       "      <td>&lt;PAD/&gt;</td>\n",
       "      <td>&lt;PAD/&gt;</td>\n",
       "      <td>&lt;PAD/&gt;</td>\n",
       "      <td>&lt;PAD/&gt;</td>\n",
       "    </tr>\n",
       "    <tr>\n",
       "      <th>1</th>\n",
       "      <td>흠</td>\n",
       "      <td>포스터</td>\n",
       "      <td>보고</td>\n",
       "      <td>초딩</td>\n",
       "      <td>영화</td>\n",
       "      <td>줄</td>\n",
       "      <td>오버</td>\n",
       "      <td>연기</td>\n",
       "      <td>가볍다</td>\n",
       "      <td>&lt;PAD/&gt;</td>\n",
       "      <td>...</td>\n",
       "      <td>&lt;PAD/&gt;</td>\n",
       "      <td>&lt;PAD/&gt;</td>\n",
       "      <td>&lt;PAD/&gt;</td>\n",
       "      <td>&lt;PAD/&gt;</td>\n",
       "      <td>&lt;PAD/&gt;</td>\n",
       "      <td>&lt;PAD/&gt;</td>\n",
       "      <td>&lt;PAD/&gt;</td>\n",
       "      <td>&lt;PAD/&gt;</td>\n",
       "      <td>&lt;PAD/&gt;</td>\n",
       "      <td>&lt;PAD/&gt;</td>\n",
       "    </tr>\n",
       "    <tr>\n",
       "      <th>2</th>\n",
       "      <td>무재</td>\n",
       "      <td>밓었</td>\n",
       "      <td>다그</td>\n",
       "      <td>래서</td>\n",
       "      <td>추천</td>\n",
       "      <td>&lt;PAD/&gt;</td>\n",
       "      <td>&lt;PAD/&gt;</td>\n",
       "      <td>&lt;PAD/&gt;</td>\n",
       "      <td>&lt;PAD/&gt;</td>\n",
       "      <td>&lt;PAD/&gt;</td>\n",
       "      <td>...</td>\n",
       "      <td>&lt;PAD/&gt;</td>\n",
       "      <td>&lt;PAD/&gt;</td>\n",
       "      <td>&lt;PAD/&gt;</td>\n",
       "      <td>&lt;PAD/&gt;</td>\n",
       "      <td>&lt;PAD/&gt;</td>\n",
       "      <td>&lt;PAD/&gt;</td>\n",
       "      <td>&lt;PAD/&gt;</td>\n",
       "      <td>&lt;PAD/&gt;</td>\n",
       "      <td>&lt;PAD/&gt;</td>\n",
       "      <td>&lt;PAD/&gt;</td>\n",
       "    </tr>\n",
       "    <tr>\n",
       "      <th>3</th>\n",
       "      <td>교도소</td>\n",
       "      <td>이야기</td>\n",
       "      <td>구먼</td>\n",
       "      <td>솔직하다</td>\n",
       "      <td>재미</td>\n",
       "      <td>없다</td>\n",
       "      <td>평점</td>\n",
       "      <td>조정</td>\n",
       "      <td>&lt;PAD/&gt;</td>\n",
       "      <td>&lt;PAD/&gt;</td>\n",
       "      <td>...</td>\n",
       "      <td>&lt;PAD/&gt;</td>\n",
       "      <td>&lt;PAD/&gt;</td>\n",
       "      <td>&lt;PAD/&gt;</td>\n",
       "      <td>&lt;PAD/&gt;</td>\n",
       "      <td>&lt;PAD/&gt;</td>\n",
       "      <td>&lt;PAD/&gt;</td>\n",
       "      <td>&lt;PAD/&gt;</td>\n",
       "      <td>&lt;PAD/&gt;</td>\n",
       "      <td>&lt;PAD/&gt;</td>\n",
       "      <td>&lt;PAD/&gt;</td>\n",
       "    </tr>\n",
       "    <tr>\n",
       "      <th>4</th>\n",
       "      <td>몬페</td>\n",
       "      <td>의</td>\n",
       "      <td>익살스럽다</td>\n",
       "      <td>연기</td>\n",
       "      <td>영화</td>\n",
       "      <td>스파이더맨</td>\n",
       "      <td>커스틴</td>\n",
       "      <td>던스트</td>\n",
       "      <td>이쁘다</td>\n",
       "      <td>&lt;PAD/&gt;</td>\n",
       "      <td>...</td>\n",
       "      <td>&lt;PAD/&gt;</td>\n",
       "      <td>&lt;PAD/&gt;</td>\n",
       "      <td>&lt;PAD/&gt;</td>\n",
       "      <td>&lt;PAD/&gt;</td>\n",
       "      <td>&lt;PAD/&gt;</td>\n",
       "      <td>&lt;PAD/&gt;</td>\n",
       "      <td>&lt;PAD/&gt;</td>\n",
       "      <td>&lt;PAD/&gt;</td>\n",
       "      <td>&lt;PAD/&gt;</td>\n",
       "      <td>&lt;PAD/&gt;</td>\n",
       "    </tr>\n",
       "    <tr>\n",
       "      <th>...</th>\n",
       "      <td>...</td>\n",
       "      <td>...</td>\n",
       "      <td>...</td>\n",
       "      <td>...</td>\n",
       "      <td>...</td>\n",
       "      <td>...</td>\n",
       "      <td>...</td>\n",
       "      <td>...</td>\n",
       "      <td>...</td>\n",
       "      <td>...</td>\n",
       "      <td>...</td>\n",
       "      <td>...</td>\n",
       "      <td>...</td>\n",
       "      <td>...</td>\n",
       "      <td>...</td>\n",
       "      <td>...</td>\n",
       "      <td>...</td>\n",
       "      <td>...</td>\n",
       "      <td>...</td>\n",
       "      <td>...</td>\n",
       "      <td>...</td>\n",
       "    </tr>\n",
       "    <tr>\n",
       "      <th>146004</th>\n",
       "      <td>인간</td>\n",
       "      <td>문제</td>\n",
       "      <td>소</td>\n",
       "      <td>죄인</td>\n",
       "      <td>&lt;PAD/&gt;</td>\n",
       "      <td>&lt;PAD/&gt;</td>\n",
       "      <td>&lt;PAD/&gt;</td>\n",
       "      <td>&lt;PAD/&gt;</td>\n",
       "      <td>&lt;PAD/&gt;</td>\n",
       "      <td>&lt;PAD/&gt;</td>\n",
       "      <td>...</td>\n",
       "      <td>&lt;PAD/&gt;</td>\n",
       "      <td>&lt;PAD/&gt;</td>\n",
       "      <td>&lt;PAD/&gt;</td>\n",
       "      <td>&lt;PAD/&gt;</td>\n",
       "      <td>&lt;PAD/&gt;</td>\n",
       "      <td>&lt;PAD/&gt;</td>\n",
       "      <td>&lt;PAD/&gt;</td>\n",
       "      <td>&lt;PAD/&gt;</td>\n",
       "      <td>&lt;PAD/&gt;</td>\n",
       "      <td>&lt;PAD/&gt;</td>\n",
       "    </tr>\n",
       "    <tr>\n",
       "      <th>146005</th>\n",
       "      <td>평점</td>\n",
       "      <td>낮다</td>\n",
       "      <td>&lt;PAD/&gt;</td>\n",
       "      <td>&lt;PAD/&gt;</td>\n",
       "      <td>&lt;PAD/&gt;</td>\n",
       "      <td>&lt;PAD/&gt;</td>\n",
       "      <td>&lt;PAD/&gt;</td>\n",
       "      <td>&lt;PAD/&gt;</td>\n",
       "      <td>&lt;PAD/&gt;</td>\n",
       "      <td>&lt;PAD/&gt;</td>\n",
       "      <td>...</td>\n",
       "      <td>&lt;PAD/&gt;</td>\n",
       "      <td>&lt;PAD/&gt;</td>\n",
       "      <td>&lt;PAD/&gt;</td>\n",
       "      <td>&lt;PAD/&gt;</td>\n",
       "      <td>&lt;PAD/&gt;</td>\n",
       "      <td>&lt;PAD/&gt;</td>\n",
       "      <td>&lt;PAD/&gt;</td>\n",
       "      <td>&lt;PAD/&gt;</td>\n",
       "      <td>&lt;PAD/&gt;</td>\n",
       "      <td>&lt;PAD/&gt;</td>\n",
       "    </tr>\n",
       "    <tr>\n",
       "      <th>146006</th>\n",
       "      <td>이</td>\n",
       "      <td>뭐</td>\n",
       "      <td>한국인</td>\n",
       "      <td>먹거리</td>\n",
       "      <td>필리핀</td>\n",
       "      <td>혼혈</td>\n",
       "      <td>착하다</td>\n",
       "      <td>&lt;PAD/&gt;</td>\n",
       "      <td>&lt;PAD/&gt;</td>\n",
       "      <td>&lt;PAD/&gt;</td>\n",
       "      <td>...</td>\n",
       "      <td>&lt;PAD/&gt;</td>\n",
       "      <td>&lt;PAD/&gt;</td>\n",
       "      <td>&lt;PAD/&gt;</td>\n",
       "      <td>&lt;PAD/&gt;</td>\n",
       "      <td>&lt;PAD/&gt;</td>\n",
       "      <td>&lt;PAD/&gt;</td>\n",
       "      <td>&lt;PAD/&gt;</td>\n",
       "      <td>&lt;PAD/&gt;</td>\n",
       "      <td>&lt;PAD/&gt;</td>\n",
       "      <td>&lt;PAD/&gt;</td>\n",
       "    </tr>\n",
       "    <tr>\n",
       "      <th>146007</th>\n",
       "      <td>청춘</td>\n",
       "      <td>영화</td>\n",
       "      <td>최고봉</td>\n",
       "      <td>방황</td>\n",
       "      <td>우울하다</td>\n",
       "      <td>날</td>\n",
       "      <td>자화상</td>\n",
       "      <td>&lt;PAD/&gt;</td>\n",
       "      <td>&lt;PAD/&gt;</td>\n",
       "      <td>&lt;PAD/&gt;</td>\n",
       "      <td>...</td>\n",
       "      <td>&lt;PAD/&gt;</td>\n",
       "      <td>&lt;PAD/&gt;</td>\n",
       "      <td>&lt;PAD/&gt;</td>\n",
       "      <td>&lt;PAD/&gt;</td>\n",
       "      <td>&lt;PAD/&gt;</td>\n",
       "      <td>&lt;PAD/&gt;</td>\n",
       "      <td>&lt;PAD/&gt;</td>\n",
       "      <td>&lt;PAD/&gt;</td>\n",
       "      <td>&lt;PAD/&gt;</td>\n",
       "      <td>&lt;PAD/&gt;</td>\n",
       "    </tr>\n",
       "    <tr>\n",
       "      <th>146008</th>\n",
       "      <td>한국</td>\n",
       "      <td>영화</td>\n",
       "      <td>최초</td>\n",
       "      <td>수간</td>\n",
       "      <td>내용</td>\n",
       "      <td>영화</td>\n",
       "      <td>&lt;PAD/&gt;</td>\n",
       "      <td>&lt;PAD/&gt;</td>\n",
       "      <td>&lt;PAD/&gt;</td>\n",
       "      <td>&lt;PAD/&gt;</td>\n",
       "      <td>...</td>\n",
       "      <td>&lt;PAD/&gt;</td>\n",
       "      <td>&lt;PAD/&gt;</td>\n",
       "      <td>&lt;PAD/&gt;</td>\n",
       "      <td>&lt;PAD/&gt;</td>\n",
       "      <td>&lt;PAD/&gt;</td>\n",
       "      <td>&lt;PAD/&gt;</td>\n",
       "      <td>&lt;PAD/&gt;</td>\n",
       "      <td>&lt;PAD/&gt;</td>\n",
       "      <td>&lt;PAD/&gt;</td>\n",
       "      <td>&lt;PAD/&gt;</td>\n",
       "    </tr>\n",
       "  </tbody>\n",
       "</table>\n",
       "<p>146009 rows × 53 columns</p>\n",
       "</div>"
      ],
      "text/plain": [
       "         0    1       2       3       4       5       6       7       8   \\\n",
       "0        더빙   진짜    짜증나다     목소리  <PAD/>  <PAD/>  <PAD/>  <PAD/>  <PAD/>   \n",
       "1         흠  포스터      보고      초딩      영화       줄      오버      연기     가볍다   \n",
       "2        무재   밓었      다그      래서      추천  <PAD/>  <PAD/>  <PAD/>  <PAD/>   \n",
       "3       교도소  이야기      구먼    솔직하다      재미      없다      평점      조정  <PAD/>   \n",
       "4        몬페    의   익살스럽다      연기      영화   스파이더맨     커스틴     던스트     이쁘다   \n",
       "...     ...  ...     ...     ...     ...     ...     ...     ...     ...   \n",
       "146004   인간   문제       소      죄인  <PAD/>  <PAD/>  <PAD/>  <PAD/>  <PAD/>   \n",
       "146005   평점   낮다  <PAD/>  <PAD/>  <PAD/>  <PAD/>  <PAD/>  <PAD/>  <PAD/>   \n",
       "146006    이    뭐     한국인     먹거리     필리핀      혼혈     착하다  <PAD/>  <PAD/>   \n",
       "146007   청춘   영화     최고봉      방황    우울하다       날     자화상  <PAD/>  <PAD/>   \n",
       "146008   한국   영화      최초      수간      내용      영화  <PAD/>  <PAD/>  <PAD/>   \n",
       "\n",
       "            9   ...      43      44      45      46      47      48      49  \\\n",
       "0       <PAD/>  ...  <PAD/>  <PAD/>  <PAD/>  <PAD/>  <PAD/>  <PAD/>  <PAD/>   \n",
       "1       <PAD/>  ...  <PAD/>  <PAD/>  <PAD/>  <PAD/>  <PAD/>  <PAD/>  <PAD/>   \n",
       "2       <PAD/>  ...  <PAD/>  <PAD/>  <PAD/>  <PAD/>  <PAD/>  <PAD/>  <PAD/>   \n",
       "3       <PAD/>  ...  <PAD/>  <PAD/>  <PAD/>  <PAD/>  <PAD/>  <PAD/>  <PAD/>   \n",
       "4       <PAD/>  ...  <PAD/>  <PAD/>  <PAD/>  <PAD/>  <PAD/>  <PAD/>  <PAD/>   \n",
       "...        ...  ...     ...     ...     ...     ...     ...     ...     ...   \n",
       "146004  <PAD/>  ...  <PAD/>  <PAD/>  <PAD/>  <PAD/>  <PAD/>  <PAD/>  <PAD/>   \n",
       "146005  <PAD/>  ...  <PAD/>  <PAD/>  <PAD/>  <PAD/>  <PAD/>  <PAD/>  <PAD/>   \n",
       "146006  <PAD/>  ...  <PAD/>  <PAD/>  <PAD/>  <PAD/>  <PAD/>  <PAD/>  <PAD/>   \n",
       "146007  <PAD/>  ...  <PAD/>  <PAD/>  <PAD/>  <PAD/>  <PAD/>  <PAD/>  <PAD/>   \n",
       "146008  <PAD/>  ...  <PAD/>  <PAD/>  <PAD/>  <PAD/>  <PAD/>  <PAD/>  <PAD/>   \n",
       "\n",
       "            50      51      52  \n",
       "0       <PAD/>  <PAD/>  <PAD/>  \n",
       "1       <PAD/>  <PAD/>  <PAD/>  \n",
       "2       <PAD/>  <PAD/>  <PAD/>  \n",
       "3       <PAD/>  <PAD/>  <PAD/>  \n",
       "4       <PAD/>  <PAD/>  <PAD/>  \n",
       "...        ...     ...     ...  \n",
       "146004  <PAD/>  <PAD/>  <PAD/>  \n",
       "146005  <PAD/>  <PAD/>  <PAD/>  \n",
       "146006  <PAD/>  <PAD/>  <PAD/>  \n",
       "146007  <PAD/>  <PAD/>  <PAD/>  \n",
       "146008  <PAD/>  <PAD/>  <PAD/>  \n",
       "\n",
       "[146009 rows x 53 columns]"
      ]
     },
     "execution_count": 145,
     "metadata": {},
     "output_type": "execute_result"
    }
   ],
   "source": [
    "pd.DataFrame(padded).to_json(train_)"
   ]
  },
  {
   "cell_type": "code",
   "execution_count": 55,
   "metadata": {},
   "outputs": [],
   "source": [
    "import numpy as np"
   ]
  },
  {
   "cell_type": "code",
   "execution_count": 118,
   "metadata": {},
   "outputs": [
    {
     "data": {
      "application/vnd.jupyter.widget-view+json": {
       "model_id": "b6596558707a4c09b46ecac31a22b498",
       "version_major": 2,
       "version_minor": 0
      },
      "text/plain": [
       "HBox(children=(FloatProgress(value=0.0, max=146009.0), HTML(value='')))"
      ]
     },
     "metadata": {},
     "output_type": "display_data"
    },
    {
     "ename": "KeyboardInterrupt",
     "evalue": "",
     "output_type": "error",
     "traceback": [
      "\u001b[1;31m---------------------------------------------------------------------------\u001b[0m",
      "\u001b[1;31mKeyboardInterrupt\u001b[0m                         Traceback (most recent call last)",
      "\u001b[1;32m<ipython-input-118-021712249e53>\u001b[0m in \u001b[0;36m<module>\u001b[1;34m\u001b[0m\n\u001b[0;32m      1\u001b[0m \u001b[1;31m# ko_model.wv.word_vec('<PAD/>')\u001b[0m\u001b[1;33m\u001b[0m\u001b[1;33m\u001b[0m\u001b[1;33m\u001b[0m\u001b[0m\n\u001b[1;32m----> 2\u001b[1;33m \u001b[0mpaddedarray\u001b[0m \u001b[1;33m=\u001b[0m \u001b[0mnp\u001b[0m\u001b[1;33m.\u001b[0m\u001b[0marray\u001b[0m\u001b[1;33m(\u001b[0m\u001b[1;33m[\u001b[0m \u001b[0mko_model\u001b[0m\u001b[1;33m.\u001b[0m\u001b[0mwv\u001b[0m\u001b[1;33m.\u001b[0m\u001b[0mword_vec\u001b[0m\u001b[1;33m(\u001b[0m\u001b[0mtoken\u001b[0m\u001b[1;33m)\u001b[0m \u001b[1;32mfor\u001b[0m \u001b[0mx\u001b[0m \u001b[1;32min\u001b[0m \u001b[0mtqdm\u001b[0m\u001b[1;33m(\u001b[0m\u001b[0mpadded\u001b[0m\u001b[1;33m)\u001b[0m \u001b[1;32mfor\u001b[0m \u001b[0mtoken\u001b[0m \u001b[1;32min\u001b[0m \u001b[0mx\u001b[0m\u001b[1;33m]\u001b[0m\u001b[1;33m)\u001b[0m\u001b[1;33m\u001b[0m\u001b[1;33m\u001b[0m\u001b[0m\n\u001b[0m",
      "\u001b[1;32m<ipython-input-118-021712249e53>\u001b[0m in \u001b[0;36m<listcomp>\u001b[1;34m(.0)\u001b[0m\n\u001b[0;32m      1\u001b[0m \u001b[1;31m# ko_model.wv.word_vec('<PAD/>')\u001b[0m\u001b[1;33m\u001b[0m\u001b[1;33m\u001b[0m\u001b[1;33m\u001b[0m\u001b[0m\n\u001b[1;32m----> 2\u001b[1;33m \u001b[0mpaddedarray\u001b[0m \u001b[1;33m=\u001b[0m \u001b[0mnp\u001b[0m\u001b[1;33m.\u001b[0m\u001b[0marray\u001b[0m\u001b[1;33m(\u001b[0m\u001b[1;33m[\u001b[0m \u001b[0mko_model\u001b[0m\u001b[1;33m.\u001b[0m\u001b[0mwv\u001b[0m\u001b[1;33m.\u001b[0m\u001b[0mword_vec\u001b[0m\u001b[1;33m(\u001b[0m\u001b[0mtoken\u001b[0m\u001b[1;33m)\u001b[0m \u001b[1;32mfor\u001b[0m \u001b[0mx\u001b[0m \u001b[1;32min\u001b[0m \u001b[0mtqdm\u001b[0m\u001b[1;33m(\u001b[0m\u001b[0mpadded\u001b[0m\u001b[1;33m)\u001b[0m \u001b[1;32mfor\u001b[0m \u001b[0mtoken\u001b[0m \u001b[1;32min\u001b[0m \u001b[0mx\u001b[0m\u001b[1;33m]\u001b[0m\u001b[1;33m)\u001b[0m\u001b[1;33m\u001b[0m\u001b[1;33m\u001b[0m\u001b[0m\n\u001b[0m",
      "\u001b[1;32m~\\anaconda3\\envs\\nlp\\lib\\site-packages\\gensim\\models\\keyedvectors.py\u001b[0m in \u001b[0;36mword_vec\u001b[1;34m(self, word, use_norm)\u001b[0m\n\u001b[0;32m   2127\u001b[0m             \u001b[1;32mraise\u001b[0m \u001b[0mKeyError\u001b[0m\u001b[1;33m(\u001b[0m\u001b[1;34m'cannot calculate vector for OOV word without ngrams'\u001b[0m\u001b[1;33m)\u001b[0m\u001b[1;33m\u001b[0m\u001b[1;33m\u001b[0m\u001b[0m\n\u001b[0;32m   2128\u001b[0m         \u001b[1;32melse\u001b[0m\u001b[1;33m:\u001b[0m\u001b[1;33m\u001b[0m\u001b[1;33m\u001b[0m\u001b[0m\n\u001b[1;32m-> 2129\u001b[1;33m             \u001b[0mword_vec\u001b[0m \u001b[1;33m=\u001b[0m \u001b[0mnp\u001b[0m\u001b[1;33m.\u001b[0m\u001b[0mzeros\u001b[0m\u001b[1;33m(\u001b[0m\u001b[0mself\u001b[0m\u001b[1;33m.\u001b[0m\u001b[0mvectors_ngrams\u001b[0m\u001b[1;33m.\u001b[0m\u001b[0mshape\u001b[0m\u001b[1;33m[\u001b[0m\u001b[1;36m1\u001b[0m\u001b[1;33m]\u001b[0m\u001b[1;33m,\u001b[0m \u001b[0mdtype\u001b[0m\u001b[1;33m=\u001b[0m\u001b[0mREAL\u001b[0m\u001b[1;33m)\u001b[0m\u001b[1;33m\u001b[0m\u001b[1;33m\u001b[0m\u001b[0m\n\u001b[0m\u001b[0;32m   2130\u001b[0m             \u001b[0mngram_hashes\u001b[0m \u001b[1;33m=\u001b[0m \u001b[0mft_ngram_hashes\u001b[0m\u001b[1;33m(\u001b[0m\u001b[0mword\u001b[0m\u001b[1;33m,\u001b[0m \u001b[0mself\u001b[0m\u001b[1;33m.\u001b[0m\u001b[0mmin_n\u001b[0m\u001b[1;33m,\u001b[0m \u001b[0mself\u001b[0m\u001b[1;33m.\u001b[0m\u001b[0mmax_n\u001b[0m\u001b[1;33m,\u001b[0m \u001b[0mself\u001b[0m\u001b[1;33m.\u001b[0m\u001b[0mbucket\u001b[0m\u001b[1;33m,\u001b[0m \u001b[0mself\u001b[0m\u001b[1;33m.\u001b[0m\u001b[0mcompatible_hash\u001b[0m\u001b[1;33m)\u001b[0m\u001b[1;33m\u001b[0m\u001b[1;33m\u001b[0m\u001b[0m\n\u001b[0;32m   2131\u001b[0m             \u001b[1;32mif\u001b[0m \u001b[0mlen\u001b[0m\u001b[1;33m(\u001b[0m\u001b[0mngram_hashes\u001b[0m\u001b[1;33m)\u001b[0m \u001b[1;33m==\u001b[0m \u001b[1;36m0\u001b[0m\u001b[1;33m:\u001b[0m\u001b[1;33m\u001b[0m\u001b[1;33m\u001b[0m\u001b[0m\n",
      "\u001b[1;31mKeyboardInterrupt\u001b[0m: "
     ]
    }
   ],
   "source": [
    "# ko_model.wv.word_vec('<PAD/>')\n",
    "paddedarray = np.array([ ko_model.wv.word_vec(token) for x in tqdm(padded) for token in x])"
   ]
  },
  {
   "cell_type": "code",
   "execution_count": 57,
   "metadata": {},
   "outputs": [
    {
     "data": {
      "text/plain": [
       "(34000, 300)"
      ]
     },
     "execution_count": 57,
     "metadata": {},
     "output_type": "execute_result"
    }
   ],
   "source": [
    "paddedarray.shape # 이런 형태네? max_length of sent = 22(34),근데 10개의 sent, 22*10 fasttext = 300(vector) "
   ]
  },
  {
   "cell_type": "code",
   "execution_count": 142,
   "metadata": {},
   "outputs": [],
   "source": [
    "del pading"
   ]
  },
  {
   "cell_type": "code",
   "execution_count": 119,
   "metadata": {},
   "outputs": [
    {
     "data": {
      "application/vnd.jupyter.widget-view+json": {
       "model_id": "3260987bb49a411cbdf268c4dbae8ec2",
       "version_major": 2,
       "version_minor": 0
      },
      "text/plain": [
       "HBox(children=(FloatProgress(value=0.0, max=146009.0), HTML(value='')))"
      ]
     },
     "metadata": {},
     "output_type": "display_data"
    },
    {
     "name": "stdout",
     "output_type": "stream",
     "text": [
      "\n"
     ]
    },
    {
     "data": {
      "text/plain": [
       "7738477"
      ]
     },
     "execution_count": 119,
     "metadata": {},
     "output_type": "execute_result"
    }
   ],
   "source": [
    "pading = [ ko_model.wv.word_vec(token) for x in tqdm(padded) for token in x]\n",
    "len(pading)"
   ]
  },
  {
   "cell_type": "code",
   "execution_count": 120,
   "metadata": {},
   "outputs": [
    {
     "data": {
      "application/vnd.jupyter.widget-view+json": {
       "model_id": "732ede871dac45cbb597727e96da41e2",
       "version_major": 2,
       "version_minor": 0
      },
      "text/plain": [
       "HBox(children=(FloatProgress(value=0.0, max=146009.0), HTML(value='')))"
      ]
     },
     "metadata": {},
     "output_type": "display_data"
    },
    {
     "name": "stdout",
     "output_type": "stream",
     "text": [
      "\n"
     ]
    }
   ],
   "source": [
    "pading# 리스트 안에 220개 들어가있어, 22개를 하나로 합쳐줘야해, 그래서 10차원 만들어야 해 ( 10개 기준)\n",
    "      # 100개로 해보니,, 34로 해야함,                  (100차원) 100개 기준\n",
    "\n",
    "def divide_list(l, n): \n",
    "    # 리스트 l의 길이가 n이면 계속 반복\n",
    "    for i in tqdm(range(0, len(l), n)): \n",
    "        yield l[i:i + n] \n",
    "# 한 리스트에 몇개씩 담을지 결정\n",
    "\n",
    "result = list(divide_list(pading, 53))\n",
    "\n",
    "\n",
    "    "
   ]
  },
  {
   "cell_type": "code",
   "execution_count": 124,
   "metadata": {},
   "outputs": [
    {
     "data": {
      "text/plain": [
       "146009"
      ]
     },
     "execution_count": 124,
     "metadata": {},
     "output_type": "execute_result"
    }
   ],
   "source": [
    "len(result)"
   ]
  },
  {
   "cell_type": "markdown",
   "metadata": {},
   "source": [
    "final_array = np.array(result)"
   ]
  },
  {
   "cell_type": "code",
   "execution_count": 126,
   "metadata": {},
   "outputs": [
    {
     "data": {
      "text/plain": [
       "(50000, 53, 300)"
      ]
     },
     "execution_count": 126,
     "metadata": {},
     "output_type": "execute_result"
    }
   ],
   "source": [
    "final_array.shape"
   ]
  },
  {
   "cell_type": "code",
   "execution_count": 62,
   "metadata": {},
   "outputs": [],
   "source": []
  },
  {
   "cell_type": "code",
   "execution_count": 23,
   "metadata": {},
   "outputs": [],
   "source": [
    "import tensorflow as tf\n"
   ]
  },
  {
   "cell_type": "code",
   "execution_count": 24,
   "metadata": {},
   "outputs": [],
   "source": [
    "from tensorflow import keras"
   ]
  },
  {
   "cell_type": "code",
   "execution_count": 130,
   "metadata": {},
   "outputs": [],
   "source": [
    "embedding_dim = 200\n",
    "filter_sizes = (3, 4, 5)\n",
    "num_filters = 100\n",
    "dropout = 0.5\n",
    "hidden_dims = 100\n",
    "\n",
    "# compile 변수\n",
    "batch_size = 50\n",
    "num_epochs = 10\n",
    "min_word_count = 1\n",
    "context = 10\n",
    "\n",
    "conv_blocks = []\n",
    "\n",
    "sequence_length = 200\n",
    "\n",
    "# input_shape = (sequence_length, embedding_dim) # input shape for\n",
    "input_shape = (53, 300) # input shape for data, (max_length of sent, vect)\n",
    "\n",
    "model_input = keras.layers.Input(shape=input_shape)\n",
    "z = model_input\n",
    "for sz in filter_sizes:\n",
    "    conv = keras.layers.Conv1D(filters=num_filters,\n",
    "                         kernel_size=sz,\n",
    "                         padding=\"valid\",\n",
    "                         activation=\"relu\",\n",
    "                         strides=1)(z)\n",
    "    conv = keras.layers.MaxPooling1D(pool_size=2)(conv)\n",
    "    conv = keras.layers.Flatten()(conv)\n",
    "    conv_blocks.append(conv)\n",
    "z = keras.layers.Concatenate()(conv_blocks) if len(conv_blocks) > 1 else conv_blocks[0]\n",
    "\n",
    "z = keras.layers.Dropout(dropout)(z)\n",
    "z = keras.layers.Dense(hidden_dims, activation=\"relu\")(z)\n",
    "model_output = keras.layers.Dense(1, activation=\"sigmoid\")(z)\n",
    "\n",
    "model = keras.Model(model_input, model_output)\n",
    "\n",
    "\n",
    "model.compile(loss=\"binary_crossentropy\", optimizer=\"adadelta\", metrics=[\"accuracy\"],)\n"
   ]
  },
  {
   "cell_type": "code",
   "execution_count": 131,
   "metadata": {},
   "outputs": [
    {
     "name": "stdout",
     "output_type": "stream",
     "text": [
      "Model: \"functional_9\"\n",
      "__________________________________________________________________________________________________\n",
      "Layer (type)                    Output Shape         Param #     Connected to                     \n",
      "==================================================================================================\n",
      "input_6 (InputLayer)            [(None, 53, 300)]    0                                            \n",
      "__________________________________________________________________________________________________\n",
      "conv1d_13 (Conv1D)              (None, 51, 100)      90100       input_6[0][0]                    \n",
      "__________________________________________________________________________________________________\n",
      "conv1d_14 (Conv1D)              (None, 50, 100)      120100      input_6[0][0]                    \n",
      "__________________________________________________________________________________________________\n",
      "conv1d_15 (Conv1D)              (None, 49, 100)      150100      input_6[0][0]                    \n",
      "__________________________________________________________________________________________________\n",
      "max_pooling1d_12 (MaxPooling1D) (None, 25, 100)      0           conv1d_13[0][0]                  \n",
      "__________________________________________________________________________________________________\n",
      "max_pooling1d_13 (MaxPooling1D) (None, 25, 100)      0           conv1d_14[0][0]                  \n",
      "__________________________________________________________________________________________________\n",
      "max_pooling1d_14 (MaxPooling1D) (None, 24, 100)      0           conv1d_15[0][0]                  \n",
      "__________________________________________________________________________________________________\n",
      "flatten_12 (Flatten)            (None, 2500)         0           max_pooling1d_12[0][0]           \n",
      "__________________________________________________________________________________________________\n",
      "flatten_13 (Flatten)            (None, 2500)         0           max_pooling1d_13[0][0]           \n",
      "__________________________________________________________________________________________________\n",
      "flatten_14 (Flatten)            (None, 2400)         0           max_pooling1d_14[0][0]           \n",
      "__________________________________________________________________________________________________\n",
      "concatenate_4 (Concatenate)     (None, 7400)         0           flatten_12[0][0]                 \n",
      "                                                                 flatten_13[0][0]                 \n",
      "                                                                 flatten_14[0][0]                 \n",
      "__________________________________________________________________________________________________\n",
      "dropout_4 (Dropout)             (None, 7400)         0           concatenate_4[0][0]              \n",
      "__________________________________________________________________________________________________\n",
      "dense_8 (Dense)                 (None, 100)          740100      dropout_4[0][0]                  \n",
      "__________________________________________________________________________________________________\n",
      "dense_9 (Dense)                 (None, 1)            101         dense_8[0][0]                    \n",
      "==================================================================================================\n",
      "Total params: 1,100,501\n",
      "Trainable params: 1,100,501\n",
      "Non-trainable params: 0\n",
      "__________________________________________________________________________________________________\n"
     ]
    }
   ],
   "source": [
    "model.summary()"
   ]
  },
  {
   "cell_type": "code",
   "execution_count": 134,
   "metadata": {
    "scrolled": true
   },
   "outputs": [
    {
     "name": "stdout",
     "output_type": "stream",
     "text": [
      "Epoch 1/10\n",
      "1000/1000 [==============================] - 76s 76ms/step - loss: 0.6924 - accuracy: 0.5183\n",
      "Epoch 2/10\n",
      "1000/1000 [==============================] - 75s 75ms/step - loss: 0.6920 - accuracy: 0.5224\n",
      "Epoch 3/10\n",
      "1000/1000 [==============================] - 76s 76ms/step - loss: 0.6912 - accuracy: 0.5286\n",
      "Epoch 4/10\n",
      "1000/1000 [==============================] - 75s 75ms/step - loss: 0.6907 - accuracy: 0.5358\n",
      "Epoch 5/10\n",
      "1000/1000 [==============================] - 77s 77ms/step - loss: 0.6900 - accuracy: 0.5444\n",
      "Epoch 6/10\n",
      "1000/1000 [==============================] - 77s 77ms/step - loss: 0.6894 - accuracy: 0.5454\n",
      "Epoch 7/10\n",
      "1000/1000 [==============================] - 79s 79ms/step - loss: 0.6888 - accuracy: 0.5519\n",
      "Epoch 8/10\n",
      "1000/1000 [==============================] - 76s 76ms/step - loss: 0.6877 - accuracy: 0.5609\n",
      "Epoch 9/10\n",
      "1000/1000 [==============================] - 76s 76ms/step - loss: 0.6874 - accuracy: 0.5599\n",
      "Epoch 10/10\n",
      "1000/1000 [==============================] - 77s 77ms/step - loss: 0.6863 - accuracy: 0.5688\n"
     ]
    },
    {
     "data": {
      "text/plain": [
       "<tensorflow.python.keras.callbacks.History at 0x2784f34c6a0>"
      ]
     },
     "execution_count": 134,
     "metadata": {},
     "output_type": "execute_result"
    }
   ],
   "source": [
    "batch_size = 50\n",
    "num_epochs = 10\n",
    "min_word_count = 1\n",
    "context = 10\n",
    "model.fit(final_array, train_label,epochs = 10, batch_size = 50)"
   ]
  },
  {
   "cell_type": "code",
   "execution_count": 66,
   "metadata": {},
   "outputs": [
    {
     "data": {
      "text/plain": [
       "(1000, 34, 300, 1)"
      ]
     },
     "execution_count": 66,
     "metadata": {},
     "output_type": "execute_result"
    }
   ],
   "source": [
    "ff.shape"
   ]
  },
  {
   "cell_type": "code",
   "execution_count": 29,
   "metadata": {},
   "outputs": [
    {
     "data": {
      "text/plain": [
       "array([[-0.03603436, -0.41885307, -0.41913626, ...,  0.22009008,\n",
       "         0.08847765, -0.16508803],\n",
       "       [-0.1490712 ,  0.00246426, -0.05223376, ...,  0.08430273,\n",
       "         0.0519985 ,  0.0320913 ],\n",
       "       [ 0.00498221,  0.00503337,  0.02272565, ..., -0.00169617,\n",
       "        -0.00434503,  0.00520309],\n",
       "       ...,\n",
       "       [-0.00633526, -0.00170065, -0.00683073, ..., -0.0176824 ,\n",
       "         0.00272849,  0.0033766 ],\n",
       "       [-0.00633526, -0.00170065, -0.00683073, ..., -0.0176824 ,\n",
       "         0.00272849,  0.0033766 ],\n",
       "       [-0.00633526, -0.00170065, -0.00683073, ..., -0.0176824 ,\n",
       "         0.00272849,  0.0033766 ]], dtype=float32)"
      ]
     },
     "execution_count": 29,
     "metadata": {},
     "output_type": "execute_result"
    }
   ],
   "source": [
    "final_array[0]"
   ]
  },
  {
   "cell_type": "code",
   "execution_count": 30,
   "metadata": {},
   "outputs": [
    {
     "ename": "NameError",
     "evalue": "name 'fianal_array' is not defined",
     "output_type": "error",
     "traceback": [
      "\u001b[1;31m---------------------------------------------------------------------------\u001b[0m",
      "\u001b[1;31mNameError\u001b[0m                                 Traceback (most recent call last)",
      "\u001b[1;32m<ipython-input-30-25b653f5330c>\u001b[0m in \u001b[0;36m<module>\u001b[1;34m\u001b[0m\n\u001b[1;32m----> 1\u001b[1;33m \u001b[0mfianal_array\u001b[0m\u001b[1;33m[\u001b[0m\u001b[1;36m0\u001b[0m\u001b[1;33m]\u001b[0m\u001b[1;33m[\u001b[0m\u001b[1;36m0\u001b[0m\u001b[1;33m]\u001b[0m\u001b[1;33m\u001b[0m\u001b[1;33m\u001b[0m\u001b[0m\n\u001b[0m",
      "\u001b[1;31mNameError\u001b[0m: name 'fianal_array' is not defined"
     ]
    }
   ],
   "source": [
    "fianal_array[0][0]"
   ]
  },
  {
   "cell_type": "code",
   "execution_count": null,
   "metadata": {},
   "outputs": [],
   "source": []
  }
 ],
 "metadata": {
  "kernelspec": {
   "display_name": "Python 3",
   "language": "python",
   "name": "python3"
  },
  "language_info": {
   "codemirror_mode": {
    "name": "ipython",
    "version": 3
   },
   "file_extension": ".py",
   "mimetype": "text/x-python",
   "name": "python",
   "nbconvert_exporter": "python",
   "pygments_lexer": "ipython3",
   "version": "3.6.10"
  }
 },
 "nbformat": 4,
 "nbformat_minor": 4
}
