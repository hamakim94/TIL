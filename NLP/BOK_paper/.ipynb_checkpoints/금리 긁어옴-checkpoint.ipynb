{
 "cells": [
  {
   "cell_type": "code",
   "execution_count": 1,
   "metadata": {
    "colab": {},
    "colab_type": "code",
    "executionInfo": {
     "elapsed": 891,
     "status": "ok",
     "timestamp": 1595577660971,
     "user": {
      "displayName": "김민균",
      "photoUrl": "",
      "userId": "00979122829839263648"
     },
     "user_tz": -540
    },
    "id": "VPrS6E1oswvY"
   },
   "outputs": [],
   "source": [
    "import requests\n",
    "from bs4 import BeautifulSoup"
   ]
  },
  {
   "cell_type": "code",
   "execution_count": 6,
   "metadata": {},
   "outputs": [],
   "source": [
    "import pandas as pd"
   ]
  },
  {
   "cell_type": "code",
   "execution_count": 2,
   "metadata": {
    "colab": {},
    "colab_type": "code",
    "executionInfo": {
     "elapsed": 2208,
     "status": "ok",
     "timestamp": 1595577663067,
     "user": {
      "displayName": "김민균",
      "photoUrl": "",
      "userId": "00979122829839263648"
     },
     "user_tz": -540
    },
    "id": "qcCmyHIZs3oJ"
   },
   "outputs": [],
   "source": [
    "url = 'https://www.bok.or.kr/portal/singl/baseRate/list.do?dataSeCd=01&menuNo=200643'\n",
    "resp = requests.get(url)"
   ]
  },
  {
   "cell_type": "code",
   "execution_count": 3,
   "metadata": {
    "colab": {},
    "colab_type": "code",
    "executionInfo": {
     "elapsed": 445,
     "status": "ok",
     "timestamp": 1595577663070,
     "user": {
      "displayName": "김민균",
      "photoUrl": "",
      "userId": "00979122829839263648"
     },
     "user_tz": -540
    },
    "id": "gvYdgvqNvWVO"
   },
   "outputs": [],
   "source": [
    "soup = BeautifulSoup(resp.content, 'lxml')"
   ]
  },
  {
   "cell_type": "code",
   "execution_count": 4,
   "metadata": {
    "colab": {},
    "colab_type": "code",
    "executionInfo": {
     "elapsed": 718,
     "status": "ok",
     "timestamp": 1595577673482,
     "user": {
      "displayName": "김민균",
      "photoUrl": "",
      "userId": "00979122829839263648"
     },
     "user_tz": -540
    },
    "id": "DkBRfs0KvbZY"
   },
   "outputs": [],
   "source": [
    "td_tag = soup.select('tbody tr td')"
   ]
  },
  {
   "cell_type": "code",
   "execution_count": 7,
   "metadata": {
    "colab": {},
    "colab_type": "code",
    "executionInfo": {
     "elapsed": 514,
     "status": "ok",
     "timestamp": 1595578632756,
     "user": {
      "displayName": "김민균",
      "photoUrl": "",
      "userId": "00979122829839263648"
     },
     "user_tz": -540
    },
    "id": "zr-fb7FD1yJw"
   },
   "outputs": [],
   "source": [
    "import re\n",
    "date = []\n",
    "price = []\n",
    "for i in range(len(td_tag)):\n",
    "  if i % 3 ==0:\n",
    "    datee = ''\n",
    "    datee += td_tag[i].text\n",
    "  elif i % 3 ==1:\n",
    "    datee += td_tag[i].text\n",
    "    date.append(''.join(re.findall('[0-9]+', datee)))\n",
    "  else:\n",
    "    price.append(td_tag[i].text)\n",
    "\n",
    "selected = {}\n",
    "selected['date'] = date\n",
    "selected['interest_rate'] = price\n",
    "features = pd.DataFrame(selected)"
   ]
  },
  {
   "cell_type": "code",
   "execution_count": 14,
   "metadata": {
    "colab": {
     "base_uri": "https://localhost:8080/",
     "height": 1000
    },
    "colab_type": "code",
    "executionInfo": {
     "elapsed": 676,
     "status": "ok",
     "timestamp": 1595578763307,
     "user": {
      "displayName": "김민균",
      "photoUrl": "",
      "userId": "00979122829839263648"
     },
     "user_tz": -540
    },
    "id": "QSm_Z-4y57sf",
    "outputId": "39279320-0a71-4150-df39-5becb92058b5"
   },
   "outputs": [
    {
     "data": {
      "text/plain": [
       "0     2020.05.28\n",
       "1     2020.03.17\n",
       "2     2019.10.16\n",
       "3     2019.07.18\n",
       "4     2018.11.30\n",
       "5     2017.11.30\n",
       "6     2016.06.09\n",
       "7     2015.06.11\n",
       "8     2015.03.12\n",
       "9     2014.10.15\n",
       "10    2014.08.14\n",
       "11    2013.05.09\n",
       "12    2012.10.11\n",
       "13    2012.07.12\n",
       "14    2011.06.10\n",
       "15    2011.03.10\n",
       "16    2011.01.13\n",
       "17    2010.11.16\n",
       "18    2010.07.09\n",
       "19    2009.02.12\n",
       "20    2009.01.09\n",
       "21    2008.12.11\n",
       "22    2008.11.07\n",
       "23    2008.10.27\n",
       "24    2008.10.09\n",
       "25    2008.08.07\n",
       "26    2007.08.09\n",
       "27    2007.07.12\n",
       "28    2006.08.10\n",
       "29    2006.06.08\n",
       "30    2006.02.09\n",
       "31    2005.12.08\n",
       "32    2005.10.11\n",
       "33    2004.11.11\n",
       "34    2004.08.12\n",
       "35    2003.07.10\n",
       "36    2003.05.13\n",
       "37    2002.05.07\n",
       "38    2001.09.19\n",
       "39    2001.08.09\n",
       "40    2001.07.05\n",
       "41    2001.02.08\n",
       "42    2000.10.05\n",
       "43    2000.02.10\n",
       "44    1999.05.06\n",
       "Name: date, dtype: object"
      ]
     },
     "execution_count": 14,
     "metadata": {},
     "output_type": "execute_result"
    }
   ],
   "source": [
    "features\n",
    "for i in range(len(features['date'])):\n",
    "    features['date'][i] = str(features['date'][i])[:4]+'.'+str(features['date'][i])[4:6]+'.'+str(features['date'][i])[6:]\n",
    "features['date']"
   ]
  },
  {
   "cell_type": "code",
   "execution_count": 39,
   "metadata": {
    "colab": {
     "base_uri": "https://localhost:8080/",
     "height": 35
    },
    "colab_type": "code",
    "executionInfo": {
     "elapsed": 624,
     "status": "ok",
     "timestamp": 1595577667194,
     "user": {
      "displayName": "김민균",
      "photoUrl": "",
      "userId": "00979122829839263648"
     },
     "user_tz": -540
    },
    "id": "daEOIIKQvlZT",
    "outputId": "b47c5152-e2a5-4d92-f757-02c591222a98"
   },
   "outputs": [
    {
     "data": {
      "text/plain": [
       "45.0"
      ]
     },
     "execution_count": 39,
     "metadata": {
      "tags": []
     },
     "output_type": "execute_result"
    }
   ],
   "source": [
    "len(td_tag) / 3"
   ]
  },
  {
   "cell_type": "code",
   "execution_count": null,
   "metadata": {
    "colab": {},
    "colab_type": "code",
    "id": "fk-KqEkhwuoY"
   },
   "outputs": [],
   "source": [
    "# 그냥 이렇게 어렵게 가지 말고 DataFrame, Date날짜를 넣어서 만들어서 정리하자\n"
   ]
  },
  {
   "cell_type": "code",
   "execution_count": 9,
   "metadata": {
    "colab": {},
    "colab_type": "code",
    "executionInfo": {
     "elapsed": 612,
     "status": "ok",
     "timestamp": 1595576757417,
     "user": {
      "displayName": "김민균",
      "photoUrl": "",
      "userId": "00979122829839263648"
     },
     "user_tz": -540
    },
    "id": "MfOREYZqv4wi"
   },
   "outputs": [],
   "source": [
    "from datetime import datetime, timedelta"
   ]
  },
  {
   "cell_type": "code",
   "execution_count": 10,
   "metadata": {
    "colab": {},
    "colab_type": "code",
    "executionInfo": {
     "elapsed": 827,
     "status": "ok",
     "timestamp": 1595576972592,
     "user": {
      "displayName": "김민균",
      "photoUrl": "",
      "userId": "00979122829839263648"
     },
     "user_tz": -540
    },
    "id": "a3BE-JznySh7"
   },
   "outputs": [],
   "source": [
    "start_date = datetime.strptime('20050101', '%Y%m%d')\n",
    "end_date = datetime.strptime('20171231','%Y%m%d' )\n",
    "\n",
    "str_date_list = [] \n",
    "while start_date.strftime('%Y%m%d') != end_date.strftime('%Y%m%d'):\n",
    "    str_date_list.append(start_date.strftime('%Y%m%d')) \n",
    "    start_date += timedelta(days=1)\n"
   ]
  },
  {
   "cell_type": "code",
   "execution_count": 13,
   "metadata": {
    "colab": {
     "base_uri": "https://localhost:8080/",
     "height": 416
    },
    "colab_type": "code",
    "executionInfo": {
     "elapsed": 558,
     "status": "ok",
     "timestamp": 1595578795290,
     "user": {
      "displayName": "김민균",
      "photoUrl": "",
      "userId": "00979122829839263648"
     },
     "user_tz": -540
    },
    "id": "CxkTGyPG0O9l",
    "outputId": "245d5f2f-1ae6-44d2-bb43-bf1e19cf18f7"
   },
   "outputs": [
    {
     "data": {
      "text/plain": [
       "0       2005.01.01\n",
       "1       2005.01.02\n",
       "2       2005.01.03\n",
       "3       2005.01.04\n",
       "4       2005.01.05\n",
       "           ...    \n",
       "4742    2017.12.26\n",
       "4743    2017.12.27\n",
       "4744    2017.12.28\n",
       "4745    2017.12.29\n",
       "4746    2017.12.30\n",
       "Name: date, Length: 4747, dtype: object"
      ]
     },
     "execution_count": 13,
     "metadata": {},
     "output_type": "execute_result"
    }
   ],
   "source": [
    "whole = pd.DataFrame(str_date_list, columns = ['date'])\n",
    "for i in range(len(whole['date'])):\n",
    "    whole['date'][i] = str(whole['date'][i])[:4]+'.'+str(whole['date'][i])[4:6]+'.'+str(whole['date'][i])[6:]\n",
    "whole['date']"
   ]
  },
  {
   "cell_type": "code",
   "execution_count": 15,
   "metadata": {
    "colab": {
     "base_uri": "https://localhost:8080/",
     "height": 416
    },
    "colab_type": "code",
    "executionInfo": {
     "elapsed": 683,
     "status": "ok",
     "timestamp": 1595579097789,
     "user": {
      "displayName": "김민균",
      "photoUrl": "",
      "userId": "00979122829839263648"
     },
     "user_tz": -540
    },
    "id": "iF_5g8eCzFRf",
    "outputId": "27a18389-4e76-41df-89f9-821ea292058a"
   },
   "outputs": [
    {
     "data": {
      "text/html": [
       "<div>\n",
       "<style scoped>\n",
       "    .dataframe tbody tr th:only-of-type {\n",
       "        vertical-align: middle;\n",
       "    }\n",
       "\n",
       "    .dataframe tbody tr th {\n",
       "        vertical-align: top;\n",
       "    }\n",
       "\n",
       "    .dataframe thead th {\n",
       "        text-align: right;\n",
       "    }\n",
       "</style>\n",
       "<table border=\"1\" class=\"dataframe\">\n",
       "  <thead>\n",
       "    <tr style=\"text-align: right;\">\n",
       "      <th></th>\n",
       "      <th>date</th>\n",
       "      <th>interest_rate</th>\n",
       "    </tr>\n",
       "  </thead>\n",
       "  <tbody>\n",
       "    <tr>\n",
       "      <th>0</th>\n",
       "      <td>2005.01.01</td>\n",
       "      <td>3.25</td>\n",
       "    </tr>\n",
       "    <tr>\n",
       "      <th>1</th>\n",
       "      <td>2005.01.02</td>\n",
       "      <td>NaN</td>\n",
       "    </tr>\n",
       "    <tr>\n",
       "      <th>2</th>\n",
       "      <td>2005.01.03</td>\n",
       "      <td>NaN</td>\n",
       "    </tr>\n",
       "    <tr>\n",
       "      <th>3</th>\n",
       "      <td>2005.01.04</td>\n",
       "      <td>NaN</td>\n",
       "    </tr>\n",
       "    <tr>\n",
       "      <th>4</th>\n",
       "      <td>2005.01.05</td>\n",
       "      <td>NaN</td>\n",
       "    </tr>\n",
       "    <tr>\n",
       "      <th>...</th>\n",
       "      <td>...</td>\n",
       "      <td>...</td>\n",
       "    </tr>\n",
       "    <tr>\n",
       "      <th>4742</th>\n",
       "      <td>2017.12.26</td>\n",
       "      <td>NaN</td>\n",
       "    </tr>\n",
       "    <tr>\n",
       "      <th>4743</th>\n",
       "      <td>2017.12.27</td>\n",
       "      <td>NaN</td>\n",
       "    </tr>\n",
       "    <tr>\n",
       "      <th>4744</th>\n",
       "      <td>2017.12.28</td>\n",
       "      <td>NaN</td>\n",
       "    </tr>\n",
       "    <tr>\n",
       "      <th>4745</th>\n",
       "      <td>2017.12.29</td>\n",
       "      <td>NaN</td>\n",
       "    </tr>\n",
       "    <tr>\n",
       "      <th>4746</th>\n",
       "      <td>2017.12.30</td>\n",
       "      <td>NaN</td>\n",
       "    </tr>\n",
       "  </tbody>\n",
       "</table>\n",
       "<p>4747 rows × 2 columns</p>\n",
       "</div>"
      ],
      "text/plain": [
       "            date interest_rate\n",
       "0     2005.01.01          3.25\n",
       "1     2005.01.02           NaN\n",
       "2     2005.01.03           NaN\n",
       "3     2005.01.04           NaN\n",
       "4     2005.01.05           NaN\n",
       "...          ...           ...\n",
       "4742  2017.12.26           NaN\n",
       "4743  2017.12.27           NaN\n",
       "4744  2017.12.28           NaN\n",
       "4745  2017.12.29           NaN\n",
       "4746  2017.12.30           NaN\n",
       "\n",
       "[4747 rows x 2 columns]"
      ]
     },
     "execution_count": 15,
     "metadata": {},
     "output_type": "execute_result"
    }
   ],
   "source": [
    "merged = pd.merge(whole, features, how = 'left')\n",
    "merged['interest_rate'][0] = 3.25\n",
    "merged"
   ]
  },
  {
   "cell_type": "code",
   "execution_count": 16,
   "metadata": {
    "colab": {},
    "colab_type": "code",
    "executionInfo": {
     "elapsed": 673,
     "status": "ok",
     "timestamp": 1595579100807,
     "user": {
      "displayName": "김민균",
      "photoUrl": "",
      "userId": "00979122829839263648"
     },
     "user_tz": -540
    },
    "id": "al00GaEy0Nu8"
   },
   "outputs": [],
   "source": [
    "merged = merged.fillna(method = 'ffill')"
   ]
  },
  {
   "cell_type": "code",
   "execution_count": 17,
   "metadata": {
    "colab": {
     "base_uri": "https://localhost:8080/",
     "height": 416
    },
    "colab_type": "code",
    "executionInfo": {
     "elapsed": 667,
     "status": "ok",
     "timestamp": 1595579103309,
     "user": {
      "displayName": "김민균",
      "photoUrl": "",
      "userId": "00979122829839263648"
     },
     "user_tz": -540
    },
    "id": "2i2xfNu66l3E",
    "outputId": "d0cb905e-cf04-4bc3-f722-a731db3b2f9e"
   },
   "outputs": [
    {
     "data": {
      "text/html": [
       "<div>\n",
       "<style scoped>\n",
       "    .dataframe tbody tr th:only-of-type {\n",
       "        vertical-align: middle;\n",
       "    }\n",
       "\n",
       "    .dataframe tbody tr th {\n",
       "        vertical-align: top;\n",
       "    }\n",
       "\n",
       "    .dataframe thead th {\n",
       "        text-align: right;\n",
       "    }\n",
       "</style>\n",
       "<table border=\"1\" class=\"dataframe\">\n",
       "  <thead>\n",
       "    <tr style=\"text-align: right;\">\n",
       "      <th></th>\n",
       "      <th>date</th>\n",
       "      <th>interest_rate</th>\n",
       "    </tr>\n",
       "  </thead>\n",
       "  <tbody>\n",
       "    <tr>\n",
       "      <th>0</th>\n",
       "      <td>2005.01.01</td>\n",
       "      <td>3.25</td>\n",
       "    </tr>\n",
       "    <tr>\n",
       "      <th>1</th>\n",
       "      <td>2005.01.02</td>\n",
       "      <td>3.25</td>\n",
       "    </tr>\n",
       "    <tr>\n",
       "      <th>2</th>\n",
       "      <td>2005.01.03</td>\n",
       "      <td>3.25</td>\n",
       "    </tr>\n",
       "    <tr>\n",
       "      <th>3</th>\n",
       "      <td>2005.01.04</td>\n",
       "      <td>3.25</td>\n",
       "    </tr>\n",
       "    <tr>\n",
       "      <th>4</th>\n",
       "      <td>2005.01.05</td>\n",
       "      <td>3.25</td>\n",
       "    </tr>\n",
       "    <tr>\n",
       "      <th>...</th>\n",
       "      <td>...</td>\n",
       "      <td>...</td>\n",
       "    </tr>\n",
       "    <tr>\n",
       "      <th>4742</th>\n",
       "      <td>2017.12.26</td>\n",
       "      <td>1.50</td>\n",
       "    </tr>\n",
       "    <tr>\n",
       "      <th>4743</th>\n",
       "      <td>2017.12.27</td>\n",
       "      <td>1.50</td>\n",
       "    </tr>\n",
       "    <tr>\n",
       "      <th>4744</th>\n",
       "      <td>2017.12.28</td>\n",
       "      <td>1.50</td>\n",
       "    </tr>\n",
       "    <tr>\n",
       "      <th>4745</th>\n",
       "      <td>2017.12.29</td>\n",
       "      <td>1.50</td>\n",
       "    </tr>\n",
       "    <tr>\n",
       "      <th>4746</th>\n",
       "      <td>2017.12.30</td>\n",
       "      <td>1.50</td>\n",
       "    </tr>\n",
       "  </tbody>\n",
       "</table>\n",
       "<p>4747 rows × 2 columns</p>\n",
       "</div>"
      ],
      "text/plain": [
       "            date interest_rate\n",
       "0     2005.01.01          3.25\n",
       "1     2005.01.02          3.25\n",
       "2     2005.01.03          3.25\n",
       "3     2005.01.04          3.25\n",
       "4     2005.01.05          3.25\n",
       "...          ...           ...\n",
       "4742  2017.12.26          1.50\n",
       "4743  2017.12.27          1.50\n",
       "4744  2017.12.28          1.50\n",
       "4745  2017.12.29          1.50\n",
       "4746  2017.12.30          1.50\n",
       "\n",
       "[4747 rows x 2 columns]"
      ]
     },
     "execution_count": 17,
     "metadata": {},
     "output_type": "execute_result"
    }
   ],
   "source": [
    "merged"
   ]
  },
  {
   "cell_type": "code",
   "execution_count": 20,
   "metadata": {},
   "outputs": [],
   "source": [
    "merged.to_csv('interest.csv', index=False)"
   ]
  },
  {
   "cell_type": "code",
   "execution_count": 21,
   "metadata": {},
   "outputs": [
    {
     "data": {
      "text/html": [
       "<div>\n",
       "<style scoped>\n",
       "    .dataframe tbody tr th:only-of-type {\n",
       "        vertical-align: middle;\n",
       "    }\n",
       "\n",
       "    .dataframe tbody tr th {\n",
       "        vertical-align: top;\n",
       "    }\n",
       "\n",
       "    .dataframe thead th {\n",
       "        text-align: right;\n",
       "    }\n",
       "</style>\n",
       "<table border=\"1\" class=\"dataframe\">\n",
       "  <thead>\n",
       "    <tr style=\"text-align: right;\">\n",
       "      <th></th>\n",
       "      <th>date</th>\n",
       "      <th>interest_rate</th>\n",
       "    </tr>\n",
       "  </thead>\n",
       "  <tbody>\n",
       "    <tr>\n",
       "      <th>0</th>\n",
       "      <td>2005.01.01</td>\n",
       "      <td>3.25</td>\n",
       "    </tr>\n",
       "    <tr>\n",
       "      <th>1</th>\n",
       "      <td>2005.01.02</td>\n",
       "      <td>3.25</td>\n",
       "    </tr>\n",
       "    <tr>\n",
       "      <th>2</th>\n",
       "      <td>2005.01.03</td>\n",
       "      <td>3.25</td>\n",
       "    </tr>\n",
       "    <tr>\n",
       "      <th>3</th>\n",
       "      <td>2005.01.04</td>\n",
       "      <td>3.25</td>\n",
       "    </tr>\n",
       "    <tr>\n",
       "      <th>4</th>\n",
       "      <td>2005.01.05</td>\n",
       "      <td>3.25</td>\n",
       "    </tr>\n",
       "    <tr>\n",
       "      <th>...</th>\n",
       "      <td>...</td>\n",
       "      <td>...</td>\n",
       "    </tr>\n",
       "    <tr>\n",
       "      <th>4742</th>\n",
       "      <td>2017.12.26</td>\n",
       "      <td>1.50</td>\n",
       "    </tr>\n",
       "    <tr>\n",
       "      <th>4743</th>\n",
       "      <td>2017.12.27</td>\n",
       "      <td>1.50</td>\n",
       "    </tr>\n",
       "    <tr>\n",
       "      <th>4744</th>\n",
       "      <td>2017.12.28</td>\n",
       "      <td>1.50</td>\n",
       "    </tr>\n",
       "    <tr>\n",
       "      <th>4745</th>\n",
       "      <td>2017.12.29</td>\n",
       "      <td>1.50</td>\n",
       "    </tr>\n",
       "    <tr>\n",
       "      <th>4746</th>\n",
       "      <td>2017.12.30</td>\n",
       "      <td>1.50</td>\n",
       "    </tr>\n",
       "  </tbody>\n",
       "</table>\n",
       "<p>4747 rows × 2 columns</p>\n",
       "</div>"
      ],
      "text/plain": [
       "            date  interest_rate\n",
       "0     2005.01.01           3.25\n",
       "1     2005.01.02           3.25\n",
       "2     2005.01.03           3.25\n",
       "3     2005.01.04           3.25\n",
       "4     2005.01.05           3.25\n",
       "...          ...            ...\n",
       "4742  2017.12.26           1.50\n",
       "4743  2017.12.27           1.50\n",
       "4744  2017.12.28           1.50\n",
       "4745  2017.12.29           1.50\n",
       "4746  2017.12.30           1.50\n",
       "\n",
       "[4747 rows x 2 columns]"
      ]
     },
     "execution_count": 21,
     "metadata": {},
     "output_type": "execute_result"
    }
   ],
   "source": [
    "pd.read_csv('interest.csv')"
   ]
  },
  {
   "cell_type": "code",
   "execution_count": null,
   "metadata": {},
   "outputs": [],
   "source": []
  }
 ],
 "metadata": {
  "colab": {
   "authorship_tag": "ABX9TyN74IN3H/Qs/lygFk+VFz+k",
   "collapsed_sections": [],
   "name": "금리 긁어옴.ipynb",
   "provenance": []
  },
  "kernelspec": {
   "display_name": "Python 3",
   "language": "python",
   "name": "python3"
  },
  "language_info": {
   "codemirror_mode": {
    "name": "ipython",
    "version": 3
   },
   "file_extension": ".py",
   "mimetype": "text/x-python",
   "name": "python",
   "nbconvert_exporter": "python",
   "pygments_lexer": "ipython3",
   "version": "3.6.10"
  }
 },
 "nbformat": 4,
 "nbformat_minor": 1
}
