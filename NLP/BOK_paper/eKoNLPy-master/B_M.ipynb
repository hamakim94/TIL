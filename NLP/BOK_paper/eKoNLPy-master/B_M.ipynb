{
 "cells": [
  {
   "cell_type": "code",
   "execution_count": 208,
   "metadata": {
    "colab": {},
    "colab_type": "code",
    "executionInfo": {
     "elapsed": 793,
     "status": "ok",
     "timestamp": 1595926122540,
     "user": {
      "displayName": "Sunghyun Youm",
      "photoUrl": "",
      "userId": "10170636653912612303"
     },
     "user_tz": -540
    },
    "id": "Cxt7SRum4fxx"
   },
   "outputs": [],
   "source": [
    "import pandas as pd"
   ]
  },
  {
   "cell_type": "code",
   "execution_count": 209,
   "metadata": {
    "colab": {
     "base_uri": "https://localhost:8080/",
     "height": 848
    },
    "colab_type": "code",
    "executionInfo": {
     "elapsed": 11241,
     "status": "ok",
     "timestamp": 1595926133282,
     "user": {
      "displayName": "Sunghyun Youm",
      "photoUrl": "",
      "userId": "10170636653912612303"
     },
     "user_tz": -540
    },
    "id": "cWfWRNZgRnrs",
    "outputId": "d9f1ca35-2638-48cb-9883-da7a84f818e6"
   },
   "outputs": [
    {
     "name": "stdout",
     "output_type": "stream",
     "text": [
      "fatal: destination path 'eKoNLPy' already exists and is not an empty directory.\n",
      "Processing ./eKoNLPy\n",
      "Requirement already satisfied: konlpy>=0.4.4 in /usr/local/lib/python3.6/dist-packages (from eKoNLPy==0.5.30) (0.5.2)\n",
      "Requirement already satisfied: nltk>=2.0 in /usr/local/lib/python3.6/dist-packages (from eKoNLPy==0.5.30) (3.2.5)\n",
      "Requirement already satisfied: gensim>=3.1.0 in /usr/local/lib/python3.6/dist-packages (from eKoNLPy==0.5.30) (3.6.0)\n",
      "Requirement already satisfied: scipy>=0.19.1 in /usr/local/lib/python3.6/dist-packages (from eKoNLPy==0.5.30) (1.4.1)\n",
      "Requirement already satisfied: numpy>=1.13 in /usr/local/lib/python3.6/dist-packages (from eKoNLPy==0.5.30) (1.18.5)\n",
      "Requirement already satisfied: colorama in /usr/local/lib/python3.6/dist-packages (from konlpy>=0.4.4->eKoNLPy==0.5.30) (0.4.3)\n",
      "Requirement already satisfied: beautifulsoup4==4.6.0 in /usr/local/lib/python3.6/dist-packages (from konlpy>=0.4.4->eKoNLPy==0.5.30) (4.6.0)\n",
      "Requirement already satisfied: JPype1>=0.7.0 in /usr/local/lib/python3.6/dist-packages (from konlpy>=0.4.4->eKoNLPy==0.5.30) (1.0.1)\n",
      "Requirement already satisfied: tweepy>=3.7.0 in /usr/local/lib/python3.6/dist-packages (from konlpy>=0.4.4->eKoNLPy==0.5.30) (3.9.0)\n",
      "Requirement already satisfied: lxml>=4.1.0 in /usr/local/lib/python3.6/dist-packages (from konlpy>=0.4.4->eKoNLPy==0.5.30) (4.2.6)\n",
      "Requirement already satisfied: six in /usr/local/lib/python3.6/dist-packages (from nltk>=2.0->eKoNLPy==0.5.30) (1.15.0)\n",
      "Requirement already satisfied: smart-open>=1.2.1 in /usr/local/lib/python3.6/dist-packages (from gensim>=3.1.0->eKoNLPy==0.5.30) (2.1.0)\n",
      "Requirement already satisfied: typing-extensions; python_version < \"3.8\" in /usr/local/lib/python3.6/dist-packages (from JPype1>=0.7.0->konlpy>=0.4.4->eKoNLPy==0.5.30) (3.7.4.2)\n",
      "Requirement already satisfied: requests-oauthlib>=0.7.0 in /usr/local/lib/python3.6/dist-packages (from tweepy>=3.7.0->konlpy>=0.4.4->eKoNLPy==0.5.30) (1.3.0)\n",
      "Requirement already satisfied: requests[socks]>=2.11.1 in /usr/local/lib/python3.6/dist-packages (from tweepy>=3.7.0->konlpy>=0.4.4->eKoNLPy==0.5.30) (2.23.0)\n",
      "Requirement already satisfied: boto in /usr/local/lib/python3.6/dist-packages (from smart-open>=1.2.1->gensim>=3.1.0->eKoNLPy==0.5.30) (2.49.0)\n",
      "Requirement already satisfied: boto3 in /usr/local/lib/python3.6/dist-packages (from smart-open>=1.2.1->gensim>=3.1.0->eKoNLPy==0.5.30) (1.14.24)\n",
      "Requirement already satisfied: oauthlib>=3.0.0 in /usr/local/lib/python3.6/dist-packages (from requests-oauthlib>=0.7.0->tweepy>=3.7.0->konlpy>=0.4.4->eKoNLPy==0.5.30) (3.1.0)\n",
      "Requirement already satisfied: idna<3,>=2.5 in /usr/local/lib/python3.6/dist-packages (from requests[socks]>=2.11.1->tweepy>=3.7.0->konlpy>=0.4.4->eKoNLPy==0.5.30) (2.10)\n",
      "Requirement already satisfied: chardet<4,>=3.0.2 in /usr/local/lib/python3.6/dist-packages (from requests[socks]>=2.11.1->tweepy>=3.7.0->konlpy>=0.4.4->eKoNLPy==0.5.30) (3.0.4)\n",
      "Requirement already satisfied: urllib3!=1.25.0,!=1.25.1,<1.26,>=1.21.1 in /usr/local/lib/python3.6/dist-packages (from requests[socks]>=2.11.1->tweepy>=3.7.0->konlpy>=0.4.4->eKoNLPy==0.5.30) (1.24.3)\n",
      "Requirement already satisfied: certifi>=2017.4.17 in /usr/local/lib/python3.6/dist-packages (from requests[socks]>=2.11.1->tweepy>=3.7.0->konlpy>=0.4.4->eKoNLPy==0.5.30) (2020.6.20)\n",
      "Requirement already satisfied: PySocks!=1.5.7,>=1.5.6; extra == \"socks\" in /usr/local/lib/python3.6/dist-packages (from requests[socks]>=2.11.1->tweepy>=3.7.0->konlpy>=0.4.4->eKoNLPy==0.5.30) (1.7.1)\n",
      "Requirement already satisfied: s3transfer<0.4.0,>=0.3.0 in /usr/local/lib/python3.6/dist-packages (from boto3->smart-open>=1.2.1->gensim>=3.1.0->eKoNLPy==0.5.30) (0.3.3)\n",
      "Requirement already satisfied: jmespath<1.0.0,>=0.7.1 in /usr/local/lib/python3.6/dist-packages (from boto3->smart-open>=1.2.1->gensim>=3.1.0->eKoNLPy==0.5.30) (0.10.0)\n",
      "Requirement already satisfied: botocore<1.18.0,>=1.17.24 in /usr/local/lib/python3.6/dist-packages (from boto3->smart-open>=1.2.1->gensim>=3.1.0->eKoNLPy==0.5.30) (1.17.24)\n",
      "Requirement already satisfied: docutils<0.16,>=0.10 in /usr/local/lib/python3.6/dist-packages (from botocore<1.18.0,>=1.17.24->boto3->smart-open>=1.2.1->gensim>=3.1.0->eKoNLPy==0.5.30) (0.15.2)\n",
      "Requirement already satisfied: python-dateutil<3.0.0,>=2.1 in /usr/local/lib/python3.6/dist-packages (from botocore<1.18.0,>=1.17.24->boto3->smart-open>=1.2.1->gensim>=3.1.0->eKoNLPy==0.5.30) (2.8.1)\n",
      "Building wheels for collected packages: eKoNLPy\n",
      "  Building wheel for eKoNLPy (setup.py) ... \u001b[?25l\u001b[?25hdone\n",
      "  Created wheel for eKoNLPy: filename=eKoNLPy-0.5.30-cp36-none-any.whl size=14437140 sha256=5f4a42564871b858398b79435ea832efa62d80c4c1f0e112bf13e3c21c143058\n",
      "  Stored in directory: /tmp/pip-ephem-wheel-cache-lx2tm65y/wheels/55/6a/be/07f5aa04d32b20f90e33fc67d4939df5ead326f04db4d4381c\n",
      "Successfully built eKoNLPy\n",
      "Installing collected packages: eKoNLPy\n",
      "  Found existing installation: eKoNLPy 0.5.30\n",
      "    Uninstalling eKoNLPy-0.5.30:\n",
      "      Successfully uninstalled eKoNLPy-0.5.30\n",
      "Successfully installed eKoNLPy-0.5.30\n"
     ]
    },
    {
     "data": {
      "application/vnd.colab-display-data+json": {
       "pip_warning": {
        "packages": [
         "ekonlpy"
        ]
       }
      }
     },
     "metadata": {
      "tags": []
     },
     "output_type": "display_data"
    }
   ],
   "source": [
    "!git clone https://github.com/entelecheia/eKoNLPy.git\n",
    "!pip install ./eKoNLPy"
   ]
  },
  {
   "cell_type": "code",
   "execution_count": 210,
   "metadata": {
    "colab": {
     "base_uri": "https://localhost:8080/",
     "height": 1000
    },
    "colab_type": "code",
    "executionInfo": {
     "elapsed": 28230,
     "status": "ok",
     "timestamp": 1595926150676,
     "user": {
      "displayName": "Sunghyun Youm",
      "photoUrl": "",
      "userId": "10170636653912612303"
     },
     "user_tz": -540
    },
    "id": "Me-HoHAuTGFM",
    "outputId": "e4bbdbf6-2365-408e-e4c6-f135efe731ef"
   },
   "outputs": [
    {
     "name": "stdout",
     "output_type": "stream",
     "text": [
      "Reading package lists... Done\n",
      "Building dependency tree       \n",
      "Reading state information... Done\n",
      "Package openjdk-7-jdk is not available, but is referred to by another package.\n",
      "This may mean that the package is missing, has been obsoleted, or\n",
      "is only available from another source\n",
      "\n",
      "E: Package 'openjdk-7-jdk' has no installation candidate\n",
      "Reading package lists... Done\n",
      "Building dependency tree       \n",
      "Reading state information... Done\n",
      "python-dev is already the newest version (2.7.15~rc1-1).\n",
      "The following package was automatically installed and is no longer required:\n",
      "  libnvidia-common-440\n",
      "Use 'sudo apt autoremove' to remove it.\n",
      "0 upgraded, 0 newly installed, 0 to remove and 113 not upgraded.\n",
      "Requirement already satisfied: konlpy in /usr/local/lib/python3.6/dist-packages (0.5.2)\n",
      "Requirement already satisfied: colorama in /usr/local/lib/python3.6/dist-packages (from konlpy) (0.4.3)\n",
      "Requirement already satisfied: tweepy>=3.7.0 in /usr/local/lib/python3.6/dist-packages (from konlpy) (3.9.0)\n",
      "Requirement already satisfied: beautifulsoup4==4.6.0 in /usr/local/lib/python3.6/dist-packages (from konlpy) (4.6.0)\n",
      "Requirement already satisfied: lxml>=4.1.0 in /usr/local/lib/python3.6/dist-packages (from konlpy) (4.2.6)\n",
      "Requirement already satisfied: numpy>=1.6 in /usr/local/lib/python3.6/dist-packages (from konlpy) (1.18.5)\n",
      "Requirement already satisfied: JPype1>=0.7.0 in /usr/local/lib/python3.6/dist-packages (from konlpy) (1.0.1)\n",
      "Requirement already satisfied: six>=1.10.0 in /usr/local/lib/python3.6/dist-packages (from tweepy>=3.7.0->konlpy) (1.15.0)\n",
      "Requirement already satisfied: requests[socks]>=2.11.1 in /usr/local/lib/python3.6/dist-packages (from tweepy>=3.7.0->konlpy) (2.23.0)\n",
      "Requirement already satisfied: requests-oauthlib>=0.7.0 in /usr/local/lib/python3.6/dist-packages (from tweepy>=3.7.0->konlpy) (1.3.0)\n",
      "Requirement already satisfied: typing-extensions; python_version < \"3.8\" in /usr/local/lib/python3.6/dist-packages (from JPype1>=0.7.0->konlpy) (3.7.4.2)\n",
      "Requirement already satisfied: idna<3,>=2.5 in /usr/local/lib/python3.6/dist-packages (from requests[socks]>=2.11.1->tweepy>=3.7.0->konlpy) (2.10)\n",
      "Requirement already satisfied: chardet<4,>=3.0.2 in /usr/local/lib/python3.6/dist-packages (from requests[socks]>=2.11.1->tweepy>=3.7.0->konlpy) (3.0.4)\n",
      "Requirement already satisfied: urllib3!=1.25.0,!=1.25.1,<1.26,>=1.21.1 in /usr/local/lib/python3.6/dist-packages (from requests[socks]>=2.11.1->tweepy>=3.7.0->konlpy) (1.24.3)\n",
      "Requirement already satisfied: certifi>=2017.4.17 in /usr/local/lib/python3.6/dist-packages (from requests[socks]>=2.11.1->tweepy>=3.7.0->konlpy) (2020.6.20)\n",
      "Requirement already satisfied: PySocks!=1.5.7,>=1.5.6; extra == \"socks\" in /usr/local/lib/python3.6/dist-packages (from requests[socks]>=2.11.1->tweepy>=3.7.0->konlpy) (1.7.1)\n",
      "Requirement already satisfied: oauthlib>=3.0.0 in /usr/local/lib/python3.6/dist-packages (from requests-oauthlib>=0.7.0->tweepy>=3.7.0->konlpy) (3.1.0)\n",
      "Reading package lists... Done\n",
      "Building dependency tree       \n",
      "Reading state information... Done\n",
      "python3-dev is already the newest version (3.6.7-1~18.04).\n",
      "The following package was automatically installed and is no longer required:\n",
      "  libnvidia-common-440\n",
      "Use 'sudo apt autoremove' to remove it.\n",
      "0 upgraded, 0 newly installed, 0 to remove and 113 not upgraded.\n",
      "Requirement already satisfied: konlpy in /usr/local/lib/python3.6/dist-packages (0.5.2)\n",
      "Requirement already satisfied: JPype1>=0.7.0 in /usr/local/lib/python3.6/dist-packages (from konlpy) (1.0.1)\n",
      "Requirement already satisfied: tweepy>=3.7.0 in /usr/local/lib/python3.6/dist-packages (from konlpy) (3.9.0)\n",
      "Requirement already satisfied: numpy>=1.6 in /usr/local/lib/python3.6/dist-packages (from konlpy) (1.18.5)\n",
      "Requirement already satisfied: colorama in /usr/local/lib/python3.6/dist-packages (from konlpy) (0.4.3)\n",
      "Requirement already satisfied: lxml>=4.1.0 in /usr/local/lib/python3.6/dist-packages (from konlpy) (4.2.6)\n",
      "Requirement already satisfied: beautifulsoup4==4.6.0 in /usr/local/lib/python3.6/dist-packages (from konlpy) (4.6.0)\n",
      "Requirement already satisfied: typing-extensions; python_version < \"3.8\" in /usr/local/lib/python3.6/dist-packages (from JPype1>=0.7.0->konlpy) (3.7.4.2)\n",
      "Requirement already satisfied: requests[socks]>=2.11.1 in /usr/local/lib/python3.6/dist-packages (from tweepy>=3.7.0->konlpy) (2.23.0)\n",
      "Requirement already satisfied: requests-oauthlib>=0.7.0 in /usr/local/lib/python3.6/dist-packages (from tweepy>=3.7.0->konlpy) (1.3.0)\n",
      "Requirement already satisfied: six>=1.10.0 in /usr/local/lib/python3.6/dist-packages (from tweepy>=3.7.0->konlpy) (1.15.0)\n",
      "Requirement already satisfied: idna<3,>=2.5 in /usr/local/lib/python3.6/dist-packages (from requests[socks]>=2.11.1->tweepy>=3.7.0->konlpy) (2.10)\n",
      "Requirement already satisfied: urllib3!=1.25.0,!=1.25.1,<1.26,>=1.21.1 in /usr/local/lib/python3.6/dist-packages (from requests[socks]>=2.11.1->tweepy>=3.7.0->konlpy) (1.24.3)\n",
      "Requirement already satisfied: chardet<4,>=3.0.2 in /usr/local/lib/python3.6/dist-packages (from requests[socks]>=2.11.1->tweepy>=3.7.0->konlpy) (3.0.4)\n",
      "Requirement already satisfied: certifi>=2017.4.17 in /usr/local/lib/python3.6/dist-packages (from requests[socks]>=2.11.1->tweepy>=3.7.0->konlpy) (2020.6.20)\n",
      "Requirement already satisfied: PySocks!=1.5.7,>=1.5.6; extra == \"socks\" in /usr/local/lib/python3.6/dist-packages (from requests[socks]>=2.11.1->tweepy>=3.7.0->konlpy) (1.7.1)\n",
      "Requirement already satisfied: oauthlib>=3.0.0 in /usr/local/lib/python3.6/dist-packages (from requests-oauthlib>=0.7.0->tweepy>=3.7.0->konlpy) (3.1.0)\n",
      "Reading package lists... Done\n",
      "Building dependency tree       \n",
      "Reading state information... Done\n",
      "curl is already the newest version (7.58.0-2ubuntu3.9).\n",
      "The following package was automatically installed and is no longer required:\n",
      "  libnvidia-common-440\n",
      "Use 'sudo apt autoremove' to remove it.\n",
      "0 upgraded, 0 newly installed, 0 to remove and 113 not upgraded.\n",
      "mecab-ko is already installed\n",
      "mecab-ko-dic is already installed\n",
      "mecab-python is already installed\n",
      "Done.\n"
     ]
    }
   ],
   "source": [
    "!sudo apt-get install g++ openjdk-7-jdk # Install Java 1.7+\n",
    "!sudo apt-get install python-dev; pip install konlpy     # Python 2.x\n",
    "!sudo apt-get install python3-dev; pip3 install konlpy   # Python 3.x\n",
    "!sudo apt-get install curl\n",
    "!bash <(curl -s https://raw.githubusercontent.com/konlpy/konlpy/master/scripts/mecab.sh)\n"
   ]
  },
  {
   "cell_type": "code",
   "execution_count": 211,
   "metadata": {
    "colab": {},
    "colab_type": "code",
    "executionInfo": {
     "elapsed": 27853,
     "status": "ok",
     "timestamp": 1595926150677,
     "user": {
      "displayName": "Sunghyun Youm",
      "photoUrl": "",
      "userId": "10170636653912612303"
     },
     "user_tz": -540
    },
    "id": "XdST0fa5ZU8n"
   },
   "outputs": [],
   "source": [
    "import re\n",
    "import requests # 웹 상의 데이터를 가져올 때\n",
    "from bs4 import BeautifulSoup #가져온 데이터에서 필요한 정보를 파싱할 때\n",
    "from tqdm.notebook import tqdm\n"
   ]
  },
  {
   "cell_type": "code",
   "execution_count": 212,
   "metadata": {
    "colab": {
     "base_uri": "https://localhost:8080/",
     "height": 35
    },
    "colab_type": "code",
    "executionInfo": {
     "elapsed": 207885,
     "status": "ok",
     "timestamp": 1595926332907,
     "user": {
      "displayName": "Sunghyun Youm",
      "photoUrl": "",
      "userId": "10170636653912612303"
     },
     "user_tz": -540
    },
    "id": "pZyqyy3T4Esg",
    "outputId": "728d9d15-9848-4e86-ffad-93395dca5dff"
   },
   "outputs": [
    {
     "data": {
      "text/plain": [
       "3761"
      ]
     },
     "execution_count": 212,
     "metadata": {
      "tags": []
     },
     "output_type": "execute_result"
    }
   ],
   "source": [
    "# for page in range(1, 11):\n",
    "# for page in range(1, 101, 10):\n",
    "# for page in range(10):\n",
    "no_page =126\n",
    "\n",
    "report_link = []\n",
    "report_yymm = []\n",
    "for page in range(no_page):\n",
    "  url = 'https://finance.naver.com/research/debenture_list.nhn'\n",
    "  query={\n",
    "    'page' : page+1\n",
    "  }\n",
    "  resp=requests.get(url,query)\n",
    "  soup= BeautifulSoup(resp.content, 'lxml')\n",
    "  a_tag=soup.select('tr td.file a')\n",
    "  b_tag=soup.select('tr td.date')\n",
    "  c_tag=[]\n",
    "  for idx, b in enumerate(b_tag):\n",
    "    if idx%2==0:\n",
    "      c_tag.append(b)\n",
    "\n",
    "  for a, c in zip(a_tag,c_tag):\n",
    "    report_link.append(a['href'])\n",
    "    report_yymm.append('20'+c.text)\n",
    "\n",
    "len(report_link)\n"
   ]
  },
  {
   "cell_type": "code",
   "execution_count": 213,
   "metadata": {
    "colab": {},
    "colab_type": "code",
    "executionInfo": {
     "elapsed": 890,
     "status": "ok",
     "timestamp": 1595926333800,
     "user": {
      "displayName": "Sunghyun Youm",
      "photoUrl": "",
      "userId": "10170636653912612303"
     },
     "user_tz": -540
    },
    "id": "Hvyk2lUB4HXK"
   },
   "outputs": [],
   "source": [
    "from io import open"
   ]
  },
  {
   "cell_type": "code",
   "execution_count": 214,
   "metadata": {
    "colab": {},
    "colab_type": "code",
    "executionInfo": {
     "elapsed": 887,
     "status": "ok",
     "timestamp": 1595926333801,
     "user": {
      "displayName": "Sunghyun Youm",
      "photoUrl": "",
      "userId": "10170636653912612303"
     },
     "user_tz": -540
    },
    "id": "5FzLTWDJ4J5i"
   },
   "outputs": [],
   "source": [
    "import requests\n",
    "from bs4 import BeautifulSoup\n",
    "# file_res = requests.get(\"https://ssl.pstatic.net/imgstock/upload/research/debenture/1595205128882.pdf\") # 여기에 url을 for문으로 돌릴거고\n",
    "# with open('{}.pdf', 'wb') as f: # 여기에 pdf 이름을 정하면 {위에 있는 코드에서 {}.pdf에 넣어주면 돼}\n",
    "#   f.write(file_res.content)"
   ]
  },
  {
   "cell_type": "code",
   "execution_count": 215,
   "metadata": {
    "colab": {
     "base_uri": "https://localhost:8080/",
     "height": 143
    },
    "colab_type": "code",
    "executionInfo": {
     "elapsed": 4598,
     "status": "ok",
     "timestamp": 1595926337523,
     "user": {
      "displayName": "Sunghyun Youm",
      "photoUrl": "",
      "userId": "10170636653912612303"
     },
     "user_tz": -540
    },
    "id": "tn4oIOj-XOGN",
    "outputId": "41426c87-9d3d-4fee-cecd-a6e273b03773"
   },
   "outputs": [
    {
     "name": "stdout",
     "output_type": "stream",
     "text": [
      "Requirement already satisfied: tika in /usr/local/lib/python3.6/dist-packages (1.24)\n",
      "Requirement already satisfied: setuptools in /usr/local/lib/python3.6/dist-packages (from tika) (49.1.0)\n",
      "Requirement already satisfied: requests in /usr/local/lib/python3.6/dist-packages (from tika) (2.23.0)\n",
      "Requirement already satisfied: urllib3!=1.25.0,!=1.25.1,<1.26,>=1.21.1 in /usr/local/lib/python3.6/dist-packages (from requests->tika) (1.24.3)\n",
      "Requirement already satisfied: idna<3,>=2.5 in /usr/local/lib/python3.6/dist-packages (from requests->tika) (2.10)\n",
      "Requirement already satisfied: chardet<4,>=3.0.2 in /usr/local/lib/python3.6/dist-packages (from requests->tika) (3.0.4)\n",
      "Requirement already satisfied: certifi>=2017.4.17 in /usr/local/lib/python3.6/dist-packages (from requests->tika) (2020.6.20)\n"
     ]
    }
   ],
   "source": [
    "!pip install tika"
   ]
  },
  {
   "cell_type": "code",
   "execution_count": 216,
   "metadata": {
    "colab": {},
    "colab_type": "code",
    "executionInfo": {
     "elapsed": 4597,
     "status": "ok",
     "timestamp": 1595926337524,
     "user": {
      "displayName": "Sunghyun Youm",
      "photoUrl": "",
      "userId": "10170636653912612303"
     },
     "user_tz": -540
    },
    "id": "IPbBCE3sXMuS"
   },
   "outputs": [],
   "source": [
    "from tika import parser"
   ]
  },
  {
   "cell_type": "code",
   "execution_count": null,
   "metadata": {
    "colab": {
     "base_uri": "https://localhost:8080/",
     "height": 49,
     "referenced_widgets": [
      "eac3f0c4b8564b639bae0818d5333ec4",
      "7bb69433c4784ce1a3a3f16f9aee1d97",
      "2f6350bdd7cd4439ba588785e7097030",
      "0b6f5b8f0be44126ba63905cb0681035",
      "0871c5487c1547059eb2802dd3c397d7",
      "38234457143d450495a84a243209be32",
      "d0c8c1d87e744f8c949af0205eb2d21c",
      "90b89b730c5a48af9a63256eaa3ef790"
     ]
    },
    "colab_type": "code",
    "id": "MDip4ffH4dpg",
    "outputId": "226f0a86-85f8-4ee1-8337-65d3a94eebc7"
   },
   "outputs": [
    {
     "data": {
      "application/vnd.jupyter.widget-view+json": {
       "model_id": "eac3f0c4b8564b639bae0818d5333ec4",
       "version_major": 2,
       "version_minor": 0
      },
      "text/plain": [
       "HBox(children=(FloatProgress(value=1.0, bar_style='info', max=1.0), HTML(value='')))"
      ]
     },
     "metadata": {
      "tags": []
     },
     "output_type": "display_data"
    }
   ],
   "source": [
    "full_pdf=[]\n",
    "for link, yymm in tqdm(zip(report_link, report_yymm)):\n",
    "  file_res = requests.get(link)\n",
    "  with open('{}.pdf', 'wb') as f:\n",
    "    f.write(file_res.content)\n",
    "  # fp = open('{}.pdf', 'rb') # 여기에 저장된 url에 대한 response.content를 넣어줘야 함\n",
    "  try:\n",
    "    raw= parser.from_file('{}.pdf')\n",
    "    v=raw['content']\n",
    "    v=re.sub('[\\n]', '', v)\n",
    "    v=re.sub('[A-z]','',v)\n",
    "    v=re.sub('<[^>]*>','',v)\n",
    "    v=re.sub('\\(+\\)','',v)\n",
    "    full_pdf.append([yymm,v])\n",
    "  except:\n",
    "    pass\n"
   ]
  },
  {
   "cell_type": "code",
   "execution_count": null,
   "metadata": {
    "colab": {},
    "colab_type": "code",
    "executionInfo": {
     "elapsed": 1241928,
     "status": "aborted",
     "timestamp": 1595927574865,
     "user": {
      "displayName": "Sunghyun Youm",
      "photoUrl": "",
      "userId": "10170636653912612303"
     },
     "user_tz": -540
    },
    "id": "2rTEwTQ-4im2"
   },
   "outputs": [],
   "source": [
    "F=pd.DataFrame(full_pdf, columns=['date','contents'])"
   ]
  },
  {
   "cell_type": "code",
   "execution_count": null,
   "metadata": {
    "colab": {},
    "colab_type": "code",
    "executionInfo": {
     "elapsed": 1241923,
     "status": "aborted",
     "timestamp": 1595927574868,
     "user": {
      "displayName": "Sunghyun Youm",
      "photoUrl": "",
      "userId": "10170636653912612303"
     },
     "user_tz": -540
    },
    "id": "EpDpqNxObkgV"
   },
   "outputs": [],
   "source": [
    "F"
   ]
  },
  {
   "cell_type": "code",
   "execution_count": null,
   "metadata": {
    "colab": {},
    "colab_type": "code",
    "executionInfo": {
     "elapsed": 1195964,
     "status": "aborted",
     "timestamp": 1595927574868,
     "user": {
      "displayName": "Sunghyun Youm",
      "photoUrl": "",
      "userId": "10170636653912612303"
     },
     "user_tz": -540
    },
    "id": "1CEoFaH2nsi7"
   },
   "outputs": [],
   "source": [
    "F.to_csv('/content/drive/My Drive/NLP/data/raw_F.csv')"
   ]
  },
  {
   "cell_type": "code",
   "execution_count": null,
   "metadata": {
    "colab": {},
    "colab_type": "code",
    "id": "AM1uR7UL4la5"
   },
   "outputs": [],
   "source": [
    "F['contents']=F['contents'].apply(lambda x : x.split('.'))"
   ]
  },
  {
   "cell_type": "code",
   "execution_count": null,
   "metadata": {
    "colab": {},
    "colab_type": "code",
    "id": "TwBEQmFT61E2"
   },
   "outputs": [],
   "source": [
    "call_lb=pd.read_csv('/content/drive/My Drive/NLP/실습 코드/BOK/Callrate_labeling.csv')"
   ]
  },
  {
   "cell_type": "code",
   "execution_count": null,
   "metadata": {
    "colab": {},
    "colab_type": "code",
    "id": "dsc3RNbk9Ohb"
   },
   "outputs": [],
   "source": [
    "F=F.merge(call_lb,on='date')"
   ]
  },
  {
   "cell_type": "code",
   "execution_count": null,
   "metadata": {
    "colab": {},
    "colab_type": "code",
    "id": "kEgOTUItFDeU"
   },
   "outputs": [],
   "source": [
    "from ekonlpy.sentiment import MPCK\n",
    "pck= MPCK()"
   ]
  },
  {
   "cell_type": "code",
   "execution_count": null,
   "metadata": {
    "colab": {},
    "colab_type": "code",
    "id": "bPnG6tEIQTJj"
   },
   "outputs": [],
   "source": [
    "repeat_per=[]\n",
    "for idx, ff in enumerate(F['contents']):\n",
    "  token_only=[]\n",
    "  for jdx, fff in enumerate(ff):\n",
    "    tokk=[]\n",
    "    tokens=pck.tokenize(fff)\n",
    "    if tokens !=[]:\n",
    "      token_only.append(tokens)\n",
    "      repeat_per.append([len(list(set(tokens)))/len(tokens),tokens])\n",
    "  F['contents'][idx]=token_only"
   ]
  },
  {
   "cell_type": "code",
   "execution_count": null,
   "metadata": {
    "colab": {
     "base_uri": "https://localhost:8080/",
     "height": 575
    },
    "colab_type": "code",
    "executionInfo": {
     "elapsed": 30021,
     "status": "ok",
     "timestamp": 1595924449243,
     "user": {
      "displayName": "Sunghyun Youm",
      "photoUrl": "",
      "userId": "10170636653912612303"
     },
     "user_tz": -540
    },
    "id": "uPCphZrS9fcy",
    "outputId": "733e02f8-f8b4-4c81-9ea2-f2f4959d5faa"
   },
   "outputs": [
    {
     "data": {
      "text/plain": [
       "0     [[계속/MAG, 직진/NNG, 방향/NNG, 우회전/NNG, 갭/NNG, 없/VA...\n",
       "1     [[푸르/VA], [연속/NNG, 금리/NNG, 동결/NNG, 환율/NNG, 여건/...\n",
       "2     [[조사/NNG, 분석/NNG, 자료/NNG, 신뢰/NNG, 하/VV, 자료/NNG...\n",
       "3     [[자료/NNG, 제공/NNG, 전망/NNG, 인상/NNG, 불확실성/NNG, 지속...\n",
       "4     [[조사/NNG, 분석/NNG, 자료/NNG, 신뢰/NNG, 하/VV, 자료/NNG...\n",
       "5     [[조사/NNG, 분석/NNG, 자료/NNG, 신뢰/NNG, 하/VV, 자료/NNG...\n",
       "6     [[가격/NNG, 부담/NNG, 약세/NNG, 기록/NNG], [가격/NNG, 부담...\n",
       "7     [[고용/NNG, 추이/NNG, 주가/NNG, 금리/NNG, 추이/NNG, 민간/N...\n",
       "8     [[불확실성/NNG, 해소/NNG, 어렵/VA, 채권/NNG, 금리/NNG, 금리/...\n",
       "9     [[조사/NNG, 분석/NNG, 자료/NNG, 신뢰/NNG, 하/VV, 자료/NNG...\n",
       "10    [[강하/VA, 견제구/NNG, 아직/MAG, 주자/NNG, 민첩/NNG, 실세/N...\n",
       "11    [[조사/NNG, 분석/NNG, 자료/NNG, 신뢰/NNG, 하/VV, 자료/NNG...\n",
       "12    [[중/NNG, 유동성/NNG, 감소/NNG, 가격/NNG, 부담/NNG, 시장/N...\n",
       "13    [[조사/NNG, 분석/NNG, 자료/NNG, 신뢰/NNG, 하/VV, 자료/NNG...\n",
       "14    [[원달러/NNG, 강세/NNG, 추가/NNG, 양적완화/NNG, 기대/NNG, 시...\n",
       "15    [[조사/NNG, 분석/NNG, 자료/NNG, 신뢰/NNG, 하/VV, 자료/NNG...\n",
       "16    [[조사/NNG, 분석/NNG, 자료/NNG, 신뢰/NNG, 하/VV, 자료/NNG...\n",
       "17    [[원화/NNG, 강세/NNG, 금리/NNG, 인상/NNG], [원화/NNG, 강세...\n",
       "18    [[신흥국/NNG, 환율/NNG, 추이/NNG, 주가지수/NNG, 주택가격/NNG,...\n",
       "19    [[경계/NNG, 인식/NNG, 조정/NNG, 불가피/NNG, 채권/NNG, 금리/...\n",
       "20    [[조사/NNG, 분석/NNG, 자료/NNG, 신뢰/NNG, 하/VV, 자료/NNG...\n",
       "21    [[발행/NNG, 액/NNG, 감소/NNG, 원화/NNG, 강세/NNG], [발행/...\n",
       "22    [[조사/NNG, 분석/NNG, 자료/NNG, 신뢰/NNG, 하/VV, 자료/NNG...\n",
       "23    [[선행/NNG, 지수/NNG, 상승률/NNG, 하락/NNG, 지표/NNG, 상승/...\n",
       "24    [[채권시장/NNG, 전망/NNG, 금리/NNG, 인상/NNG, 재개/NNG, 따르...\n",
       "25    [[조사/NNG, 분석/NNG, 자료/NNG, 신뢰/NNG, 하/VV, 자료/NNG...\n",
       "26    [[국채/NNG, 수익률/NNG, 주/VV, 시사점/NNG, 시장/NNG, 국고채/...\n",
       "27    [[조사/NNG, 분석/NNG, 자료/NNG, 신뢰/NNG, 하/VV, 자료/NNG...\n",
       "28    [[가격/NNG, 부담/NNG, 은행채/NNG, 약세/NNG], [가격/NNG, 부...\n",
       "29    [[부담/NNG, 따르/VV, 금리/NNG, 상승/NNG, 채권/NNG, 금리/NN...\n",
       "Name: contents, dtype: object"
      ]
     },
     "execution_count": 205,
     "metadata": {
      "tags": []
     },
     "output_type": "execute_result"
    }
   ],
   "source": [
    "F['contents']"
   ]
  },
  {
   "cell_type": "code",
   "execution_count": null,
   "metadata": {
    "colab": {
     "base_uri": "https://localhost:8080/",
     "height": 1000
    },
    "colab_type": "code",
    "executionInfo": {
     "elapsed": 29392,
     "status": "ok",
     "timestamp": 1595924449244,
     "user": {
      "displayName": "Sunghyun Youm",
      "photoUrl": "",
      "userId": "10170636653912612303"
     },
     "user_tz": -540
    },
    "id": "yrJtoZ9RS7gz",
    "outputId": "0d0d5d08-3b7d-47c3-887b-5ee707dc8c05"
   },
   "outputs": [
    {
     "data": {
      "text/plain": [
       "[['중/NNG',\n",
       "  '유동성/NNG',\n",
       "  '감소/NNG',\n",
       "  '가격/NNG',\n",
       "  '부담/NNG',\n",
       "  '시장/NNG',\n",
       "  '국고채/NNG',\n",
       "  '물/NNG',\n",
       "  '국고채/NNG',\n",
       "  '물/NNG',\n",
       "  '보합/NNG',\n",
       "  '상승/NNG',\n",
       "  '하/VV'],\n",
       " ['기록/NNG', '하/XSV', '통안채/NNG', '물/NNG', '하락/NNG', '하/VV'],\n",
       " ['기록/NNG',\n",
       "  '하/XSV',\n",
       "  '약보합/NNG',\n",
       "  '보/VV',\n",
       "  '채/NNG',\n",
       "  '강세/NNG',\n",
       "  '보/VV',\n",
       "  '강세/NNG',\n",
       "  '출발/NNG',\n",
       "  '하/XSV',\n",
       "  '결국/MAG',\n",
       "  '가격/NNG',\n",
       "  '부담/NNG',\n",
       "  '느끼/VV',\n",
       "  '의하/VV',\n",
       "  '장후반/NNG',\n",
       "  '약세/NNG',\n",
       "  '반전/NNG',\n",
       "  '하/VV',\n",
       "  '보/VV',\n",
       "  '장중/NNG',\n",
       "  '발표/NNG',\n",
       "  '되/VV',\n",
       "  '통화/NNG',\n",
       "  '증가율/NNG',\n",
       "  '평잔/NNG',\n",
       "  '기준/NNG'],\n",
       " ['그치/VV',\n",
       "  '시중/NNG',\n",
       "  '유동성/NNG',\n",
       "  '감소/NNG',\n",
       "  '따르/VV',\n",
       "  '채권/NNG',\n",
       "  '매수/NNG',\n",
       "  '감소/NNG',\n",
       "  '우려/NNG',\n",
       "  '영향/NNG',\n",
       "  '끼친/VV',\n",
       "  '보/VV'],\n",
       " ['소매/NNG', '판매가격/NNG'],\n",
       " ['기록/NNG'],\n",
       " ['증가/NNG',\n",
       "  '하/XSV',\n",
       "  '달러/NNG',\n",
       "  '강세/NNG',\n",
       "  '보/VV',\n",
       "  '경기/NNG',\n",
       "  '변동성/NNG',\n",
       "  '증가/NNG',\n",
       "  '우려/NNG',\n",
       "  '감소/NNG',\n",
       "  '하/XSV'],\n",
       " ['시장/NNG',\n",
       "  '여전히/MAG',\n",
       "  '가격/NNG',\n",
       "  '부담/NNG',\n",
       "  '느끼/VV',\n",
       "  '약세/NNG',\n",
       "  '보/VV',\n",
       "  '가능성/NNG',\n",
       "  '크/VA'],\n",
       " ['다시/MAG', '약보합장/NNG', '연출/NNG', '크레딧/NNG', '보합/NNG'],\n",
       " ['통안채/NNG', '국고채/NNG', '국고채/NNG', '국고채/NNG'],\n",
       " ['카드채/NNG', '회사채/NNG', '회사채/NNG', '회사채/NNG', '은행채/NNG', '출처/NNG', '출처/NNG'],\n",
       " ['국내외/NNG',\n",
       "  '경제/NNG',\n",
       "  '지표/NNG',\n",
       "  '채권/NNG',\n",
       "  '발행계획/NNG',\n",
       "  '소비자/NNG',\n",
       "  '신용/NNG',\n",
       "  '지수/NNG',\n",
       "  '실업률/NNG',\n",
       "  '도매/NNG',\n",
       "  '재고지수/NNG',\n",
       "  '서비스업/NNG'],\n",
       " ['채권/NNG', '금리/NNG'],\n",
       " ['신용스프레드/NNG'],\n",
       " ['종류/NNG', '종가/NNG', '종류/NNG', '종가/NNG'],\n",
       " ['공사채/NNG', '통안채/NNG', '은행채/NNG', '국고채/NNG'],\n",
       " ['카드채/NNG', '국고채/NNG'],\n",
       " ['회사채/NNG', '국고채/NNG'],\n",
       " ['회사채/NNG', '회사채/NNG'],\n",
       " ['해외/NNG', '종류/NNG', '종가/NNG', '리보/NNG'],\n",
       " ['해외/NNG', '리보/NNG'],\n",
       " ['종가/NNG'],\n",
       " ['은행채/NNG'],\n",
       " ['회사채/NNG'],\n",
       " ['회사채/NNG'],\n",
       " ['유로/NNG', '은행채/NNG', '국채/NNG'],\n",
       " ['유로/NNG', '회사채/NNG', '프랑스국채/NNG'],\n",
       " ['유로/NNG', '회사채/NNG', '영국채/NNG'],\n",
       " ['국채/NNG'],\n",
       " ['프랑스국채/NNG'],\n",
       " ['스왑/NNG', '국채/NNG'],\n",
       " ['종가/NNG', '국채/NNG'],\n",
       " ['프랑스국채/NNG'],\n",
       " ['국채/NNG'],\n",
       " ['국채/NNG'],\n",
       " ['프랑스국채/NNG'],\n",
       " ['국채/NNG'],\n",
       " ['크레딧/NNG', '지표/NNG', '종류/NNG', '종가/NNG'],\n",
       " ['현물/NNG', '순매수/NNG'],\n",
       " ['기관/NNG', '종류/NNG', '국채/NNG', '특수채/NNG', '통안채/NNG', '금융채/NNG'],\n",
       " ['은행/NNG'],\n",
       " ['보험/NNG'],\n",
       " ['투신/NNG'],\n",
       " ['기금/NNG', '공제/NNG'],\n",
       " ['외국인/NNG'],\n",
       " ['선물/NNG', '순매수/NNG', '계약/NNG'],\n",
       " ['기관/NNG', '날짜/NNG'],\n",
       " ['은행/NNG'],\n",
       " ['증권/NNG'],\n",
       " ['보험/NNG'],\n",
       " ['투신/NNG', '비/NNG'],\n",
       " ['외국인/NNG'],\n",
       " ['출처/NNG',\n",
       "  '보/VV',\n",
       "  '자료/NNG',\n",
       "  '게재/NNG',\n",
       "  '되/VV',\n",
       "  '내용/NNG',\n",
       "  '본인/NNG',\n",
       "  '의견/NNG',\n",
       "  '정확/NNG',\n",
       "  '반영/NNG',\n",
       "  '하/XSV',\n",
       "  '외부/NNG',\n",
       "  '부당/NNG',\n",
       "  '압력/NNG',\n",
       "  '간섭/NNG',\n",
       "  '없이/MAG',\n",
       "  '작성/NNG',\n",
       "  '되/XSV',\n",
       "  '확인/NNG',\n",
       "  '합니다/XSV'],\n",
       " ['작성자/NNG',\n",
       "  '자료/NNG',\n",
       "  '투자/NNG',\n",
       "  '판단/NNG',\n",
       "  '되/VV',\n",
       "  '제공/NNG',\n",
       "  '목적/NNG',\n",
       "  '배포/NNG',\n",
       "  '되/XSV',\n",
       "  '자료/NNG'],\n",
       " ['자료/NNG',\n",
       "  '수록/NNG',\n",
       "  '되/VV',\n",
       "  '내용/NNG',\n",
       "  '추정/NNG',\n",
       "  '발생/NNG',\n",
       "  '하/VV',\n",
       "  '있/VV',\n",
       "  '정확/NNG',\n",
       "  '완벽/NNG',\n",
       "  '보장/NNG',\n",
       "  '하/XSV',\n",
       "  '않/VX'],\n",
       " ['자료/NNG',\n",
       "  '이용/NNG',\n",
       "  '하/XSV',\n",
       "  '자료/NNG',\n",
       "  '투자/NNG',\n",
       "  '최종/NNG',\n",
       "  '결정/NNG',\n",
       "  '자신/NNG',\n",
       "  '판단/NNG',\n",
       "  '하/VV',\n",
       "  '바랍니다/VV']]"
      ]
     },
     "execution_count": 206,
     "metadata": {
      "tags": []
     },
     "output_type": "execute_result"
    }
   ],
   "source": [
    "F['contents'][12]"
   ]
  },
  {
   "cell_type": "code",
   "execution_count": null,
   "metadata": {
    "colab": {
     "base_uri": "https://localhost:8080/",
     "height": 979
    },
    "colab_type": "code",
    "executionInfo": {
     "elapsed": 28935,
     "status": "ok",
     "timestamp": 1595924449549,
     "user": {
      "displayName": "Sunghyun Youm",
      "photoUrl": "",
      "userId": "10170636653912612303"
     },
     "user_tz": -540
    },
    "id": "r5WBF1z5TRvD",
    "outputId": "9427bddc-1914-4e26-c13b-308bde763a99"
   },
   "outputs": [
    {
     "data": {
      "text/html": [
       "<div>\n",
       "<style scoped>\n",
       "    .dataframe tbody tr th:only-of-type {\n",
       "        vertical-align: middle;\n",
       "    }\n",
       "\n",
       "    .dataframe tbody tr th {\n",
       "        vertical-align: top;\n",
       "    }\n",
       "\n",
       "    .dataframe thead th {\n",
       "        text-align: right;\n",
       "    }\n",
       "</style>\n",
       "<table border=\"1\" class=\"dataframe\">\n",
       "  <thead>\n",
       "    <tr style=\"text-align: right;\">\n",
       "      <th></th>\n",
       "      <th>date</th>\n",
       "      <th>contents</th>\n",
       "      <th>Labeling</th>\n",
       "    </tr>\n",
       "  </thead>\n",
       "  <tbody>\n",
       "    <tr>\n",
       "      <th>0</th>\n",
       "      <td>2010.10.14</td>\n",
       "      <td>[[계속/MAG, 직진/NNG, 방향/NNG, 우회전/NNG, 갭/NNG, 없/VA...</td>\n",
       "      <td>down</td>\n",
       "    </tr>\n",
       "    <tr>\n",
       "      <th>1</th>\n",
       "      <td>2010.10.14</td>\n",
       "      <td>[[푸르/VA], [연속/NNG, 금리/NNG, 동결/NNG, 환율/NNG, 여건/...</td>\n",
       "      <td>down</td>\n",
       "    </tr>\n",
       "    <tr>\n",
       "      <th>2</th>\n",
       "      <td>2010.10.14</td>\n",
       "      <td>[[조사/NNG, 분석/NNG, 자료/NNG, 신뢰/NNG, 하/VV, 자료/NNG...</td>\n",
       "      <td>down</td>\n",
       "    </tr>\n",
       "    <tr>\n",
       "      <th>3</th>\n",
       "      <td>2010.10.13</td>\n",
       "      <td>[[자료/NNG, 제공/NNG, 전망/NNG, 인상/NNG, 불확실성/NNG, 지속...</td>\n",
       "      <td>up</td>\n",
       "    </tr>\n",
       "    <tr>\n",
       "      <th>4</th>\n",
       "      <td>2010.10.13</td>\n",
       "      <td>[[조사/NNG, 분석/NNG, 자료/NNG, 신뢰/NNG, 하/VV, 자료/NNG...</td>\n",
       "      <td>up</td>\n",
       "    </tr>\n",
       "    <tr>\n",
       "      <th>5</th>\n",
       "      <td>2010.10.12</td>\n",
       "      <td>[[조사/NNG, 분석/NNG, 자료/NNG, 신뢰/NNG, 하/VV, 자료/NNG...</td>\n",
       "      <td>-</td>\n",
       "    </tr>\n",
       "    <tr>\n",
       "      <th>6</th>\n",
       "      <td>2010.10.12</td>\n",
       "      <td>[[가격/NNG, 부담/NNG, 약세/NNG, 기록/NNG], [가격/NNG, 부담...</td>\n",
       "      <td>-</td>\n",
       "    </tr>\n",
       "    <tr>\n",
       "      <th>7</th>\n",
       "      <td>2010.10.11</td>\n",
       "      <td>[[고용/NNG, 추이/NNG, 주가/NNG, 금리/NNG, 추이/NNG, 민간/N...</td>\n",
       "      <td>-</td>\n",
       "    </tr>\n",
       "    <tr>\n",
       "      <th>8</th>\n",
       "      <td>2010.10.11</td>\n",
       "      <td>[[불확실성/NNG, 해소/NNG, 어렵/VA, 채권/NNG, 금리/NNG, 금리/...</td>\n",
       "      <td>-</td>\n",
       "    </tr>\n",
       "    <tr>\n",
       "      <th>9</th>\n",
       "      <td>2010.10.11</td>\n",
       "      <td>[[조사/NNG, 분석/NNG, 자료/NNG, 신뢰/NNG, 하/VV, 자료/NNG...</td>\n",
       "      <td>-</td>\n",
       "    </tr>\n",
       "    <tr>\n",
       "      <th>10</th>\n",
       "      <td>2010.10.11</td>\n",
       "      <td>[[강하/VA, 견제구/NNG, 아직/MAG, 주자/NNG, 민첩/NNG, 실세/N...</td>\n",
       "      <td>-</td>\n",
       "    </tr>\n",
       "    <tr>\n",
       "      <th>11</th>\n",
       "      <td>2010.10.08</td>\n",
       "      <td>[[조사/NNG, 분석/NNG, 자료/NNG, 신뢰/NNG, 하/VV, 자료/NNG...</td>\n",
       "      <td>-</td>\n",
       "    </tr>\n",
       "    <tr>\n",
       "      <th>12</th>\n",
       "      <td>2010.10.08</td>\n",
       "      <td>[[중/NNG, 유동성/NNG, 감소/NNG, 가격/NNG, 부담/NNG, 시장/N...</td>\n",
       "      <td>-</td>\n",
       "    </tr>\n",
       "    <tr>\n",
       "      <th>13</th>\n",
       "      <td>2010.10.07</td>\n",
       "      <td>[[조사/NNG, 분석/NNG, 자료/NNG, 신뢰/NNG, 하/VV, 자료/NNG...</td>\n",
       "      <td>-</td>\n",
       "    </tr>\n",
       "    <tr>\n",
       "      <th>14</th>\n",
       "      <td>2010.10.07</td>\n",
       "      <td>[[원달러/NNG, 강세/NNG, 추가/NNG, 양적완화/NNG, 기대/NNG, 시...</td>\n",
       "      <td>-</td>\n",
       "    </tr>\n",
       "    <tr>\n",
       "      <th>15</th>\n",
       "      <td>2010.10.06</td>\n",
       "      <td>[[조사/NNG, 분석/NNG, 자료/NNG, 신뢰/NNG, 하/VV, 자료/NNG...</td>\n",
       "      <td>up</td>\n",
       "    </tr>\n",
       "    <tr>\n",
       "      <th>16</th>\n",
       "      <td>2010.10.05</td>\n",
       "      <td>[[조사/NNG, 분석/NNG, 자료/NNG, 신뢰/NNG, 하/VV, 자료/NNG...</td>\n",
       "      <td>down</td>\n",
       "    </tr>\n",
       "    <tr>\n",
       "      <th>17</th>\n",
       "      <td>2010.10.05</td>\n",
       "      <td>[[원화/NNG, 강세/NNG, 금리/NNG, 인상/NNG], [원화/NNG, 강세...</td>\n",
       "      <td>down</td>\n",
       "    </tr>\n",
       "    <tr>\n",
       "      <th>18</th>\n",
       "      <td>2010.10.04</td>\n",
       "      <td>[[신흥국/NNG, 환율/NNG, 추이/NNG, 주가지수/NNG, 주택가격/NNG,...</td>\n",
       "      <td>down</td>\n",
       "    </tr>\n",
       "    <tr>\n",
       "      <th>19</th>\n",
       "      <td>2010.10.04</td>\n",
       "      <td>[[경계/NNG, 인식/NNG, 조정/NNG, 불가피/NNG, 채권/NNG, 금리/...</td>\n",
       "      <td>down</td>\n",
       "    </tr>\n",
       "    <tr>\n",
       "      <th>20</th>\n",
       "      <td>2010.10.04</td>\n",
       "      <td>[[조사/NNG, 분석/NNG, 자료/NNG, 신뢰/NNG, 하/VV, 자료/NNG...</td>\n",
       "      <td>down</td>\n",
       "    </tr>\n",
       "    <tr>\n",
       "      <th>21</th>\n",
       "      <td>2010.10.04</td>\n",
       "      <td>[[발행/NNG, 액/NNG, 감소/NNG, 원화/NNG, 강세/NNG], [발행/...</td>\n",
       "      <td>down</td>\n",
       "    </tr>\n",
       "    <tr>\n",
       "      <th>22</th>\n",
       "      <td>2010.10.01</td>\n",
       "      <td>[[조사/NNG, 분석/NNG, 자료/NNG, 신뢰/NNG, 하/VV, 자료/NNG...</td>\n",
       "      <td>down</td>\n",
       "    </tr>\n",
       "    <tr>\n",
       "      <th>23</th>\n",
       "      <td>2010.10.01</td>\n",
       "      <td>[[선행/NNG, 지수/NNG, 상승률/NNG, 하락/NNG, 지표/NNG, 상승/...</td>\n",
       "      <td>down</td>\n",
       "    </tr>\n",
       "    <tr>\n",
       "      <th>24</th>\n",
       "      <td>2010.09.30</td>\n",
       "      <td>[[채권시장/NNG, 전망/NNG, 금리/NNG, 인상/NNG, 재개/NNG, 따르...</td>\n",
       "      <td>up</td>\n",
       "    </tr>\n",
       "    <tr>\n",
       "      <th>25</th>\n",
       "      <td>2010.09.30</td>\n",
       "      <td>[[조사/NNG, 분석/NNG, 자료/NNG, 신뢰/NNG, 하/VV, 자료/NNG...</td>\n",
       "      <td>up</td>\n",
       "    </tr>\n",
       "    <tr>\n",
       "      <th>26</th>\n",
       "      <td>2010.09.30</td>\n",
       "      <td>[[국채/NNG, 수익률/NNG, 주/VV, 시사점/NNG, 시장/NNG, 국고채/...</td>\n",
       "      <td>up</td>\n",
       "    </tr>\n",
       "    <tr>\n",
       "      <th>27</th>\n",
       "      <td>2010.09.29</td>\n",
       "      <td>[[조사/NNG, 분석/NNG, 자료/NNG, 신뢰/NNG, 하/VV, 자료/NNG...</td>\n",
       "      <td>down</td>\n",
       "    </tr>\n",
       "    <tr>\n",
       "      <th>28</th>\n",
       "      <td>2010.09.29</td>\n",
       "      <td>[[가격/NNG, 부담/NNG, 은행채/NNG, 약세/NNG], [가격/NNG, 부...</td>\n",
       "      <td>down</td>\n",
       "    </tr>\n",
       "    <tr>\n",
       "      <th>29</th>\n",
       "      <td>2010.09.28</td>\n",
       "      <td>[[부담/NNG, 따르/VV, 금리/NNG, 상승/NNG, 채권/NNG, 금리/NN...</td>\n",
       "      <td>down</td>\n",
       "    </tr>\n",
       "  </tbody>\n",
       "</table>\n",
       "</div>"
      ],
      "text/plain": [
       "          date                                           contents Labeling\n",
       "0   2010.10.14  [[계속/MAG, 직진/NNG, 방향/NNG, 우회전/NNG, 갭/NNG, 없/VA...     down\n",
       "1   2010.10.14  [[푸르/VA], [연속/NNG, 금리/NNG, 동결/NNG, 환율/NNG, 여건/...     down\n",
       "2   2010.10.14  [[조사/NNG, 분석/NNG, 자료/NNG, 신뢰/NNG, 하/VV, 자료/NNG...     down\n",
       "3   2010.10.13  [[자료/NNG, 제공/NNG, 전망/NNG, 인상/NNG, 불확실성/NNG, 지속...       up\n",
       "4   2010.10.13  [[조사/NNG, 분석/NNG, 자료/NNG, 신뢰/NNG, 하/VV, 자료/NNG...       up\n",
       "5   2010.10.12  [[조사/NNG, 분석/NNG, 자료/NNG, 신뢰/NNG, 하/VV, 자료/NNG...        -\n",
       "6   2010.10.12  [[가격/NNG, 부담/NNG, 약세/NNG, 기록/NNG], [가격/NNG, 부담...        -\n",
       "7   2010.10.11  [[고용/NNG, 추이/NNG, 주가/NNG, 금리/NNG, 추이/NNG, 민간/N...        -\n",
       "8   2010.10.11  [[불확실성/NNG, 해소/NNG, 어렵/VA, 채권/NNG, 금리/NNG, 금리/...        -\n",
       "9   2010.10.11  [[조사/NNG, 분석/NNG, 자료/NNG, 신뢰/NNG, 하/VV, 자료/NNG...        -\n",
       "10  2010.10.11  [[강하/VA, 견제구/NNG, 아직/MAG, 주자/NNG, 민첩/NNG, 실세/N...        -\n",
       "11  2010.10.08  [[조사/NNG, 분석/NNG, 자료/NNG, 신뢰/NNG, 하/VV, 자료/NNG...        -\n",
       "12  2010.10.08  [[중/NNG, 유동성/NNG, 감소/NNG, 가격/NNG, 부담/NNG, 시장/N...        -\n",
       "13  2010.10.07  [[조사/NNG, 분석/NNG, 자료/NNG, 신뢰/NNG, 하/VV, 자료/NNG...        -\n",
       "14  2010.10.07  [[원달러/NNG, 강세/NNG, 추가/NNG, 양적완화/NNG, 기대/NNG, 시...        -\n",
       "15  2010.10.06  [[조사/NNG, 분석/NNG, 자료/NNG, 신뢰/NNG, 하/VV, 자료/NNG...       up\n",
       "16  2010.10.05  [[조사/NNG, 분석/NNG, 자료/NNG, 신뢰/NNG, 하/VV, 자료/NNG...     down\n",
       "17  2010.10.05  [[원화/NNG, 강세/NNG, 금리/NNG, 인상/NNG], [원화/NNG, 강세...     down\n",
       "18  2010.10.04  [[신흥국/NNG, 환율/NNG, 추이/NNG, 주가지수/NNG, 주택가격/NNG,...     down\n",
       "19  2010.10.04  [[경계/NNG, 인식/NNG, 조정/NNG, 불가피/NNG, 채권/NNG, 금리/...     down\n",
       "20  2010.10.04  [[조사/NNG, 분석/NNG, 자료/NNG, 신뢰/NNG, 하/VV, 자료/NNG...     down\n",
       "21  2010.10.04  [[발행/NNG, 액/NNG, 감소/NNG, 원화/NNG, 강세/NNG], [발행/...     down\n",
       "22  2010.10.01  [[조사/NNG, 분석/NNG, 자료/NNG, 신뢰/NNG, 하/VV, 자료/NNG...     down\n",
       "23  2010.10.01  [[선행/NNG, 지수/NNG, 상승률/NNG, 하락/NNG, 지표/NNG, 상승/...     down\n",
       "24  2010.09.30  [[채권시장/NNG, 전망/NNG, 금리/NNG, 인상/NNG, 재개/NNG, 따르...       up\n",
       "25  2010.09.30  [[조사/NNG, 분석/NNG, 자료/NNG, 신뢰/NNG, 하/VV, 자료/NNG...       up\n",
       "26  2010.09.30  [[국채/NNG, 수익률/NNG, 주/VV, 시사점/NNG, 시장/NNG, 국고채/...       up\n",
       "27  2010.09.29  [[조사/NNG, 분석/NNG, 자료/NNG, 신뢰/NNG, 하/VV, 자료/NNG...     down\n",
       "28  2010.09.29  [[가격/NNG, 부담/NNG, 은행채/NNG, 약세/NNG], [가격/NNG, 부...     down\n",
       "29  2010.09.28  [[부담/NNG, 따르/VV, 금리/NNG, 상승/NNG, 채권/NNG, 금리/NN...     down"
      ]
     },
     "execution_count": 207,
     "metadata": {
      "tags": []
     },
     "output_type": "execute_result"
    }
   ],
   "source": [
    "F"
   ]
  },
  {
   "cell_type": "code",
   "execution_count": null,
   "metadata": {
    "colab": {},
    "colab_type": "code",
    "id": "GhjX8azzQF8I"
   },
   "outputs": [],
   "source": []
  }
 ],
 "metadata": {
  "colab": {
   "authorship_tag": "ABX9TyNB52ROcQmVSuHrgxfwEQ2n",
   "collapsed_sections": [],
   "mount_file_id": "1im9oXAlkCHtDoZ4v1CfYr-An93Hsw0SO",
   "name": "B_M.ipynb",
   "provenance": []
  },
  "kernelspec": {
   "display_name": "Python 3",
   "language": "python",
   "name": "python3"
  },
  "language_info": {
   "codemirror_mode": {
    "name": "ipython",
    "version": 3
   },
   "file_extension": ".py",
   "mimetype": "text/x-python",
   "name": "python",
   "nbconvert_exporter": "python",
   "pygments_lexer": "ipython3",
   "version": "3.6.10"
  },
  "widgets": {
   "application/vnd.jupyter.widget-state+json": {
    "0871c5487c1547059eb2802dd3c397d7": {
     "model_module": "@jupyter-widgets/controls",
     "model_name": "ProgressStyleModel",
     "state": {
      "_model_module": "@jupyter-widgets/controls",
      "_model_module_version": "1.5.0",
      "_model_name": "ProgressStyleModel",
      "_view_count": null,
      "_view_module": "@jupyter-widgets/base",
      "_view_module_version": "1.2.0",
      "_view_name": "StyleView",
      "bar_color": null,
      "description_width": "initial"
     }
    },
    "0b6f5b8f0be44126ba63905cb0681035": {
     "model_module": "@jupyter-widgets/controls",
     "model_name": "HTMLModel",
     "state": {
      "_dom_classes": [],
      "_model_module": "@jupyter-widgets/controls",
      "_model_module_version": "1.5.0",
      "_model_name": "HTMLModel",
      "_view_count": null,
      "_view_module": "@jupyter-widgets/controls",
      "_view_module_version": "1.5.0",
      "_view_name": "HTMLView",
      "description": "",
      "description_tooltip": null,
      "layout": "IPY_MODEL_90b89b730c5a48af9a63256eaa3ef790",
      "placeholder": "​",
      "style": "IPY_MODEL_d0c8c1d87e744f8c949af0205eb2d21c",
      "value": " 4/? [00:01&lt;00:00,  2.34it/s]"
     }
    },
    "2f6350bdd7cd4439ba588785e7097030": {
     "model_module": "@jupyter-widgets/controls",
     "model_name": "FloatProgressModel",
     "state": {
      "_dom_classes": [],
      "_model_module": "@jupyter-widgets/controls",
      "_model_module_version": "1.5.0",
      "_model_name": "FloatProgressModel",
      "_view_count": null,
      "_view_module": "@jupyter-widgets/controls",
      "_view_module_version": "1.5.0",
      "_view_name": "ProgressView",
      "bar_style": "info",
      "description": "",
      "description_tooltip": null,
      "layout": "IPY_MODEL_38234457143d450495a84a243209be32",
      "max": 1,
      "min": 0,
      "orientation": "horizontal",
      "style": "IPY_MODEL_0871c5487c1547059eb2802dd3c397d7",
      "value": 1
     }
    },
    "38234457143d450495a84a243209be32": {
     "model_module": "@jupyter-widgets/base",
     "model_name": "LayoutModel",
     "state": {
      "_model_module": "@jupyter-widgets/base",
      "_model_module_version": "1.2.0",
      "_model_name": "LayoutModel",
      "_view_count": null,
      "_view_module": "@jupyter-widgets/base",
      "_view_module_version": "1.2.0",
      "_view_name": "LayoutView",
      "align_content": null,
      "align_items": null,
      "align_self": null,
      "border": null,
      "bottom": null,
      "display": null,
      "flex": null,
      "flex_flow": null,
      "grid_area": null,
      "grid_auto_columns": null,
      "grid_auto_flow": null,
      "grid_auto_rows": null,
      "grid_column": null,
      "grid_gap": null,
      "grid_row": null,
      "grid_template_areas": null,
      "grid_template_columns": null,
      "grid_template_rows": null,
      "height": null,
      "justify_content": null,
      "justify_items": null,
      "left": null,
      "margin": null,
      "max_height": null,
      "max_width": null,
      "min_height": null,
      "min_width": null,
      "object_fit": null,
      "object_position": null,
      "order": null,
      "overflow": null,
      "overflow_x": null,
      "overflow_y": null,
      "padding": null,
      "right": null,
      "top": null,
      "visibility": null,
      "width": null
     }
    },
    "7bb69433c4784ce1a3a3f16f9aee1d97": {
     "model_module": "@jupyter-widgets/base",
     "model_name": "LayoutModel",
     "state": {
      "_model_module": "@jupyter-widgets/base",
      "_model_module_version": "1.2.0",
      "_model_name": "LayoutModel",
      "_view_count": null,
      "_view_module": "@jupyter-widgets/base",
      "_view_module_version": "1.2.0",
      "_view_name": "LayoutView",
      "align_content": null,
      "align_items": null,
      "align_self": null,
      "border": null,
      "bottom": null,
      "display": null,
      "flex": null,
      "flex_flow": null,
      "grid_area": null,
      "grid_auto_columns": null,
      "grid_auto_flow": null,
      "grid_auto_rows": null,
      "grid_column": null,
      "grid_gap": null,
      "grid_row": null,
      "grid_template_areas": null,
      "grid_template_columns": null,
      "grid_template_rows": null,
      "height": null,
      "justify_content": null,
      "justify_items": null,
      "left": null,
      "margin": null,
      "max_height": null,
      "max_width": null,
      "min_height": null,
      "min_width": null,
      "object_fit": null,
      "object_position": null,
      "order": null,
      "overflow": null,
      "overflow_x": null,
      "overflow_y": null,
      "padding": null,
      "right": null,
      "top": null,
      "visibility": null,
      "width": null
     }
    },
    "90b89b730c5a48af9a63256eaa3ef790": {
     "model_module": "@jupyter-widgets/base",
     "model_name": "LayoutModel",
     "state": {
      "_model_module": "@jupyter-widgets/base",
      "_model_module_version": "1.2.0",
      "_model_name": "LayoutModel",
      "_view_count": null,
      "_view_module": "@jupyter-widgets/base",
      "_view_module_version": "1.2.0",
      "_view_name": "LayoutView",
      "align_content": null,
      "align_items": null,
      "align_self": null,
      "border": null,
      "bottom": null,
      "display": null,
      "flex": null,
      "flex_flow": null,
      "grid_area": null,
      "grid_auto_columns": null,
      "grid_auto_flow": null,
      "grid_auto_rows": null,
      "grid_column": null,
      "grid_gap": null,
      "grid_row": null,
      "grid_template_areas": null,
      "grid_template_columns": null,
      "grid_template_rows": null,
      "height": null,
      "justify_content": null,
      "justify_items": null,
      "left": null,
      "margin": null,
      "max_height": null,
      "max_width": null,
      "min_height": null,
      "min_width": null,
      "object_fit": null,
      "object_position": null,
      "order": null,
      "overflow": null,
      "overflow_x": null,
      "overflow_y": null,
      "padding": null,
      "right": null,
      "top": null,
      "visibility": null,
      "width": null
     }
    },
    "d0c8c1d87e744f8c949af0205eb2d21c": {
     "model_module": "@jupyter-widgets/controls",
     "model_name": "DescriptionStyleModel",
     "state": {
      "_model_module": "@jupyter-widgets/controls",
      "_model_module_version": "1.5.0",
      "_model_name": "DescriptionStyleModel",
      "_view_count": null,
      "_view_module": "@jupyter-widgets/base",
      "_view_module_version": "1.2.0",
      "_view_name": "StyleView",
      "description_width": ""
     }
    },
    "eac3f0c4b8564b639bae0818d5333ec4": {
     "model_module": "@jupyter-widgets/controls",
     "model_name": "HBoxModel",
     "state": {
      "_dom_classes": [],
      "_model_module": "@jupyter-widgets/controls",
      "_model_module_version": "1.5.0",
      "_model_name": "HBoxModel",
      "_view_count": null,
      "_view_module": "@jupyter-widgets/controls",
      "_view_module_version": "1.5.0",
      "_view_name": "HBoxView",
      "box_style": "",
      "children": [
       "IPY_MODEL_2f6350bdd7cd4439ba588785e7097030",
       "IPY_MODEL_0b6f5b8f0be44126ba63905cb0681035"
      ],
      "layout": "IPY_MODEL_7bb69433c4784ce1a3a3f16f9aee1d97"
     }
    }
   }
  }
 },
 "nbformat": 4,
 "nbformat_minor": 1
}
