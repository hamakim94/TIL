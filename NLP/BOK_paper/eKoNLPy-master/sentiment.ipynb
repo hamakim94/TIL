{
 "cells": [
  {
   "cell_type": "code",
   "execution_count": 6,
   "metadata": {},
   "outputs": [],
   "source": [
    "BOK = pd.read_csv('C:/Users/User/Desktop/BOK_pos.csv')"
   ]
  },
  {
   "cell_type": "code",
   "execution_count": 7,
   "metadata": {
    "scrolled": true
   },
   "outputs": [
    {
     "data": {
      "text/html": [
       "<div>\n",
       "<style scoped>\n",
       "    .dataframe tbody tr th:only-of-type {\n",
       "        vertical-align: middle;\n",
       "    }\n",
       "\n",
       "    .dataframe tbody tr th {\n",
       "        vertical-align: top;\n",
       "    }\n",
       "\n",
       "    .dataframe thead th {\n",
       "        text-align: right;\n",
       "    }\n",
       "</style>\n",
       "<table border=\"1\" class=\"dataframe\">\n",
       "  <thead>\n",
       "    <tr style=\"text-align: right;\">\n",
       "      <th></th>\n",
       "      <th>Unnamed: 0</th>\n",
       "      <th>Unnamed: 0.1</th>\n",
       "      <th>date</th>\n",
       "      <th>contents</th>\n",
       "      <th>Polarity</th>\n",
       "      <th>tokens</th>\n",
       "      <th>ngram(token+ngram)</th>\n",
       "    </tr>\n",
       "  </thead>\n",
       "  <tbody>\n",
       "    <tr>\n",
       "      <th>0</th>\n",
       "      <td>0</td>\n",
       "      <td>0</td>\n",
       "      <td>2017.12.28</td>\n",
       "      <td>['[]']</td>\n",
       "      <td>H</td>\n",
       "      <td>[]</td>\n",
       "      <td>[]</td>\n",
       "    </tr>\n",
       "    <tr>\n",
       "      <th>1</th>\n",
       "      <td>1</td>\n",
       "      <td>1</td>\n",
       "      <td>2017.12.14</td>\n",
       "      <td>['[]']</td>\n",
       "      <td>H</td>\n",
       "      <td>[]</td>\n",
       "      <td>[]</td>\n",
       "    </tr>\n",
       "    <tr>\n",
       "      <th>2</th>\n",
       "      <td>2</td>\n",
       "      <td>2</td>\n",
       "      <td>2017.12.07</td>\n",
       "      <td>['[]']</td>\n",
       "      <td>H</td>\n",
       "      <td>[]</td>\n",
       "      <td>[]</td>\n",
       "    </tr>\n",
       "    <tr>\n",
       "      <th>3</th>\n",
       "      <td>3</td>\n",
       "      <td>3</td>\n",
       "      <td>2017.11.30</td>\n",
       "      <td>[\"['일부 위원은 최근 미국의 금융·경제상황을 보면 금년 12월 미 연준이 금리를...</td>\n",
       "      <td>H</td>\n",
       "      <td>[['금융경제/NNG', '보/VV', 'fed/NNG', '금리/NNG', '인상...</td>\n",
       "      <td>[['fed/NNG;금리/NNG;인상/NNG', '견조/NNG;회복/NNG'], [...</td>\n",
       "    </tr>\n",
       "    <tr>\n",
       "      <th>4</th>\n",
       "      <td>4</td>\n",
       "      <td>4</td>\n",
       "      <td>2017.11.09</td>\n",
       "      <td>['[]']</td>\n",
       "      <td>D</td>\n",
       "      <td>[]</td>\n",
       "      <td>[]</td>\n",
       "    </tr>\n",
       "    <tr>\n",
       "      <th>...</th>\n",
       "      <td>...</td>\n",
       "      <td>...</td>\n",
       "      <td>...</td>\n",
       "      <td>...</td>\n",
       "      <td>...</td>\n",
       "      <td>...</td>\n",
       "      <td>...</td>\n",
       "    </tr>\n",
       "    <tr>\n",
       "      <th>260</th>\n",
       "      <td>260</td>\n",
       "      <td>260</td>\n",
       "      <td>2005.08.11</td>\n",
       "      <td>['[]']</td>\n",
       "      <td>H</td>\n",
       "      <td>[]</td>\n",
       "      <td>[]</td>\n",
       "    </tr>\n",
       "    <tr>\n",
       "      <th>261</th>\n",
       "      <td>261</td>\n",
       "      <td>261</td>\n",
       "      <td>2005.07.07</td>\n",
       "      <td>['[]']</td>\n",
       "      <td>D</td>\n",
       "      <td>[]</td>\n",
       "      <td>[]</td>\n",
       "    </tr>\n",
       "    <tr>\n",
       "      <th>262</th>\n",
       "      <td>262</td>\n",
       "      <td>262</td>\n",
       "      <td>2005.06.23</td>\n",
       "      <td>['[]']</td>\n",
       "      <td>D</td>\n",
       "      <td>[]</td>\n",
       "      <td>[]</td>\n",
       "    </tr>\n",
       "    <tr>\n",
       "      <th>263</th>\n",
       "      <td>263</td>\n",
       "      <td>263</td>\n",
       "      <td>2005.06.09</td>\n",
       "      <td>['[]']</td>\n",
       "      <td>D</td>\n",
       "      <td>[]</td>\n",
       "      <td>[]</td>\n",
       "    </tr>\n",
       "    <tr>\n",
       "      <th>264</th>\n",
       "      <td>264</td>\n",
       "      <td>264</td>\n",
       "      <td>2005.05.12</td>\n",
       "      <td>[\"['일부 위원은 내외금리차 역전에 따라  자금의 해외유출이 대규모로 발생될 가능...</td>\n",
       "      <td>H</td>\n",
       "      <td>[['내외/NNG', '금리갭/NNG', '역전/NNG', '자금/NNG', '해외...</td>\n",
       "      <td>[[], [], [], [], ['외화대출/NNG;늘/VV'], ['해외/NNG;증...</td>\n",
       "    </tr>\n",
       "  </tbody>\n",
       "</table>\n",
       "<p>265 rows × 7 columns</p>\n",
       "</div>"
      ],
      "text/plain": [
       "     Unnamed: 0  Unnamed: 0.1        date  \\\n",
       "0             0             0  2017.12.28   \n",
       "1             1             1  2017.12.14   \n",
       "2             2             2  2017.12.07   \n",
       "3             3             3  2017.11.30   \n",
       "4             4             4  2017.11.09   \n",
       "..          ...           ...         ...   \n",
       "260         260           260  2005.08.11   \n",
       "261         261           261  2005.07.07   \n",
       "262         262           262  2005.06.23   \n",
       "263         263           263  2005.06.09   \n",
       "264         264           264  2005.05.12   \n",
       "\n",
       "                                              contents Polarity  \\\n",
       "0                                               ['[]']        H   \n",
       "1                                               ['[]']        H   \n",
       "2                                               ['[]']        H   \n",
       "3    [\"['일부 위원은 최근 미국의 금융·경제상황을 보면 금년 12월 미 연준이 금리를...        H   \n",
       "4                                               ['[]']        D   \n",
       "..                                                 ...      ...   \n",
       "260                                             ['[]']        H   \n",
       "261                                             ['[]']        D   \n",
       "262                                             ['[]']        D   \n",
       "263                                             ['[]']        D   \n",
       "264  [\"['일부 위원은 내외금리차 역전에 따라  자금의 해외유출이 대규모로 발생될 가능...        H   \n",
       "\n",
       "                                                tokens  \\\n",
       "0                                                   []   \n",
       "1                                                   []   \n",
       "2                                                   []   \n",
       "3    [['금융경제/NNG', '보/VV', 'fed/NNG', '금리/NNG', '인상...   \n",
       "4                                                   []   \n",
       "..                                                 ...   \n",
       "260                                                 []   \n",
       "261                                                 []   \n",
       "262                                                 []   \n",
       "263                                                 []   \n",
       "264  [['내외/NNG', '금리갭/NNG', '역전/NNG', '자금/NNG', '해외...   \n",
       "\n",
       "                                    ngram(token+ngram)  \n",
       "0                                                   []  \n",
       "1                                                   []  \n",
       "2                                                   []  \n",
       "3    [['fed/NNG;금리/NNG;인상/NNG', '견조/NNG;회복/NNG'], [...  \n",
       "4                                                   []  \n",
       "..                                                 ...  \n",
       "260                                                 []  \n",
       "261                                                 []  \n",
       "262                                                 []  \n",
       "263                                                 []  \n",
       "264  [[], [], [], [], ['외화대출/NNG;늘/VV'], ['해외/NNG;증...  \n",
       "\n",
       "[265 rows x 7 columns]"
      ]
     },
     "execution_count": 7,
     "metadata": {},
     "output_type": "execute_result"
    }
   ],
   "source": [
    "BOK"
   ]
  },
  {
   "cell_type": "code",
   "execution_count": 42,
   "metadata": {
    "scrolled": true
   },
   "outputs": [
    {
     "data": {
      "text/plain": [
       "'['"
      ]
     },
     "execution_count": 42,
     "metadata": {},
     "output_type": "execute_result"
    }
   ],
   "source": [
    "BOK['contents'][3][0]"
   ]
  },
  {
   "cell_type": "code",
   "execution_count": 72,
   "metadata": {},
   "outputs": [
    {
     "ename": "AttributeError",
     "evalue": "'str' object has no attribute 'apply'",
     "output_type": "error",
     "traceback": [
      "\u001b[1;31m---------------------------------------------------------------------------\u001b[0m",
      "\u001b[1;31mAttributeError\u001b[0m                            Traceback (most recent call last)",
      "\u001b[1;32m<ipython-input-72-69933c5bcdfe>\u001b[0m in \u001b[0;36m<module>\u001b[1;34m\u001b[0m\n\u001b[1;32m----> 1\u001b[1;33m \u001b[0mBOK\u001b[0m\u001b[1;33m[\u001b[0m\u001b[1;34m'ngram(token+ngram)'\u001b[0m\u001b[1;33m]\u001b[0m\u001b[1;33m[\u001b[0m\u001b[1;36m3\u001b[0m\u001b[1;33m]\u001b[0m\u001b[1;33m[\u001b[0m\u001b[1;36m0\u001b[0m\u001b[1;33m]\u001b[0m\u001b[1;33m.\u001b[0m\u001b[0mapply\u001b[0m\u001b[1;33m(\u001b[0m\u001b[1;32mlambda\u001b[0m \u001b[0mx\u001b[0m \u001b[1;33m:\u001b[0m \u001b[0mx\u001b[0m\u001b[1;33m.\u001b[0m\u001b[0mreplace\u001b[0m\u001b[1;33m(\u001b[0m\u001b[1;34m'['\u001b[0m\u001b[1;33m,\u001b[0m\u001b[1;34m''\u001b[0m\u001b[1;33m)\u001b[0m\u001b[1;33m.\u001b[0m\u001b[0mreplace\u001b[0m\u001b[1;33m(\u001b[0m\u001b[1;34m']'\u001b[0m\u001b[1;33m,\u001b[0m\u001b[1;34m''\u001b[0m\u001b[1;33m)\u001b[0m\u001b[1;33m.\u001b[0m\u001b[0mreplace\u001b[0m\u001b[1;33m(\u001b[0m\u001b[1;34m'\\''\u001b[0m\u001b[1;33m,\u001b[0m\u001b[1;34m''\u001b[0m\u001b[1;33m)\u001b[0m\u001b[1;33m.\u001b[0m\u001b[0msplit\u001b[0m\u001b[1;33m(\u001b[0m\u001b[1;34m','\u001b[0m\u001b[1;33m)\u001b[0m\u001b[1;33m)\u001b[0m\u001b[1;33m\u001b[0m\u001b[1;33m\u001b[0m\u001b[0m\n\u001b[0m",
      "\u001b[1;31mAttributeError\u001b[0m: 'str' object has no attribute 'apply'"
     ]
    }
   ],
   "source": [
    "BOK['ngram(token+ngram)'][3][0].apply(lambda x : x.replace('[','').replace(']','').replace('\\'','').split(','))"
   ]
  },
  {
   "cell_type": "code",
   "execution_count": 64,
   "metadata": {},
   "outputs": [
    {
     "data": {
      "text/plain": [
       "'['"
      ]
     },
     "execution_count": 64,
     "metadata": {},
     "output_type": "execute_result"
    }
   ],
   "source": [
    "BOK['ngram(token+ngram)'][3][0][0]"
   ]
  },
  {
   "cell_type": "code",
   "execution_count": null,
   "metadata": {},
   "outputs": [],
   "source": []
  },
  {
   "cell_type": "code",
   "execution_count": null,
   "metadata": {},
   "outputs": [],
   "source": []
  },
  {
   "cell_type": "code",
   "execution_count": 12,
   "metadata": {},
   "outputs": [],
   "source": [
    "BOK['tokens'].apply(lambda x : x.replace('[','').replace(']','').replace('\\'','').split(','))\n",
    "BOK['tokens']=BOK['tokens'].apply(lambda x: x.split('.'))"
   ]
  },
  {
   "cell_type": "code",
   "execution_count": null,
   "metadata": {},
   "outputs": [],
   "source": []
  },
  {
   "cell_type": "code",
   "execution_count": null,
   "metadata": {},
   "outputs": [],
   "source": []
  },
  {
   "cell_type": "code",
   "execution_count": 13,
   "metadata": {},
   "outputs": [
    {
     "data": {
      "text/plain": [
       "[\"[['금융경제/NNG', '보/VV', 'fed/NNG', '금리/NNG', '인상/NNG', '하/VV', '예견/NNG', '실물/NNG', '견조/NNG', '회복/NNG', '지속/NNG', '불구/NNG', '일드커브/NNG', '계속/MAG', '플래트닝/NNG', '지적/NNG'], ['일각/NNG', '장/NNG', '기실/VV', '질/NNG', '균형금리/NNG', '기대/NNG', '인플레이션/NNG', '하락/NNG', '원인/NNG', '거론/NNG', '같/VA', '요인/NNG', '이미/MAG', '이전/NNG', '장기/NNG', '금리/NNG', '반영/NNG', '일드커브/NNG', '변화/NNG', '설명/NNG', '한계/NNG', '있/VA', '보/VV', '언급/NNG'], ['이러/NNG', '현상/NNG', '실물/NNG', '경기/NNG', '침체/NNG', '우려/NNG', '글로벌/NNG', '장기물/NNG', '수요/NNG', '유입/NNG', '따르/VV', '결과/NNG', '해석/NNG', '있/VA', '소개/NNG', '견해/NNG', '물/VV'], ['대해/VV', '일드커브/NNG', '플래트닝/NNG', '장단기스프레드/NNG', '역전/NNG', '장/NNG', '기/NNG', '금리/NNG', '하락/NNG', '의하/VV', '주도/NNG', '실물/NNG', '경기/NNG', '침체/NNG', '예고/NNG', '신호/NNG', '받아들여질/VV', '있/VV', '일드커브/NNG', '플래트닝/NNG', '주로/MAG', '단기물/NNG', '발행/NNG', '확대/NNG', '방침/NNG', 'fed/NNG', '금리/NNG', '인상/NNG', '기대/NNG', '단기/NNG', '금리/NNG', '크/VA', '상승/NNG', '하/VV', '따르/VV', '보/VV', '답변/NNG'], ['세제개편안/NNG', '통과/NNG', '하/VV', '일드커브/NNG', '금리/NNG', '경로/NNG', '가/VV', '팔/VV', '가능성/NNG', '없/VA', '견해/NNG', '물/VV', '대해/VV', '세제개편안/NNG', '법인세/NNG', '인하/NNG', '대규모/NNG', '감세안/NNG', '골자/NNG', '하/VV', '미/NNG', '금융시장/NNG', '지표/NNG', '법안/NNG', '처리/NNG', '관측/NNG', '등/NNG', '락하/NNG', '양상/NNG', '보/VV', '설명/NNG'], ['비록/MAG', '선반영/NNG', '되/VV', '측면/NNG', '있/VA', '미/NNG', '세제개편안/NNG', '가결/NNG', '하/VV', '재정/NNG', '적자/NNG', '보전/NNG', '위하/VV', '장기/NNG', '국채/NNG', '발행/NNG', '전/NNG', '부각/NNG', '일드커브/NNG', '가/VV', '팔/VV', '가능성/NNG', '있/VA', '생각/NNG', '되/VV', '답변/NNG', '오/VV', '미/NNG', '장기/NNG', '금리/NNG', '동조/NNG', '경향/NNG', '불구/NNG', '일드커브/NNG', '달리/MAG', '가/VV', '팔/VV', '이유/NNG', '견해/NNG', '물/VV', '대해/VV', '장기/NNG', '금리/NNG', '움직임/NNG', '보/VV', '금리/NNG', '인상/NNG', '국면/NNG', '전환/NNG', '선반영/NNG', '상승/NNG', '과/NNG', '같이/MAG', '금리/NNG', '인상/NNG', '되/VV', '하락/NNG', '설명/NNG', '이러/NNG', '측면/NNG', '반영/NNG', '양국/NNG', '일드커브/NNG', '차별화/NNG', '풀이/NNG', '되/VV', '답변/NNG'], ['원달러/NNG', '마이너스/NNG', '상관관계/NNG', '높/VA', '거주자/NNG', '외화예금/NNG', '환율/NNG', '변동성/NNG', '완화/NNG', '요인/NNG', '작용/NNG', '평가/NNG', '지표/NNG', '플러스/NNG', '상관관계/NNG', '나타나/VV', '없/VA', '물/VV', '대해/VV', '금융위기/NNG', '거주자/NNG', '외화예금/NNG', '원달러/NNG', '플러스/NNG', '상관관계/NNG', '나타나/VV', '있/VV', '답변/NNG'], ['지표/NNG', '마이너스/NNG', '상관관계/NNG', '강화/NNG', '되/VV', '외환시장/NNG', '복원력/NNG', '제고/NNG', '반영/NNG', '결과/NNG', '해석/NNG', '되/VV', '견해/NNG', '밝히/VV'], ['가계/NNG', '부채/NNG', '종합/NNG', '대책/NNG', '보/VV', '주로/MAG', '다주택자/NNG', '분양시장/NNG', '초점/NNG', '두/VV', '신dti/NNG', '두/VV', '순차/NNG', '시행/NNG', '되/VV', '예정/NNG', '가처분/NNG', '소득/NNG', '대비/NNG', '가계/NNG', '부채비율/NNG', '계속/MAG', '높/VA', '보인다는/VV', '의견/NNG', '나타나/VV'], ['대해/VV', '신dti/NNG', '시행/NNG', '시장/NNG', '충격/NNG', '완화/NNG', '위하/VV', '측면/NNG', '생각/NNG', '되/VV', '언급/NNG'], ['부동산임대업/NNG', '대출/NNG', '크/VA', '늘/VV', '지적/NNG', '하/VV', '부동산/NNG', '익스포저/NNG', '계속/MAG', '확대/NNG', '물/VV', '대해/VV', '비록/MAG', '둔화/NNG', '주택담보대출/NNG', '증가/NNG', '여전히/MAG', '높/VA', '수준/NNG', '있/VV', '들/VV', '부동산임대업/NNG', '대출/NNG', '도크/NNG', '늘/VV', '부동산/NNG', '익스포저/NNG', '계속/MAG', '확대/NNG', '추정/NNG', '되/VV', '답변/NNG'], ['아울러/MAG', '일각/NNG', '은행/NNG', '대출/NNG', '증가/NNG', '속도/NNG', '관리수익/NNG', '확보/NNG', '위하/VV', '가계/NNG', '대출/NNG', '스프레드/NNG', '인상/NNG', '주장/NNG', '제기/NNG', '소개/NNG', '견해/NNG', '물/VV', '대해/VV', '가계/NNG', '대출/NNG', '스프레드/NNG', '상승/NNG', '고정/NNG', '금리/NNG', '분할/NNG', '환/NNG', '목표비율/NNG', '도입/NNG', '크/VA', '낮/VA', '스프레드/NNG', '정상화/NNG', '과정/NNG', '석/NNG', '되/VV', '있/VV', '답변/NNG'], ['가계/NNG', '대출/NNG', '위험관리/NNG', '강화/NNG', '은행/NNG', '스프레드/NNG', '인하/NNG', '통하/VV', '개인사업자/NNG', '대출/NNG', '확대/NNG', '하/VV', '가능성/NNG', '있/VA', '분석/NNG', '있/VV', '발표/NNG', '되/VV', '여신/NNG', '심사/NNG', '가이드라인/NNG', '영향/NNG', '대해서/VV', '어떻게/MAG', '평가/NNG', '물/VV', '대해/VV', '개인사업자/NNG', '대출/NNG', '여신/NNG', '심사/NNG', '가이드라인/NNG', '시/NNG', '행/NNG', '업종별/NNG', '여신/NNG', '한도설정/NNG', '업황/NNG', '고려/NNG', '하/VV', '여신/NNG', '심사/NNG', '동/NNG', '대출/NNG', '부동산임대업/NNG', '쏠림/NNG', '완화/NNG', '되/VV', '기대/NNG', '부동산임대업/NNG', '투자수익률/NNG', '상대적/VAX', '높/VA', '은행/NNG', '대출/NNG', '취급/NNG', '유인/NNG', '도크/NNG', '업종/NNG', '대출/NNG', '증가/NNG', '둔화/NNG', '되/VV', '좀/MAG', '더/MAG', '보/VV', '보/VV', '답변/NNG'], ['주택담보대출/NNG', '대출비중/NNG', '낮/VA', '금리/NNG', '상승/NNG', '취약/NNG', '변동/NNG', '금리/NNG', '대출비중/NNG', '장단기스프레드/NNG', '확대/NNG', '더불/VV', '높/VA', '조짐/NNG', '보/VV', '언급/NNG'], ['아울러/MAG', '고정/NNG', '금리/NNG', '대출/NNG', '중/NNG', '혼합/NNG', '형/NNG', '금리/NNG', '대출/NNG', '상당/NNG', '비중/NNG', '차지/NNG', '보/VV', '지적/NNG', '금리/NNG', '상승/NNG', '더불/VV', '대출/NNG', '변동/NNG', '금리/NNG', '전환/NNG', '가계/NNG', '자부담/NNG', '늘/VV', '서/VV', '부채/NNG', '상환/NNG', '위험/NNG', '높/VA', '가능성/NNG', '없/VA', '우려/NNG', '되/VV', '견해/NNG', '밝히/VV'], ['대해/VV', '전/NNG', '늘/VV', '시작/NNG', '하/VV', '혼합형/NNG', '금리대/NNG', '출/VV', '고정/NNG', '금리/NNG', '변동/NNG', '금리/NNG', '순차/NNG', '전환/NNG', '되/VV', '예정/NNG', '변동/NNG', '금리/NNG', '고정/NNG', '금리/NNG', '낮/VA', '수준/NNG', '있/VV', '감안/NNG', '가계/NNG', '자부담/NNG', '줄/VV', '예상/NNG', '되/VV', '답변/NNG'], ['각종/NNG', '규제/NNG', '강화/NNG', '기분/NNG', '주택/NNG', '잔금대출/NNG', '수요/NNG', '가/VV', '유입/NNG', '신용/NNG', '대출/NNG', '늘/VV', '측면/NNG', '없/VA', '견해/NNG', '물/VV', '대해/VV', '분양대금/NNG', '중/NNG', '잔금/NNG', '차지/NNG', '비중/NNG', '상당/NNG', '주택/NNG', '매도/NNG', '신규/NNG', '주택/NNG', '임대/NNG', '여의치/VA', '않/VX', '잔금대출/NNG', '신용/NNG', '대출/NNG', '활용/NNG', '알/VV', '답변/NNG'], ['신용/NNG', '대출/NNG', '증가/NNG', '같/VA', '대출/NNG', '수요/NNG', '유입/NNG', '따르/VV', '신규/NNG', '수요/NNG', '발생/NNG', '기인/NNG', '점검/NNG', '필요/NNG', '있/VA', '당부/NNG'], ['또/MAG', '가계/NNG', '부채/NNG', '문제/NNG', '금융시스템/NNG', '위험/NNG', '이어지/VV', '가능성/NNG', '여전히/MAG', '제한적/VAX', '보/VV', '물/VV', '대해/VV', '가계/NNG', '부채/NNG', '증가율/NNG', '축소/NNG', '절대/NNG', '수준/NNG', '여전히/MAG', '높/VA', '평가/NNG', '답변/NNG'], ['가계/NNG', '부채/NNG', '증가/NNG', '어떠/NNG', '예상/NNG', '물/VV', '대해/VV', '가계/NNG', '부채/NNG', '관리/NNG', '대책/NNG', '영향/NNG', '가계/NNG', '부채/NNG', '증가/NNG', '둔화/NNG', '되/VV', '보/VV', '답변/NNG'], ['가처분/NNG', '소득/NNG', '대비/NNG', '가계/NNG', '부채비율/NNG', '이미/MAG', '높/VA', '수준/NNG', '있/VV', '감/VV', '안/MAG', '하/VV', '가계/NNG', '부채/NNG', '증가율/NNG', '가처분/NNG', '소득/NNG', '증가율/NNG', '비추/VV', '좀/MAG', '더/MAG', '낮/VA', '로/NNG', '보인다는/VV', '의견/NNG', '나타나/VV'], ['대해/VV', '거시/NNG', '건전성/NNG', '측면/NNG', '통화정책/NNG', '측면/NNG', '중장기/NNG', '가계/NNG', '부채/NNG', '증가율/NNG', '가처분/NNG', '소득/NNG', '증가율/NNG', '하회/NNG', '가처분/NNG', '소득/NNG', '대비/NNG', '가계부/NNG', '채/MAG', '비율/NNG', '낮/VA', '판단/NNG', '되/VV', '견해/NNG', '밝히/VV'], ['발표/NNG', '되/VV', '여신심사선진화/NNG', '방/NNG', '안/NNG', '따르/VV', '신dti/NNG', '순차/NNG', '도입/NNG', '되/VV', '예정/NNG', '언급/NNG', '이러/NNG', '조치/NNG', '가계/NNG', '부채/NNG', '어떠/NNG', '영향/NNG', '미치/VV', '보/VV', '견해/NNG', '물/VV', '대해/VV', '신dti/NNG', '시차/NNG', '두/VV', '시행/NNG', '가계/NNG', '부채/NNG', '미치/VV', '영향/NNG', '서서히/MAG', '나타나/VV', '예상/NNG', '되/VV', '답변/NNG'], ['대책/NNG', '주로/MAG', '대출/NNG', '공급측면/NNG', '초점/NNG', '맞추/VV', '대출/NNG', '수요측면/NNG', '좀/MAG', '더/MAG', '고려/NNG', '되/VV', '필요/NNG', '있/VV', '보/VV', '덧붙이/VV'], ['여신/NNG', '심사/NNG', '강화/NNG', '불구/NNG', '가계/NNG', '부채/NNG', '크/VA', '늘/VV', '사례/NNG', '비추/VV', '가계/NNG', '부채/NNG', '다양/NNG', '요인/NNG', '영향/NNG', '미치/VV', '보인다는/VV', '의견/NNG', '나타나/VV'], ['회사채/NNG', '순상환/NNG', '감안/NNG', '하/VV', '때/NNG', '회사채/NNG', '시장/NNG', '크/VA', '위축/NNG', '되/VV', '우려/NNG', '없/VA', '견해/NNG', '물/VV', '대해/VV', '회사채/NNG', '순상환/NNG', '주로/MAG', '북클로징/NNG', '계절적/VAX', '요인/NNG', '기인/NNG', '회사채/NNG', '시장/NNG', '크/VA', '위축/NNG', '않/VX', '보/VV', '답변/NNG'], ['금리/NNG', '인상/NNG', '신흥국/NNG', '미치/VV', '부정적/VAX', '영향/NNG', '대해서/VV', '어떻게/MAG', '평가/NNG', '물/VV', '대해/VV', '금리/NNG', '인상/NNG', '되/VV', '인하/VV', '취약/NNG', '신흥국/NNG', '어렵/VV', '겪/VV', '가능성/NNG', '있/VA', '그렇/VA', '하/VV', '신흥국/NNG', '위험/NNG', '확대/NNG', '않/VX', '보/VV', '답변/NNG'], ['아울러/MAG', '해외/NNG', '증권/NNG', '투자/NNG', '확대/NNG', '과정/NNG', '외/VA', '점/NNG', '해외/NNG', '은행/NNG', '위주/NNG', '스왑/NNG', '자금/NNG', '공급/NNG', '구조/NNG', '외화자금/NNG', '조달/NNG', '운용/NNG', '만기/NNG', '불일치/NNG', '문/NNG', '외환/NNG', '위험/NNG', '요인/NNG', '작용/NNG', '하/VV', '가능성/NNG', '없/VA', '면밀히/MAG', '모니터링/NNG', '하/VV', '필/NNG', '요가/NNG', '있/VV', '의견/NNG', '나타나/VV'], ['대해/VV', '선물환/NNG', '포지션/NNG', '한도규제/NNG', '외환/NNG', '건전성/NNG', '부담금/NNG', '제도/NNG', '운영/NNG', '스왑/NNG', '자금/NNG', '중개/NNG', '외화/NNG', '유동성/NNG', '사정/NNG', '상당/NNG', '히/VV', '양호/NNG', '평가/NNG', '같/VA', '요인/NNG', '외환/NNG', '위험/NNG', '요인/NNG', '재화/NNG', '되/VV', '가능성/NNG', '크/VA', '않/VX', '보/VV', '답변/NNG'], ['산정/NNG', '유리/NNG', '영업/NNG', '예금/NNG', '인정/NNG', '조건/NNG', '강화/NNG', '은행/NNG', '비율/NNG', '제고/NNG', '위하/VV', 'cd/NNG', '금융채/NNG', '시장성/NNG', '수신/NNG', '늘/VV', '지적/NNG', '따르/VV', '위험/NNG', '대해서/VV', '어떻게/MAG', '평가/NNG', '물/VV', '대해/VV', '주로/MAG', '예대율/NNG', '여유/NNG', '있/VA', '은행/NNG', '시장성/NNG', '수신/NNG', '늘/VV', '이렇게/MAG', '조달/NNG', '되/VV', '자금/NNG', '국고채/NNG', '고유동성/NNG', '자산/NNG', '매입/NNG', '활용/NNG', '시장성/NNG', '수신/NNG', '증가/NNG', '크/VA', '우려/NNG', '하/VV', '아니/VCN', '판단/NNG', '되/VV', '답변/NNG'], ['자금/NNG', '또/MAG', '다시/MAG', '시장성/NNG', '수신/NNG', '통하/VV', '차환/NNG', '되/VV', '단기/NNG', '금리/NNG', '변동성/NNG', '확대/NNG', '되/VV', '있/VA', '보/VV', '덧붙이/VV'], ['통화정책/NNG', '금리/NNG', '경로/NNG', '채권시장/NNG', '미시/NNG', '구조/NNG', '일드커브/NNG', '효율성/NNG', '대해/VV', '좀/MAG', '더/MAG', '심도/NNG', '있/VV', '연구/NNG', '당부/NNG'], ['또/MAG', '글로벌/NNG', '주식시장/NNG', '과열/NNG', '우려/NNG', '견해/NNG', '제기/NNG', '있/VV', '가운데/NNG', '주식시장/NNG', '상승/NNG', '지속/NNG', '주가/NNG', '투자은행/NNG', '업황/NNG', '부정적/VAX', '전망/NNG', '인하/VV', '일시/NNG', '하락/NNG', '있/VA', '언급/NNG', '주식시장/NNG', '안정성/NNG', '어떻게/MAG', '평가/NNG', '견해/NNG', '물/VV', '대해/VV', '기업/NNG', '실적/NNG', '개선/NNG', '시장/NNG', '수급/NNG', '여건/NNG', '호전/NNG', '변동성/NNG', '축소/NNG', '비추/VV', '주식시장/NNG', '안정성/NNG', '비해/VV', '상당히/MAG', '개선/NNG', '되/VV', '로/NNG', '보/VV', '답변/NNG']]\"]"
      ]
     },
     "execution_count": 13,
     "metadata": {},
     "output_type": "execute_result"
    }
   ],
   "source": [
    "BOK['tokens'][3]"
   ]
  },
  {
   "cell_type": "code",
   "execution_count": null,
   "metadata": {},
   "outputs": [],
   "source": []
  }
 ],
 "metadata": {
  "kernelspec": {
   "display_name": "Python 3",
   "language": "python",
   "name": "python3"
  },
  "language_info": {
   "codemirror_mode": {
    "name": "ipython",
    "version": 3
   },
   "file_extension": ".py",
   "mimetype": "text/x-python",
   "name": "python",
   "nbconvert_exporter": "python",
   "pygments_lexer": "ipython3",
   "version": "3.6.10"
  }
 },
 "nbformat": 4,
 "nbformat_minor": 4
}
