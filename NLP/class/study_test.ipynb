{
 "cells": [
  {
   "cell_type": "code",
   "execution_count": 1,
   "metadata": {},
   "outputs": [],
   "source": [
    "training_set = [['me free lottery', 1],\n",
    " ['free get free you', 1],\n",
    " ['you free scholarship', 0],\n",
    " ['free to contact me', 0],\n",
    " ['you won award', 0],\n",
    " ['you ticket lottery', 1]]"
   ]
  },
  {
   "cell_type": "code",
   "execution_count": 10,
   "metadata": {},
   "outputs": [
    {
     "data": {
      "text/plain": [
       "(10, 10)"
      ]
     },
     "execution_count": 10,
     "metadata": {},
     "output_type": "execute_result"
    }
   ],
   "source": [
    "from collections import defaultdict\n",
    "\n",
    "# 범주에 속하는 토큰 수 세기\n",
    "doccnt0 = 0 # real\n",
    "doccnt1 = 0 # spam\n",
    "for sent in training_set:\n",
    "    if sent[1] == 0:\n",
    "        doccnt0 += len(sent[0].split())\n",
    "    else:\n",
    "        doccnt1 += len(sent[0].split())\n",
    "        \n",
    "doccnt0, doccnt1"
   ]
  },
  {
   "cell_type": "code",
   "execution_count": 17,
   "metadata": {},
   "outputs": [],
   "source": [
    "# 토큰별로 문서내 빈도수 카운팅\n",
    "wordfreq = defaultdict(lambda : [0,0])\n",
    "for sent in training_set:\n",
    "    if sent[1] == 1:\n",
    "        for token in sent[0].split():\n",
    "            wordfreq[token][1] += 1\n",
    "    else:\n",
    "        for token in sent[0].split():\n",
    "            wordfreq[token][0] += 1"
   ]
  },
  {
   "cell_type": "code",
   "execution_count": 18,
   "metadata": {},
   "outputs": [
    {
     "data": {
      "text/plain": [
       "defaultdict(<function __main__.<lambda>()>,\n",
       "            {'me': [1, 1],\n",
       "             'free': [2, 3],\n",
       "             'lottery': [0, 2],\n",
       "             'get': [0, 1],\n",
       "             'you': [2, 2],\n",
       "             'scholarship': [1, 0],\n",
       "             'to': [1, 0],\n",
       "             'contact': [1, 0],\n",
       "             'won': [1, 0],\n",
       "             'award': [1, 0],\n",
       "             'ticket': [0, 1]})"
      ]
     },
     "execution_count": 18,
     "metadata": {},
     "output_type": "execute_result"
    }
   ],
   "source": [
    "wordfreq"
   ]
  },
  {
   "cell_type": "markdown",
   "metadata": {},
   "source": [
    "### Training : 토큰별 조건부 확률 계산"
   ]
  },
  {
   "cell_type": "code",
   "execution_count": 44,
   "metadata": {},
   "outputs": [],
   "source": [
    "k = 0.5\n",
    "wordprobs = defaultdict(lambda : [0,0])\n",
    "\n",
    "for word, (cnt0, cnt1) in wordfreq.items():\n",
    "    wordprobs[word][0] = (cnt0 + k) / (doccnt0 + 2*k)\n",
    "    wordprobs[word][1] = (cnt1 + k) / (doccnt1 + 2*k)"
   ]
  },
  {
   "cell_type": "code",
   "execution_count": 45,
   "metadata": {},
   "outputs": [
    {
     "data": {
      "text/plain": [
       "defaultdict(<function __main__.<lambda>()>,\n",
       "            {'me': [0.13636363636363635, 0.13636363636363635],\n",
       "             'free': [0.22727272727272727, 0.3181818181818182],\n",
       "             'lottery': [0.045454545454545456, 0.22727272727272727],\n",
       "             'get': [0.045454545454545456, 0.13636363636363635],\n",
       "             'you': [0.22727272727272727, 0.22727272727272727],\n",
       "             'scholarship': [0.13636363636363635, 0.045454545454545456],\n",
       "             'to': [0.13636363636363635, 0.045454545454545456],\n",
       "             'contact': [0.13636363636363635, 0.045454545454545456],\n",
       "             'won': [0.13636363636363635, 0.045454545454545456],\n",
       "             'award': [0.13636363636363635, 0.045454545454545456],\n",
       "             'ticket': [0.045454545454545456, 0.13636363636363635]})"
      ]
     },
     "execution_count": 45,
     "metadata": {},
     "output_type": "execute_result"
    }
   ],
   "source": [
    "wordprobs"
   ]
  },
  {
   "cell_type": "code",
   "execution_count": 22,
   "metadata": {},
   "outputs": [
    {
     "data": {
      "text/plain": [
       "[1, 0]"
      ]
     },
     "execution_count": 22,
     "metadata": {},
     "output_type": "execute_result"
    }
   ],
   "source": [
    "wordfreq['to']"
   ]
  },
  {
   "cell_type": "code",
   "execution_count": 28,
   "metadata": {},
   "outputs": [],
   "source": [
    "### 원할한 계산을 위해, 스팸,normal 확률의 로그값을 계산해보자\n",
    "import math \n",
    "\n",
    "spam = doccnt1 / (doccnt1 + doccnt0)\n",
    "normal = doccnt0 / (doccnt1 + doccnt0)\n",
    "\n",
    "pspam = math.log(spam)\n",
    "pnormal = math.log(normal)"
   ]
  },
  {
   "cell_type": "markdown",
   "metadata": {},
   "source": [
    "Classify : 신규 텍스트가 주어졌을 때 확률 계산"
   ]
  },
  {
   "cell_type": "code",
   "execution_count": 46,
   "metadata": {},
   "outputs": [
    {
     "data": {
      "text/plain": [
       "(0.017032244532026126, 0.11922571172418281)"
      ]
     },
     "execution_count": 46,
     "metadata": {},
     "output_type": "execute_result"
    }
   ],
   "source": [
    "import math\n",
    "\n",
    "doc = \"free lottery\"\n",
    "\n",
    "tokens = doc.split()\n",
    "log_prob0 = log_prob1 = 0\n",
    "\n",
    "for word, (prob0, prob1) in wordprobs.items():\n",
    "    if word in tokens:\n",
    "        log_prob0 += math.log(prob0)\n",
    "        log_prob1 += math.log(prob1)\n",
    "        \n",
    "log_prob0 += doccnt0 / (doccnt0 + doccnt1)\n",
    "log_prob1 += doccnt1 / (doccnt0 + doccnt1)\n",
    "\n",
    "prob0 = math.exp(log_prob0)\n",
    "prob1 = math.exp(log_prob1)\n",
    "\n",
    "prob0, prob1"
   ]
  },
  {
   "cell_type": "code",
   "execution_count": 47,
   "metadata": {},
   "outputs": [
    {
     "data": {
      "text/plain": [
       "12.500000000000009"
      ]
     },
     "execution_count": 47,
     "metadata": {},
     "output_type": "execute_result"
    }
   ],
   "source": [
    "prob0 / (prob0 + prob1)*100"
   ]
  },
  {
   "cell_type": "code",
   "execution_count": 48,
   "metadata": {},
   "outputs": [],
   "source": [
    "training_set = [['me free lottery', 1],\n",
    " ['free get free you', 1],\n",
    " ['you free scholarship', 0],\n",
    " ['free to contact me', 0],\n",
    " ['you won award', 0],\n",
    " ['you ticket lottery', 1]]"
   ]
  },
  {
   "cell_type": "code",
   "execution_count": 49,
   "metadata": {},
   "outputs": [
    {
     "data": {
      "text/plain": [
       "(10, 10)"
      ]
     },
     "execution_count": 49,
     "metadata": {},
     "output_type": "execute_result"
    }
   ],
   "source": [
    "# 1. 라벨별 전체 개수 구하기\n",
    "# 2. 토큰별로, 어디에 속해있는지 구하기\n",
    "# 3. 조건부 확률을 구하기, 스팸중 그 단어, 노말중 그 단어\n",
    "# 하나씩 들어가서, 로그값을 합해주기(정상, 스팸 따로 합)\n",
    "# 식대로, 스팸일 확률, 정상일 확률 더해주기\n",
    "# exp 취해서 비교해주기\n",
    "\n",
    "doccnt0 = doccnt1 = 0\n",
    "\n",
    "for sent in training_set:\n",
    "    if sent[1] == 0:\n",
    "        doccnt0 += len(sent[0].split())\n",
    "        doccnt1 += len(sent[0].split())\n",
    "doccnt0, doccnt1"
   ]
  },
  {
   "cell_type": "code",
   "execution_count": null,
   "metadata": {},
   "outputs": [],
   "source": [
    "from collections import defaultdict\n",
    "wordfreq = defaultdict(lambda : [0,0])\n",
    "\n",
    "for sent in training_set:\n",
    "    "
   ]
  }
 ],
 "metadata": {
  "kernelspec": {
   "display_name": "Python 3",
   "language": "python",
   "name": "python3"
  },
  "language_info": {
   "codemirror_mode": {
    "name": "ipython",
    "version": 3
   },
   "file_extension": ".py",
   "mimetype": "text/x-python",
   "name": "python",
   "nbconvert_exporter": "python",
   "pygments_lexer": "ipython3",
   "version": "3.6.10"
  }
 },
 "nbformat": 4,
 "nbformat_minor": 4
}
