{
 "cells": [
  {
   "cell_type": "markdown",
   "metadata": {},
   "source": [
    "# 단어 임베딩(Word Embedding)\n",
    "- 단어 숫자 표현  \n",
    "    - 원핫 인코딩(제일 간단한 방법) : 차원 커져, 의미 못답아, 나빠,\n",
    "    - 밀집벡터로 해결\n",
    "        - 분포 가설 '같은 문맥에서 등장하는 단어는 유사한 의미를 지닌다' -> 같은 문맥에 등장하면 가까이 표현~\n",
    "        \n",
    "# NPLM 9 a neural probabilistic language model(논문\n",
    "- 논문의 의의\n",
    "\n",
    "단어의 벡터화라는 개념 도입  \n",
    "단어 시퀸스가 주어졌을 때 다음 단어가 무엇인지 맞추는 과정  \n",
    "\n",
    "- 한계\n",
    "\n",
    "몇개의 단어를 볼지 정해줘야 함  \n",
    "이전 단어들만 신경 쓸 수 있고, 현재 보고있는 앞 단어들은 고려하지 못한다  \n",
    "느 리 다"
   ]
  },
  {
   "cell_type": "markdown",
   "metadata": {},
   "source": [
    "# Word2Vec \n",
    "- 단어를 원자 단위로 보기 때문에 단어간 유사성에 대한 고려가 없음\n",
    "- 유사단어 간에는 거리가 가까운 경항이 있고, 단어는 다양한 유사도를 가진다\n",
    "- King - Man + Woman = Queen ( 미쳤네.. )\n",
    "\n",
    "## 용어정리\n",
    "- 주변단어를 통해 중심단어를 예측 / 중심 단어를 통해 주변 단어를 예측\n",
    "    - slicing 해서 window 만들어줌, 윈도우 사이즈가 1이면 총 3개(앞,뒤 단어 포함)\n",
    "    - 중심단어 가운데 , 몇 개를 주변으로 할래가 윈도우 사이즈인듯!\n",
    "    \n",
    "## Continuous BOW Model\n",
    "- I want () food tonight <- 괄호 안에 들어갈 말을 휸련시킴..\n",
    "\n",
    "- 왼쪽부터 끝까지 window만큼 주변을 다 넣어버림, 줌심단어 기준 주변 단어들을 다 넣어준다.\n",
    "- One-hot 으로 넣어줘\n",
    "- 투사층으로 차원을 축소해서 Dense하게 만들어줘\n",
    "- 이를 다시 v 차원으로 (단어 list) 만들어서 softmax 취해준다\n",
    "- 다항 분포니까, softmax를 취해서 뭘 넣을지 정해준다.(argmax를 통해서 가장 확률 높은거 뽑아)\n",
    "## Skip-gram Model\n",
    "\n",
    "- 중심 단어를 주고, 주변 단어를 예측하는 거 \n",
    "- 근데 전체 단어를 고려하니까 계산 량이 엄청나게 많아져\n",
    "\n",
    "## skip gram with Neagative Sampling\n",
    "- 윈도우 안에 있으면 positive, 윈도우 밖에 있으면 negative\n",
    "- 전체 단어가 아니라 일부 단어를 뽑아서 계산\n",
    "- 윈도우 내 등장하지 않은 단어 wi가 negative로 뽑힐 확률 이런식으로 계산한다~"
   ]
  },
  {
   "cell_type": "code",
   "execution_count": 2,
   "metadata": {},
   "outputs": [
    {
     "data": {
      "text/plain": [
       "'C:\\\\Users\\\\User\\\\TIL\\\\NLP\\\\class\\\\새 폴더'"
      ]
     },
     "execution_count": 2,
     "metadata": {},
     "output_type": "execute_result"
    }
   ],
   "source": [
    "pwd"
   ]
  },
  {
   "cell_type": "code",
   "execution_count": 3,
   "metadata": {},
   "outputs": [
    {
     "data": {
      "text/html": [
       "<div>\n",
       "<style scoped>\n",
       "    .dataframe tbody tr th:only-of-type {\n",
       "        vertical-align: middle;\n",
       "    }\n",
       "\n",
       "    .dataframe tbody tr th {\n",
       "        vertical-align: top;\n",
       "    }\n",
       "\n",
       "    .dataframe thead th {\n",
       "        text-align: right;\n",
       "    }\n",
       "</style>\n",
       "<table border=\"1\" class=\"dataframe\">\n",
       "  <thead>\n",
       "    <tr style=\"text-align: right;\">\n",
       "      <th></th>\n",
       "      <th>date</th>\n",
       "      <th>media</th>\n",
       "      <th>title</th>\n",
       "      <th>content</th>\n",
       "      <th>ngrams</th>\n",
       "    </tr>\n",
       "  </thead>\n",
       "  <tbody>\n",
       "    <tr>\n",
       "      <th>0</th>\n",
       "      <td>2005-01-01</td>\n",
       "      <td>연합인포맥스</td>\n",
       "      <td>내년 美국채수익률 5% 넘어서기 어려울 듯</td>\n",
       "      <td>2005년 10년만기 미국 국채수익률이  연방준비제도이사회(FRB)의 금리인상 지속...</td>\n",
       "      <td>만기/NNG,국채/NNG,수익률/NNG,fed/NNG,fed/NNG,금리/NNG,인...</td>\n",
       "    </tr>\n",
       "    <tr>\n",
       "      <th>1</th>\n",
       "      <td>2005-01-01</td>\n",
       "      <td>연합인포맥스</td>\n",
       "      <td>[뉴욕채권-마감] 10년만기 국채수익률 작년보다 낮은 수준서 마쳐</td>\n",
       "      <td>2년만기 국채가격 4년래 최악의 한해 보내     10년만기 미국  국채수익률이  ...</td>\n",
       "      <td>만기/NNG,국채/NNG,가격/NNG,최악/NNG,보내/VV,만기/NNG,국채/NN...</td>\n",
       "    </tr>\n",
       "    <tr>\n",
       "      <th>2</th>\n",
       "      <td>2005-01-01</td>\n",
       "      <td>연합인포맥스</td>\n",
       "      <td>[뉴욕환시] `내년초 달러-엔에 주력'..달러 對엔 하락</td>\n",
       "      <td>2004년 마지막 거래일인 31일  뉴욕환시에서 미국 달러화는 개장초 102엔 근처...</td>\n",
       "      <td>마지막/NNG,거래일/NNG,뉴욕/NNG,환시/NNG,달러/NNG,개장/NNG,근처...</td>\n",
       "    </tr>\n",
       "    <tr>\n",
       "      <th>3</th>\n",
       "      <td>2005-01-01</td>\n",
       "      <td>연합인포맥스</td>\n",
       "      <td>[31일 뉴욕금융시장 요약] 한산한 거래속 새해 준비</td>\n",
       "      <td>) 한해 마지막 날인 31일 뉴욕 주요 금융시장은 한산한 거래속에 새해를 준비하는 ...</td>\n",
       "      <td>마지막/NNG,뉴욕/NNG,금융시장/NNG,한산/NNG,거래/NNG,새해/NNG,준...</td>\n",
       "    </tr>\n",
       "    <tr>\n",
       "      <th>4</th>\n",
       "      <td>2005-01-02</td>\n",
       "      <td>연합인포맥스</td>\n",
       "      <td>美 증시 기술주 주도로 2년 연속 상승..'01년래 최고</td>\n",
       "      <td>지난해 뉴욕증시는 기술주 주도로 2년  연속연초 대비 상승하면서 대표지수들을 지난 ...</td>\n",
       "      <td>주도/NNG,연속/NNG,대비/NNG,상승/NNG,대표지수/NNG,최고/NNG,오르...</td>\n",
       "    </tr>\n",
       "    <tr>\n",
       "      <th>...</th>\n",
       "      <td>...</td>\n",
       "      <td>...</td>\n",
       "      <td>...</td>\n",
       "      <td>...</td>\n",
       "      <td>...</td>\n",
       "    </tr>\n",
       "    <tr>\n",
       "      <th>261812</th>\n",
       "      <td>2019-12-31</td>\n",
       "      <td>이데일리</td>\n",
       "      <td>'안심대출 여파' 예금은행 대출금리 3.18%…1996년 편제 이후 최저</td>\n",
       "      <td>한국은행 11월중 금융기관 가중평균금리주택담보대출도 0.05%p 내린 2.45%로 ...</td>\n",
       "      <td>금융기관/NNG,금리/NNG,주택담보대출/NNG,내리/VV,역대/NNG,최저/NNG...</td>\n",
       "    </tr>\n",
       "    <tr>\n",
       "      <th>261813</th>\n",
       "      <td>2019-12-31</td>\n",
       "      <td>이데일리</td>\n",
       "      <td>이주열 “양적 확대로 성장동력 창출 어려워…혁신성장해야”</td>\n",
       "      <td>이주열 한국은행 총재 신년사(사진=연합뉴스)[이데일리 김경은 기자] 이주열(사진) ...</td>\n",
       "      <td>신년사/NNG,가장/MAG,주력/NNG,과제/NNG,혁신성장/NNG,동력/NNG,확...</td>\n",
       "    </tr>\n",
       "    <tr>\n",
       "      <th>261814</th>\n",
       "      <td>2019-12-31</td>\n",
       "      <td>이데일리</td>\n",
       "      <td>\"내년 세계경제 우상향…유가·금리 환경 든든\"</td>\n",
       "      <td>KB증권 보고서[이데일리 전재욱 기자] KB증권은 내년 세계 경제가 미·중 무역분쟁...</td>\n",
       "      <td>보고서/NNG,세계/NNG,경제/NNG,무역/NNG,분쟁/NNG,소강/NNG,통화정...</td>\n",
       "    </tr>\n",
       "    <tr>\n",
       "      <th>261815</th>\n",
       "      <td>2019-12-31</td>\n",
       "      <td>이데일리</td>\n",
       "      <td>금융권 쥐띠 리더들…\"어려운 환경에도 새로운 기회 만들것\"</td>\n",
       "      <td>은행권서 농협 이대훈·수협 이동빈 행장 대표적카드 '빅3' CEO 모두 쥐띠..삼성...</td>\n",
       "      <td>농협/NNG,수협/NNG,이동/NNG,행장/NNG,카드/NNG,쥐띠/NNG,금융/N...</td>\n",
       "    </tr>\n",
       "    <tr>\n",
       "      <th>261816</th>\n",
       "      <td>2019-12-31</td>\n",
       "      <td>이데일리</td>\n",
       "      <td>“아무거나 사면 올랐다”…샴페인 드는 월가</td>\n",
       "      <td>美증시 하락세 심상치 않자 트럼프 대통령 구원투수7월 美연준 금리 인하 나서면서 세...</td>\n",
       "      <td>증시/NNG,하락/NNG,심상/NNG,구원/NNG,투수/NNG,fed/NNG,금리/...</td>\n",
       "    </tr>\n",
       "  </tbody>\n",
       "</table>\n",
       "<p>261817 rows × 5 columns</p>\n",
       "</div>"
      ],
      "text/plain": [
       "              date   media                                     title  \\\n",
       "0       2005-01-01  연합인포맥스                   내년 美국채수익률 5% 넘어서기 어려울 듯   \n",
       "1       2005-01-01  연합인포맥스      [뉴욕채권-마감] 10년만기 국채수익률 작년보다 낮은 수준서 마쳐   \n",
       "2       2005-01-01  연합인포맥스           [뉴욕환시] `내년초 달러-엔에 주력'..달러 對엔 하락   \n",
       "3       2005-01-01  연합인포맥스             [31일 뉴욕금융시장 요약] 한산한 거래속 새해 준비   \n",
       "4       2005-01-02  연합인포맥스           美 증시 기술주 주도로 2년 연속 상승..'01년래 최고   \n",
       "...            ...     ...                                       ...   \n",
       "261812  2019-12-31    이데일리  '안심대출 여파' 예금은행 대출금리 3.18%…1996년 편제 이후 최저   \n",
       "261813  2019-12-31    이데일리           이주열 “양적 확대로 성장동력 창출 어려워…혁신성장해야”   \n",
       "261814  2019-12-31    이데일리                 \"내년 세계경제 우상향…유가·금리 환경 든든\"   \n",
       "261815  2019-12-31    이데일리          금융권 쥐띠 리더들…\"어려운 환경에도 새로운 기회 만들것\"   \n",
       "261816  2019-12-31    이데일리                   “아무거나 사면 올랐다”…샴페인 드는 월가   \n",
       "\n",
       "                                                  content  \\\n",
       "0       2005년 10년만기 미국 국채수익률이  연방준비제도이사회(FRB)의 금리인상 지속...   \n",
       "1       2년만기 국채가격 4년래 최악의 한해 보내     10년만기 미국  국채수익률이  ...   \n",
       "2       2004년 마지막 거래일인 31일  뉴욕환시에서 미국 달러화는 개장초 102엔 근처...   \n",
       "3       ) 한해 마지막 날인 31일 뉴욕 주요 금융시장은 한산한 거래속에 새해를 준비하는 ...   \n",
       "4       지난해 뉴욕증시는 기술주 주도로 2년  연속연초 대비 상승하면서 대표지수들을 지난 ...   \n",
       "...                                                   ...   \n",
       "261812  한국은행 11월중 금융기관 가중평균금리주택담보대출도 0.05%p 내린 2.45%로 ...   \n",
       "261813  이주열 한국은행 총재 신년사(사진=연합뉴스)[이데일리 김경은 기자] 이주열(사진) ...   \n",
       "261814  KB증권 보고서[이데일리 전재욱 기자] KB증권은 내년 세계 경제가 미·중 무역분쟁...   \n",
       "261815  은행권서 농협 이대훈·수협 이동빈 행장 대표적카드 '빅3' CEO 모두 쥐띠..삼성...   \n",
       "261816  美증시 하락세 심상치 않자 트럼프 대통령 구원투수7월 美연준 금리 인하 나서면서 세...   \n",
       "\n",
       "                                                   ngrams  \n",
       "0       만기/NNG,국채/NNG,수익률/NNG,fed/NNG,fed/NNG,금리/NNG,인...  \n",
       "1       만기/NNG,국채/NNG,가격/NNG,최악/NNG,보내/VV,만기/NNG,국채/NN...  \n",
       "2       마지막/NNG,거래일/NNG,뉴욕/NNG,환시/NNG,달러/NNG,개장/NNG,근처...  \n",
       "3       마지막/NNG,뉴욕/NNG,금융시장/NNG,한산/NNG,거래/NNG,새해/NNG,준...  \n",
       "4       주도/NNG,연속/NNG,대비/NNG,상승/NNG,대표지수/NNG,최고/NNG,오르...  \n",
       "...                                                   ...  \n",
       "261812  금융기관/NNG,금리/NNG,주택담보대출/NNG,내리/VV,역대/NNG,최저/NNG...  \n",
       "261813  신년사/NNG,가장/MAG,주력/NNG,과제/NNG,혁신성장/NNG,동력/NNG,확...  \n",
       "261814  보고서/NNG,세계/NNG,경제/NNG,무역/NNG,분쟁/NNG,소강/NNG,통화정...  \n",
       "261815  농협/NNG,수협/NNG,이동/NNG,행장/NNG,카드/NNG,쥐띠/NNG,금융/N...  \n",
       "261816  증시/NNG,하락/NNG,심상/NNG,구원/NNG,투수/NNG,fed/NNG,금리/...  \n",
       "\n",
       "[261817 rows x 5 columns]"
      ]
     },
     "execution_count": 3,
     "metadata": {},
     "output_type": "execute_result"
    }
   ],
   "source": [
    "import pandas as pd\n",
    "df_news = pd.read_csv('C:/Users/User/Desktop/news.csv')"
   ]
  },
  {
   "cell_type": "code",
   "execution_count": 4,
   "metadata": {},
   "outputs": [
    {
     "data": {
      "text/html": [
       "<div>\n",
       "<style scoped>\n",
       "    .dataframe tbody tr th:only-of-type {\n",
       "        vertical-align: middle;\n",
       "    }\n",
       "\n",
       "    .dataframe tbody tr th {\n",
       "        vertical-align: top;\n",
       "    }\n",
       "\n",
       "    .dataframe thead th {\n",
       "        text-align: right;\n",
       "    }\n",
       "</style>\n",
       "<table border=\"1\" class=\"dataframe\">\n",
       "  <thead>\n",
       "    <tr style=\"text-align: right;\">\n",
       "      <th></th>\n",
       "      <th>date</th>\n",
       "      <th>media</th>\n",
       "      <th>title</th>\n",
       "      <th>content</th>\n",
       "      <th>ngrams</th>\n",
       "    </tr>\n",
       "  </thead>\n",
       "  <tbody>\n",
       "    <tr>\n",
       "      <th>0</th>\n",
       "      <td>2005-01-01</td>\n",
       "      <td>연합인포맥스</td>\n",
       "      <td>내년 美국채수익률 5% 넘어서기 어려울 듯</td>\n",
       "      <td>2005년 10년만기 미국 국채수익률이  연방준비제도이사회(FRB)의 금리인상 지속...</td>\n",
       "      <td>만기/NNG,국채/NNG,수익률/NNG,fed/NNG,fed/NNG,금리/NNG,인...</td>\n",
       "    </tr>\n",
       "    <tr>\n",
       "      <th>1</th>\n",
       "      <td>2005-01-01</td>\n",
       "      <td>연합인포맥스</td>\n",
       "      <td>[뉴욕채권-마감] 10년만기 국채수익률 작년보다 낮은 수준서 마쳐</td>\n",
       "      <td>2년만기 국채가격 4년래 최악의 한해 보내     10년만기 미국  국채수익률이  ...</td>\n",
       "      <td>만기/NNG,국채/NNG,가격/NNG,최악/NNG,보내/VV,만기/NNG,국채/NN...</td>\n",
       "    </tr>\n",
       "    <tr>\n",
       "      <th>2</th>\n",
       "      <td>2005-01-01</td>\n",
       "      <td>연합인포맥스</td>\n",
       "      <td>[뉴욕환시] `내년초 달러-엔에 주력'..달러 對엔 하락</td>\n",
       "      <td>2004년 마지막 거래일인 31일  뉴욕환시에서 미국 달러화는 개장초 102엔 근처...</td>\n",
       "      <td>마지막/NNG,거래일/NNG,뉴욕/NNG,환시/NNG,달러/NNG,개장/NNG,근처...</td>\n",
       "    </tr>\n",
       "    <tr>\n",
       "      <th>3</th>\n",
       "      <td>2005-01-01</td>\n",
       "      <td>연합인포맥스</td>\n",
       "      <td>[31일 뉴욕금융시장 요약] 한산한 거래속 새해 준비</td>\n",
       "      <td>) 한해 마지막 날인 31일 뉴욕 주요 금융시장은 한산한 거래속에 새해를 준비하는 ...</td>\n",
       "      <td>마지막/NNG,뉴욕/NNG,금융시장/NNG,한산/NNG,거래/NNG,새해/NNG,준...</td>\n",
       "    </tr>\n",
       "    <tr>\n",
       "      <th>4</th>\n",
       "      <td>2005-01-02</td>\n",
       "      <td>연합인포맥스</td>\n",
       "      <td>美 증시 기술주 주도로 2년 연속 상승..'01년래 최고</td>\n",
       "      <td>지난해 뉴욕증시는 기술주 주도로 2년  연속연초 대비 상승하면서 대표지수들을 지난 ...</td>\n",
       "      <td>주도/NNG,연속/NNG,대비/NNG,상승/NNG,대표지수/NNG,최고/NNG,오르...</td>\n",
       "    </tr>\n",
       "  </tbody>\n",
       "</table>\n",
       "</div>"
      ],
      "text/plain": [
       "         date   media                                 title  \\\n",
       "0  2005-01-01  연합인포맥스               내년 美국채수익률 5% 넘어서기 어려울 듯   \n",
       "1  2005-01-01  연합인포맥스  [뉴욕채권-마감] 10년만기 국채수익률 작년보다 낮은 수준서 마쳐   \n",
       "2  2005-01-01  연합인포맥스       [뉴욕환시] `내년초 달러-엔에 주력'..달러 對엔 하락   \n",
       "3  2005-01-01  연합인포맥스         [31일 뉴욕금융시장 요약] 한산한 거래속 새해 준비   \n",
       "4  2005-01-02  연합인포맥스       美 증시 기술주 주도로 2년 연속 상승..'01년래 최고   \n",
       "\n",
       "                                             content  \\\n",
       "0  2005년 10년만기 미국 국채수익률이  연방준비제도이사회(FRB)의 금리인상 지속...   \n",
       "1  2년만기 국채가격 4년래 최악의 한해 보내     10년만기 미국  국채수익률이  ...   \n",
       "2  2004년 마지막 거래일인 31일  뉴욕환시에서 미국 달러화는 개장초 102엔 근처...   \n",
       "3  ) 한해 마지막 날인 31일 뉴욕 주요 금융시장은 한산한 거래속에 새해를 준비하는 ...   \n",
       "4  지난해 뉴욕증시는 기술주 주도로 2년  연속연초 대비 상승하면서 대표지수들을 지난 ...   \n",
       "\n",
       "                                              ngrams  \n",
       "0  만기/NNG,국채/NNG,수익률/NNG,fed/NNG,fed/NNG,금리/NNG,인...  \n",
       "1  만기/NNG,국채/NNG,가격/NNG,최악/NNG,보내/VV,만기/NNG,국채/NN...  \n",
       "2  마지막/NNG,거래일/NNG,뉴욕/NNG,환시/NNG,달러/NNG,개장/NNG,근처...  \n",
       "3  마지막/NNG,뉴욕/NNG,금융시장/NNG,한산/NNG,거래/NNG,새해/NNG,준...  \n",
       "4  주도/NNG,연속/NNG,대비/NNG,상승/NNG,대표지수/NNG,최고/NNG,오르...  "
      ]
     },
     "execution_count": 4,
     "metadata": {},
     "output_type": "execute_result"
    }
   ],
   "source": [
    "df_news.head()"
   ]
  },
  {
   "cell_type": "code",
   "execution_count": 5,
   "metadata": {},
   "outputs": [],
   "source": [
    "df_news = df_news.dropna()"
   ]
  },
  {
   "cell_type": "code",
   "execution_count": 10,
   "metadata": {},
   "outputs": [
    {
     "name": "stderr",
     "output_type": "stream",
     "text": [
      "C:\\Users\\User\\anaconda3\\envs\\nlp\\lib\\site-packages\\ipykernel_launcher.py:1: SettingWithCopyWarning: \n",
      "A value is trying to be set on a copy of a slice from a DataFrame.\n",
      "Try using .loc[row_indexer,col_indexer] = value instead\n",
      "\n",
      "See the caveats in the documentation: https://pandas.pydata.org/pandas-docs/stable/user_guide/indexing.html#returning-a-view-versus-a-copy\n",
      "  \"\"\"Entry point for launching an IPython kernel.\n"
     ]
    }
   ],
   "source": [
    "df_news['tokens_ngram'] = df_news['ngrams'].apply(lambda x : ' '.join([w.split('/')[0] for w in x.split(',')]))"
   ]
  },
  {
   "cell_type": "code",
   "execution_count": 11,
   "metadata": {},
   "outputs": [],
   "source": [
    "token_list = [tokens.split()for tokens in df_news['tokens_ngram'].tolist()]"
   ]
  },
  {
   "cell_type": "code",
   "execution_count": 12,
   "metadata": {},
   "outputs": [
    {
     "data": {
      "text/plain": [
       "['만기',\n",
       " '국채',\n",
       " '수익률',\n",
       " 'fed',\n",
       " 'fed',\n",
       " '금리',\n",
       " '인상',\n",
       " '지속',\n",
       " '따르',\n",
       " '인플레이션',\n",
       " '압력',\n",
       " '완화',\n",
       " '어렵',\n",
       " '전망',\n",
       " '인플레이션',\n",
       " '제어',\n",
       " '반면',\n",
       " '만기',\n",
       " '국채',\n",
       " '수익률',\n",
       " 'fed',\n",
       " '지속',\n",
       " '금리',\n",
       " '인상',\n",
       " '수준',\n",
       " '상승',\n",
       " '예측',\n",
       " '단기',\n",
       " '국채',\n",
       " '수익률',\n",
       " '상승',\n",
       " '나타나',\n",
       " '반면',\n",
       " '장기',\n",
       " '국채',\n",
       " '수익률',\n",
       " '상승',\n",
       " '제한',\n",
       " '일드커브',\n",
       " '플래트닝',\n",
       " '가속',\n",
       " '덧붙이',\n",
       " '고용창출',\n",
       " '호조',\n",
       " '수입',\n",
       " '증가',\n",
       " '견인',\n",
       " '고용시장',\n",
       " '호전',\n",
       " '소비자',\n",
       " '지출',\n",
       " '떠받치',\n",
       " '단기',\n",
       " '국채',\n",
       " '일드커브',\n",
       " '인플레이션',\n",
       " 'fed',\n",
       " '고용창출',\n",
       " '고용시장',\n",
       " '수입',\n",
       " '완화']"
      ]
     },
     "execution_count": 12,
     "metadata": {},
     "output_type": "execute_result"
    }
   ],
   "source": [
    "token_list[0]"
   ]
  },
  {
   "cell_type": "markdown",
   "metadata": {},
   "source": [
    "### word2vect(skip-gram) 학습"
   ]
  },
  {
   "cell_type": "code",
   "execution_count": 16,
   "metadata": {},
   "outputs": [
    {
     "name": "stdout",
     "output_type": "stream",
     "text": [
      "Requirement already satisfied: gensim in c:\\users\\user\\anaconda3\\envs\\nlp\\lib\\site-packages (3.8.3)\n",
      "Requirement already satisfied: six>=1.5.0 in c:\\users\\user\\anaconda3\\envs\\nlp\\lib\\site-packages (from gensim) (1.14.0)\n",
      "Requirement already satisfied: numpy>=1.11.3 in c:\\users\\user\\anaconda3\\envs\\nlp\\lib\\site-packages (from gensim) (1.18.1)\n",
      "Requirement already satisfied: scipy>=0.18.1 in c:\\users\\user\\anaconda3\\envs\\nlp\\lib\\site-packages (from gensim) (1.4.1)\n",
      "Requirement already satisfied: smart-open>=1.8.1 in c:\\users\\user\\anaconda3\\envs\\nlp\\lib\\site-packages (from gensim) (2.1.0)\n",
      "Requirement already satisfied: Cython==0.29.14 in c:\\users\\user\\anaconda3\\envs\\nlp\\lib\\site-packages (from gensim) (0.29.14)\n",
      "Requirement already satisfied: requests in c:\\users\\user\\anaconda3\\envs\\nlp\\lib\\site-packages (from smart-open>=1.8.1->gensim) (2.22.0)\n",
      "Requirement already satisfied: boto3 in c:\\users\\user\\anaconda3\\envs\\nlp\\lib\\site-packages (from smart-open>=1.8.1->gensim) (1.14.22)\n",
      "Requirement already satisfied: boto in c:\\users\\user\\anaconda3\\envs\\nlp\\lib\\site-packages (from smart-open>=1.8.1->gensim) (2.49.0)\n",
      "Requirement already satisfied: idna<2.9,>=2.5 in c:\\users\\user\\anaconda3\\envs\\nlp\\lib\\site-packages (from requests->smart-open>=1.8.1->gensim) (2.8)\n",
      "Requirement already satisfied: urllib3!=1.25.0,!=1.25.1,<1.26,>=1.21.1 in c:\\users\\user\\anaconda3\\envs\\nlp\\lib\\site-packages (from requests->smart-open>=1.8.1->gensim) (1.25.8)\n",
      "Requirement already satisfied: chardet<3.1.0,>=3.0.2 in c:\\users\\user\\anaconda3\\envs\\nlp\\lib\\site-packages (from requests->smart-open>=1.8.1->gensim) (3.0.4)\n",
      "Requirement already satisfied: certifi>=2017.4.17 in c:\\users\\user\\anaconda3\\envs\\nlp\\lib\\site-packages (from requests->smart-open>=1.8.1->gensim) (2019.11.28)\n",
      "Requirement already satisfied: s3transfer<0.4.0,>=0.3.0 in c:\\users\\user\\anaconda3\\envs\\nlp\\lib\\site-packages (from boto3->smart-open>=1.8.1->gensim) (0.3.3)\n",
      "Requirement already satisfied: jmespath<1.0.0,>=0.7.1 in c:\\users\\user\\anaconda3\\envs\\nlp\\lib\\site-packages (from boto3->smart-open>=1.8.1->gensim) (0.10.0)\n",
      "Requirement already satisfied: botocore<1.18.0,>=1.17.22 in c:\\users\\user\\anaconda3\\envs\\nlp\\lib\\site-packages (from boto3->smart-open>=1.8.1->gensim) (1.17.22)\n",
      "Requirement already satisfied: python-dateutil<3.0.0,>=2.1 in c:\\users\\user\\anaconda3\\envs\\nlp\\lib\\site-packages (from botocore<1.18.0,>=1.17.22->boto3->smart-open>=1.8.1->gensim) (2.8.1)\n",
      "Requirement already satisfied: docutils<0.16,>=0.10 in c:\\users\\user\\anaconda3\\envs\\nlp\\lib\\site-packages (from botocore<1.18.0,>=1.17.22->boto3->smart-open>=1.8.1->gensim) (0.15.2)\n"
     ]
    }
   ],
   "source": [
    "!pip install gensim"
   ]
  },
  {
   "cell_type": "code",
   "execution_count": 22,
   "metadata": {},
   "outputs": [
    {
     "ename": "AttributeError",
     "evalue": "module 'smart_open' has no attribute 'local_file'",
     "output_type": "error",
     "traceback": [
      "\u001b[1;31m---------------------------------------------------------------------------\u001b[0m",
      "\u001b[1;31mAttributeError\u001b[0m                            Traceback (most recent call last)",
      "\u001b[1;32m<ipython-input-22-c4d8cd123875>\u001b[0m in \u001b[0;36m<module>\u001b[1;34m\u001b[0m\n\u001b[1;32m----> 1\u001b[1;33m \u001b[1;32mfrom\u001b[0m \u001b[0mgensim\u001b[0m \u001b[1;32mimport\u001b[0m \u001b[0mmodels\u001b[0m\u001b[1;33m\u001b[0m\u001b[1;33m\u001b[0m\u001b[0m\n\u001b[0m",
      "\u001b[1;32m~\\anaconda3\\envs\\nlp\\lib\\site-packages\\gensim\\__init__.py\u001b[0m in \u001b[0;36m<module>\u001b[1;34m\u001b[0m\n\u001b[0;32m      3\u001b[0m \"\"\"\n\u001b[0;32m      4\u001b[0m \u001b[1;33m\u001b[0m\u001b[0m\n\u001b[1;32m----> 5\u001b[1;33m \u001b[1;32mfrom\u001b[0m \u001b[0mgensim\u001b[0m \u001b[1;32mimport\u001b[0m \u001b[0mparsing\u001b[0m\u001b[1;33m,\u001b[0m \u001b[0mcorpora\u001b[0m\u001b[1;33m,\u001b[0m \u001b[0mmatutils\u001b[0m\u001b[1;33m,\u001b[0m \u001b[0minterfaces\u001b[0m\u001b[1;33m,\u001b[0m \u001b[0mmodels\u001b[0m\u001b[1;33m,\u001b[0m \u001b[0msimilarities\u001b[0m\u001b[1;33m,\u001b[0m \u001b[0msummarization\u001b[0m\u001b[1;33m,\u001b[0m \u001b[0mutils\u001b[0m  \u001b[1;31m# noqa:F401\u001b[0m\u001b[1;33m\u001b[0m\u001b[1;33m\u001b[0m\u001b[0m\n\u001b[0m\u001b[0;32m      6\u001b[0m \u001b[1;32mimport\u001b[0m \u001b[0mlogging\u001b[0m\u001b[1;33m\u001b[0m\u001b[1;33m\u001b[0m\u001b[0m\n\u001b[0;32m      7\u001b[0m \u001b[1;33m\u001b[0m\u001b[0m\n",
      "\u001b[1;32m~\\anaconda3\\envs\\nlp\\lib\\site-packages\\gensim\\parsing\\__init__.py\u001b[0m in \u001b[0;36m<module>\u001b[1;34m\u001b[0m\n\u001b[0;32m      2\u001b[0m \u001b[1;33m\u001b[0m\u001b[0m\n\u001b[0;32m      3\u001b[0m \u001b[1;32mfrom\u001b[0m \u001b[1;33m.\u001b[0m\u001b[0mporter\u001b[0m \u001b[1;32mimport\u001b[0m \u001b[0mPorterStemmer\u001b[0m  \u001b[1;31m# noqa:F401\u001b[0m\u001b[1;33m\u001b[0m\u001b[1;33m\u001b[0m\u001b[0m\n\u001b[1;32m----> 4\u001b[1;33m from .preprocessing import (remove_stopwords, strip_punctuation, strip_punctuation2,  # noqa:F401\n\u001b[0m\u001b[0;32m      5\u001b[0m                             \u001b[0mstrip_tags\u001b[0m\u001b[1;33m,\u001b[0m \u001b[0mstrip_short\u001b[0m\u001b[1;33m,\u001b[0m \u001b[0mstrip_numeric\u001b[0m\u001b[1;33m,\u001b[0m\u001b[1;33m\u001b[0m\u001b[1;33m\u001b[0m\u001b[0m\n\u001b[0;32m      6\u001b[0m                             \u001b[0mstrip_non_alphanum\u001b[0m\u001b[1;33m,\u001b[0m \u001b[0mstrip_multiple_whitespaces\u001b[0m\u001b[1;33m,\u001b[0m\u001b[1;33m\u001b[0m\u001b[1;33m\u001b[0m\u001b[0m\n",
      "\u001b[1;32m~\\anaconda3\\envs\\nlp\\lib\\site-packages\\gensim\\parsing\\preprocessing.py\u001b[0m in \u001b[0;36m<module>\u001b[1;34m\u001b[0m\n\u001b[0;32m     40\u001b[0m \u001b[1;32mimport\u001b[0m \u001b[0mglob\u001b[0m\u001b[1;33m\u001b[0m\u001b[1;33m\u001b[0m\u001b[0m\n\u001b[0;32m     41\u001b[0m \u001b[1;33m\u001b[0m\u001b[0m\n\u001b[1;32m---> 42\u001b[1;33m \u001b[1;32mfrom\u001b[0m \u001b[0mgensim\u001b[0m \u001b[1;32mimport\u001b[0m \u001b[0mutils\u001b[0m\u001b[1;33m\u001b[0m\u001b[1;33m\u001b[0m\u001b[0m\n\u001b[0m\u001b[0;32m     43\u001b[0m \u001b[1;32mfrom\u001b[0m \u001b[0mgensim\u001b[0m\u001b[1;33m.\u001b[0m\u001b[0mparsing\u001b[0m\u001b[1;33m.\u001b[0m\u001b[0mporter\u001b[0m \u001b[1;32mimport\u001b[0m \u001b[0mPorterStemmer\u001b[0m\u001b[1;33m\u001b[0m\u001b[1;33m\u001b[0m\u001b[0m\n\u001b[0;32m     44\u001b[0m \u001b[1;33m\u001b[0m\u001b[0m\n",
      "\u001b[1;32m~\\anaconda3\\envs\\nlp\\lib\\site-packages\\gensim\\utils.py\u001b[0m in \u001b[0;36m<module>\u001b[1;34m\u001b[0m\n\u001b[0;32m     43\u001b[0m \u001b[1;32mfrom\u001b[0m \u001b[0msix\u001b[0m\u001b[1;33m.\u001b[0m\u001b[0mmoves\u001b[0m \u001b[1;32mimport\u001b[0m \u001b[0mrange\u001b[0m\u001b[1;33m\u001b[0m\u001b[1;33m\u001b[0m\u001b[0m\n\u001b[0;32m     44\u001b[0m \u001b[1;33m\u001b[0m\u001b[0m\n\u001b[1;32m---> 45\u001b[1;33m \u001b[1;32mfrom\u001b[0m \u001b[0msmart_open\u001b[0m \u001b[1;32mimport\u001b[0m \u001b[0mopen\u001b[0m\u001b[1;33m\u001b[0m\u001b[1;33m\u001b[0m\u001b[0m\n\u001b[0m\u001b[0;32m     46\u001b[0m \u001b[1;33m\u001b[0m\u001b[0m\n\u001b[0;32m     47\u001b[0m \u001b[1;32mfrom\u001b[0m \u001b[0mmultiprocessing\u001b[0m \u001b[1;32mimport\u001b[0m \u001b[0mcpu_count\u001b[0m\u001b[1;33m\u001b[0m\u001b[1;33m\u001b[0m\u001b[0m\n",
      "\u001b[1;32m~\\anaconda3\\envs\\nlp\\lib\\site-packages\\smart_open\\__init__.py\u001b[0m in \u001b[0;36m<module>\u001b[1;34m\u001b[0m\n\u001b[0;32m     31\u001b[0m \u001b[1;33m\u001b[0m\u001b[0m\n\u001b[0;32m     32\u001b[0m \u001b[1;32mfrom\u001b[0m \u001b[0msmart_open\u001b[0m \u001b[1;32mimport\u001b[0m \u001b[0mversion\u001b[0m  \u001b[1;31m# noqa: E402\u001b[0m\u001b[1;33m\u001b[0m\u001b[1;33m\u001b[0m\u001b[0m\n\u001b[1;32m---> 33\u001b[1;33m \u001b[1;32mfrom\u001b[0m \u001b[1;33m.\u001b[0m\u001b[0msmart_open_lib\u001b[0m \u001b[1;32mimport\u001b[0m \u001b[0mopen\u001b[0m\u001b[1;33m,\u001b[0m \u001b[0mparse_uri\u001b[0m\u001b[1;33m,\u001b[0m \u001b[0msmart_open\u001b[0m\u001b[1;33m,\u001b[0m \u001b[0mregister_compressor\u001b[0m  \u001b[1;31m# noqa: E402\u001b[0m\u001b[1;33m\u001b[0m\u001b[1;33m\u001b[0m\u001b[0m\n\u001b[0m\u001b[0;32m     34\u001b[0m \u001b[1;32mfrom\u001b[0m \u001b[1;33m.\u001b[0m\u001b[0ms3\u001b[0m \u001b[1;32mimport\u001b[0m \u001b[0miter_bucket\u001b[0m \u001b[1;32mas\u001b[0m \u001b[0ms3_iter_bucket\u001b[0m  \u001b[1;31m# noqa: E402\u001b[0m\u001b[1;33m\u001b[0m\u001b[1;33m\u001b[0m\u001b[0m\n\u001b[0;32m     35\u001b[0m \u001b[1;33m\u001b[0m\u001b[0m\n",
      "\u001b[1;32m~\\anaconda3\\envs\\nlp\\lib\\site-packages\\smart_open\\smart_open_lib.py\u001b[0m in \u001b[0;36m<module>\u001b[1;34m\u001b[0m\n\u001b[0;32m     32\u001b[0m \u001b[1;31m# smart_open.submodule to reference to the submodules.\u001b[0m\u001b[1;33m\u001b[0m\u001b[1;33m\u001b[0m\u001b[1;33m\u001b[0m\u001b[0m\n\u001b[0;32m     33\u001b[0m \u001b[1;31m#\u001b[0m\u001b[1;33m\u001b[0m\u001b[1;33m\u001b[0m\u001b[1;33m\u001b[0m\u001b[0m\n\u001b[1;32m---> 34\u001b[1;33m \u001b[1;32mimport\u001b[0m \u001b[0msmart_open\u001b[0m\u001b[1;33m.\u001b[0m\u001b[0mlocal_file\u001b[0m \u001b[1;32mas\u001b[0m \u001b[0mso_file\u001b[0m\u001b[1;33m\u001b[0m\u001b[1;33m\u001b[0m\u001b[0m\n\u001b[0m\u001b[0;32m     35\u001b[0m \u001b[1;33m\u001b[0m\u001b[0m\n\u001b[0;32m     36\u001b[0m \u001b[1;32mfrom\u001b[0m \u001b[0msmart_open\u001b[0m \u001b[1;32mimport\u001b[0m \u001b[0mcompression\u001b[0m\u001b[1;33m\u001b[0m\u001b[1;33m\u001b[0m\u001b[0m\n",
      "\u001b[1;31mAttributeError\u001b[0m: module 'smart_open' has no attribute 'local_file'"
     ]
    }
   ],
   "source": [
    "from gensim import models"
   ]
  },
  {
   "cell_type": "code",
   "execution_count": null,
   "metadata": {},
   "outputs": [],
   "source": [
    "word2vec = Word2Vec(\n",
    "    sentences = token_list,\n",
    "    size = 10,\n",
    "    alpha = 0.025,\n",
    "    min_count=2,\n",
    "    window = 8,\n",
    "    sample = 0.001,\n",
    "    sg = 1"
   ]
  }
 ],
 "metadata": {
  "kernelspec": {
   "display_name": "Python 3",
   "language": "python",
   "name": "python3"
  },
  "language_info": {
   "codemirror_mode": {
    "name": "ipython",
    "version": 3
   },
   "file_extension": ".py",
   "mimetype": "text/x-python",
   "name": "python",
   "nbconvert_exporter": "python",
   "pygments_lexer": "ipython3",
   "version": "3.6.10"
  }
 },
 "nbformat": 4,
 "nbformat_minor": 4
}
