{
 "cells": [
  {
   "cell_type": "markdown",
   "metadata": {},
   "source": [
    "# TextRank\n",
    "\n"
   ]
  },
  {
   "cell_type": "markdown",
   "metadata": {},
   "source": [
    "- 각 행렬에서, 행의 합은 원래 score\n",
    "- 열의 합이 새로운 Score\n",
    "- 행으로 보고, 연결된 edge의 수를 score로나누면 행을 채울수 있고\n",
    "- 만들어진 열을 더하면 새로운 스코어가나온다\n",
    "\n",
    "- 만들어진 score랑 새 score의차이가 0.0001인가 아니면 조금 더 적으면(20~30번 반복해서)  stop. 한글은 다르겠지?\n",
    "\n",
    "- 만약 window가 3이라면, 123 -> 12 :1, 13:1, 23 :1, 중복 X 무적권 연결이 중요한거니 1로 한다.\n"
   ]
  },
  {
   "cell_type": "code",
   "execution_count": 2,
   "metadata": {},
   "outputs": [
    {
     "name": "stdout",
     "output_type": "stream",
     "text": [
      "Requirement already satisfied: mecab-python==0.996-ko-0.9.2-msvc from file:///C:/Users/User/TIL/NLP/class/mecab_python-0.996_ko_0.9.2_msvc-cp36-cp36m-win_amd64.whl in c:\\users\\user\\anaconda3\\envs\\nlp\\lib\\site-packages (0.996-ko-0.9.2-msvc)\n"
     ]
    }
   ],
   "source": [
    "!pip install mecab_python-0.996_ko_0.9.2_msvc-cp36-cp36m-win_amd64.whl"
   ]
  },
  {
   "cell_type": "code",
   "execution_count": 2,
   "metadata": {},
   "outputs": [],
   "source": [
    "import MeCab"
   ]
  },
  {
   "cell_type": "code",
   "execution_count": 3,
   "metadata": {},
   "outputs": [],
   "source": [
    "from konlpy.tag import Mecab"
   ]
  },
  {
   "cell_type": "code",
   "execution_count": 3,
   "metadata": {},
   "outputs": [],
   "source": [
    "import MeCab\n",
    "from konlpy.tag import Mecab\n",
    "mecab = Mecab(dicpath = 'C:\\mecab\\mecab-ko-dic')"
   ]
  },
  {
   "cell_type": "markdown",
   "metadata": {},
   "source": [
    "### 2) Unique한 토큰 목록 생성\n",
    "\n",
    "그래프 생성을 위해서 Unique한 토큰 목록 생성"
   ]
  },
  {
   "cell_type": "code",
   "execution_count": 3,
   "metadata": {},
   "outputs": [],
   "source": [
    "token = ['딸기', '바나나', '사과', '딸기','파인애플']\n",
    "nodes = ['바나나', '사과', '파인애플', '딸기']\n",
    "vocab = nodes"
   ]
  },
  {
   "cell_type": "code",
   "execution_count": 4,
   "metadata": {},
   "outputs": [],
   "source": [
    "from collections import defaultdict\n",
    "\n",
    "vocab2idx = {vocab[i] : i for i in range(len(vocab))}\n",
    "idx2vocab = {i : vocab[i] for i in range(len(vocab))}"
   ]
  },
  {
   "cell_type": "markdown",
   "metadata": {},
   "source": [
    "### 3) 그래프 생성 (weighted edge 계산)\n",
    "\n",
    "*   TextRank는 그래프 기반 모델\n",
    "*   각 단어(토큰)은 그래프의 노드(vertex) \n",
    "*   weighted_edge 행렬은 노드간 가중치 정보를 담고 있음\n",
    "*   weighted_edge[i][j] 는 i번째 단어와 j번째 단어의 가중치를 의미\n",
    "*   weighted_edge[i][j] 가 0인 경우는 노드간 연결이 없음을 의미\n",
    "*   모든 노드는 1로 초기화"
   ]
  },
  {
   "cell_type": "code",
   "execution_count": 8,
   "metadata": {},
   "outputs": [],
   "source": [
    "import numpy as np\n",
    "import math\n",
    "vocab_len = len(vocab)\n",
    "\n",
    "zero_list = np.zeros((vocab_len, vocab_len), dtype = np.float32)\n",
    "# 토큰별로 그래프 edge를 Matrix 형태로 생성\n",
    "for i in range(len(token)):\n",
    "    for j in range(len(token)):\n",
    "        if np.abs(i-j) == 1:\n",
    "            zero_list[vocab2idx[token[i]]][vocab2idx[token[j]]] = 1\n",
    "      \n",
    "    \n",
    "# weighted_edge = np.ones((vocab_len, vocab_len))\n",
    "\n",
    "# 각 토큰 노드별로 스코어 1로 초기화\n",
    "# score = None\n",
    "\n",
    "# coocurrence를 판단하기 위한 window 사이즈 설정\n",
    "# window_size = 2\n",
    "# covered_coocurrences = []\n",
    "\n",
    "# weighted_edge 구현\n",
    "\n"
   ]
  },
  {
   "cell_type": "code",
   "execution_count": 20,
   "metadata": {},
   "outputs": [
    {
     "data": {
      "text/plain": [
       "array([[0.        , 0.5       , 0.        , 0.5       ],\n",
       "       [0.5       , 0.        , 0.        , 0.5       ],\n",
       "       [0.        , 0.        , 0.        , 1.        ],\n",
       "       [0.33333334, 0.33333334, 0.33333334, 0.        ]], dtype=float32)"
      ]
     },
     "execution_count": 20,
     "metadata": {},
     "output_type": "execute_result"
    }
   ],
   "source": [
    "zero_list"
   ]
  },
  {
   "cell_type": "code",
   "execution_count": 21,
   "metadata": {},
   "outputs": [],
   "source": [
    "for i in range(len(zero_list)):\n",
    "    zero_list[i] = zero_list[i] /zero_list[i].sum()"
   ]
  },
  {
   "cell_type": "code",
   "execution_count": 22,
   "metadata": {},
   "outputs": [
    {
     "data": {
      "text/plain": [
       "array([[0.        , 0.5       , 0.        , 0.5       ],\n",
       "       [0.5       , 0.        , 0.        , 0.5       ],\n",
       "       [0.        , 0.        , 0.        , 1.        ],\n",
       "       [0.33333334, 0.33333334, 0.33333334, 0.        ]], dtype=float32)"
      ]
     },
     "execution_count": 22,
     "metadata": {},
     "output_type": "execute_result"
    }
   ],
   "source": [
    "zero_list"
   ]
  },
  {
   "cell_type": "code",
   "execution_count": 23,
   "metadata": {},
   "outputs": [
    {
     "data": {
      "text/plain": [
       "array([1.01384075, 1.01384075, 0.5233411 , 1.44897774])"
      ]
     },
     "execution_count": 23,
     "metadata": {},
     "output_type": "execute_result"
    }
   ],
   "source": [
    "score"
   ]
  },
  {
   "cell_type": "code",
   "execution_count": null,
   "metadata": {},
   "outputs": [],
   "source": []
  },
  {
   "cell_type": "markdown",
   "metadata": {},
   "source": [
    "### 4) 각 노드의 score계산\n",
    "각 노드와 연결된 weighted edge의 값을 합산"
   ]
  },
  {
   "cell_type": "code",
   "execution_count": 12,
   "metadata": {},
   "outputs": [],
   "source": [
    "MAX_ITERATIONS = 50\n",
    "d=0.85\n",
    "threshold = 0.0001 #convergence threshold\n",
    "\n",
    "score = np.array([1,1,1,1])\n",
    "for iter in range(0,MAX_ITERATIONS):\n",
    "    prev_score = np.copy(score)\n",
    "    for i in range(len(score)):\n",
    "        score = zero_list.T @ score\n",
    "    if score[0] - prev_score[0] <= threshold:\n",
    "         break\n"
   ]
  },
  {
   "cell_type": "code",
   "execution_count": 13,
   "metadata": {},
   "outputs": [
    {
     "data": {
      "text/plain": [
       "(array([1.01384075, 1.01384075, 0.5233411 , 1.44897774]),\n",
       " array([1.04861116, 1.04861116, 0.58333337, 1.31944449]))"
      ]
     },
     "execution_count": 13,
     "metadata": {},
     "output_type": "execute_result"
    }
   ],
   "source": [
    "score, prev_score"
   ]
  },
  {
   "cell_type": "markdown",
   "metadata": {},
   "source": []
  },
  {
   "cell_type": "markdown",
   "metadata": {},
   "source": [
    "### 5) 핵심 단어 추출"
   ]
  },
  {
   "cell_type": "code",
   "execution_count": 14,
   "metadata": {},
   "outputs": [
    {
     "name": "stdout",
     "output_type": "stream",
     "text": [
      "\n",
      "=== 핵심키워드 ===\n",
      "딸기 : 1.4489777411196274\n",
      "바나나 : 1.0138407546975161\n",
      "사과 : 1.0138407546975161\n",
      "파인애플 : 0.5233411024048669\n"
     ]
    }
   ],
   "source": [
    "sorted_index = { i :np.argsort(-score)[i]for  i in range(len(score))}\n",
    "n = 4\n",
    "\n",
    "print(\"\\n=== 핵심키워드 ===\")\n",
    "for i in range(0,n):\n",
    "    print(str(idx2vocab[sorted_index[i]])+\" : \" + str(score[sorted_index[i]]))"
   ]
  },
  {
   "cell_type": "code",
   "execution_count": null,
   "metadata": {},
   "outputs": [],
   "source": [
    "import numpy as np\n",
    "import math\n",
    "vocab_len = len(vocab)\n",
    "\n",
    "zero_list = np.zeros((vocab_len, vocab_len), dtype = np.float32)\n",
    "# 토큰별로 그래프 edge를 Matrix 형태로 생성\n",
    "for i in range(len(token)):\n",
    "    for j in range(len(token)):\n",
    "        if np.abs(i-j) == 1:\n",
    "            zero_list[vocab2idx[token[i]]][vocab2idx[token[j]]] = 1\n",
    "      \n",
    "    \n",
    "# weighted_edge = np.ones((vocab_len, vocab_len))\n",
    "\n",
    "# 각 토큰 노드별로 스코어 1로 초기화\n",
    "# score = None\n",
    "\n",
    "# coocurrence를 판단하기 위한 window 사이즈 설정\n",
    "# window_size = 2\n",
    "# covered_coocurrences = []\n",
    "\n",
    "# weighted_edge 구현\n"
   ]
  },
  {
   "cell_type": "markdown",
   "metadata": {},
   "source": [
    "이제 윈도우 사이즈가 주어졌을때를 생각해보자..\n",
    "\n",
    "만약 원래 테스트 길이가 5고, window size=2 라면\n",
    "\n",
    "12, 23, 34, 45 총4번\n",
    "\n",
    "만약 window size = 3이라면\n",
    "\n",
    "123, 234, 345 이렇게 3번\n",
    "\n",
    "그럼 3번 뽑고,  window size만큼 슬라이싱\n",
    "\n",
    "그럼 [1,2,3], [2,3,4], [3,4,5] 가 뽑혔으면\n",
    "12 13 23 에 +1 에 역으로인덱스를 key로 받는거 해서 token[]을 정하고 거기에 += 1\n",
    "23 24 34에 +=1 \n"
   ]
  },
  {
   "cell_type": "code",
   "execution_count": 19,
   "metadata": {},
   "outputs": [
    {
     "data": {
      "text/plain": [
       "[['딸기', '바나나'], ['바나나', '사과'], ['사과', '딸기'], ['딸기', '파인애플']]"
      ]
     },
     "execution_count": 19,
     "metadata": {},
     "output_type": "execute_result"
    }
   ],
   "source": [
    "window_size = 2\n",
    "token_len = len(token)\n",
    "new_token = []\n",
    "\n",
    "for i in range(token_len - window_size + 1):\n",
    "    new_token.append(token[i:i+window_size])\n"
   ]
  },
  {
   "cell_type": "code",
   "execution_count": null,
   "metadata": {},
   "outputs": [],
   "source": [
    "for tok in new_token:\n",
    "    for i in range(len(window_size - 1)):\n",
    "        "
   ]
  },
  {
   "cell_type": "markdown",
   "metadata": {},
   "source": [
    "# 선생님이 한 방법"
   ]
  },
  {
   "cell_type": "code",
   "execution_count": 24,
   "metadata": {},
   "outputs": [],
   "source": [
    "token = ['딸기', '바나나', '사과', '딸기','파인애플']\n",
    "nodes = ['바나나', '사과', '파인애플', '딸기']\n",
    "vocab = nodes"
   ]
  },
  {
   "cell_type": "markdown",
   "metadata": {},
   "source": [
    "dict_comprehension  \n",
    "\n",
    "vocab2idx = {}  \n",
    "for i in range(len(vocab)):  \n",
    "    vocab2idx[vocab[i]] = i  \n",
    "\n",
    "-->  vocab2idx = { vocab[i] : i for i in range(len(vocab))}\n",
    "    "
   ]
  },
  {
   "cell_type": "code",
   "execution_count": 26,
   "metadata": {},
   "outputs": [
    {
     "data": {
      "text/plain": [
       "{'바나나': 0, '사과': 1, '파인애플': 2, '딸기': 3}"
      ]
     },
     "execution_count": 26,
     "metadata": {},
     "output_type": "execute_result"
    }
   ],
   "source": [
    "vocab2idx = {vocab[i] : i for i in range(len(vocab))}\n",
    "idx2vocab = {i : vocab[i] for i in range(len(vocab))}\n",
    "vocab2idx"
   ]
  },
  {
   "cell_type": "markdown",
   "metadata": {},
   "source": [
    "### 3) 그래프 생성 (weighted edge 계산)\n",
    "\n",
    "*   TextRank는 그래프 기반 모델\n",
    "*   각 단어(토큰)은 그래프의 노드(vertex) \n",
    "*   weighted_edge 행렬은 노드간 가중치 정보를 담고 있음\n",
    "*   weighted_edge[i][j] 는 i번째 단어와 j번째 단어의 가중치를 의미\n",
    "*   weighted_edge[i][j] 가 0인 경우는 노드간 연결이 없음을 의미\n",
    "*   모든 노드는 1로 초기화"
   ]
  },
  {
   "cell_type": "code",
   "execution_count": 27,
   "metadata": {},
   "outputs": [
    {
     "data": {
      "text/plain": [
       "range(4, 4)"
      ]
     },
     "execution_count": 27,
     "metadata": {},
     "output_type": "execute_result"
    }
   ],
   "source": [
    "range(4,4)"
   ]
  },
  {
   "cell_type": "code",
   "execution_count": 13,
   "metadata": {},
   "outputs": [
    {
     "data": {
      "text/plain": [
       "[[0, 1], [1, 2], [2, 3], [3, 4]]"
      ]
     },
     "execution_count": 13,
     "metadata": {},
     "output_type": "execute_result"
    }
   ],
   "source": [
    "import numpy as np\n",
    "import math\n",
    "vocab_len = len(vocab)\n",
    "\n",
    "# 토큰별로 그래프 edge를 Matrix 형태로 생성\n",
    "weighted_edge = np.zeros((vocab_len, vocab_len))\n",
    "\n",
    "# 각 토큰 노드별로 스코어 1로 초기화\n",
    "score = np.ones((vocab_len))\n",
    "\n",
    "# coocurrence를 판단하기 위한 window 사이즈 설정\n",
    "window_size = 2\n",
    "covered_coocurrences = []\n",
    "\n",
    "# weighted_edge 구현\n",
    "for window_start in range(len(token) - window_size + 1):\n",
    "    window = token[window_start : window_start + window_size]\n",
    "    for i in range(window_size):\n",
    "        for j in range(i+1, window_size):\n",
    "            if (window[i] in vocab2idx.keys()) and (window[j] in vocab2idx.keys()):     #만약 동사, 명사만 할건데 전체가 없으면 그만!\n",
    "                index_i = window_start + i\n",
    "                index_j = window_start + j\n",
    "                \n",
    "                if [index_i, index_j] not in covered_coocurrences:\n",
    "                    weighted_edge[vocab2idx[window[i]]][vocab2idx[window[j]]] = 1\n",
    "                    weighted_edge[vocab2idx[window[j]]][vocab2idx[window[i]]] = 1\n",
    "                    covered_coocurrences.append([index_i, index_j])\n",
    "    \n",
    "    \n",
    "covered_coocurrences"
   ]
  },
  {
   "cell_type": "code",
   "execution_count": 74,
   "metadata": {},
   "outputs": [],
   "source": [
    "for i in range(vocab_len):\n",
    "    sumi = weighted_edge[i].sum()\n",
    "    weighted_edge[i] = weighted_edge[i]/sumi if sumi > 0 else 0"
   ]
  },
  {
   "cell_type": "code",
   "execution_count": 75,
   "metadata": {},
   "outputs": [
    {
     "data": {
      "text/plain": [
       "array([[0.        , 0.5       , 0.        , 0.5       ],\n",
       "       [0.5       , 0.        , 0.        , 0.5       ],\n",
       "       [0.        , 0.        , 0.        , 1.        ],\n",
       "       [0.33333333, 0.33333333, 0.33333333, 0.        ]])"
      ]
     },
     "execution_count": 75,
     "metadata": {},
     "output_type": "execute_result"
    }
   ],
   "source": [
    "weighted_edge"
   ]
  },
  {
   "cell_type": "markdown",
   "metadata": {},
   "source": [
    "### 4) 각 노드의 score계산\n",
    "각 노드와 연결된 weighted edge의 값을 합산"
   ]
  },
  {
   "cell_type": "code",
   "execution_count": 72,
   "metadata": {},
   "outputs": [
    {
     "data": {
      "text/plain": [
       "array([0.98348008, 0.98342456, 0.56548297, 1.46655755])"
      ]
     },
     "execution_count": 72,
     "metadata": {},
     "output_type": "execute_result"
    }
   ],
   "source": [
    "MAX_ITERATIONS = 50\n",
    "d=0.85\n",
    "threshold = 0.0001 #convergence threshold\n",
    "\n",
    "\n",
    "for iter in range(0,MAX_ITERATIONS):\n",
    "    prev_score = np.copy(score)\n",
    "    \n",
    "    for i in range(len(vocab)):\n",
    "        summation = 0\n",
    "        for j in range(len(vocab)):\n",
    "            if weighted_edge[j][i] != 0:\n",
    "                summation += weighted_edge[j][i] * score[j]\n",
    "            score[i] = (1 -d) + d * (summation)\n",
    "            \n",
    "        if np.sum(np.fabs(prev_score - score)) <= threshold:\n",
    "            break\n",
    "            \n",
    "\n",
    "\n",
    "score\n"
   ]
  },
  {
   "cell_type": "markdown",
   "metadata": {},
   "source": [
    "### 5)"
   ]
  },
  {
   "cell_type": "code",
   "execution_count": 77,
   "metadata": {},
   "outputs": [
    {
     "name": "stdout",
     "output_type": "stream",
     "text": [
      "[2 1 0 3]\n"
     ]
    }
   ],
   "source": [
    "sorted_index =None\n",
    "print(np.argsort(score)) # 내림차순을 위해뒤집으려면 [::-1]"
   ]
  },
  {
   "cell_type": "code",
   "execution_count": 78,
   "metadata": {},
   "outputs": [
    {
     "name": "stdout",
     "output_type": "stream",
     "text": [
      "딸기 : 1.46655755344874\n",
      "바나나 : 0.9834800785071365\n"
     ]
    }
   ],
   "source": [
    "sorted_index =np.argsort(score)[::-1]# 내림차순을 위해뒤집으려면 [::-1]\n",
    "n=2\n",
    "\n",
    "for i in range(n):\n",
    "    print(str(idx2vocab[sorted_index[i]]) + \" : \" + str(score[sorted_index[i]]))\n",
    "    "
   ]
  },
  {
   "cell_type": "code",
   "execution_count": null,
   "metadata": {},
   "outputs": [],
   "source": [
    "# 이제 이것들을 함수로 만들어야함.."
   ]
  },
  {
   "cell_type": "code",
   "execution_count": 6,
   "metadata": {},
   "outputs": [
    {
     "ename": "NameError",
     "evalue": "name 'covered_coocurrences' is not defined",
     "output_type": "error",
     "traceback": [
      "\u001b[1;31m---------------------------------------------------------------------------\u001b[0m",
      "\u001b[1;31mNameError\u001b[0m                                 Traceback (most recent call last)",
      "\u001b[1;32m<ipython-input-6-d087e89d2c5b>\u001b[0m in \u001b[0;36m<module>\u001b[1;34m\u001b[0m\n\u001b[0;32m      8\u001b[0m                 \u001b[0mindex_j\u001b[0m \u001b[1;33m=\u001b[0m \u001b[0mwindow_start\u001b[0m \u001b[1;33m+\u001b[0m \u001b[1;36m1\u001b[0m\u001b[1;33m\u001b[0m\u001b[1;33m\u001b[0m\u001b[0m\n\u001b[0;32m      9\u001b[0m \u001b[1;33m\u001b[0m\u001b[0m\n\u001b[1;32m---> 10\u001b[1;33m                 \u001b[1;32mif\u001b[0m \u001b[1;33m[\u001b[0m\u001b[0mindex_i\u001b[0m\u001b[1;33m,\u001b[0m \u001b[0mindex_j\u001b[0m\u001b[1;33m]\u001b[0m \u001b[1;32mnot\u001b[0m \u001b[1;32min\u001b[0m \u001b[0mcovered_coocurrences\u001b[0m\u001b[1;33m:\u001b[0m\u001b[1;33m\u001b[0m\u001b[1;33m\u001b[0m\u001b[0m\n\u001b[0m\u001b[0;32m     11\u001b[0m                     \u001b[0mweighted_edge\u001b[0m\u001b[1;33m[\u001b[0m\u001b[0mvocab2idx\u001b[0m\u001b[1;33m[\u001b[0m\u001b[0mwindow\u001b[0m\u001b[1;33m[\u001b[0m\u001b[0mi\u001b[0m\u001b[1;33m]\u001b[0m\u001b[1;33m]\u001b[0m\u001b[1;33m]\u001b[0m\u001b[1;33m[\u001b[0m\u001b[0mvocab2idx\u001b[0m\u001b[1;33m[\u001b[0m\u001b[0mwindow\u001b[0m\u001b[1;33m[\u001b[0m\u001b[0mj\u001b[0m\u001b[1;33m]\u001b[0m\u001b[1;33m]\u001b[0m\u001b[1;33m]\u001b[0m \u001b[1;33m=\u001b[0m \u001b[1;36m1\u001b[0m\u001b[1;33m\u001b[0m\u001b[1;33m\u001b[0m\u001b[0m\n\u001b[0;32m     12\u001b[0m                     \u001b[0mweighted_edge\u001b[0m\u001b[1;33m[\u001b[0m\u001b[0mvocab2idx\u001b[0m\u001b[1;33m[\u001b[0m\u001b[0mwindow\u001b[0m\u001b[1;33m[\u001b[0m\u001b[0mj\u001b[0m\u001b[1;33m]\u001b[0m\u001b[1;33m]\u001b[0m\u001b[1;33m]\u001b[0m\u001b[1;33m[\u001b[0m\u001b[0mvocab2idx\u001b[0m\u001b[1;33m[\u001b[0m\u001b[0mwindow\u001b[0m\u001b[1;33m[\u001b[0m\u001b[0mi\u001b[0m\u001b[1;33m]\u001b[0m\u001b[1;33m]\u001b[0m\u001b[1;33m]\u001b[0m \u001b[1;33m=\u001b[0m \u001b[1;36m1\u001b[0m\u001b[1;33m\u001b[0m\u001b[1;33m\u001b[0m\u001b[0m\n",
      "\u001b[1;31mNameError\u001b[0m: name 'covered_coocurrences' is not defined"
     ]
    }
   ],
   "source": [
    "window_size = 3\n",
    "for window_start in range(len(token) - window_size + 1):\n",
    "    window = token[window_start : window_start + window_size]\n",
    "    for i in range(window_size):\n",
    "        for j in range(i+1, window_size):\n",
    "            if (window[i] in vocab2idx.keys()) and (window[j] in vocab2idx.keys()):     #만약 동사, 명사만 할건데 전체가 없으면 그만!\n",
    "                index_i = window_start + 1\n",
    "                index_j = window_start + 1\n",
    "                \n",
    "                if [index_i, index_j] not in covered_coocurrences:\n",
    "                    weighted_edge[vocab2idx[window[i]]][vocab2idx[window[j]]] = 1\n",
    "                    weighted_edge[vocab2idx[window[j]]][vocab2idx[window[i]]] = 1\n",
    "                    covered_coocurrences.append([index_i, index_j])"
   ]
  },
  {
   "cell_type": "code",
   "execution_count": 11,
   "metadata": {},
   "outputs": [
    {
     "data": {
      "text/plain": [
       "[[0, 0]]"
      ]
     },
     "execution_count": 11,
     "metadata": {},
     "output_type": "execute_result"
    }
   ],
   "source": [
    "c = []\n",
    "\n",
    "c.append([0,0])\n",
    "c"
   ]
  },
  {
   "cell_type": "code",
   "execution_count": 10,
   "metadata": {},
   "outputs": [
    {
     "data": {
      "text/plain": [
       "[[1, 1], [2, 2], [3, 3]]"
      ]
     },
     "execution_count": 10,
     "metadata": {},
     "output_type": "execute_result"
    }
   ],
   "source": [
    "covered_coocurrences"
   ]
  },
  {
   "cell_type": "code",
   "execution_count": 24,
   "metadata": {},
   "outputs": [
    {
     "data": {
      "text/plain": [
       "array([[0., 1., 0., 1.],\n",
       "       [1., 0., 0., 1.],\n",
       "       [0., 0., 0., 1.],\n",
       "       [1., 1., 1., 0.]])"
      ]
     },
     "execution_count": 24,
     "metadata": {},
     "output_type": "execute_result"
    }
   ],
   "source": [
    "token = ['딸기', '바나나', '사과', '딸기','파인애플']\n",
    "nodes = ['바나나', '사과', '파인애플', '딸기']\n",
    "vocab = nodes\n",
    "\n",
    "# 그럼 나 혼자 해본다고 생각해봐\n",
    "\n",
    "# 처음엔 node의 길이(dictionary)만든거 의 shape\n",
    "\n",
    "vocab2idx = {nodes[i] : i for i in range(len(vocab))}\n",
    "idx2vocab = {i : nodes[i] for i in range(len(vocab))}\n",
    "\n",
    "# 일단 weighted_matrix\n",
    "vocab_len = len(vocab)\n",
    "\n",
    "weighted_edge = np.zeros((vocab_len, vocab_len))\n",
    "\n",
    "# score 구현\n",
    "score = np.ones((vocab_len))\n",
    "\n",
    "# 겹친거 막기, 그리고 윈도우 사이즈 구현\n",
    "\n",
    "coocurrence = []\n",
    "window_size = 2\n",
    "\n",
    "# 이제 구현해보자\n",
    "\n",
    "# 우선 window_size에 의해 생기는 경우의 수\n",
    "# 5개, window 2개 5 - 2 + 1\n",
    "for window_start in range(len(token) - window_size + 1):\n",
    "    window = token[window_start : (window_start + window_size)]\n",
    "    for i in range(window_size):\n",
    "        for j in range(i+1, window_size):\n",
    "            if (window[i] in vocab2idx.keys()) and (window[j] in vocab2idx.keys()):\n",
    "                index_i = window_start + i\n",
    "                index_j = window_start + j\n",
    "                \n",
    "                if [index_i, index_j] not in coocurrence:\n",
    "                    weighted_edge[vocab2idx[window[i]]][vocab2idx[window[j]]] = 1\n",
    "                    weighted_edge[vocab2idx[window[j]]][vocab2idx[window[i]]] = 1\n",
    "                    coocurrence.append([index_i, index_j])\n",
    "\n",
    "weighted_edge"
   ]
  },
  {
   "cell_type": "code",
   "execution_count": 25,
   "metadata": {},
   "outputs": [
    {
     "data": {
      "text/plain": [
       "array([[0.        , 0.5       , 0.        , 0.5       ],\n",
       "       [0.5       , 0.        , 0.        , 0.5       ],\n",
       "       [0.        , 0.        , 0.        , 1.        ],\n",
       "       [0.33333333, 0.33333333, 0.33333333, 0.        ]])"
      ]
     },
     "execution_count": 25,
     "metadata": {},
     "output_type": "execute_result"
    }
   ],
   "source": [
    "for i in range(vocab_len):\n",
    "    weighted_edge[i] = weighted_edge[i]/weighted_edge[i].sum()\n",
    "\n",
    "weighted_edge"
   ]
  },
  {
   "cell_type": "code",
   "execution_count": 26,
   "metadata": {},
   "outputs": [
    {
     "data": {
      "text/plain": [
       "array([0.98348008, 0.98342456, 0.56548297, 1.46655755])"
      ]
     },
     "execution_count": 26,
     "metadata": {},
     "output_type": "execute_result"
    }
   ],
   "source": [
    "# 아니야 했으니까..\n",
    "\n",
    "MAX_ITERATIONS = 50\n",
    "d=0.85\n",
    "threshold = 0.0001 #convergence threshold\n",
    "\n",
    "\n",
    "for iter in range(0,MAX_ITERATIONS):\n",
    "    prev_score = np.copy(score)\n",
    "    \n",
    "    for i in range(len(vocab)):\n",
    "        summation = 0\n",
    "        for j in range(len(vocab)):\n",
    "            if not weighted_edge[j][i] ==0:\n",
    "                summation += weighted_edge[j][i] * score[j]\n",
    "            score[i] = (1-d) + d*(summation)\n",
    "        if np.sum(np.fabs(score - prev_score)) <= threshold:\n",
    "            break\n",
    "\n",
    "            \n",
    "\n",
    "\n",
    "score\n"
   ]
  },
  {
   "cell_type": "code",
   "execution_count": 34,
   "metadata": {},
   "outputs": [
    {
     "data": {
      "text/plain": [
       "array([2, 1, 0, 3], dtype=int64)"
      ]
     },
     "execution_count": 34,
     "metadata": {},
     "output_type": "execute_result"
    }
   ],
   "source": [
    "np.argsort(score)"
   ]
  },
  {
   "cell_type": "code",
   "execution_count": 40,
   "metadata": {},
   "outputs": [
    {
     "name": "stdout",
     "output_type": "stream",
     "text": [
      "1.46655755344874 : 딸기\n",
      "0.9834800785071365 : 바나나\n",
      "0.9834245608548868 : 사과\n",
      "0.5654829717964912 : 파인애플\n"
     ]
    }
   ],
   "source": [
    "for i in np.argsort(score)[::-1]:\n",
    "    print('{} : {}'.format(score[i], idx2vocab[i]))"
   ]
  },
  {
   "cell_type": "code",
   "execution_count": null,
   "metadata": {},
   "outputs": [],
   "source": [
    "n = 2\n",
    "for i in range(n):\n",
    "    print( '{},{}'.format(score[n], idx2vocab(np.argsort(score)[::-1][n])))"
   ]
  },
  {
   "cell_type": "code",
   "execution_count": 41,
   "metadata": {},
   "outputs": [
    {
     "data": {
      "text/plain": [
       "1"
      ]
     },
     "execution_count": 41,
     "metadata": {},
     "output_type": "execute_result"
    }
   ],
   "source": [
    "np.argsort(score)[::-1][i]"
   ]
  },
  {
   "cell_type": "code",
   "execution_count": 42,
   "metadata": {},
   "outputs": [
    {
     "data": {
      "text/plain": [
       "'사과'"
      ]
     },
     "execution_count": 42,
     "metadata": {},
     "output_type": "execute_result"
    }
   ],
   "source": [
    "idx2vocab[1]"
   ]
  },
  {
   "cell_type": "code",
   "execution_count": 44,
   "metadata": {},
   "outputs": [
    {
     "ename": "TypeError",
     "evalue": "'dict' object is not callable",
     "output_type": "error",
     "traceback": [
      "\u001b[1;31m---------------------------------------------------------------------------\u001b[0m",
      "\u001b[1;31mTypeError\u001b[0m                                 Traceback (most recent call last)",
      "\u001b[1;32m<ipython-input-44-c10c07479231>\u001b[0m in \u001b[0;36m<module>\u001b[1;34m\u001b[0m\n\u001b[0;32m      1\u001b[0m \u001b[0mn\u001b[0m\u001b[1;33m=\u001b[0m\u001b[1;36m2\u001b[0m\u001b[1;33m\u001b[0m\u001b[1;33m\u001b[0m\u001b[0m\n\u001b[0;32m      2\u001b[0m \u001b[1;32mfor\u001b[0m \u001b[0mi\u001b[0m \u001b[1;32min\u001b[0m \u001b[0mrange\u001b[0m\u001b[1;33m(\u001b[0m\u001b[0mn\u001b[0m\u001b[1;33m)\u001b[0m\u001b[1;33m:\u001b[0m\u001b[1;33m\u001b[0m\u001b[1;33m\u001b[0m\u001b[0m\n\u001b[1;32m----> 3\u001b[1;33m     \u001b[0mprint\u001b[0m\u001b[1;33m(\u001b[0m \u001b[1;34m'{},{}'\u001b[0m\u001b[1;33m.\u001b[0m\u001b[0mformat\u001b[0m\u001b[1;33m(\u001b[0m \u001b[0midx2vocab\u001b[0m\u001b[1;33m(\u001b[0m\u001b[0mnp\u001b[0m\u001b[1;33m.\u001b[0m\u001b[0margsort\u001b[0m\u001b[1;33m(\u001b[0m\u001b[0mscore\u001b[0m\u001b[1;33m)\u001b[0m\u001b[1;33m[\u001b[0m\u001b[1;33m:\u001b[0m\u001b[1;33m:\u001b[0m\u001b[1;33m-\u001b[0m\u001b[1;36m1\u001b[0m\u001b[1;33m]\u001b[0m\u001b[1;33m[\u001b[0m\u001b[0mi\u001b[0m\u001b[1;33m]\u001b[0m\u001b[1;33m)\u001b[0m\u001b[1;33m,\u001b[0m \u001b[0mscore\u001b[0m\u001b[1;33m[\u001b[0m\u001b[0mi\u001b[0m\u001b[1;33m]\u001b[0m\u001b[1;33m)\u001b[0m\u001b[1;33m)\u001b[0m\u001b[1;33m\u001b[0m\u001b[1;33m\u001b[0m\u001b[0m\n\u001b[0m",
      "\u001b[1;31mTypeError\u001b[0m: 'dict' object is not callable"
     ]
    }
   ],
   "source": [
    "n=2\n",
    "for i in range(n):\n",
    "    print( '{},{}'.format( idx2vocab(np.argsort(score)[::-1][i]), score[i]))\n"
   ]
  },
  {
   "cell_type": "code",
   "execution_count": 48,
   "metadata": {},
   "outputs": [
    {
     "ename": "TypeError",
     "evalue": "'dict' object is not callable",
     "output_type": "error",
     "traceback": [
      "\u001b[1;31m---------------------------------------------------------------------------\u001b[0m",
      "\u001b[1;31mTypeError\u001b[0m                                 Traceback (most recent call last)",
      "\u001b[1;32m<ipython-input-48-09551ac4de5d>\u001b[0m in \u001b[0;36m<module>\u001b[1;34m\u001b[0m\n\u001b[1;32m----> 1\u001b[1;33m \u001b[0midx2vocab\u001b[0m\u001b[1;33m(\u001b[0m\u001b[0mnp\u001b[0m\u001b[1;33m.\u001b[0m\u001b[0margsort\u001b[0m\u001b[1;33m(\u001b[0m\u001b[0mscore\u001b[0m\u001b[1;33m)\u001b[0m\u001b[1;33m[\u001b[0m\u001b[1;33m:\u001b[0m\u001b[1;33m:\u001b[0m\u001b[1;33m-\u001b[0m\u001b[1;36m1\u001b[0m\u001b[1;33m]\u001b[0m\u001b[1;33m[\u001b[0m\u001b[1;36m2\u001b[0m\u001b[1;33m]\u001b[0m\u001b[1;33m)\u001b[0m\u001b[1;33m\u001b[0m\u001b[1;33m\u001b[0m\u001b[0m\n\u001b[0m",
      "\u001b[1;31mTypeError\u001b[0m: 'dict' object is not callable"
     ]
    }
   ],
   "source": [
    "idx2vocab(np.argsort(score)[::-1][2])"
   ]
  },
  {
   "cell_type": "code",
   "execution_count": 51,
   "metadata": {},
   "outputs": [
    {
     "data": {
      "text/plain": [
       "3"
      ]
     },
     "execution_count": 51,
     "metadata": {},
     "output_type": "execute_result"
    }
   ],
   "source": [
    "np.argsort(score)[::-1][0]"
   ]
  },
  {
   "cell_type": "code",
   "execution_count": null,
   "metadata": {},
   "outputs": [],
   "source": []
  }
 ],
 "metadata": {
  "kernelspec": {
   "display_name": "Python 3",
   "language": "python",
   "name": "python3"
  },
  "language_info": {
   "codemirror_mode": {
    "name": "ipython",
    "version": 3
   },
   "file_extension": ".py",
   "mimetype": "text/x-python",
   "name": "python",
   "nbconvert_exporter": "python",
   "pygments_lexer": "ipython3",
   "version": "3.6.10"
  }
 },
 "nbformat": 4,
 "nbformat_minor": 4
}
