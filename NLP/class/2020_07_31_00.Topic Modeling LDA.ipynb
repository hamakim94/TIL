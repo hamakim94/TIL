{
 "cells": [
  {
   "cell_type": "markdown",
   "metadata": {
    "colab_type": "text",
    "id": "_OzRnst_HJJu"
   },
   "source": [
    "# 토픽모델링 (Topic Modeling)"
   ]
  },
  {
   "cell_type": "markdown",
   "metadata": {
    "colab_type": "text",
    "id": "Xh94rk2QHMxR"
   },
   "source": [
    "#0 환경"
   ]
  },
  {
   "cell_type": "markdown",
   "metadata": {
    "colab_type": "text",
    "id": "Jyp5nHXQsXez"
   },
   "source": [
    "# 1 잠재의미분석 (Latent Semantic Analysis LSA)"
   ]
  },
  {
   "cell_type": "markdown",
   "metadata": {
    "colab_type": "text",
    "id": "rAQyWNVQWAh8"
   },
   "source": [
    "## 1.1 직접 구현"
   ]
  },
  {
   "cell_type": "markdown",
   "metadata": {
    "colab_type": "text",
    "id": "GnynjZgAM69T"
   },
   "source": [
    "###1) 직접 구현"
   ]
  },
  {
   "cell_type": "code",
   "execution_count": null,
   "metadata": {
    "colab": {},
    "colab_type": "code",
    "id": "MFgOmDD84TkZ"
   },
   "outputs": [],
   "source": [
    "import numpy as np\n",
    "from collections import defaultdict\n",
    "from sklearn.metrics.pairwise import cosine_similarity\n",
    "from sklearn.decomposition import randomized_svd\n",
    "\n",
    "class LSA:\n",
    "    def __init__(self, doc_ls, topic_num):\n",
    "      self.doc_ls = doc_ls\n",
    "      self.topic_num = topic_num\n",
    "\n",
    "      self.term2idx, self.idx2term = self.toIdxDict( ' '.join(doc_ls).split())\n",
    "\n",
    "      self.doc2idx, self.idx2doc = self.toIdxDict(doc_ls)\n",
    "\n",
    "      self.tdm  = self.TDM(doc_ls)\n",
    "      self.U, self.s, self.VT = self.SVD(self.tdm)\n",
    "      \n",
    "      self.term_mat = self.TermVectorMatrix(self.U, self.s, topic_num)\n",
    "      self.doc_mat = self.DocVectorMatrix(self.s, self.VT, topic_num)\n",
    "\n",
    "      self.term_doc_mat = self.TermDocVectorMatrix(self.U, self.s, self.VT, topic_num)\n",
    "\n",
    "    # 리스트내 값을 index로 변환하는 dict과 \n",
    "    # index를 리스트내 값으로 변환하는 dict\n",
    "    def toIdxDict(self, ls):\n",
    "      any2idx = defaultdict(lambda : len(any2idx))\n",
    "      idx2any = defaultdict()\n",
    "\n",
    "      for item in ls:\n",
    "        any2idx[item]\n",
    "        idx2any[any2idx[item]] = item\n",
    "\n",
    "      return any2idx, idx2any\n",
    "\n",
    "    \n",
    "    def TDM(self, doc_ls):\n",
    "      tdm = np.zeros([len(self.term2idx), len(doc_ls)])\n",
    "      for doc_idx, doc in enumerate(doc_ls):\n",
    "        for term in doc.split():\n",
    "          tdm[self.term2idx[term], doc_idx] += 1\n",
    "\n",
    "      return tdm\n",
    "        \n",
    "    \n",
    "    # 특이값 분해\n",
    "    def SVD(self, tdm):\n",
    "      U, s, VT = randomized_svd(tdm, n_components = 6, n_iter=20, random_state=None)\n",
    "      return U, s, VT\n",
    "\n",
    "\n",
    "    # 토픽별 주요 키워드 출력\n",
    "    def TopicModeling(self, topic_num = 3):\n",
    "      for i in range(topic_num):\n",
    "        score = self.U[:, i:i+1].T\n",
    "        sorted_index = np.argsort(-score)\n",
    "\n",
    "        a = []\n",
    "        for j in sorted_index[0, : topic_num]:\n",
    "          a.append((self.idx2term[j], score[0, j].round(3)))\n",
    "\n",
    "        print(\"Topic {} - {}\".format(i + 1, a))\n",
    "\n",
    "    \n",
    "    def TermDocVectorMatrix(self, u, s, vt, topic_num):\n",
    "      term_doc_mat = np.matrix(u[:, :topic_num]) * np.diag(s[:topic_num]) * np.matrix(vt[:topic_num, :])\n",
    "      return term_doc_mat  \n",
    "\n",
    "    # 키워드를 입력했을 때 단어 벡터 반환\n",
    "    def GetTermVector(self, term):\n",
    "      vec = self.term_mat[self.term2idx[term]]\n",
    "      print(\"{} = {}\".format(term, vec))\n",
    "      return vec\n",
    "        \n",
    "            \n",
    "    # 문서를 입력했을 때 문서 벡터 반환\n",
    "    def GetDocVector(self, doc):\n",
    "      vec = self.doc_mat[self.doc2idx[doc]]\n",
    "      print(\"{} = {}\".format(doc, vec))\n",
    "      return vec\n",
    "    \n",
    "    \n",
    "    def TermVectorMatrix(self, u, s, topic_num):\n",
    "      term_mat = np.matrix(u[:, :topic_num]) * np.diag(s[:topic_num]) \n",
    "      return term_mat\n",
    "        \n",
    "    def DocVectorMatrix(self, s, vt, topic_num):\n",
    "      doc_mat = np.diag(s[:topic_num])  * np.matrix(vt[:topic_num, :])\n",
    "      return doc_mat.T\n",
    "        \n",
    "    def GetTermSimilarity(self, term1, term2):\n",
    "      sim = cosine_similarity(self.GetTermVector(term1), self.GetTermVector(term2))\n",
    "      print('({},{}) term similarity = {}'.format(term1, term2, sim[0][0]))\n",
    "      return sim\n",
    "        \n",
    "    def GetDocSimilarity(self, doc1, doc2):\n",
    "      sim  = cosine_similarity(self.GetDocVector(doc1), self.GetDocVector(doc2))\n",
    "      print('({},{}) doc similarity = {}'.format(doc1, doc2, sim[0][0]))\n",
    "      return sim\n",
    "    \n",
    "    def Compression(self, round_num=0):        \n",
    "      print(self.tdm)\n",
    "      print(self.term_doc_mat.round(round_num))\n",
    "        \n",
    "        \n",
    "    "
   ]
  },
  {
   "cell_type": "code",
   "execution_count": null,
   "metadata": {
    "colab": {
     "base_uri": "https://localhost:8080/",
     "height": 1000
    },
    "colab_type": "code",
    "executionInfo": {
     "elapsed": 634,
     "status": "ok",
     "timestamp": 1596086522281,
     "user": {
      "displayName": "홍경수",
      "photoUrl": "",
      "userId": "10514684854108920109"
     },
     "user_tz": -540
    },
    "id": "JqZnr8SX86qt",
    "outputId": "9b3c01bd-6957-4fb9-9399-4ddff42d8dea"
   },
   "outputs": [
    {
     "name": "stdout",
     "output_type": "stream",
     "text": [
      "[[1. 0. 1. 0. 0. 0. 0. 0. 0. 0. 0. 0.]\n",
      " [1. 1. 0. 0. 0. 0. 0. 0. 0. 0. 0. 0.]\n",
      " [2. 1. 1. 0. 0. 0. 0. 0. 0. 0. 0. 0.]\n",
      " [1. 0. 0. 1. 0. 1. 0. 1. 0. 0. 1. 0.]\n",
      " [0. 0. 0. 1. 0. 1. 0. 0. 0. 0. 0. 0.]\n",
      " [0. 0. 0. 1. 1. 0. 0. 0. 0. 0. 0. 0.]\n",
      " [0. 0. 0. 0. 1. 0. 0. 0. 0. 0. 0. 0.]\n",
      " [0. 0. 0. 0. 0. 0. 1. 0. 0. 0. 0. 0.]\n",
      " [0. 0. 0. 0. 0. 0. 1. 1. 1. 0. 0. 0.]\n",
      " [0. 0. 0. 0. 0. 0. 0. 0. 1. 0. 0. 0.]\n",
      " [0. 0. 0. 0. 0. 0. 0. 0. 1. 0. 0. 0.]\n",
      " [0. 0. 0. 0. 0. 0. 0. 0. 0. 1. 0. 0.]\n",
      " [0. 0. 0. 0. 0. 0. 0. 0. 0. 1. 0. 0.]\n",
      " [0. 0. 0. 0. 0. 0. 0. 0. 0. 1. 1. 1.]\n",
      " [0. 0. 0. 0. 0. 0. 0. 0. 0. 0. 1. 0.]\n",
      " [0. 0. 0. 0. 0. 0. 0. 0. 0. 0. 0. 1.]]\n",
      "== 토픽 모델링 ==\n",
      "Topic 1 - [('포도', 0.697), ('짜장면', 0.486), ('사과', 0.348)]\n",
      "Topic 2 - [('짜장면', 0.584), ('짬뽕', 0.356), ('김치', 0.337)]\n",
      "Topic 3 - [('김치', 0.611), ('된장찌개', 0.264), ('김치찌개', 0.264)]\n",
      "\n",
      "== 단어 벡터 ==\n",
      "사과 = [[ 1.1233207  -0.47387139  0.03306518]]\n",
      "포도 = [[ 2.24664139 -0.94774279  0.06613036]]\n",
      "\n",
      "== 단어 유사도 ==\n",
      "사과 = [[ 1.1233207  -0.47387139  0.03306518]]\n",
      "바나나 = [[ 1.1233207  -0.47387139  0.03306518]]\n",
      "(사과,바나나) term similarity = 0.9999999999999999\n",
      "사과 = [[ 1.1233207  -0.47387139  0.03306518]]\n",
      "짜장면 = [[ 1.56565532  1.42901928 -0.15505762]]\n",
      "(사과,짜장면) term similarity = 0.4152547723216526\n",
      "포도 = [[ 2.24664139 -0.94774279  0.06613036]]\n",
      "짜장면 = [[ 1.56565532  1.42901928 -0.15505762]]\n",
      "(포도,짜장면) term similarity = 0.41525477232165303\n",
      "사과 = [[ 1.1233207  -0.47387139  0.03306518]]\n",
      "스시 = [[ 0.22210874  0.6262725  -1.0851879 ]]\n",
      "(사과,스시) term similarity = -0.05358134239633547\n",
      "\n",
      "== 문서 벡터 ==\n",
      "사과 포도 = [[ 1.04529381 -0.58112882  0.04777778]]\n",
      "짜장면 짬뽕 = [[ 0.61011838  0.93971158 -0.17760018]]\n",
      "\n",
      "== 문서 유사도 ==\n",
      "사과 포도 = [[ 1.04529381 -0.58112882  0.04777778]]\n",
      "포도 바나나 = [[ 1.04529381 -0.58112882  0.04777778]]\n",
      "(사과 포도,포도 바나나) doc similarity = 1.0\n",
      "사과 포도 = [[ 1.04529381 -0.58112882  0.04777778]]\n",
      "바나나 사과 포도 포도 짜장면 = [[ 2.57622211 -0.57810176  0.02087167]]\n",
      "(사과 포도,바나나 사과 포도 포도 짜장면) doc similarity = 0.9587158948422937\n",
      "\n",
      "== 토픽 차원수로 압축 ==\n",
      "[[1. 0. 1. 0. 0. 0. 0. 0. 0. 0. 0. 0.]\n",
      " [1. 1. 0. 0. 0. 0. 0. 0. 0. 0. 0. 0.]\n",
      " [2. 1. 1. 0. 0. 0. 0. 0. 0. 0. 0. 0.]\n",
      " [1. 0. 0. 1. 0. 1. 0. 1. 0. 0. 1. 0.]\n",
      " [0. 0. 0. 1. 0. 1. 0. 0. 0. 0. 0. 0.]\n",
      " [0. 0. 0. 1. 1. 0. 0. 0. 0. 0. 0. 0.]\n",
      " [0. 0. 0. 0. 1. 0. 0. 0. 0. 0. 0. 0.]\n",
      " [0. 0. 0. 0. 0. 0. 1. 0. 0. 0. 0. 0.]\n",
      " [0. 0. 0. 0. 0. 0. 1. 1. 1. 0. 0. 0.]\n",
      " [0. 0. 0. 0. 0. 0. 0. 0. 1. 0. 0. 0.]\n",
      " [0. 0. 0. 0. 0. 0. 0. 0. 1. 0. 0. 0.]\n",
      " [0. 0. 0. 0. 0. 0. 0. 0. 0. 1. 0. 0.]\n",
      " [0. 0. 0. 0. 0. 0. 0. 0. 0. 1. 0. 0.]\n",
      " [0. 0. 0. 0. 0. 0. 0. 0. 0. 1. 1. 1.]\n",
      " [0. 0. 0. 0. 0. 0. 0. 0. 0. 0. 1. 0.]\n",
      " [0. 0. 0. 0. 0. 0. 0. 0. 0. 0. 0. 1.]]\n",
      "[[ 1.  0.  0.  0. -0.  0. -0.  0. -0. -0.  0. -0.]\n",
      " [ 1.  0.  0.  0. -0.  0. -0.  0. -0. -0.  0. -0.]\n",
      " [ 2.  1.  1.  0. -0.  0. -0.  0. -0. -0.  0. -0.]\n",
      " [ 1.  0.  0.  1.  0.  1.  0.  1.  0.  0.  1.  0.]\n",
      " [ 0. -0. -0.  1.  0.  0.  0.  0.  0.  0.  0.  0.]\n",
      " [ 0. -0. -0.  0.  0.  0.  0.  0.  0.  0.  0.  0.]\n",
      " [-0. -0. -0.  0.  0.  0.  0.  0.  0. -0.  0. -0.]\n",
      " [-0. -0. -0.  0.  0.  0.  0.  0.  0. -0. -0. -0.]\n",
      " [ 0. -0. -0.  0.  0.  0.  0.  1.  1. -0. -0. -0.]\n",
      " [-0. -0. -0.  0.  0.  0.  0.  0.  0. -0. -0. -0.]\n",
      " [-0. -0. -0.  0.  0.  0.  0.  0.  0. -0. -0. -0.]\n",
      " [-0. -0. -0.  0. -0.  0. -0. -0. -0.  0.  0.  0.]\n",
      " [-0. -0. -0.  0. -0.  0. -0. -0. -0.  0.  0.  0.]\n",
      " [ 0. -0. -0.  0.  0.  0. -0. -0. -0.  1.  1.  1.]\n",
      " [ 0. -0. -0.  0.  0.  0. -0.  0. -0.  0.  0.  0.]\n",
      " [-0. -0. -0.  0. -0.  0. -0. -0. -0.  0.  0.  0.]]\n"
     ]
    }
   ],
   "source": [
    "doc_ls = ['바나나 사과 포도 포도 짜장면',\n",
    "         '사과 포도',\n",
    "         '포도 바나나',\n",
    "         '짜장면 짬뽕 탕수육',\n",
    "         '볶음밥 탕수육',\n",
    "         '짜장면 짬뽕',\n",
    "         '라면 스시',\n",
    "         '스시 짜장면',\n",
    "         '가츠동 스시 소바',\n",
    "         '된장찌개 김치찌개 김치',\n",
    "         '김치 된장 짜장면',\n",
    "         '비빔밥 김치'\n",
    "         ]\n",
    "\n",
    "\n",
    "\n",
    "lsa = LSA(doc_ls, 3)\n",
    "X = lsa.TDM(doc_ls)\n",
    "print(X)\n",
    "print('== 토픽 모델링 ==')\n",
    "lsa.TopicModeling(3)\n",
    "\n",
    "print('\\n== 단어 벡터 ==')\n",
    "lsa.GetTermVector('사과')\n",
    "lsa.GetTermVector('포도')\n",
    "print('\\n== 단어 유사도 ==')\n",
    "lsa.GetTermSimilarity('사과','바나나')\n",
    "lsa.GetTermSimilarity('사과','짜장면')\n",
    "lsa.GetTermSimilarity('포도','짜장면')\n",
    "lsa.GetTermSimilarity('사과','스시')\n",
    "print('\\n== 문서 벡터 ==')\n",
    "lsa.GetDocVector('사과 포도')\n",
    "lsa.GetDocVector('짜장면 짬뽕')\n",
    "print('\\n== 문서 유사도 ==')\n",
    "lsa.GetDocSimilarity('사과 포도', '포도 바나나')\n",
    "lsa.GetDocSimilarity('사과 포도', '바나나 사과 포도 포도 짜장면')\n",
    "print('\\n== 토픽 차원수로 압축 ==')\n",
    "lsa.Compression(0)"
   ]
  },
  {
   "cell_type": "markdown",
   "metadata": {
    "colab_type": "text",
    "id": "c0Ah5QgSqEce"
   },
   "source": [
    "### 2) 실습 템플릿"
   ]
  },
  {
   "cell_type": "code",
   "execution_count": null,
   "metadata": {
    "colab": {},
    "colab_type": "code",
    "id": "_Dsdajm39w73"
   },
   "outputs": [],
   "source": [
    "class LSA :\n",
    "  def __init__(self, doc_ls, topic_num):\n",
    "    pass\n",
    "  \n",
    "  # tdm matrix 생성\n",
    "  def TDM(self, doc_ls):\n",
    "    pass\n",
    "  \n",
    "  # tdm matrix 특이값 분해(SVD)\n",
    "  # U, s, Vt로 분해\n",
    "  def SVD(self, tdm):\n",
    "    pass\n",
    "  \n",
    "  # 토픽별 주요 키워드 출력\n",
    "  def TopicModeling(self) :\n",
    "    pass\n",
    "  \n",
    "  \n",
    "  # 단어 벡터 행렬 생성 dot(U,s)  \n",
    "  def TermVectorMatrix(self, u, s):\n",
    "    pass\n",
    "  \n",
    "  # 문서 벡터 행렬 생성 dot(s,Vt).T \n",
    "  def DocVectorMatrix(self, s, vt):\n",
    "    pass\n",
    "  \n",
    "  # 키워드를 입력했을 때 단어 벡터 반환\n",
    "  def GetTermVector(self, term):\n",
    "    pass\n",
    "  \n",
    "  # 문서를 입력했을 때 문서 벡터 반환\n",
    "  def GetDocVector(self, doc):\n",
    "    pass\n",
    "  \n",
    "  # 단어-문서 벡터 행렬 생성\n",
    "  def TermDocVectorMatrix(self, u, s, vt):\n",
    "    pass\n",
    "  \n",
    "  # 단어 벡터 행렬에서 단어 간 코사인 유사도 측정하여 행렬형태로 반환\n",
    "  def TermSimilarityMatrix(self, term_vec_matrix):\n",
    "    pass\n",
    "  \n",
    "  # 두개 단어를 입력했을 때 코사인 유사도 반환\n",
    "  def GetTermSimilarity(self, term1, term2):\n",
    "    pass\n",
    "  \n",
    "  # 문서 벡터 행렬에서 문서 간 코사인 유사도 측정하여 행렬형태로 반환\n",
    "  def DocSimilarityMartrix(self, doc_vec_matrix):\n",
    "    pass\n",
    "  \n",
    "  # 두개 문서를 입력했을 때 코사인 유사도 반환\n",
    "  def GetDocSimilarity(self, doc1, doc2):\n",
    "    pass"
   ]
  },
  {
   "cell_type": "code",
   "execution_count": null,
   "metadata": {
    "colab": {},
    "colab_type": "code",
    "id": "wHB9A2VjGE0j"
   },
   "outputs": [],
   "source": [
    "doc_ls = ['바나나 사과 포도 포도',\n",
    "         '사과 포도',\n",
    "         '포도 바나나',\n",
    "         '짜장면 짬뽕 탕수욕',\n",
    "         '볶음밥 탕수욕',\n",
    "         '짜장면 짬뽕',\n",
    "         '라면 스시',\n",
    "         '스시',\n",
    "         '가츠동 스시 소바',\n",
    "         '된장찌개 김치찌개 김치',\n",
    "         '김치 된장',\n",
    "         '비빔밥 김치'\n",
    "         ]\n",
    "\n",
    "lsa = LSA(doc_ls, 3)\n",
    "lsa.TopicModeling()\n",
    "lsa.GetTermSimilarity('사과','바나나')\n",
    "lsa.GetTermSimilarity('사과','짜장면')\n",
    "lsa.GetDocSimilarity('사과 포도', '포도 바나나')\n",
    "lsa.GetDocSimilarity('사과 포도', '라면 스시')"
   ]
  },
  {
   "cell_type": "markdown",
   "metadata": {
    "colab_type": "text",
    "id": "31Kn3iEWLDz9"
   },
   "source": [
    "## 1.2 sklearn 활용"
   ]
  },
  {
   "cell_type": "markdown",
   "metadata": {
    "colab_type": "text",
    "id": "T4r9ObIkyz4-"
   },
   "source": [
    "![image.png](data:image/png;base64,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)"
   ]
  },
  {
   "cell_type": "markdown",
   "metadata": {
    "colab_type": "text",
    "id": "kaaw49O5mqec"
   },
   "source": [
    "###1) 토픽모델링"
   ]
  },
  {
   "cell_type": "code",
   "execution_count": null,
   "metadata": {
    "colab": {},
    "colab_type": "code",
    "id": "2LVVXaR4EJCZ"
   },
   "outputs": [],
   "source": [
    "docs = ['바나나 사과 포도 포도 짜장면',\n",
    "         '사과 포도',\n",
    "         '포도 바나나',\n",
    "         '짜장면 짬뽕 탕수육',\n",
    "         '볶음밥 탕수육',\n",
    "         '짜장면 짬뽕',\n",
    "         '라면 스시',\n",
    "         '스시 짜장면',\n",
    "         '가츠동 스시 소바',\n",
    "         '된장찌개 김치찌개 김치',\n",
    "         '김치 된장 짜장면',\n",
    "         '비빔밥 김치'\n",
    "         ]"
   ]
  },
  {
   "cell_type": "code",
   "execution_count": null,
   "metadata": {
    "colab": {},
    "colab_type": "code",
    "id": "UT0fY59Wm9cR"
   },
   "outputs": [],
   "source": [
    "from sklearn.feature_extraction.text import TfidfVectorizer\n",
    "from sklearn.decomposition import TruncatedSVD\n",
    "\n",
    "n_topic = 3\n",
    "\n",
    "tfidf_vect = TfidfVectorizer(max_features=1000, max_df = 0.5, smooth_idf=True)\n",
    "tfidf = tfidf_vect.fit_transform(docs)\n",
    "svd = TruncatedSVD(n_components=n_topic, algorithm='randomized', n_iter=100)\n",
    "\n",
    "U = svd.fit_transform(tfidf)\n",
    "VT = svd.components_"
   ]
  },
  {
   "cell_type": "code",
   "execution_count": null,
   "metadata": {
    "colab": {
     "base_uri": "https://localhost:8080/",
     "height": 68
    },
    "colab_type": "code",
    "executionInfo": {
     "elapsed": 588,
     "status": "ok",
     "timestamp": 1596095107563,
     "user": {
      "displayName": "홍경수",
      "photoUrl": "",
      "userId": "10514684854108920109"
     },
     "user_tz": -540
    },
    "id": "J1ruuMNVn59m",
    "outputId": "da6af9e5-a00e-4f0d-9c08-a878a8c1d952"
   },
   "outputs": [
    {
     "name": "stdout",
     "output_type": "stream",
     "text": [
      "Topic 0: [('포도', 0.58251), ('짜장면', 0.49916), ('사과', 0.32971)]\n",
      "Topic 1: [('짜장면', 0.43992), ('짬뽕', 0.39143), ('스시', 0.31495)]\n",
      "Topic 2: [('스시', 0.70278), ('라면', 0.3528), ('가츠동', 0.25327)]\n"
     ]
    }
   ],
   "source": [
    "vocab = tfidf_vect.get_feature_names()\n",
    "n = 3\n",
    "for idx, topic in enumerate(VT):\n",
    "  print(\"Topic {}: {}\".format(idx, [ (vocab[i], topic[i].round(5)) for i in topic.argsort()[:-n -1:-1]  ]))"
   ]
  },
  {
   "cell_type": "markdown",
   "metadata": {
    "colab_type": "text",
    "id": "Cj3fMxdamzB6"
   },
   "source": [
    "###2) 단어벡터"
   ]
  },
  {
   "cell_type": "code",
   "execution_count": null,
   "metadata": {
    "colab": {
     "base_uri": "https://localhost:8080/",
     "height": 289
    },
    "colab_type": "code",
    "executionInfo": {
     "elapsed": 674,
     "status": "ok",
     "timestamp": 1596095108921,
     "user": {
      "displayName": "홍경수",
      "photoUrl": "",
      "userId": "10514684854108920109"
     },
     "user_tz": -540
    },
    "id": "m_nB_noDpTmG",
    "outputId": "c8b12cee-f4a2-4ce8-f374-100b3a0ec8b5"
   },
   "outputs": [
    {
     "name": "stdout",
     "output_type": "stream",
     "text": [
      "가츠동 : [0.03615365 0.06740048 0.25326653]\n",
      "김치 : [ 0.10978603  0.15347979 -0.21577691]\n",
      "김치찌개 : [ 0.01834125  0.03284554 -0.07776122]\n",
      "된장 : [ 0.09862335  0.12078756 -0.09834554]\n",
      "된장찌개 : [ 0.01834125  0.03284554 -0.07776122]\n",
      "라면 : [0.05470036 0.09988705 0.35279702]\n",
      "바나나 : [ 0.3297113  -0.28961955  0.01226021]\n",
      "볶음밥 : [ 0.04131708  0.07490311 -0.12482955]\n",
      "비빔밥 : [ 0.02775026  0.04867686 -0.10832038]\n",
      "사과 : [ 0.3297113  -0.28961955  0.01226021]\n",
      "소바 : [0.03615365 0.06740048 0.25326653]\n",
      "스시 : [0.21640648 0.31494725 0.70278052]\n",
      "짜장면 : [ 0.4991573   0.43992407 -0.07237264]\n",
      "짬뽕 : [ 0.29964085  0.39142644 -0.29248516]\n",
      "탕수육 : [ 0.1641898   0.23904844 -0.25719626]\n",
      "포도 : [ 0.58250527 -0.51167464  0.02166027]\n"
     ]
    }
   ],
   "source": [
    "for i in range(len(vocab)):\n",
    "  print(\"{} : {}\".format(vocab[i], VT.T[i]))"
   ]
  },
  {
   "cell_type": "code",
   "execution_count": null,
   "metadata": {
    "colab": {},
    "colab_type": "code",
    "id": "1Fmyx4N6pqeR"
   },
   "outputs": [],
   "source": [
    "import numpy as np\n",
    "from numpy import dot\n",
    "from numpy.linalg import norm\n",
    "\n",
    "def calc_similarity_matrix(vectors):\n",
    "  def cosine_similarity(a, b):\n",
    "    return dot(a, b)/(norm(a) * norm(b))\n",
    "  \n",
    "  n_word = len(vectors)\n",
    "  similarity_matrix = np.zeros((n_word, n_word))\n",
    "\n",
    "  for i in range(n_word):\n",
    "    for j in range(i, n_word):\n",
    "      similarity_matrix[j, i] = cosine_similarity(vectors[i], vectors[j]).round(4)\n",
    "  \n",
    "\n",
    "  return similarity_matrix\n",
    "\n"
   ]
  },
  {
   "cell_type": "code",
   "execution_count": null,
   "metadata": {
    "colab": {
     "base_uri": "https://localhost:8080/",
     "height": 357
    },
    "colab_type": "code",
    "executionInfo": {
     "elapsed": 8324,
     "status": "ok",
     "timestamp": 1596095119500,
     "user": {
      "displayName": "홍경수",
      "photoUrl": "",
      "userId": "10514684854108920109"
     },
     "user_tz": -540
    },
    "id": "Ef0AclVNrAzo",
    "outputId": "071e5971-b7e1-49d8-bc48-ae58debf174c"
   },
   "outputs": [
    {
     "name": "stdout",
     "output_type": "stream",
     "text": [
      "Reading package lists... Done\n",
      "Building dependency tree       \n",
      "Reading state information... Done\n",
      "fonts-nanum is already the newest version (20170925-1).\n",
      "The following package was automatically installed and is no longer required:\n",
      "  libnvidia-common-440\n",
      "Use 'sudo apt autoremove' to remove it.\n",
      "0 upgraded, 0 newly installed, 0 to remove and 35 not upgraded.\n",
      "/usr/share/fonts: caching, new cache contents: 0 fonts, 1 dirs\n",
      "/usr/share/fonts/truetype: caching, new cache contents: 0 fonts, 3 dirs\n",
      "/usr/share/fonts/truetype/humor-sans: caching, new cache contents: 1 fonts, 0 dirs\n",
      "/usr/share/fonts/truetype/liberation: caching, new cache contents: 16 fonts, 0 dirs\n",
      "/usr/share/fonts/truetype/nanum: caching, new cache contents: 10 fonts, 0 dirs\n",
      "/usr/local/share/fonts: caching, new cache contents: 0 fonts, 0 dirs\n",
      "/root/.local/share/fonts: skipping, no such directory\n",
      "/root/.fonts: skipping, no such directory\n",
      "/var/cache/fontconfig: cleaning cache directory\n",
      "/root/.cache/fontconfig: not cleaning non-existent cache directory\n",
      "/root/.fontconfig: not cleaning non-existent cache directory\n",
      "fc-cache: succeeded\n"
     ]
    }
   ],
   "source": [
    "!sudo apt-get install -y fonts-nanum\n",
    "!sudo fc-cache -fv\n",
    "!rm ~/.cache/matplotlib -rf"
   ]
  },
  {
   "cell_type": "code",
   "execution_count": null,
   "metadata": {
    "colab": {},
    "colab_type": "code",
    "id": "2t5dgHt3rtU3"
   },
   "outputs": [],
   "source": [
    "import matplotlib.pyplot as plt\n",
    "import seaborn as sns\n",
    "\n",
    "def visualize_similarity(similarity_matrixt):\n",
    "  uniform_data = similarity_matrixt\n",
    "  mask = np.triu(np.ones_like(similarity_matrixt, dtype=np.bool))\n",
    "  plt.rcParams['figure.figsize'] = [8, 6]\n",
    "  plt.rc('font', family=\"NanumBarunGothic\")\n",
    "  ax = sns.heatmap(uniform_data, mask=mask, #xticklabels=vocab, yticklabels=vocab, \n",
    "                   annot=True, fmt=\".2f\", annot_kws={'size':8}, cmap='coolwarm')"
   ]
  },
  {
   "cell_type": "code",
   "execution_count": null,
   "metadata": {
    "colab": {
     "base_uri": "https://localhost:8080/",
     "height": 491
    },
    "colab_type": "code",
    "executionInfo": {
     "elapsed": 1608,
     "status": "ok",
     "timestamp": 1596095611527,
     "user": {
      "displayName": "홍경수",
      "photoUrl": "",
      "userId": "10514684854108920109"
     },
     "user_tz": -540
    },
    "id": "gGX2wqy8s2Iz",
    "outputId": "3633509a-1e5b-4597-ac0b-2a0564dab253"
   },
   "outputs": [
    {
     "name": "stderr",
     "output_type": "stream",
     "text": [
      "/usr/local/lib/python3.6/dist-packages/matplotlib/backends/backend_agg.py:214: RuntimeWarning: Glyph 8722 missing from current font.\n",
      "  font.set_text(s, 0.0, flags=flags)\n",
      "/usr/local/lib/python3.6/dist-packages/matplotlib/backends/backend_agg.py:183: RuntimeWarning: Glyph 8722 missing from current font.\n",
      "  font.set_text(s, 0, flags=flags)\n"
     ]
    },
    {
     "data": {
      "image/png": "[encoded data removed]",
      "text/plain": [
       "<Figure size 576x432 with 2 Axes>"
      ]
     },
     "metadata": {
      "needs_background": "light",
      "tags": []
     },
     "output_type": "display_data"
    }
   ],
   "source": [
    "word_vectors = svd.components_.T\n",
    "word_similarity_matrix = calc_similarity_matrix(word_vectors)\n",
    "visualize_similarity(word_similarity_matrix)"
   ]
  },
  {
   "cell_type": "markdown",
   "metadata": {
    "colab_type": "text",
    "id": "0yfe991tm1qa"
   },
   "source": [
    "###3) 문서벡터"
   ]
  },
  {
   "cell_type": "code",
   "execution_count": null,
   "metadata": {
    "colab": {
     "base_uri": "https://localhost:8080/",
     "height": 466
    },
    "colab_type": "code",
    "executionInfo": {
     "elapsed": 1253,
     "status": "ok",
     "timestamp": 1596095758227,
     "user": {
      "displayName": "홍경수",
      "photoUrl": "",
      "userId": "10514684854108920109"
     },
     "user_tz": -540
    },
    "id": "9PM1RCnBt7XX",
    "outputId": "59266eb7-c4b9-48de-802f-24093423307b"
   },
   "outputs": [
    {
     "name": "stderr",
     "output_type": "stream",
     "text": [
      "/usr/local/lib/python3.6/dist-packages/matplotlib/backends/backend_agg.py:214: RuntimeWarning: Glyph 8722 missing from current font.\n",
      "  font.set_text(s, 0.0, flags=flags)\n",
      "/usr/local/lib/python3.6/dist-packages/matplotlib/backends/backend_agg.py:183: RuntimeWarning: Glyph 8722 missing from current font.\n",
      "  font.set_text(s, 0, flags=flags)\n"
     ]
    },
    {
     "data": {
      "image/png": "[encoded data removed]",
      "text/plain": [
       "<Figure size 576x432 with 2 Axes>"
      ]
     },
     "metadata": {
      "needs_background": "light",
      "tags": []
     },
     "output_type": "display_data"
    }
   ],
   "source": [
    "doc_vectors = U\n",
    "doc_similarity_matrix = calc_similarity_matrix(doc_vectors)\n",
    "visualize_similarity(doc_similarity_matrix)"
   ]
  },
  {
   "cell_type": "markdown",
   "metadata": {
    "colab_type": "text",
    "id": "uGFHkelP2Upp"
   },
   "source": [
    "###4) 벡터 시각화"
   ]
  },
  {
   "cell_type": "code",
   "execution_count": null,
   "metadata": {
    "colab": {},
    "colab_type": "code",
    "id": "XVezoaECoPzO"
   },
   "outputs": [],
   "source": [
    "from sklearn.manifold import TSNE\n",
    "import numpy as np\n",
    "\n",
    "def visualize_vectors(vectors, labels):\n",
    "  tsne = TSNE(n_components=2, random_state=0, n_iter=10000, perplexity=2)\n",
    "  np.set_printoptions(suppress=True)\n",
    "  T = tsne.fit_transform(vectors)\n",
    "  #labels = vocab\n",
    "\n",
    "  plt.figure(figsize=(10, 6))\n",
    "  plt.scatter(T[:, 0], T[:, 1], c='orange', edgecolors='r')\n",
    "  for label, x, y in zip(labels, T[:, 0], T[:, 1]):\n",
    "      plt.annotate(label, xy=(x+1, y+1), xytext=(0, 0), textcoords='offset points')"
   ]
  },
  {
   "cell_type": "code",
   "execution_count": null,
   "metadata": {
    "colab": {},
    "colab_type": "code",
    "id": "8qnSXJ4cJWoM"
   },
   "outputs": [],
   "source": [
    "vectors = word_vectors\n",
    "labels = vocab"
   ]
  },
  {
   "cell_type": "code",
   "execution_count": null,
   "metadata": {
    "colab": {},
    "colab_type": "code",
    "id": "NaVK4SkeJW57"
   },
   "outputs": [],
   "source": []
  },
  {
   "cell_type": "code",
   "execution_count": null,
   "metadata": {
    "colab": {
     "base_uri": "https://localhost:8080/",
     "height": 462
    },
    "colab_type": "code",
    "executionInfo": {
     "elapsed": 1449,
     "status": "ok",
     "timestamp": 1596095847516,
     "user": {
      "displayName": "홍경수",
      "photoUrl": "",
      "userId": "10514684854108920109"
     },
     "user_tz": -540
    },
    "id": "Ufmu2SzjDWJj",
    "outputId": "1e5339f8-eec3-48d9-e294-1ed273862608"
   },
   "outputs": [
    {
     "name": "stderr",
     "output_type": "stream",
     "text": [
      "/usr/local/lib/python3.6/dist-packages/matplotlib/backends/backend_agg.py:214: RuntimeWarning: Glyph 8722 missing from current font.\n",
      "  font.set_text(s, 0.0, flags=flags)\n",
      "/usr/local/lib/python3.6/dist-packages/matplotlib/backends/backend_agg.py:183: RuntimeWarning: Glyph 8722 missing from current font.\n",
      "  font.set_text(s, 0, flags=flags)\n"
     ]
    },
    {
     "data": {
      "image/png": "[encoded data removed]",
      "text/plain": [
       "<Figure size 720x432 with 1 Axes>"
      ]
     },
     "metadata": {
      "needs_background": "light",
      "tags": []
     },
     "output_type": "display_data"
    }
   ],
   "source": [
    "visualize_vectors(vectors, labels)"
   ]
  },
  {
   "cell_type": "markdown",
   "metadata": {
    "colab_type": "text",
    "id": "4EpgqX0rVPjM"
   },
   "source": [
    "###5) 파이프라인 사용"
   ]
  },
  {
   "cell_type": "code",
   "execution_count": null,
   "metadata": {},
   "outputs": [],
   "source": []
  },
  {
   "cell_type": "code",
   "execution_count": null,
   "metadata": {
    "colab": {
     "base_uri": "https://localhost:8080/",
     "height": 340
    },
    "colab_type": "code",
    "executionInfo": {
     "elapsed": 535,
     "status": "ok",
     "timestamp": 1596096176039,
     "user": {
      "displayName": "홍경수",
      "photoUrl": "",
      "userId": "10514684854108920109"
     },
     "user_tz": -540
    },
    "id": "ZSAS1dyHut0G",
    "outputId": "effcf301-c0c9-442c-eb7b-3d197628ed84"
   },
   "outputs": [
    {
     "data": {
      "text/plain": [
       "Pipeline(memory=None,\n",
       "         steps=[('vect',\n",
       "                 CountVectorizer(analyzer='word', binary=False,\n",
       "                                 decode_error='strict',\n",
       "                                 dtype=<class 'numpy.int64'>, encoding='utf-8',\n",
       "                                 input='content', lowercase=True, max_df=1.0,\n",
       "                                 max_features=None, min_df=1,\n",
       "                                 ngram_range=(1, 1), preprocessor=None,\n",
       "                                 stop_words=None, strip_accents=None,\n",
       "                                 token_pattern='(?u)\\\\b\\\\w\\\\w+\\\\b',\n",
       "                                 tokenizer=<function my_tokenizer at 0x7f380ec46e18>,\n",
       "                                 vocabulary=None)),\n",
       "                ('tfidf',\n",
       "                 TfidfTransformer(norm='l2', smooth_idf=True,\n",
       "                                  sublinear_tf=False, use_idf=True)),\n",
       "                ('lsa',\n",
       "                 TruncatedSVD(algorithm='randomized', n_components=3,\n",
       "                              n_iter=100, random_state=None, tol=0.0))],\n",
       "         verbose=False)"
      ]
     },
     "execution_count": 16,
     "metadata": {
      "tags": []
     },
     "output_type": "execute_result"
    }
   ],
   "source": [
    "from sklearn.model_selection import GridSearchCV\n",
    "from sklearn.pipeline import Pipeline\n",
    "from sklearn.decomposition import TruncatedSVD\n",
    "from sklearn.feature_extraction.text import CountVectorizer, TfidfTransformer\n",
    "\n",
    "def my_tokenizer(text):\n",
    "  return [w for w in text.split() if len(w) > 1]\n",
    "\n",
    "lsa_pipeline = Pipeline([('vect', CountVectorizer(tokenizer = my_tokenizer)),\n",
    "                         ('tfidf', TfidfTransformer()),\n",
    "                         ('lsa', TruncatedSVD(n_components=n_topic, algorithm='randomized', n_iter=100))])\n",
    "lsa_pipeline.fit(docs)"
   ]
  },
  {
   "cell_type": "code",
   "execution_count": null,
   "metadata": {
    "colab": {},
    "colab_type": "code",
    "id": "oLO52PjLvt0l"
   },
   "outputs": [],
   "source": [
    "lsa = lsa_pipeline.named_steps['lsa']\n",
    "count_vect = lsa_pipeline.named_steps['vect']"
   ]
  },
  {
   "cell_type": "code",
   "execution_count": null,
   "metadata": {
    "colab": {
     "base_uri": "https://localhost:8080/",
     "height": 68
    },
    "colab_type": "code",
    "executionInfo": {
     "elapsed": 516,
     "status": "ok",
     "timestamp": 1596096458983,
     "user": {
      "displayName": "홍경수",
      "photoUrl": "",
      "userId": "10514684854108920109"
     },
     "user_tz": -540
    },
    "id": "wfWI97lywAPJ",
    "outputId": "1f700276-8e6d-4ba9-e53e-312863e33dd2"
   },
   "outputs": [
    {
     "name": "stdout",
     "output_type": "stream",
     "text": [
      "Topic 0: [('포도', 0.58251), ('짜장면', 0.49916), ('바나나', 0.32971)]\n",
      "Topic 1: [('짜장면', 0.43992), ('짬뽕', 0.39143), ('스시', 0.31495)]\n",
      "Topic 2: [('스시', 0.70278), ('라면', 0.3528), ('가츠동', 0.25327)]\n"
     ]
    }
   ],
   "source": [
    "vocab = count_vect.get_feature_names()\n",
    "def get_topics(components, feature_name, n=3):\n",
    "  for idx, topic in enumerate(components):\n",
    "    print(\"Topic {}: {}\".format(idx, [ (feature_name[i], topic[i].round(5)) for i in topic.argsort()[:-n -1:-1]  ]))\n",
    "\n",
    "get_topics(lsa.components_, vocab)"
   ]
  },
  {
   "cell_type": "code",
   "execution_count": null,
   "metadata": {
    "colab": {
     "base_uri": "https://localhost:8080/",
     "height": 101
    },
    "colab_type": "code",
    "executionInfo": {
     "elapsed": 2920,
     "status": "ok",
     "timestamp": 1596164857291,
     "user": {
      "displayName": "홍경수",
      "photoUrl": "",
      "userId": "10514684854108920109"
     },
     "user_tz": -540
    },
    "id": "nvDu_a9aixaT",
    "outputId": "56b4942f-e2de-4f2d-fad2-850f4d140844"
   },
   "outputs": [
    {
     "name": "stdout",
     "output_type": "stream",
     "text": [
      "[nltk_data] Downloading package wordnet to /root/nltk_data...\n",
      "[nltk_data]   Unzipping corpora/wordnet.zip.\n",
      "[nltk_data] Downloading package punkt to /root/nltk_data...\n",
      "[nltk_data]   Unzipping tokenizers/punkt.zip.\n"
     ]
    },
    {
     "data": {
      "text/plain": [
       "True"
      ]
     },
     "execution_count": 3,
     "metadata": {
      "tags": []
     },
     "output_type": "execute_result"
    }
   ],
   "source": [
    "import nltk\n",
    "nltk.download('wordnet')\n",
    "nltk.download('punkt')"
   ]
  },
  {
   "cell_type": "code",
   "execution_count": null,
   "metadata": {
    "colab": {},
    "colab_type": "code",
    "id": "56p6ESZGimxM"
   },
   "outputs": [],
   "source": [
    "import random\n",
    "import numpy as np\n",
    "from nltk.tokenize import word_tokenize\n",
    "from nltk.stem import PorterStemmer\n",
    "from nltk.corpus import stopwords\n",
    "from collections import defaultdict\n",
    "\n",
    "topic_indices = [0, 1, 0, 1, 0, 1, 1, 0, 0, 0, 1, 0, 1, 1, 1, 0, 0]\n",
    "\n",
    "np.set_printoptions(precision=4, suppress=True)\n",
    "\n",
    "class LDA:\n",
    "  def __init__(self, docs, topic_num, alpha=0.1, beta=0.001):\n",
    "    self.alpha = alpha\n",
    "    self.beta = beta\n",
    "    self.k = topic_num\n",
    "    self.docs = docs\n",
    "\n",
    "  def randomly_analysis_topic(self, docs):\n",
    "    dic = defaultdict()\n",
    "    t2i = defaultdict(lambda: len(t2i))\n",
    "    i2t = defaultdict()\n",
    "\n",
    "    porter = PorterStemmer()\n",
    "    stopword = stopwords.words('english')\n",
    "    stopword.append(',')\n",
    "    index = 0\n",
    "\n",
    "    for d, tokens in enumerate([word_tokenize(doc) for doc in docs]):\n",
    "      for w, token in enumerate([porter.stem(token.lower()) for token in tokens if token not in stopword ]):\n",
    "        i2t[t2i[token]] = token\n",
    "        dic[(d, t2i[token], w)] = topic_indices[index]\n",
    "        index += 1\n",
    "\n",
    "    \n",
    "    return dic, t2i, i2t\n",
    "\n",
    "\n",
    "  def count_doc_topic(self, t2i):\n",
    "    docs =np.zeros((self.k, len(self.docs)))\n",
    "    terms = np.zeros((self.k, len(t2i.keys())))\n",
    "\n",
    "    docs.fill(self.alpha)\n",
    "    terms.fill(self.beta)\n",
    "\n",
    "    for (d, n, w) in self.term_topic.keys():\n",
    "      topic =self.term_topic[(d, n, w)]\n",
    "      docs[topic, d] +=1\n",
    "      terms[topic, n] += 1\n",
    "\n",
    "    print('문서 토픽별 빈도')\n",
    "    print(docs.round(1))\n",
    "    print('단어 토픽별 빈도')\n",
    "    print(terms.round(4))\n",
    "\n",
    "    return docs, terms\n",
    "\n",
    "  def iterate_assign_topic(self, docs, terms, i2t):\n",
    "    prev = {}\n",
    "\n",
    "    while prev != self.term_topic:\n",
    "      for (d, n, w) in self.term_topic.keys():\n",
    "        topic = [0, 0]\n",
    "\n",
    "        docs[self.term_topic[(d, n, w)], d] -= 1\n",
    "        terms[self.term_topic[(d, n, w)], n] -= 1\n",
    "\n",
    "        print(\"\\n{} (d:{}, n:{}, w:{}) = topic:{}\".format(i2t[n], d, n, w, self.term_topic[(d, n, w)]))\n",
    "        print('문서 토픽별 빈도')\n",
    "        print(docs.round(1))\n",
    "        print('단어 토픽별 빈도')\n",
    "        print(terms.round(4))\n",
    "\n",
    "\n",
    "        prev = self.term_topic\n",
    "\n",
    "        for t in range(self.k):\n",
    "          p_t_d = docs[t, d] / docs[:, d].sum()\n",
    "          p_w_t = terms[t, n] / terms[t, :].sum()\n",
    "          prob = p_t_d * p_w_t\n",
    "\n",
    "          if topic[1] < prob:\n",
    "            topic = [t, prob]\n",
    "\n",
    "          print('topic {} 일 확률 = {}'.format(t, prob.round(4)))\n",
    "\n",
    "        \n",
    "        self.term_topic[(d, n, w)]  =topic[0]\n",
    "        docs[topic[0], d] += 1\n",
    "        terms[topic[0], n] += 1\n",
    "\n",
    "        print('변경된 문서 토픽별 빈도')\n",
    "        print(docs.round(1))\n",
    "        print('변경된 단어 토픽별 빈도')\n",
    "        print(terms.round(4))\n",
    "\n",
    "        print('할당된 토픽 : {}'.format(self.term_topic[(d, n, w)]))\n",
    "        print('=' * 50)\n",
    "\n",
    "    return terms\n",
    "\n",
    "\n",
    "\n",
    "  def topic_modeling(self, count=3):\n",
    "    self.term_topic, t2i, i2t = self.randomly_analysis_topic(self.docs)\n",
    "    print(self.term_topic)\n",
    "    docs, terms = self.count_doc_topic(t2i)\n",
    "    terms = self.iterate_assign_topic(docs, terms, i2t)\n",
    "\n",
    "    score = terms / terms.sum(axis=1, keepdims=True)\n",
    "\n",
    "    for i in range(self.k):\n",
    "      print(\"\\nTopic {}\".format(i + 1))\n",
    "      sorted_index = np.flip(np.argsort(score[i]), 0)[:count]\n",
    "      for j in sorted_index:\n",
    "        print(\"{} = {}\".format(i2t[j], score[i, j].round(3)), end=' ')\n"
   ]
  },
  {
   "cell_type": "code",
   "execution_count": null,
   "metadata": {
    "colab": {
     "base_uri": "https://localhost:8080/",
     "height": 1000
    },
    "colab_type": "code",
    "executionInfo": {
     "elapsed": 887,
     "status": "ok",
     "timestamp": 1596169000319,
     "user": {
      "displayName": "홍경수",
      "photoUrl": "",
      "userId": "10514684854108920109"
     },
     "user_tz": -540
    },
    "id": "gGHz5uBlwy6C",
    "outputId": "f7f086ce-1842-42b2-9f63-e23b93742413"
   },
   "outputs": [
    {
     "name": "stdout",
     "output_type": "stream",
     "text": [
      "defaultdict(None, {(0, 0, 0): 0, (0, 1, 1): 1, (1, 2, 0): 0, (1, 3, 1): 1, (1, 4, 2): 0, (2, 1, 0): 1, (2, 5, 1): 1, (3, 2, 0): 0, (3, 6, 1): 0, (4, 3, 0): 0, (4, 6, 1): 1, (4, 4, 2): 0, (5, 0, 0): 1, (5, 5, 1): 1, (5, 2, 2): 1, (5, 6, 3): 0, (5, 4, 4): 0})\n",
      "문서 토픽별 빈도\n",
      "[[1.1 2.1 0.1 2.1 2.1 2.1]\n",
      " [1.1 1.1 2.1 0.1 1.1 3.1]]\n",
      "단어 토픽별 빈도\n",
      "[[1.001 0.001 2.001 1.001 3.001 0.001 2.001]\n",
      " [1.001 2.001 1.001 1.001 0.001 2.001 1.001]]\n",
      "\n",
      "cute (d:0, n:0, w:0) = topic:0\n",
      "문서 토픽별 빈도\n",
      "[[0.1 2.1 0.1 2.1 2.1 2.1]\n",
      " [1.1 1.1 2.1 0.1 1.1 3.1]]\n",
      "단어 토픽별 빈도\n",
      "[[0.001 0.001 2.001 1.001 3.001 0.001 2.001]\n",
      " [1.001 2.001 1.001 1.001 0.001 2.001 1.001]]\n",
      "topic 0 일 확률 = 0.0\n",
      "topic 1 일 확률 = 0.1146\n",
      "변경된 문서 토픽별 빈도\n",
      "[[0.1 2.1 0.1 2.1 2.1 2.1]\n",
      " [2.1 1.1 2.1 0.1 1.1 3.1]]\n",
      "변경된 단어 토픽별 빈도\n",
      "[[0.001 0.001 2.001 1.001 3.001 0.001 2.001]\n",
      " [2.001 2.001 1.001 1.001 0.001 2.001 1.001]]\n",
      "할당된 토픽 : 1\n",
      "==================================================\n",
      "\n",
      "kitti (d:0, n:1, w:1) = topic:1\n",
      "문서 토픽별 빈도\n",
      "[[0.1 2.1 0.1 2.1 2.1 2.1]\n",
      " [1.1 1.1 2.1 0.1 1.1 3.1]]\n",
      "단어 토픽별 빈도\n",
      "[[0.001 0.001 2.001 1.001 3.001 0.001 2.001]\n",
      " [2.001 1.001 1.001 1.001 0.001 2.001 1.001]]\n",
      "topic 0 일 확률 = 0.0\n",
      "topic 1 일 확률 = 0.1146\n",
      "변경된 문서 토픽별 빈도\n",
      "[[0.1 2.1 0.1 2.1 2.1 2.1]\n",
      " [2.1 1.1 2.1 0.1 1.1 3.1]]\n",
      "변경된 단어 토픽별 빈도\n",
      "[[0.001 0.001 2.001 1.001 3.001 0.001 2.001]\n",
      " [2.001 2.001 1.001 1.001 0.001 2.001 1.001]]\n",
      "할당된 토픽 : 1\n",
      "==================================================\n",
      "\n",
      "eat (d:1, n:2, w:0) = topic:0\n",
      "문서 토픽별 빈도\n",
      "[[0.1 1.1 0.1 2.1 2.1 2.1]\n",
      " [2.1 1.1 2.1 0.1 1.1 3.1]]\n",
      "단어 토픽별 빈도\n",
      "[[0.001 0.001 1.001 1.001 3.001 0.001 2.001]\n",
      " [2.001 2.001 1.001 1.001 0.001 2.001 1.001]]\n",
      "topic 0 일 확률 = 0.0714\n",
      "topic 1 일 확률 = 0.0556\n",
      "변경된 문서 토픽별 빈도\n",
      "[[0.1 2.1 0.1 2.1 2.1 2.1]\n",
      " [2.1 1.1 2.1 0.1 1.1 3.1]]\n",
      "변경된 단어 토픽별 빈도\n",
      "[[0.001 0.001 2.001 1.001 3.001 0.001 2.001]\n",
      " [2.001 2.001 1.001 1.001 0.001 2.001 1.001]]\n",
      "할당된 토픽 : 0\n",
      "==================================================\n",
      "\n",
      "rice (d:1, n:3, w:1) = topic:1\n",
      "문서 토픽별 빈도\n",
      "[[0.1 2.1 0.1 2.1 2.1 2.1]\n",
      " [2.1 0.1 2.1 0.1 1.1 3.1]]\n",
      "단어 토픽별 빈도\n",
      "[[0.001 0.001 2.001 1.001 3.001 0.001 2.001]\n",
      " [2.001 2.001 1.001 0.001 0.001 2.001 1.001]]\n",
      "topic 0 일 확률 = 0.1193\n",
      "topic 1 일 확률 = 0.0\n",
      "변경된 문서 토픽별 빈도\n",
      "[[0.1 3.1 0.1 2.1 2.1 2.1]\n",
      " [2.1 0.1 2.1 0.1 1.1 3.1]]\n",
      "변경된 단어 토픽별 빈도\n",
      "[[0.001 0.001 2.001 2.001 3.001 0.001 2.001]\n",
      " [2.001 2.001 1.001 0.001 0.001 2.001 1.001]]\n",
      "할당된 토픽 : 0\n",
      "==================================================\n",
      "\n",
      "cake (d:1, n:4, w:2) = topic:0\n",
      "문서 토픽별 빈도\n",
      "[[0.1 2.1 0.1 2.1 2.1 2.1]\n",
      " [2.1 0.1 2.1 0.1 1.1 3.1]]\n",
      "단어 토픽별 빈도\n",
      "[[0.001 0.001 2.001 2.001 2.001 0.001 2.001]\n",
      " [2.001 2.001 1.001 0.001 0.001 2.001 1.001]]\n",
      "topic 0 일 확률 = 0.2385\n",
      "topic 1 일 확률 = 0.0\n",
      "변경된 문서 토픽별 빈도\n",
      "[[0.1 3.1 0.1 2.1 2.1 2.1]\n",
      " [2.1 0.1 2.1 0.1 1.1 3.1]]\n",
      "변경된 단어 토픽별 빈도\n",
      "[[0.001 0.001 2.001 2.001 3.001 0.001 2.001]\n",
      " [2.001 2.001 1.001 0.001 0.001 2.001 1.001]]\n",
      "할당된 토픽 : 0\n",
      "==================================================\n",
      "\n",
      "kitti (d:2, n:1, w:0) = topic:1\n",
      "문서 토픽별 빈도\n",
      "[[0.1 3.1 0.1 2.1 2.1 2.1]\n",
      " [2.1 0.1 1.1 0.1 1.1 3.1]]\n",
      "단어 토픽별 빈도\n",
      "[[0.001 0.001 2.001 2.001 3.001 0.001 2.001]\n",
      " [2.001 1.001 1.001 0.001 0.001 2.001 1.001]]\n",
      "topic 0 일 확률 = 0.0\n",
      "topic 1 일 확률 = 0.131\n",
      "변경된 문서 토픽별 빈도\n",
      "[[0.1 3.1 0.1 2.1 2.1 2.1]\n",
      " [2.1 0.1 2.1 0.1 1.1 3.1]]\n",
      "변경된 단어 토픽별 빈도\n",
      "[[0.001 0.001 2.001 2.001 3.001 0.001 2.001]\n",
      " [2.001 2.001 1.001 0.001 0.001 2.001 1.001]]\n",
      "할당된 토픽 : 1\n",
      "==================================================\n",
      "\n",
      "hamster (d:2, n:5, w:1) = topic:1\n",
      "문서 토픽별 빈도\n",
      "[[0.1 3.1 0.1 2.1 2.1 2.1]\n",
      " [2.1 0.1 1.1 0.1 1.1 3.1]]\n",
      "단어 토픽별 빈도\n",
      "[[0.001 0.001 2.001 2.001 3.001 0.001 2.001]\n",
      " [2.001 2.001 1.001 0.001 0.001 1.001 1.001]]\n",
      "topic 0 일 확률 = 0.0\n",
      "topic 1 일 확률 = 0.131\n",
      "변경된 문서 토픽별 빈도\n",
      "[[0.1 3.1 0.1 2.1 2.1 2.1]\n",
      " [2.1 0.1 2.1 0.1 1.1 3.1]]\n",
      "변경된 단어 토픽별 빈도\n",
      "[[0.001 0.001 2.001 2.001 3.001 0.001 2.001]\n",
      " [2.001 2.001 1.001 0.001 0.001 2.001 1.001]]\n",
      "할당된 토픽 : 1\n",
      "==================================================\n",
      "\n",
      "eat (d:3, n:2, w:0) = topic:0\n",
      "문서 토픽별 빈도\n",
      "[[0.1 3.1 0.1 1.1 2.1 2.1]\n",
      " [2.1 0.1 2.1 0.1 1.1 3.1]]\n",
      "단어 토픽별 빈도\n",
      "[[0.001 0.001 1.001 2.001 3.001 0.001 2.001]\n",
      " [2.001 2.001 1.001 0.001 0.001 2.001 1.001]]\n",
      "topic 0 일 확률 = 0.1146\n",
      "topic 1 일 확률 = 0.0104\n",
      "변경된 문서 토픽별 빈도\n",
      "[[0.1 3.1 0.1 2.1 2.1 2.1]\n",
      " [2.1 0.1 2.1 0.1 1.1 3.1]]\n",
      "변경된 단어 토픽별 빈도\n",
      "[[0.001 0.001 2.001 2.001 3.001 0.001 2.001]\n",
      " [2.001 2.001 1.001 0.001 0.001 2.001 1.001]]\n",
      "할당된 토픽 : 0\n",
      "==================================================\n",
      "\n",
      "bread (d:3, n:6, w:1) = topic:0\n",
      "문서 토픽별 빈도\n",
      "[[0.1 3.1 0.1 1.1 2.1 2.1]\n",
      " [2.1 0.1 2.1 0.1 1.1 3.1]]\n",
      "단어 토픽별 빈도\n",
      "[[0.001 0.001 2.001 2.001 3.001 0.001 1.001]\n",
      " [2.001 2.001 1.001 0.001 0.001 2.001 1.001]]\n",
      "topic 0 일 확률 = 0.1146\n",
      "topic 1 일 확률 = 0.0104\n",
      "변경된 문서 토픽별 빈도\n",
      "[[0.1 3.1 0.1 2.1 2.1 2.1]\n",
      " [2.1 0.1 2.1 0.1 1.1 3.1]]\n",
      "변경된 단어 토픽별 빈도\n",
      "[[0.001 0.001 2.001 2.001 3.001 0.001 2.001]\n",
      " [2.001 2.001 1.001 0.001 0.001 2.001 1.001]]\n",
      "할당된 토픽 : 0\n",
      "==================================================\n",
      "\n",
      "rice (d:4, n:3, w:0) = topic:0\n",
      "문서 토픽별 빈도\n",
      "[[0.1 3.1 0.1 2.1 1.1 2.1]\n",
      " [2.1 0.1 2.1 0.1 1.1 3.1]]\n",
      "단어 토픽별 빈도\n",
      "[[0.001 0.001 2.001 1.001 3.001 0.001 2.001]\n",
      " [2.001 2.001 1.001 0.001 0.001 2.001 1.001]]\n",
      "topic 0 일 확률 = 0.0625\n",
      "topic 1 일 확률 = 0.0001\n",
      "변경된 문서 토픽별 빈도\n",
      "[[0.1 3.1 0.1 2.1 2.1 2.1]\n",
      " [2.1 0.1 2.1 0.1 1.1 3.1]]\n",
      "변경된 단어 토픽별 빈도\n",
      "[[0.001 0.001 2.001 2.001 3.001 0.001 2.001]\n",
      " [2.001 2.001 1.001 0.001 0.001 2.001 1.001]]\n",
      "할당된 토픽 : 0\n",
      "==================================================\n",
      "\n",
      "bread (d:4, n:6, w:1) = topic:1\n",
      "문서 토픽별 빈도\n",
      "[[0.1 3.1 0.1 2.1 2.1 2.1]\n",
      " [2.1 0.1 2.1 0.1 0.1 3.1]]\n",
      "단어 토픽별 빈도\n",
      "[[0.001 0.001 2.001 2.001 3.001 0.001 2.001]\n",
      " [2.001 2.001 1.001 0.001 0.001 2.001 0.001]]\n",
      "topic 0 일 확률 = 0.2121\n",
      "topic 1 일 확률 = 0.0\n",
      "변경된 문서 토픽별 빈도\n",
      "[[0.1 3.1 0.1 2.1 3.1 2.1]\n",
      " [2.1 0.1 2.1 0.1 0.1 3.1]]\n",
      "변경된 단어 토픽별 빈도\n",
      "[[0.001 0.001 2.001 2.001 3.001 0.001 3.001]\n",
      " [2.001 2.001 1.001 0.001 0.001 2.001 0.001]]\n",
      "할당된 토픽 : 0\n",
      "==================================================\n",
      "\n",
      "cake (d:4, n:4, w:2) = topic:0\n",
      "문서 토픽별 빈도\n",
      "[[0.1 3.1 0.1 2.1 2.1 2.1]\n",
      " [2.1 0.1 2.1 0.1 0.1 3.1]]\n",
      "단어 토픽별 빈도\n",
      "[[0.001 0.001 2.001 2.001 2.001 0.001 3.001]\n",
      " [2.001 2.001 1.001 0.001 0.001 2.001 0.001]]\n",
      "topic 0 일 확률 = 0.2121\n",
      "topic 1 일 확률 = 0.0\n",
      "변경된 문서 토픽별 빈도\n",
      "[[0.1 3.1 0.1 2.1 3.1 2.1]\n",
      " [2.1 0.1 2.1 0.1 0.1 3.1]]\n",
      "변경된 단어 토픽별 빈도\n",
      "[[0.001 0.001 2.001 2.001 3.001 0.001 3.001]\n",
      " [2.001 2.001 1.001 0.001 0.001 2.001 0.001]]\n",
      "할당된 토픽 : 0\n",
      "==================================================\n",
      "\n",
      "cute (d:5, n:0, w:0) = topic:1\n",
      "문서 토픽별 빈도\n",
      "[[0.1 3.1 0.1 2.1 3.1 2.1]\n",
      " [2.1 0.1 2.1 0.1 0.1 2.1]]\n",
      "단어 토픽별 빈도\n",
      "[[0.001 0.001 2.001 2.001 3.001 0.001 3.001]\n",
      " [1.001 2.001 1.001 0.001 0.001 2.001 0.001]]\n",
      "topic 0 일 확률 = 0.0\n",
      "topic 1 일 확률 = 0.0833\n",
      "변경된 문서 토픽별 빈도\n",
      "[[0.1 3.1 0.1 2.1 3.1 2.1]\n",
      " [2.1 0.1 2.1 0.1 0.1 3.1]]\n",
      "변경된 단어 토픽별 빈도\n",
      "[[0.001 0.001 2.001 2.001 3.001 0.001 3.001]\n",
      " [2.001 2.001 1.001 0.001 0.001 2.001 0.001]]\n",
      "할당된 토픽 : 1\n",
      "==================================================\n",
      "\n",
      "hamster (d:5, n:5, w:1) = topic:1\n",
      "문서 토픽별 빈도\n",
      "[[0.1 3.1 0.1 2.1 3.1 2.1]\n",
      " [2.1 0.1 2.1 0.1 0.1 2.1]]\n",
      "단어 토픽별 빈도\n",
      "[[0.001 0.001 2.001 2.001 3.001 0.001 3.001]\n",
      " [2.001 2.001 1.001 0.001 0.001 1.001 0.001]]\n",
      "topic 0 일 확률 = 0.0\n",
      "topic 1 일 확률 = 0.0833\n",
      "변경된 문서 토픽별 빈도\n",
      "[[0.1 3.1 0.1 2.1 3.1 2.1]\n",
      " [2.1 0.1 2.1 0.1 0.1 3.1]]\n",
      "변경된 단어 토픽별 빈도\n",
      "[[0.001 0.001 2.001 2.001 3.001 0.001 3.001]\n",
      " [2.001 2.001 1.001 0.001 0.001 2.001 0.001]]\n",
      "할당된 토픽 : 1\n",
      "==================================================\n",
      "\n",
      "eat (d:5, n:2, w:2) = topic:1\n",
      "문서 토픽별 빈도\n",
      "[[0.1 3.1 0.1 2.1 3.1 2.1]\n",
      " [2.1 0.1 2.1 0.1 0.1 2.1]]\n",
      "단어 토픽별 빈도\n",
      "[[0.001 0.001 2.001 2.001 3.001 0.001 3.001]\n",
      " [2.001 2.001 0.001 0.001 0.001 2.001 0.001]]\n",
      "topic 0 일 확률 = 0.1\n",
      "topic 1 일 확률 = 0.0001\n",
      "변경된 문서 토픽별 빈도\n",
      "[[0.1 3.1 0.1 2.1 3.1 3.1]\n",
      " [2.1 0.1 2.1 0.1 0.1 2.1]]\n",
      "변경된 단어 토픽별 빈도\n",
      "[[0.001 0.001 3.001 2.001 3.001 0.001 3.001]\n",
      " [2.001 2.001 0.001 0.001 0.001 2.001 0.001]]\n",
      "할당된 토픽 : 0\n",
      "==================================================\n",
      "\n",
      "bread (d:5, n:6, w:3) = topic:0\n",
      "문서 토픽별 빈도\n",
      "[[0.1 3.1 0.1 2.1 3.1 2.1]\n",
      " [2.1 0.1 2.1 0.1 0.1 2.1]]\n",
      "단어 토픽별 빈도\n",
      "[[0.001 0.001 3.001 2.001 3.001 0.001 2.001]\n",
      " [2.001 2.001 0.001 0.001 0.001 2.001 0.001]]\n",
      "topic 0 일 확률 = 0.1\n",
      "topic 1 일 확률 = 0.0001\n",
      "변경된 문서 토픽별 빈도\n",
      "[[0.1 3.1 0.1 2.1 3.1 3.1]\n",
      " [2.1 0.1 2.1 0.1 0.1 2.1]]\n",
      "변경된 단어 토픽별 빈도\n",
      "[[0.001 0.001 3.001 2.001 3.001 0.001 3.001]\n",
      " [2.001 2.001 0.001 0.001 0.001 2.001 0.001]]\n",
      "할당된 토픽 : 0\n",
      "==================================================\n",
      "\n",
      "cake (d:5, n:4, w:4) = topic:0\n",
      "문서 토픽별 빈도\n",
      "[[0.1 3.1 0.1 2.1 3.1 2.1]\n",
      " [2.1 0.1 2.1 0.1 0.1 2.1]]\n",
      "단어 토픽별 빈도\n",
      "[[0.001 0.001 3.001 2.001 2.001 0.001 3.001]\n",
      " [2.001 2.001 0.001 0.001 0.001 2.001 0.001]]\n",
      "topic 0 일 확률 = 0.1\n",
      "topic 1 일 확률 = 0.0001\n",
      "변경된 문서 토픽별 빈도\n",
      "[[0.1 3.1 0.1 2.1 3.1 3.1]\n",
      " [2.1 0.1 2.1 0.1 0.1 2.1]]\n",
      "변경된 단어 토픽별 빈도\n",
      "[[0.001 0.001 3.001 2.001 3.001 0.001 3.001]\n",
      " [2.001 2.001 0.001 0.001 0.001 2.001 0.001]]\n",
      "할당된 토픽 : 0\n",
      "==================================================\n",
      "\n",
      "Topic 1\n",
      "bread = 0.273 cake = 0.273 eat = 0.273 rice = 0.182 hamster = 0.0 \n",
      "Topic 2\n",
      "hamster = 0.333 kitti = 0.333 cute = 0.333 cake = 0.0 bread = 0.0 "
     ]
    }
   ],
   "source": [
    "doc_ls = [\"Cute kitty\",\n",
    "\"Eat rice or cake\",\n",
    "\"Kitty and hamster\",\n",
    "\"Eat bread\",\n",
    "\"Rice, bread and cake\",\n",
    "\"Cute hamster eats bread and cake\"]\n",
    "\n",
    "lda = LDA(doc_ls, 2)\n",
    "lda.topic_modeling(5)"
   ]
  },
  {
   "cell_type": "code",
   "execution_count": null,
   "metadata": {
    "colab": {
     "base_uri": "https://localhost:8080/",
     "height": 169
    },
    "colab_type": "code",
    "executionInfo": {
     "elapsed": 984,
     "status": "error",
     "timestamp": 1596180305922,
     "user": {
      "displayName": "홍경수",
      "photoUrl": "",
      "userId": "10514684854108920109"
     },
     "user_tz": -540
    },
    "id": "p10D94qDiiof",
    "outputId": "db3b9bd5-7ea9-44e0-89e9-a2279dd77393"
   },
   "outputs": [
    {
     "ename": "NameError",
     "evalue": "ignored",
     "output_type": "error",
     "traceback": [
      "\u001b[0;31m---------------------------------------------------------------------------\u001b[0m",
      "\u001b[0;31mNameError\u001b[0m                                 Traceback (most recent call last)",
      "\u001b[0;32m<ipython-input-1-e3fc0c9c9a89>\u001b[0m in \u001b[0;36m<module>\u001b[0;34m()\u001b[0m\n\u001b[0;32m----> 1\u001b[0;31m \u001b[0mnltk\u001b[0m\u001b[0;34m.\u001b[0m\u001b[0mdownload\u001b[0m\u001b[0;34m(\u001b[0m\u001b[0;34m'stopwords'\u001b[0m\u001b[0;34m)\u001b[0m\u001b[0;34m\u001b[0m\u001b[0;34m\u001b[0m\u001b[0m\n\u001b[0m",
      "\u001b[0;31mNameError\u001b[0m: name 'nltk' is not defined"
     ]
    }
   ],
   "source": [
    "nltk.download('stopwords')"
   ]
  },
  {
   "cell_type": "code",
   "execution_count": null,
   "metadata": {
    "colab": {
     "base_uri": "https://localhost:8080/",
     "height": 625
    },
    "colab_type": "code",
    "executionInfo": {
     "elapsed": 9441,
     "status": "ok",
     "timestamp": 1596169536677,
     "user": {
      "displayName": "홍경수",
      "photoUrl": "",
      "userId": "10514684854108920109"
     },
     "user_tz": -540
    },
    "id": "6JPaNwKmnsoa",
    "outputId": "8e7b94a2-f27a-4658-9c3d-255e16f38e07"
   },
   "outputs": [
    {
     "name": "stdout",
     "output_type": "stream",
     "text": [
      "Collecting pyLDAvis\n",
      "\u001b[?25l  Downloading https://files.pythonhosted.org/packages/a5/3a/af82e070a8a96e13217c8f362f9a73e82d61ac8fff3a2561946a97f96266/pyLDAvis-2.1.2.tar.gz (1.6MB)\n",
      "\u001b[K     |████████████████████████████████| 1.6MB 2.7MB/s \n",
      "\u001b[?25hRequirement already satisfied: wheel>=0.23.0 in /usr/local/lib/python3.6/dist-packages (from pyLDAvis) (0.34.2)\n",
      "Requirement already satisfied: numpy>=1.9.2 in /usr/local/lib/python3.6/dist-packages (from pyLDAvis) (1.18.5)\n",
      "Requirement already satisfied: scipy>=0.18.0 in /usr/local/lib/python3.6/dist-packages (from pyLDAvis) (1.4.1)\n",
      "Requirement already satisfied: pandas>=0.17.0 in /usr/local/lib/python3.6/dist-packages (from pyLDAvis) (1.0.5)\n",
      "Requirement already satisfied: joblib>=0.8.4 in /usr/local/lib/python3.6/dist-packages (from pyLDAvis) (0.16.0)\n",
      "Requirement already satisfied: jinja2>=2.7.2 in /usr/local/lib/python3.6/dist-packages (from pyLDAvis) (2.11.2)\n",
      "Requirement already satisfied: numexpr in /usr/local/lib/python3.6/dist-packages (from pyLDAvis) (2.7.1)\n",
      "Requirement already satisfied: pytest in /usr/local/lib/python3.6/dist-packages (from pyLDAvis) (3.6.4)\n",
      "Requirement already satisfied: future in /usr/local/lib/python3.6/dist-packages (from pyLDAvis) (0.16.0)\n",
      "Collecting funcy\n",
      "\u001b[?25l  Downloading https://files.pythonhosted.org/packages/ce/4b/6ffa76544e46614123de31574ad95758c421aae391a1764921b8a81e1eae/funcy-1.14.tar.gz (548kB)\n",
      "\u001b[K     |████████████████████████████████| 552kB 12.1MB/s \n",
      "\u001b[?25hRequirement already satisfied: python-dateutil>=2.6.1 in /usr/local/lib/python3.6/dist-packages (from pandas>=0.17.0->pyLDAvis) (2.8.1)\n",
      "Requirement already satisfied: pytz>=2017.2 in /usr/local/lib/python3.6/dist-packages (from pandas>=0.17.0->pyLDAvis) (2018.9)\n",
      "Requirement already satisfied: MarkupSafe>=0.23 in /usr/local/lib/python3.6/dist-packages (from jinja2>=2.7.2->pyLDAvis) (1.1.1)\n",
      "Requirement already satisfied: setuptools in /usr/local/lib/python3.6/dist-packages (from pytest->pyLDAvis) (49.1.0)\n",
      "Requirement already satisfied: py>=1.5.0 in /usr/local/lib/python3.6/dist-packages (from pytest->pyLDAvis) (1.9.0)\n",
      "Requirement already satisfied: atomicwrites>=1.0 in /usr/local/lib/python3.6/dist-packages (from pytest->pyLDAvis) (1.4.0)\n",
      "Requirement already satisfied: six>=1.10.0 in /usr/local/lib/python3.6/dist-packages (from pytest->pyLDAvis) (1.15.0)\n",
      "Requirement already satisfied: attrs>=17.4.0 in /usr/local/lib/python3.6/dist-packages (from pytest->pyLDAvis) (19.3.0)\n",
      "Requirement already satisfied: pluggy<0.8,>=0.5 in /usr/local/lib/python3.6/dist-packages (from pytest->pyLDAvis) (0.7.1)\n",
      "Requirement already satisfied: more-itertools>=4.0.0 in /usr/local/lib/python3.6/dist-packages (from pytest->pyLDAvis) (8.4.0)\n",
      "Building wheels for collected packages: pyLDAvis, funcy\n",
      "  Building wheel for pyLDAvis (setup.py) ... \u001b[?25l\u001b[?25hdone\n",
      "  Created wheel for pyLDAvis: filename=pyLDAvis-2.1.2-py2.py3-none-any.whl size=97711 sha256=b7196ccc00961e8a25bc6ea4bddeb0e0a7843b1bdc19d5ab41d181365e2dcb83\n",
      "  Stored in directory: /root/.cache/pip/wheels/98/71/24/513a99e58bb6b8465bae4d2d5e9dba8f0bef8179e3051ac414\n",
      "  Building wheel for funcy (setup.py) ... \u001b[?25l\u001b[?25hdone\n",
      "  Created wheel for funcy: filename=funcy-1.14-py2.py3-none-any.whl size=32042 sha256=0138b1520755d85eee2b78d816d641c76187cf4b20ff6d4ac056b4a9fb384500\n",
      "  Stored in directory: /root/.cache/pip/wheels/20/5a/d8/1d875df03deae6f178dfdf70238cca33f948ef8a6f5209f2eb\n",
      "Successfully built pyLDAvis funcy\n",
      "Installing collected packages: funcy, pyLDAvis\n",
      "Successfully installed funcy-1.14 pyLDAvis-2.1.2\n"
     ]
    }
   ],
   "source": [
    "!pip install pyLDAvis"
   ]
  },
  {
   "cell_type": "code",
   "execution_count": null,
   "metadata": {
    "colab": {
     "base_uri": "https://localhost:8080/",
     "height": 52
    },
    "colab_type": "code",
    "executionInfo": {
     "elapsed": 995,
     "status": "ok",
     "timestamp": 1596180915775,
     "user": {
      "displayName": "홍경수",
      "photoUrl": "",
      "userId": "10514684854108920109"
     },
     "user_tz": -540
    },
    "id": "uoiikVeSHh9Y",
    "outputId": "daf08ad5-98ea-42e4-df1c-9080b5721b09"
   },
   "outputs": [
    {
     "name": "stdout",
     "output_type": "stream",
     "text": [
      "[nltk_data] Downloading package stopwords to /root/nltk_data...\n",
      "[nltk_data]   Unzipping corpora/stopwords.zip.\n"
     ]
    }
   ],
   "source": [
    "import nltk\n",
    "nltk.download('stopwords')\n",
    "from nltk.corpus import stopwords\n",
    "import pandas as  pd\n",
    "from sklearn.datasets import fetch_20newsgroups\n",
    "\n",
    "\n",
    "def get_news():\n",
    "  dataset = fetch_20newsgroups(shuffle=True, \n",
    "                               random_state=1, \n",
    "                               remove=('headers', 'footers', 'guotes'))\n",
    "  documents = dataset.data\n",
    "\n",
    "  news_df = pd.DataFrame({'document': documents})\n",
    "  news_df['clean_doc'] = news_df['document'].str.replace(\"[^a-zA-Z]\", \" \")\n",
    "  news_df['clean_doc'] = news_df['clean_doc'].apply(lambda x: ' '.join([w for w in x.split() if len(w) > 3]))\n",
    "  news_df['clean_doc'] = news_df['clean_doc'].apply(lambda x : x.lower())\n",
    "  tokenized_doc = news_df['clean_doc'].apply(lambda x : x.split())\n",
    "\n",
    "  stop_words = stopwords.words('english')\n",
    "\n",
    "  return tokenized_doc.apply(lambda x : ' '.join([w for w in x if w not in stop_words]))\n",
    "\n"
   ]
  },
  {
   "cell_type": "code",
   "execution_count": null,
   "metadata": {
    "colab": {},
    "colab_type": "code",
    "id": "tGdZ4ZvaKqMe"
   },
   "outputs": [],
   "source": [
    "def my_tokenizer(text):\n",
    "  return text.split()\n",
    "\n",
    "tokenized_docs = get_news()"
   ]
  },
  {
   "cell_type": "code",
   "execution_count": null,
   "metadata": {
    "colab": {},
    "colab_type": "code",
    "id": "U5Q4WuUSLBKy"
   },
   "outputs": [],
   "source": [
    "from sklearn.feature_extraction.text import TfidfVectorizer\n",
    "from sklearn.decomposition import LatentDirichletAllocation\n",
    "\n",
    "tfidf_vect = TfidfVectorizer(tokenizer=my_tokenizer)\n",
    "tfidf = tfidf_vect.fit_transform(tokenized_docs)\n",
    "lda = LatentDirichletAllocation(n_components =20, \n",
    "                                max_iter = 20,\n",
    "                                learning_method='online',\n",
    "                                random_state=100)\n",
    "lda_output = lda.fit_transform(tfidf)"
   ]
  },
  {
   "cell_type": "code",
   "execution_count": null,
   "metadata": {
    "colab": {},
    "colab_type": "code",
    "id": "5LLgAy5QLvz-"
   },
   "outputs": [],
   "source": [
    "?LatentDirichletAllocation"
   ]
  },
  {
   "cell_type": "code",
   "execution_count": null,
   "metadata": {
    "colab": {
     "base_uri": "https://localhost:8080/",
     "height": 881
    },
    "colab_type": "code",
    "executionInfo": {
     "elapsed": 77424,
     "status": "ok",
     "timestamp": 1596171536644,
     "user": {
      "displayName": "홍경수",
      "photoUrl": "",
      "userId": "10514684854108920109"
     },
     "user_tz": -540
    },
    "id": "54FEEf2qMlmH",
    "outputId": "5872781d-a214-4386-d61a-1966a5eaf8e9"
   },
   "outputs": [
    {
     "data": {
      "text/html": [
       "\n",
       "<link rel=\"stylesheet\" type=\"text/css\" href=\"https://cdn.rawgit.com/bmabey/pyLDAvis/files/ldavis.v1.0.0.css\">\n",
       "\n",
       "\n",
       "<div id=\"ldavis_el120140436826670688878046572\"></div>\n",
       "<script type=\"text/javascript\">\n",
       "\n",
       "var ldavis_el120140436826670688878046572_data = {\"mdsDat\": {\"x\": [-10.878067970275879, -60.88402557373047, -2.3361191749572754, -61.385318756103516, -28.737743377685547, 1.0666056871414185, 45.14072036743164, -140.7959747314453, 61.531681060791016, -72.56305694580078, 15.984491348266602, -160.85162353515625, 85.96183013916016, -99.02083587646484, -176.76412963867188, -117.18988037109375, 108.82991790771484, 47.588096618652344, -106.46783447265625, -50.61380386352539], \"y\": [10.538727760314941, -75.5918197631836, -53.2890739440918, -12.914633750915527, 126.2969970703125, -123.55281066894531, -7.947869300842285, -98.53054809570312, -83.24056243896484, -140.39688110351562, 63.57818603515625, 68.94514465332031, 51.922935485839844, 109.93634796142578, -8.681683540344238, -37.42020034790039, -22.946203231811523, 121.934814453125, 30.176889419555664, 59.32884216308594], \"topics\": [1, 2, 3, 4, 5, 6, 7, 8, 9, 10, 11, 12, 13, 14, 15, 16, 17, 18, 19, 20], \"cluster\": [1, 1, 1, 1, 1, 1, 1, 1, 1, 1, 1, 1, 1, 1, 1, 1, 1, 1, 1, 1], \"Freq\": [77.02650313380965, 9.71966757975285, 0.8882724211278362, 0.8365663751869188, 0.8067421672990776, 0.7997456428544005, 0.765516379091133, 0.7574205227799189, 0.733387443783382, 0.722033365087754, 0.7203689001824809, 0.7129369428551657, 0.7005846236485908, 0.7004879049111802, 0.6964152514446207, 0.6880305723303216, 0.6847913718269533, 0.6808364982401592, 0.6804680550446321, 0.6792248487429746]}, \"tinfo\": {\"Term\": [\"game\", \"team\", \"jesus\", \"year\", \"games\", \"play\", \"bible\", \"players\", \"season\", \"christian\", \"last\", \"christians\", \"hockey\", \"church\", \"baseball\", \"christ\", \"jewish\", \"faith\", \"league\", \"teams\", \"player\", \"christianity\", \"objective\", \"religion\", \"rutgers\", \"would\", \"armenian\", \"turkish\", \"armenians\", \"runs\", \"would\", \"like\", \"know\", \"people\", \"anyone\", \"thanks\", \"could\", \"also\", \"good\", \"time\", \"please\", \"windows\", \"much\", \"need\", \"even\", \"system\", \"want\", \"right\", \"make\", \"problem\", \"used\", \"many\", \"drive\", \"really\", \"something\", \"mail\", \"work\", \"help\", \"back\", \"someone\", \"well\", \"article\", \"think\", \"writes\", \"armenian\", \"turkish\", \"armenians\", \"morality\", \"sandvik\", \"detroit\", \"leafs\", \"espn\", \"rangers\", \"montreal\", \"greek\", \"braves\", \"pitching\", \"playoffs\", \"cubs\", \"livesey\", \"armenia\", \"upenn\", \"scripture\", \"philadelphia\", \"turks\", \"pens\", \"christianity\", \"playoff\", \"genocide\", \"scored\", \"bobby\", \"phillies\", \"devils\", \"worship\", \"season\", \"hockey\", \"jesus\", \"team\", \"league\", \"teams\", \"christ\", \"players\", \"church\", \"game\", \"christians\", \"objective\", \"baseball\", \"games\", \"bible\", \"play\", \"christian\", \"faith\", \"player\", \"year\", \"last\", \"rutgers\", \"lebanese\", \"hernlem\", \"gehrels\", \"anas\", \"omran\", \"amehdi\", \"dorin\", \"nysernet\", \"syrian\", \"honeywell\", \"brader\", \"hizbollah\", \"hezbollah\", \"stalk\", \"radii\", \"golan\", \"shnekendorf\", \"phenylalanine\", \"gameboy\", \"hossien\", \"retaliation\", \"shai\", \"xtici\", \"azerbadjan\", \"specint\", \"transferable\", \"amoss\", \"shuldig\", \"shaig\", \"fairchild\", \"lebanon\", \"villages\", \"shelling\", \"occupation\", \"chess\", \"civilians\", \"nrhj\", \"wwiz\", \"gizw\", \"bhjn\", \"bxom\", \"pnei\", \"tbxn\", \"nriz\", \"pmfq\", \"wmbxn\", \"bxlt\", \"mbxn\", \"wwhj\", \"tbxom\", \"gizwt\", \"eqtm\", \"jpwu\", \"nkjz\", \"nrizwt\", \"fijh\", \"zbhj\", \"bizw\", \"qtct\", \"eqtcv\", \"mbxlt\", \"ghjn\", \"wmbs\", \"desparate\", \"wmbxlt\", \"giyu\", \"vinyl\", \"skidmore\", \"yassin\", \"cjackson\", \"smokers\", \"howabout\", \"antibiotic\", \"muskingum\", \"roofs\", \"stark\", \"noemi\", \"vomiting\", \"liek\", \"deir\", \"aerostitch\", \"irgun\", \"eggs\", \"sportswriting\", \"interlan\", \"diving\", \"eugenics\", \"fiddle\", \"buyback\", \"prolactin\", \"cholesterol\", \"adorn\", \"souvlaki\", \"bacitracin\", \"miners\", \"tron\", \"beth\", \"jayson\", \"libxmu\", \"unlv\", \"inet\", \"spikes\", \"lxmu\", \"dylan\", \"krillean\", \"todamhyp\", \"lazarus\", \"swee\", \"magnet\", \"dundee\", \"acne\", \"dealy\", \"pmax\", \"parse\", \"inguiry\", \"eridan\", \"chuvashia\", \"lxext\", \"adresses\", \"struct\", \"clad\", \"nodefinitions\", \"photographed\", \"intravenous\", \"snapped\", \"scrollbar\", \"organic\", \"cursors\", \"huey\", \"hess\", \"lafibm\", \"lafayette\", \"koufax\", \"lowenstein\", \"dock\", \"stankowitz\", \"hplsla\", \"racking\", \"ampere\", \"stuttgart\", \"greenberg\", \"matchups\", \"pablo\", \"hank\", \"guzzi\", \"deion\", \"reboots\", \"beamers\", \"biscayne\", \"energietechnik\", \"stanky\", \"kens\", \"bmws\", \"breeder\", \"ikesg\", \"wnkretz\", \"kretzschmar\", \"informations\", \"blomberg\", \"ornaments\", \"polluted\", \"sandy\", \"lame\", \"brains\", \"jewish\", \"humor\", \"gtoal\", \"keller\", \"kkeller\", \"toal\", \"celp\", \"melittin\", \"novitskey\", \"maria\", \"ibmpcug\", \"connectivity\", \"rchz\", \"coder\", \"chzd\", \"pizzabox\", \"elliptical\", \"rlhz\", \"chzv\", \"overstreet\", \"zrlk\", \"zrck\", \"zack\", \"mbps\", \"qvei\", \"mrlk\", \"iqvg\", \"superhighway\", \"fdzd\", \"nsfnet\", \"xtgc\", \"macii\", \"mydisplay\", \"xsizehints\", \"xman\", \"neon\", \"bulbs\", \"xopendisplay\", \"kurt\", \"emitting\", \"timmbake\", \"timmons\", \"bilinsky\", \"myhint\", \"tvga\", \"pposition\", \"whirr\", \"haferman\", \"whirrr\", \"drdos\", \"psize\", \"equiv\", \"thruput\", \"dres\", \"swyatt\", \"imprecise\", \"bake\", \"chirps\", \"ktiedtke\", \"tiedtke\", \"jhawk\", \"hawkinson\", \"xxxxx\", \"kirlian\", \"opel\", \"nanosecond\", \"manta\", \"gibbons\", \"hillel\", \"erzurum\", \"vxcrna\", \"rubenstein\", \"gibbonsa\", \"dexter\", \"kadett\", \"keysearch\", \"windowed\", \"jebright\", \"ebright\", \"calibra\", \"ermeni\", \"microsecond\", \"logs\", \"seater\", \"lokkur\", \"headlights\", \"aura\", \"overturn\", \"dialix\", \"dank\", \"vielen\", \"llama\", \"traveler\", \"oriolefan\", \"crohn\", \"prozac\", \"halat\", \"jasmine\", \"inkjet\", \"silverlining\", \"venerable\", \"webo\", \"desiree\", \"recurrence\", \"nodine\", \"megadrive\", \"omnipotence\", \"mintaka\", \"inhibitors\", \"turmeric\", \"taber\", \"intestinal\", \"specialize\", \"paxil\", \"adriana\", \"gilmete\", \"therapist\", \"eyles\", \"lipoxygenase\", \"nutritionists\", \"colitis\", \"hicnet\", \"lipoxygnase\", \"ccfa\", \"vegetables\", \"discomfort\", \"intestine\", \"lags\", \"gbwh\", \"yiei\", \"omvp\", \"uhfju\", \"vdxt\", \"nvnc\", \"dxnb\", \"zpwh\", \"siyq\", \"gosr\", \"lhuq\", \"bnxs\", \"nfanq\", \"zako\", \"kzqxm\", \"gcvk\", \"cpplzu\", \"mprfw\", \"btyiewzy\", \"hzdte\", \"pafy\", \"iktr\", \"mnnts\", \"wiwf\", \"euvm\", \"zivo\", \"ivnp\", \"mhbhnb\", \"onmf\", \"vttg\", \"djfxs\", \"mtgt\", \"uyhjl\", \"wlra\", \"eikt\", \"wzkn\", \"xlprj\", \"kskm\", \"jmczj\", \"midkx\", \"sfdu\", \"qjcrj\", \"nzhv\", \"unisql\", \"wharfie\", \"wrat\", \"mcgee\", \"rollover\", \"shos\", \"jcyuhn\", \"yuhn\", \"wollt\", \"chrissc\", \"paronoid\", \"euren\", \"neue\", \"claris\", \"childcare\", \"macproducts\", \"ernet\", \"topps\", \"pricelist\", \"linton\", \"braked\", \"riduculously\", \"coyle\", \"sitter\", \"eigenes\", \"neuen\", \"damals\", \"wirklich\", \"juden\", \"denen\", \"trivia\", \"breton\", \"utica\", \"binghamton\", \"striped\", \"critus\", \"fredericton\", \"captains\", \"prefereably\", \"collingridge\", \"precompiled\", \"vergolini\", \"oooo\", \"damon\", \"happend\", \"springfield\", \"sittler\", \"volkert\", \"loney\", \"skipjacks\", \"adirondack\", \"vergolin\", \"euler\", \"reformatory\", \"captain\", \"applicon\", \"joit\", \"kennedey\", \"qvos\", \"doubter\", \"providence\", \"cape\", \"rochester\", \"convertibles\", \"decnet\", \"grady\", \"grading\", \"viscous\", \"diffs\", \"macpgp\", \"yingbin\", \"cytoskeleton\", \"pasting\", \"lebaron\", \"festiva\", \"lterature\", \"lloking\", \"hofs\", \"srcsignature\", \"vibrational\", \"psxop\", \"translational\", \"motility\", \"cytoplasm\", \"acoustical\", \"microtubules\", \"macapp\", \"appmaker\", \"dunixconn\", \"timessqr\", \"ddnetconn\", \"dtcpconn\", \"cmcgc\", \"extralibraries\", \"pyron\", \"pagemaker\", \"dillon\", \"woof\", \"atmanager\", \"skndiv\", \"wabc\", \"enabler\", \"elided\", \"postcript\", \"sunshade\", \"phonetic\", \"kepley\", \"preempted\", \"slant\", \"crystalscan\", \"mohney\", \"coop\", \"weidlich\", \"ttfonts\", \"mcelwane\", \"kenyon\", \"bickering\", \"avinash\", \"mysstem\", \"sleepp\", \"expressmodem\", \"aftwer\", \"filesharing\", \"felixg\", \"centering\", \"clones\", \"wharton\", \"hartmann\", \"trinomials\", \"wathcing\", \"scand\", \"calloway\", \"awdpa\", \"ibmpa\", \"zhang\", \"hplvec\", \"lvld\", \"boucher\", \"irreducibility\", \"tverberg\", \"inesc\", \"fanout\", \"ingrina\", \"hzhang\", \"ljunggren\", \"qmrdd\", \"zeeff\", \"prcgs\", \"bremner\", \"quadrinomials\", \"thsoe\", \"mpkjao\", \"qtvzv\", \"mycwg\", \"jvafk\", \"muzog\", \"clas\", \"hennessy\", \"remus\", \"underwear\", \"thigpen\", \"prostitutes\", \"miniskirts\", \"miniskirt\", \"holcomb\", \"muzzah\", \"wilmott\", \"rolex\", \"knucklehead\", \"navn\", \"jnha\", \"meer\", \"parlors\", \"psycology\", \"mcqs\", \"cryco\", \"jaar\", \"leefing\", \"vell\", \"fazah\", \"horloges\", \"nader\", \"deze\", \"staat\", \"onderzoek\", \"inschrijving\", \"kaldis\", \"rathole\", \"ryukoku\", \"rins\", \"embarassment\", \"regal\", \"prodigy\", \"datadesk\", \"robb\", \"hesh\", \"reiken\", \"egaillou\", \"rebuilds\", \"woodstock\", \"ulaval\", \"janis\", \"joplin\", \"gadfly\", \"cbnewsi\", \"bambi\", \"arche\", \"gailloux\", \"tinman\", \"trintex\", \"primitives\", \"reverted\", \"gopath\", \"varnet\", \"polytchnic\", \"redistribute\", \"divergence\", \"needle\", \"lunatics\", \"yorku\", \"westford\", \"byuvm\", \"betting\", \"graders\", \"thud\", \"chlorine\", \"coincide\", \"spreads\", \"jewelry\", \"guage\", \"koblenz\", \"basalts\", \"luddington\", \"isscck\", \"eastwick\", \"rawley\", \"spira\", \"gspira\", \"evades\", \"hodgen\", \"pigment\", \"wingo\", \"ozzy\", \"uniko\", \"pinn\", \"lefthanded\", \"plunger\"], \"Freq\": [40.0, 32.0, 30.0, 55.0, 31.0, 26.0, 24.0, 20.0, 19.0, 25.0, 50.0, 19.0, 17.0, 19.0, 19.0, 17.0, 17.0, 18.0, 14.0, 13.0, 16.0, 13.0, 14.0, 21.0, 16.0, 185.0, 11.0, 11.0, 11.0, 21.0, 185.4247705249104, 134.93910728470328, 134.84997112408382, 120.5893719393868, 107.60589934741066, 100.00689733589262, 96.38110422438558, 95.03193682258686, 95.63229709531599, 93.4652749328296, 87.99294039780649, 82.60710617294913, 79.15876820791384, 77.3631467429091, 77.19576164599658, 76.51498973682011, 74.94830696870821, 73.44067153157398, 73.23143391598504, 69.62488771713404, 69.13563648910707, 69.01257102279098, 67.78648772743605, 66.14383077015947, 65.49215982326422, 65.22224549144488, 64.6858632190919, 61.582208252750355, 60.91923964065922, 60.723952024811645, 81.42394493312634, 151.51367076723625, 105.49419870011192, 164.61206749856953, 11.657083691317547, 11.586478366831699, 11.578742386699759, 11.174440798781859, 9.624534385938013, 8.645131271363349, 8.469051265763508, 8.391100361726693, 8.38068072953799, 7.834593021733063, 7.831949710234179, 7.730232997691469, 7.466293632762674, 7.4094896696565264, 7.129657766033206, 6.887638813900224, 6.8707916199321275, 6.819844082047616, 6.731036783483516, 6.6671849875350695, 6.514410021817951, 6.436763938521702, 12.981710100885199, 6.160391205331358, 6.041605721669485, 6.014271521906247, 5.99005105491709, 5.888479404955973, 5.881339111000162, 5.812991487697957, 18.220948165799456, 16.805996179532183, 28.18318830073084, 29.03462478688628, 13.291315680141354, 12.450900749772186, 14.945305436800783, 17.473276975798175, 14.839837609491127, 26.678583538957216, 14.931288101128105, 11.648345490685115, 14.099523771429025, 18.63518122565879, 14.998080120045769, 14.875989043095803, 13.244887104901407, 11.23171566652369, 10.398178401385197, 14.78860100133467, 9.553722588505236, 8.54131421215242, 1.577693107311074, 0.8255407913997809, 0.7511361477489511, 0.682169218047253, 0.5845021222506662, 0.42021367883705213, 0.36009206684771566, 0.338780176239655, 0.33591972349915034, 0.311390365392279, 0.2973287849530871, 0.27628898945473596, 0.27442922777834644, 0.26979179569792433, 0.26912914287306, 0.26209831599599254, 0.2508708748709637, 0.24897527525722637, 0.24412450808139216, 0.23568954099564876, 0.23217851771927783, 0.22993994998046094, 0.2287690332868126, 0.22070272492673093, 0.2130764291920606, 0.2126078482852575, 0.21112437725430017, 0.21112437714549728, 0.20416527040314855, 0.1994434796480608, 1.1496741534700297, 0.6123575725884656, 0.25626128330371156, 0.3649126077715721, 0.2721998863298971, 0.27032685058870065, 0.5660066623851939, 0.4417454796686824, 0.3486433824792466, 0.3121816518193186, 0.26789119942808565, 0.2536025612793126, 0.2413953740370008, 0.23851776640485525, 0.21362297641244082, 0.20428786181053393, 0.19473221472020125, 0.16799376348438677, 0.16672003726451268, 0.16611918246615398, 0.13739251158498986, 0.134172612406018, 0.13220173606121757, 0.13097809844452535, 0.12910723304228344, 0.10648564958999905, 0.09194067596351588, 0.09091852490047493, 0.08871398682144524, 0.08600378999486769, 0.08477507168748688, 0.082260947452019, 0.08189475126989539, 0.08068540039394814, 0.07987844890309645, 0.07828001637302456, 0.4478245387533088, 0.4425927156518179, 0.42667800125154776, 0.3976148056854308, 0.38826903473165125, 0.32269353675098655, 0.3183279304008518, 0.2987174988704595, 0.28995091010171237, 0.28884431801544136, 0.2876898068870816, 0.28434485662695835, 0.27223470050275184, 0.27001318794627605, 0.25517849085110456, 0.23378394271663794, 0.226639442475068, 0.21679452610511388, 0.21120223210852987, 0.1963073243814924, 0.19049119928304137, 0.18920393574279604, 0.18423022212452303, 0.18403612720265, 0.17998152671698514, 0.17796896234439985, 0.17796896230791628, 0.1744372748128986, 0.1731428437770643, 0.16727334883154507, 0.25675000207750337, 0.17468521599658687, 0.4315643346097346, 0.3820772473210435, 0.32813708653175067, 0.3219584580054452, 0.2762497142109419, 0.2705855613509921, 0.2585327519193443, 0.252118931493836, 0.2494144510343402, 0.2366537677417882, 0.225896678686356, 0.22585925865136536, 0.22345381167624762, 0.20908993289397784, 0.20827717761634024, 0.20416611862560358, 0.20116181188841367, 0.2011618118881642, 0.20116181188779703, 0.1916277768270595, 0.1901679691332397, 0.18576191171506987, 0.18565259805333748, 0.18511572591194245, 0.18161018222019637, 0.17956646410066318, 0.17020049376377727, 0.16121488292848213, 0.15772562445164173, 0.1564467668342, 0.23141054322550803, 0.166097164425363, 0.615483618982916, 0.6102672966031016, 0.5866890332649495, 0.5344700707957204, 0.4991353013710204, 0.4134750306368711, 0.3775000292577756, 0.37441159067168095, 0.32157155746383037, 0.3154726898946182, 0.2872714560731038, 0.2655977319350915, 0.2212418304352486, 0.3682049824551909, 0.189578666405967, 0.1845220619383574, 0.18423775895545297, 0.18004802380239057, 0.17807166392141324, 0.17310114252926004, 0.16987071222996547, 0.1672801904270686, 0.15794525373325888, 0.15753521518565286, 0.15487370073506754, 0.1548737007354593, 0.15487370073507664, 0.15288089464803237, 0.1457851238261957, 0.15050229106886479, 0.1488982765052808, 0.34715476378239984, 0.31987276866124065, 0.278545360593718, 0.4120943436432603, 0.23406733922686127, 0.9765716869851208, 0.6304709542976602, 0.5707260486090162, 0.5198991806219354, 0.2817294908750294, 0.19972592460181776, 0.17931920243012803, 0.14495364092459997, 0.13506625523781798, 0.1316876248547203, 0.1265568018513109, 0.10166521618279453, 0.09779227587738962, 0.09465931711667153, 0.08923595715565916, 0.08665714711432754, 0.07862033481452207, 0.07522675568705811, 0.0749962557006875, 0.07105273455477386, 0.06902353627349056, 0.06401066928280773, 0.06369484376819086, 0.05806036006481583, 0.05635206192349426, 0.05847023698360766, 0.05503568825474255, 0.06041010309679229, 0.05423118986523671, 0.054206899195842886, 0.5614630351316178, 0.33675124685282953, 0.33415043428290303, 0.28411149002621705, 0.2728288602638578, 0.253381257358693, 0.24048665810058412, 0.21409659062092867, 0.18045251509029622, 0.3005375620124961, 0.16462098421834387, 0.1546165127786977, 0.15279599572983527, 0.1486529072206249, 0.14655144554288171, 0.1411861448700196, 0.1396086954963038, 0.1386728783197995, 0.13673255207682755, 0.1349959871445627, 0.127923015399002, 0.12400954257123396, 0.12370347239855801, 0.126998057400084, 0.3248613512304895, 0.10155544650030032, 0.09822749320219475, 0.09822749318348586, 0.09526866224717288, 0.09526866224670406, 0.15206309350813585, 0.3582437370369139, 0.31192422602462, 0.2991075603474722, 0.27485830505182096, 0.2634341511728626, 0.25005871595520696, 0.2219817876461134, 0.2201870017230657, 0.2066584453121811, 0.19466554076193887, 0.18526808749278267, 0.18289283497932218, 0.15526172437665137, 0.1546983133111201, 0.1453695769813704, 0.14536957698091388, 0.1311186947964971, 0.12874161432428136, 0.12292102992581629, 0.12219529380587045, 0.11899874317656445, 0.11385715046751223, 0.1793588193112223, 0.19777198815667343, 0.09676402401768604, 0.0948743133518449, 0.08796059347637417, 0.08796059347575491, 0.07953517254335662, 0.07436231747567755, 0.10925518914205147, 0.4713102190220916, 0.3210834062819902, 0.29719167179976297, 0.2654961151167615, 0.24823738884112811, 0.24109670631704883, 0.23683088446138076, 0.2207855787539244, 0.21272562841720985, 0.2035072292545888, 0.1985785287458081, 0.17664942147376025, 0.17242515312038764, 0.15569237062789856, 0.14888129838679423, 0.1453380190078515, 0.14098315757224636, 0.13660606308379067, 0.13424460082269563, 0.12777118900596532, 0.11713692832339731, 0.11713692830226095, 0.11663827388021579, 0.1048888135147676, 0.10287036408869878, 0.09828519271044633, 0.09304890562317067, 0.09261667323630214, 0.08815524549174313, 0.08408323093109549, 0.13287463381521897, 0.11137830155410305, 0.0947262468266714, 0.0488890067383277, 0.014170110418820634, 0.014170110418711825, 0.014170110418604803, 0.014170110418640528, 0.014170110418663066, 0.014170110418748518, 0.014170110418589104, 0.014170110418659287, 0.014170110418661857, 0.014170110418630963, 0.014170110418567024, 0.014170110418523237, 0.01417011041863859, 0.014170110418466348, 0.014170110418562872, 0.014170110418497332, 0.014170110418394881, 0.014170110418401702, 0.01417011041860958, 0.014170110418448175, 0.014170110418504819, 0.01417011041842774, 0.014170110418437175, 0.014170110418505537, 0.014170110418401046, 0.014170110418575367, 0.014170110418433357, 0.014170110418369117, 0.01417011041837475, 0.01417011041865943, 0.014170110418593772, 0.014170110418599264, 0.014170110418651103, 0.014170110418542553, 0.014170110418524185, 0.014170110418522222, 0.014170110418528118, 0.014170110418558167, 0.014170110418550293, 0.014170110418561494, 0.014170110418539434, 0.014170110418540369, 0.014170110418528534, 0.33791855078898553, 0.2311036182302232, 0.20966574768056703, 0.15967547707542068, 0.13047208334439014, 0.11154802542789334, 0.08606389354356797, 0.08606389353476092, 0.07586216835090497, 0.07438149972961386, 0.05778038776963405, 0.04843250971543312, 0.048432509714823754, 0.046655393449676924, 0.04495243493652531, 0.044740009863744656, 0.04278289456459606, 0.040251947413391824, 0.04025194740883825, 0.03894978182059762, 0.038930256175514856, 0.03792035684509677, 0.03566245543758283, 0.035065965865492314, 0.034717680235449744, 0.03471768023523324, 0.03471768023504274, 0.0347176802347969, 0.03471768023489115, 0.03471768023530993, 0.2527292290428016, 0.23785131452729488, 0.2208613037280425, 0.20626050753621036, 0.1885789114500184, 0.18624041381415563, 0.14473553952227658, 0.1384101321515702, 0.12783729223626913, 0.11905563597980719, 0.11100357984295905, 0.10529680611615157, 0.10049783967971611, 0.09546856715226146, 0.09194695294255904, 0.1906821902685796, 0.0896924677173433, 0.08725662316553952, 0.08368335958498302, 0.08204226284703219, 0.17156745642889734, 0.07793015400229995, 0.0779301540018813, 0.07176802934975278, 0.8701706033390553, 0.0691594736067313, 0.06002563611224451, 0.056411086774731146, 0.05641108677473787, 0.056411086774658, 0.1326522330236081, 0.12303258583003888, 0.11787143559698404, 0.2861245719195756, 0.3499238948742257, 0.17981400111632148, 0.13618932300138858, 0.10359127439672411, 0.11212900776949877, 0.0815604140831864, 0.06357177102778153, 0.06082145483286031, 0.04601030487685596, 0.04565828395144342, 0.04565828327346295, 0.042665629436966564, 0.042665629430497745, 0.04035957344994993, 0.0402538869070082, 0.03987427883281655, 0.03660973657055944, 0.03464919817220984, 0.034034464118001824, 0.034034464107876514, 0.034034464104678835, 0.03403446410396592, 0.032070472646315344, 0.0320704726455323, 0.030328676553950374, 0.030328676553681624, 0.03032867655314663, 0.030328676551325758, 0.0303286765508405, 0.030328676551134068, 0.27566730141403745, 0.2668953246992593, 0.21606890933262632, 0.2013861744749136, 0.18953753816202107, 0.16029953461904695, 0.158131678433272, 0.13940291238313124, 0.12724963948848766, 0.12487276306532594, 0.1201910720508252, 0.12224718003339059, 0.11665845652543966, 0.10333526657236153, 0.09816355638065466, 0.09658733208850433, 0.09082456712612318, 0.08882572732490208, 0.0814224403870078, 0.07288827981921413, 0.06277735977787713, 0.06252873317563838, 0.06407297999570435, 0.056692629560009554, 0.056214623980438895, 0.056214623979544465, 0.05621462397906665, 0.05621462397602627, 0.05582425217893642, 0.04800152282138982, 0.05394774442479615, 0.4011133946185648, 0.2161395782168805, 0.1544811879037258, 0.1432386098436773, 0.1305683956349454, 0.09293578590822522, 0.09122158632607756, 0.07936722528957349, 0.07936722520633398, 0.07137413648742734, 0.06319743917515827, 0.06319743917183353, 0.059818520244022226, 0.05004246532391992, 0.0500424653226263, 0.04058972762065757, 0.04058972759356795, 0.04058972759053356, 0.03899407648757208, 0.03711730490014112, 0.034281922568091795, 0.034281922301789586, 0.030369832358554658, 0.02859580426953334, 0.028595804269346565, 0.028595804268727477, 0.018759487447763398, 0.018759487447844846, 0.018759487447775294, 0.018759487447665514, 0.018759487447725348, 0.3265039760442615, 0.28836828506495327, 0.23100992859254998, 0.14493619135867525, 0.1404901868447714, 0.1306804308292098, 0.07870186395701091, 0.0778432389767271, 0.07203423058513689, 0.06565635071044292, 0.05039367206181995, 0.04828221026345736, 0.045894221322220694, 0.045774718323758866, 0.04570352531116112, 0.04504642577047185, 0.04320292820209883, 0.04291637915712833, 0.0421093175603815, 0.0421092636934749, 0.03749475670409404, 0.03638445304577118, 0.03638445289194566, 0.03638445173181644, 0.0345589927024713, 0.03384201477877394, 0.03190037130558365, 0.03141831644558269, 0.03141831644513697, 0.031418316444752625, 0.07119947225843673, 0.26906986498770913, 0.21628527419545165, 0.21628527419574445, 0.19705524565953075, 0.1963766909396505, 0.16015291488700487, 0.1412964401170313, 0.1403176647298876, 0.13009237204413698, 0.1116962703446245, 0.10789544150481739, 0.10236434267915234, 0.09318058313731793, 0.08622564044649463, 0.08606301849246106, 0.0860630184912125, 0.08290297325139878, 0.0829029732516502, 0.07621590377299019, 0.07361524805648868, 0.0718834874842849, 0.06946182528083705, 0.06946182528088263, 0.07293270703700935, 0.059136235352465025, 0.05584451396601283, 0.05532911293939361, 0.05202822615338325, 0.05884802527906555, 0.04951923390531572, 0.28701255430430117, 0.18993031785898418, 0.20801356804988433, 0.16888884232787485, 0.1644425242309051, 0.1637323205998374, 0.16268765556567244, 0.14106455087960298, 0.12280944544768145, 0.11818775632365579, 0.10917570101981028, 0.10828645084211921, 0.10741632362366627, 0.10417469932500303, 0.1039064690852775, 0.10281989259012378, 0.09830009195186463, 0.08864684342877924, 0.08864684342855007, 0.08395988935773813, 0.08144140572546833, 0.08110766504207557, 0.08040021487842725, 0.07792798170564855, 0.0761166073931257, 0.07398475477521271, 0.06866417351464885, 0.06522519641921345, 0.06292113082661135, 0.05760402453255036], \"Total\": [40.0, 32.0, 30.0, 55.0, 31.0, 26.0, 24.0, 20.0, 19.0, 25.0, 50.0, 19.0, 17.0, 19.0, 19.0, 17.0, 17.0, 18.0, 14.0, 13.0, 16.0, 13.0, 14.0, 21.0, 16.0, 185.0, 11.0, 11.0, 11.0, 21.0, 185.59357879841556, 135.10785052758948, 135.01871421826425, 120.76092683472633, 107.77464268651318, 100.1756403265139, 96.54984728773914, 95.20068012363363, 95.80256078750452, 93.63407601888802, 88.16168338354946, 82.77584915751021, 79.32751122516657, 77.5318897285665, 77.36462838210542, 76.68373272223238, 75.11704995568734, 73.60941485901651, 73.4001769216103, 69.79363070239657, 69.30437947419095, 69.18133403396556, 67.95523071203246, 66.31257807744461, 65.66090281646221, 65.39098847671033, 64.85460620409803, 61.750951237623326, 61.08798300132663, 60.89269501225692, 81.8661024025824, 155.74665777092954, 107.36404187478965, 171.21321382110145, 11.835352416460294, 11.764747094493488, 11.757011111878544, 11.3527095260191, 9.802803111216868, 8.823399998160484, 8.64731999116776, 8.569369086865375, 8.55894946965119, 8.012861769504728, 8.010218437036551, 7.908501723279848, 7.64456235779793, 7.587758394714949, 7.307926499182127, 7.065907539343043, 7.0490603451143, 6.9981130143390855, 6.9093055113029065, 6.845453759436081, 6.692678773601478, 6.61503267678496, 13.348872238502887, 6.338659931040322, 6.219874447529668, 6.192540247499221, 6.168319785290071, 6.066748130387037, 6.059607836113915, 5.991260220160442, 19.25992295893283, 17.880878266589534, 30.665037343976124, 32.72574292905764, 14.803507811538902, 13.924973836592445, 17.279865231303184, 20.870284249874803, 19.14414209527182, 40.810188969698636, 19.796250836225866, 14.408507414601706, 19.898311313039233, 31.172263491329602, 24.0819829021584, 26.68945629939082, 25.41491607080634, 18.01307940959608, 16.31140505750667, 55.4513771258165, 50.36708922903602, 16.714356861030776, 1.7792867452564594, 1.027131519675546, 0.9527269735325025, 0.8837599510222756, 0.7860928507776915, 0.6218044061569482, 0.5616827942787357, 0.540370911177111, 0.5375107843263932, 0.5129968385589031, 0.49896155128649855, 0.4778797162873884, 0.4760205110132969, 0.471382541801017, 0.47154185956772376, 0.4636892261705911, 0.45246213728498685, 0.45056641812459325, 0.44571543486209325, 0.4372802691400524, 0.4352394996626964, 0.4315309641545431, 0.43035976058127695, 0.42229345685983377, 0.4146679476601566, 0.4141997289455219, 0.4127151041420258, 0.4127151045488564, 0.40575634404108124, 0.4010342272893279, 2.9746957625940214, 2.5197587488695676, 0.6216021083075264, 2.149529333501124, 1.7208112953747678, 5.193090222954178, 0.7679908471402289, 0.6437296644242418, 0.5506275672348259, 0.5141658365745826, 0.46987538418554564, 0.45558674603495514, 0.4433795587940727, 0.4405019511604714, 0.41560716116766233, 0.4062720465655794, 0.3967163994747271, 0.3699779482426243, 0.3687042220201461, 0.36810336722182574, 0.3393766963415189, 0.3361567971592776, 0.3341859232331843, 0.33296228420175006, 0.3310914177978883, 0.30846983434543873, 0.2939248607250469, 0.29290270965632925, 0.2906981715791321, 0.2879879747520146, 0.2867592564458974, 0.2842451322109518, 0.2838789360250476, 0.2826697535750327, 0.28186263366085484, 0.28026420112873046, 0.6502774233975163, 0.6448516609959583, 0.6289250210236007, 0.5998618312454175, 0.5905195124072792, 0.5249405406212732, 0.5205845090904668, 0.500964515611864, 0.492244154572789, 0.4911050262832355, 0.48993681084916174, 0.4865920475558708, 0.47448190623587966, 0.47226021887414743, 0.45742549508935587, 0.43603095287750626, 0.4288928844601372, 0.41904153023812385, 0.4134492386627131, 0.3986083699995205, 0.3927404858859877, 0.39145142785524356, 0.3864772435352127, 0.38628324270272624, 0.3824521751788208, 0.3802159660927562, 0.3802159662433504, 0.37668427840477275, 0.37538988155574055, 0.36952035237212766, 1.2817986472222829, 0.4698732686502336, 0.6342897760756824, 0.5844107877734531, 0.5304518864923415, 0.5242732014558839, 0.47856445778717965, 0.47290053874341914, 0.4608475055834475, 0.4544336750457107, 0.4517467163749486, 0.4389685123698015, 0.4282115906931404, 0.4281740059543696, 0.425774402523487, 0.4114046788006606, 0.41059192216888446, 0.40648416477460725, 0.40347655481966904, 0.4034765548225275, 0.4034765548228082, 0.3939425205941632, 0.39248275640614777, 0.3880787642897873, 0.3883369734236539, 0.38743074234084435, 0.3855896750479654, 0.3818812073752764, 0.3730746012082834, 0.36375537046966727, 0.3635614745708293, 0.36102960685632, 0.6001505589021763, 0.3953454286596086, 0.8180831043931323, 0.8128783426614458, 0.7892886413265326, 0.7370695561583656, 0.7017351582092873, 0.6160745159906711, 0.580099514790744, 0.5770199605069513, 0.5241710439263104, 0.5180815505442581, 0.4901071233652952, 0.4697819565286882, 0.423841317814765, 0.7517250984238016, 0.3921781601601002, 0.3871216714093808, 0.38683729949199014, 0.3826475092769827, 0.38067114942738495, 0.37570063076253996, 0.3724701978133445, 0.3698796758916494, 0.36059288031342446, 0.3601347414491161, 0.35747318613690016, 0.3574731861388073, 0.35747318613948004, 0.3554996454338883, 0.3483846180583537, 0.35988192369003164, 0.35655340509084876, 1.610564559609741, 1.7737560995636747, 2.8109356310518576, 17.167816540110156, 4.349897128883232, 1.1792314682606944, 0.8331307873400526, 0.7733858814062196, 0.7225589620390267, 0.48438958991040987, 0.40238570111692623, 0.3819789867989992, 0.3541579063945979, 0.3377260416017508, 0.3343477814193316, 0.32921657841827745, 0.30432499455224377, 0.3004520532464953, 0.2973198813259394, 0.2919742039940984, 0.28931692423697636, 0.2812801114092755, 0.27788972458644007, 0.2776560328702698, 0.27371251211245023, 0.27169026158956083, 0.2666716531082793, 0.2663546225808591, 0.2607201381195174, 0.2590118411809508, 0.2722829314083091, 0.25769546664582343, 0.2842395401855886, 0.25689096658486654, 0.25686691097907693, 0.7643329225299264, 0.5396211353367342, 0.5373788057043128, 0.48718830444739636, 0.47573936318943927, 0.45631541868656417, 0.44339497970992015, 0.4169934722944769, 0.38332325674861234, 0.6626460168347125, 0.36749087048794277, 0.3574863993388739, 0.35566699605181384, 0.35152279400373615, 0.3494213334632553, 0.34405603203168295, 0.3424785838478646, 0.34154277363566327, 0.3396024388968162, 0.3378668789099247, 0.33079290341902445, 0.32687943027730193, 0.3265734043874169, 0.3361930088687381, 0.8815075648143975, 0.3044253389319964, 0.3010973798561045, 0.3010973799412293, 0.29813855213652624, 0.29813855213809465, 0.5530513183743382, 0.5612001241261296, 0.5148806092051417, 0.5020640667460786, 0.4778630951064879, 0.46696449185623895, 0.4530151037722335, 0.4251130038280736, 0.42314360106477084, 0.40961483788406267, 0.39762191850160794, 0.388224467784455, 0.3858492126670314, 0.3582181249704266, 0.3587752074816977, 0.34832596003508165, 0.3483259600360119, 0.33407510346812763, 0.33174015595766654, 0.32587741715024454, 0.32529797657276893, 0.32195516065967955, 0.3168135292920601, 0.5254122161905818, 0.6019006215888432, 0.29972040706197445, 0.29783072130642274, 0.29091697097380537, 0.29091697097707814, 0.29147749071094453, 0.27731871039435063, 1.1383603321427909, 0.674286407332423, 0.5240595977745721, 0.500167862051063, 0.4684722940390089, 0.4512181120952883, 0.4440730077412563, 0.4399496407352957, 0.4241619442433722, 0.415701901890962, 0.4066261792497427, 0.40155470537517957, 0.37962561694128577, 0.3754034938182005, 0.3586686898975858, 0.3518574746487533, 0.34831419526627483, 0.34395933931431055, 0.3396257336729095, 0.337331888518021, 0.33074736565436513, 0.3201131047905854, 0.32011310488427397, 0.32007891408332434, 0.30786498988724775, 0.3058465404043486, 0.3012613690984303, 0.29602509941426175, 0.2955931746147548, 0.29113142182768315, 0.2870594116896617, 0.7212410209432635, 0.9237385138162011, 0.6025062835490212, 0.2519176434036454, 0.2171968507568843, 0.21719685075524559, 0.2171968507536316, 0.2171968507548521, 0.21719685075565848, 0.21719685075701023, 0.21719685075473338, 0.21719685075607809, 0.21719685075620443, 0.2171968507559125, 0.2171968507549531, 0.21719685075450787, 0.21719685075645573, 0.2171968507538971, 0.21719685075543246, 0.21719685075444897, 0.21719685075307024, 0.21719685075329662, 0.21719685075665823, 0.21719685075418876, 0.21719685075522596, 0.2171968507540676, 0.21719685075430928, 0.21719685075535988, 0.2171968507538849, 0.2171968507566089, 0.21719685075445475, 0.21719685075351958, 0.21719685075360928, 0.21719685075823317, 0.21719685075726874, 0.21719685075736664, 0.2171968507585232, 0.21719685075650202, 0.2171968507561787, 0.2171968507561761, 0.21719685075634473, 0.2171968507571529, 0.2171968507570022, 0.21719685075790854, 0.21719685075696937, 0.2171968507591049, 0.21719685075805134, 0.5410643118095217, 0.43424938424365217, 0.4128115152742591, 0.3628234785824479, 0.33361783995077804, 0.31469378192783787, 0.28920965029552276, 0.2892096503360536, 0.27900792435064004, 0.27752726023296703, 0.260926174680002, 0.25157826593629445, 0.2515782659385769, 0.25220926704595337, 0.24809994532798493, 0.24788577331866027, 0.24592874980690027, 0.2433977142921928, 0.24339771431419185, 0.24209989024063444, 0.24207603560687938, 0.24106614786261818, 0.23881546849611984, 0.23821200066247225, 0.23786343740419835, 0.23786343740523397, 0.23786343740395655, 0.23786343740345575, 0.237863437404206, 0.23786343740735102, 0.45638636199260985, 0.4410002018533759, 0.424030646067114, 0.40940904978266096, 0.3917271678495525, 0.3893886559942163, 0.3478915112629087, 0.34155837636254066, 0.3309855896423383, 0.3222038794129346, 0.31415182205398084, 0.30844513519375344, 0.3036460835499344, 0.29895394311744433, 0.29509618194162046, 0.6165068448843967, 0.2928411131615448, 0.29040486811897265, 0.28704371847879623, 0.28519137770110115, 0.6059014835096467, 0.2810784053909377, 0.28107840539329065, 0.2749162749943212, 3.4360696004460514, 0.28087079707140233, 0.2631816575228851, 0.25955933433479456, 0.2595593343364699, 0.25955933433746947, 1.0052551142370776, 1.5078881389009442, 6.131462197362529, 0.4893108813659512, 0.7330018698803612, 0.38300446480976946, 0.3412688123744275, 0.30677791889844536, 0.3369334730209575, 0.2847476541812882, 0.2667580748241289, 0.26400775842718394, 0.24919761828133458, 0.24884459212154153, 0.24884459534168388, 0.2458519365492934, 0.24585193657898266, 0.2435486601109419, 0.24344021379198766, 0.24307548221883127, 0.2397960387746406, 0.2378407392738485, 0.2372207727714631, 0.23722077281943676, 0.2372207728350941, 0.2372207728387527, 0.2352567774191819, 0.23525677742471623, 0.2335149820046154, 0.23351498200677936, 0.23351498200910042, 0.2335149820193807, 0.2335149820161694, 0.23351498201920956, 0.47892375891679806, 0.4702157618355662, 0.4193254143086186, 0.4046431942208184, 0.3927940204627788, 0.36355599350000034, 0.36138843762157113, 0.34271087677363793, 0.3305062006745457, 0.32812921952912666, 0.3234475414201004, 0.33115821057732486, 0.3199149167906463, 0.3065918776495887, 0.30142019161072414, 0.29984382326153003, 0.2940811737080344, 0.2920821877843485, 0.28467889604471586, 0.27614491670671065, 0.26603381664653547, 0.265785191687528, 0.276609982514999, 0.25994909653845777, 0.25947107950387344, 0.2594710795075171, 0.259471079509714, 0.2594710795263789, 0.259497617379346, 0.2512579920152798, 0.3245209284365719, 0.6050586526483491, 0.41948489165170116, 0.3577793203758262, 0.3465232426255486, 0.333853029195442, 0.29622041904040763, 0.29450621908822183, 0.28265186300602196, 0.28265186341093407, 0.2748974715930737, 0.2664820720207888, 0.2664820720325111, 0.267394698938332, 0.25332709879454823, 0.25332709879732684, 0.2438743681647984, 0.24387436829528472, 0.24387436831004927, 0.24227871314987107, 0.2405827253905517, 0.2375665894716537, 0.2375665907597313, 0.2336544655313242, 0.23188044211646247, 0.2318804421184393, 0.23188044212093403, 0.22204412637126344, 0.2220441263729386, 0.22204412637300458, 0.22204412637208462, 0.22204412637280502, 0.5298252195429479, 0.49168951608803735, 0.4343312770780688, 0.3485193701852143, 0.34381141062958903, 0.3340231674661388, 0.2820230869084583, 0.28116446323860783, 0.27535545368610537, 0.2689775749109871, 0.2537148963112322, 0.25160344129136397, 0.24921545158185152, 0.24909595507654947, 0.24902475779709318, 0.24836764939824912, 0.24652415532837496, 0.24623765163145386, 0.24543060318807589, 0.24543086506521516, 0.24081597890942863, 0.2397056773502251, 0.23970567809391596, 0.23970568373331474, 0.23788021723964595, 0.23716962550792628, 0.23522159361185113, 0.2347395390235758, 0.2347395390220528, 0.23473953902549052, 4.268130931669721, 0.4723963863303157, 0.41961178727292386, 0.4196117872738827, 0.4003819246232524, 0.3997032562949964, 0.3634796127566219, 0.34462295136122784, 0.34396720407128073, 0.3334188860430237, 0.3150227848848147, 0.3112219548737302, 0.30569086347363034, 0.2965072169816571, 0.289552151343975, 0.28938959854000545, 0.2893895985482138, 0.28622949486022564, 0.2862294948630992, 0.27954266431896274, 0.2769417629264326, 0.2752099999197682, 0.2727883362854731, 0.27278833628751187, 0.29313227810902437, 0.2624649457104366, 0.25917104218302733, 0.2586556333103248, 0.25535485603120156, 0.29401488443015933, 0.2529271880026803, 0.5234436338293664, 0.39326621916069593, 0.43833822828921265, 0.37222482466890505, 0.3677783820609021, 0.36706869601816794, 0.3660235981902581, 0.34440039771242953, 0.3261464013631622, 0.3371917912954711, 0.3125115492460157, 0.3116231020889691, 0.31075221463115194, 0.3075143272862252, 0.30724231768230087, 0.30615583521774825, 0.30163596441936613, 0.29198269026433593, 0.29198269026417295, 0.28744133202401934, 0.2847772909547583, 0.2844435160372747, 0.28373606239818505, 0.28126383072830835, 0.2794948650281826, 0.2773206275517507, 0.2720100587912761, 0.2685612061711229, 0.2662569823059636, 0.26093987727976947], \"Category\": [\"Default\", \"Default\", \"Default\", \"Default\", \"Default\", \"Default\", \"Default\", \"Default\", \"Default\", \"Default\", \"Default\", \"Default\", \"Default\", \"Default\", \"Default\", \"Default\", \"Default\", \"Default\", \"Default\", \"Default\", \"Default\", \"Default\", \"Default\", \"Default\", \"Default\", \"Default\", \"Default\", \"Default\", \"Default\", \"Default\", \"Topic1\", \"Topic1\", \"Topic1\", \"Topic1\", \"Topic1\", \"Topic1\", \"Topic1\", \"Topic1\", \"Topic1\", \"Topic1\", \"Topic1\", \"Topic1\", \"Topic1\", \"Topic1\", \"Topic1\", \"Topic1\", \"Topic1\", \"Topic1\", \"Topic1\", \"Topic1\", \"Topic1\", \"Topic1\", \"Topic1\", \"Topic1\", \"Topic1\", \"Topic1\", \"Topic1\", \"Topic1\", \"Topic1\", \"Topic1\", \"Topic1\", \"Topic1\", \"Topic1\", \"Topic1\", \"Topic2\", \"Topic2\", \"Topic2\", \"Topic2\", \"Topic2\", \"Topic2\", \"Topic2\", \"Topic2\", \"Topic2\", \"Topic2\", \"Topic2\", \"Topic2\", \"Topic2\", \"Topic2\", \"Topic2\", \"Topic2\", \"Topic2\", \"Topic2\", \"Topic2\", \"Topic2\", \"Topic2\", \"Topic2\", \"Topic2\", \"Topic2\", \"Topic2\", \"Topic2\", \"Topic2\", \"Topic2\", \"Topic2\", \"Topic2\", \"Topic2\", \"Topic2\", \"Topic2\", \"Topic2\", \"Topic2\", \"Topic2\", \"Topic2\", \"Topic2\", \"Topic2\", \"Topic2\", \"Topic2\", \"Topic2\", \"Topic2\", \"Topic2\", \"Topic2\", \"Topic2\", \"Topic2\", \"Topic2\", \"Topic2\", \"Topic2\", \"Topic2\", \"Topic2\", \"Topic3\", \"Topic3\", \"Topic3\", \"Topic3\", \"Topic3\", \"Topic3\", \"Topic3\", \"Topic3\", \"Topic3\", \"Topic3\", \"Topic3\", \"Topic3\", \"Topic3\", \"Topic3\", \"Topic3\", \"Topic3\", \"Topic3\", \"Topic3\", \"Topic3\", \"Topic3\", \"Topic3\", \"Topic3\", \"Topic3\", \"Topic3\", \"Topic3\", \"Topic3\", \"Topic3\", \"Topic3\", \"Topic3\", \"Topic3\", \"Topic3\", \"Topic3\", \"Topic3\", \"Topic3\", \"Topic3\", \"Topic3\", \"Topic4\", \"Topic4\", \"Topic4\", \"Topic4\", \"Topic4\", \"Topic4\", \"Topic4\", \"Topic4\", \"Topic4\", \"Topic4\", \"Topic4\", \"Topic4\", \"Topic4\", \"Topic4\", \"Topic4\", \"Topic4\", \"Topic4\", \"Topic4\", \"Topic4\", \"Topic4\", \"Topic4\", \"Topic4\", \"Topic4\", \"Topic4\", \"Topic4\", \"Topic4\", \"Topic4\", \"Topic4\", \"Topic4\", \"Topic4\", \"Topic5\", \"Topic5\", \"Topic5\", \"Topic5\", \"Topic5\", \"Topic5\", \"Topic5\", \"Topic5\", \"Topic5\", \"Topic5\", \"Topic5\", \"Topic5\", \"Topic5\", \"Topic5\", \"Topic5\", \"Topic5\", \"Topic5\", \"Topic5\", \"Topic5\", \"Topic5\", \"Topic5\", \"Topic5\", \"Topic5\", \"Topic5\", \"Topic5\", \"Topic5\", \"Topic5\", \"Topic5\", \"Topic5\", \"Topic5\", \"Topic5\", \"Topic5\", \"Topic6\", \"Topic6\", \"Topic6\", \"Topic6\", \"Topic6\", \"Topic6\", \"Topic6\", \"Topic6\", \"Topic6\", \"Topic6\", \"Topic6\", \"Topic6\", \"Topic6\", \"Topic6\", \"Topic6\", \"Topic6\", \"Topic6\", \"Topic6\", \"Topic6\", \"Topic6\", \"Topic6\", \"Topic6\", \"Topic6\", \"Topic6\", \"Topic6\", \"Topic6\", \"Topic6\", \"Topic6\", \"Topic6\", \"Topic6\", \"Topic6\", \"Topic6\", \"Topic7\", \"Topic7\", \"Topic7\", \"Topic7\", \"Topic7\", \"Topic7\", \"Topic7\", \"Topic7\", \"Topic7\", \"Topic7\", \"Topic7\", \"Topic7\", \"Topic7\", \"Topic7\", \"Topic7\", \"Topic7\", \"Topic7\", \"Topic7\", \"Topic7\", \"Topic7\", \"Topic7\", \"Topic7\", \"Topic7\", \"Topic7\", \"Topic7\", \"Topic7\", \"Topic7\", \"Topic7\", \"Topic7\", \"Topic7\", \"Topic7\", \"Topic7\", \"Topic7\", \"Topic7\", \"Topic7\", \"Topic7\", \"Topic8\", \"Topic8\", \"Topic8\", \"Topic8\", \"Topic8\", \"Topic8\", \"Topic8\", \"Topic8\", \"Topic8\", \"Topic8\", \"Topic8\", \"Topic8\", \"Topic8\", \"Topic8\", \"Topic8\", \"Topic8\", \"Topic8\", \"Topic8\", \"Topic8\", \"Topic8\", \"Topic8\", \"Topic8\", \"Topic8\", \"Topic8\", \"Topic8\", \"Topic8\", \"Topic8\", \"Topic8\", \"Topic8\", \"Topic8\", \"Topic9\", \"Topic9\", \"Topic9\", \"Topic9\", \"Topic9\", \"Topic9\", \"Topic9\", \"Topic9\", \"Topic9\", \"Topic9\", \"Topic9\", \"Topic9\", \"Topic9\", \"Topic9\", \"Topic9\", \"Topic9\", \"Topic9\", \"Topic9\", \"Topic9\", \"Topic9\", \"Topic9\", \"Topic9\", \"Topic9\", \"Topic9\", \"Topic9\", \"Topic9\", \"Topic9\", \"Topic9\", \"Topic9\", \"Topic9\", \"Topic9\", \"Topic10\", \"Topic10\", \"Topic10\", \"Topic10\", \"Topic10\", \"Topic10\", \"Topic10\", \"Topic10\", \"Topic10\", \"Topic10\", \"Topic10\", \"Topic10\", \"Topic10\", \"Topic10\", \"Topic10\", \"Topic10\", \"Topic10\", \"Topic10\", \"Topic10\", \"Topic10\", \"Topic10\", \"Topic10\", \"Topic10\", \"Topic10\", \"Topic10\", \"Topic10\", \"Topic10\", \"Topic10\", \"Topic10\", \"Topic10\", \"Topic10\", \"Topic11\", \"Topic11\", \"Topic11\", \"Topic11\", \"Topic11\", \"Topic11\", \"Topic11\", \"Topic11\", \"Topic11\", \"Topic11\", \"Topic11\", \"Topic11\", \"Topic11\", \"Topic11\", \"Topic11\", \"Topic11\", \"Topic11\", \"Topic11\", \"Topic11\", \"Topic11\", \"Topic11\", \"Topic11\", \"Topic11\", \"Topic11\", \"Topic11\", \"Topic11\", \"Topic11\", \"Topic11\", \"Topic11\", \"Topic11\", \"Topic11\", \"Topic11\", \"Topic11\", \"Topic12\", \"Topic12\", \"Topic12\", \"Topic12\", \"Topic12\", \"Topic12\", \"Topic12\", \"Topic12\", \"Topic12\", \"Topic12\", \"Topic12\", \"Topic12\", \"Topic12\", \"Topic12\", \"Topic12\", \"Topic12\", \"Topic12\", \"Topic12\", \"Topic12\", \"Topic12\", \"Topic12\", \"Topic12\", \"Topic12\", \"Topic12\", \"Topic12\", \"Topic12\", \"Topic12\", \"Topic12\", \"Topic12\", \"Topic12\", \"Topic12\", \"Topic12\", \"Topic12\", \"Topic12\", \"Topic12\", \"Topic12\", \"Topic12\", \"Topic12\", \"Topic12\", \"Topic12\", \"Topic12\", \"Topic12\", \"Topic12\", \"Topic12\", \"Topic13\", \"Topic13\", \"Topic13\", \"Topic13\", \"Topic13\", \"Topic13\", \"Topic13\", \"Topic13\", \"Topic13\", \"Topic13\", \"Topic13\", \"Topic13\", \"Topic13\", \"Topic13\", \"Topic13\", \"Topic13\", \"Topic13\", \"Topic13\", \"Topic13\", \"Topic13\", \"Topic13\", \"Topic13\", \"Topic13\", \"Topic13\", \"Topic13\", \"Topic13\", \"Topic13\", \"Topic13\", \"Topic13\", \"Topic13\", \"Topic14\", \"Topic14\", \"Topic14\", \"Topic14\", \"Topic14\", \"Topic14\", \"Topic14\", \"Topic14\", \"Topic14\", \"Topic14\", \"Topic14\", \"Topic14\", \"Topic14\", \"Topic14\", \"Topic14\", \"Topic14\", \"Topic14\", \"Topic14\", \"Topic14\", \"Topic14\", \"Topic14\", \"Topic14\", \"Topic14\", \"Topic14\", \"Topic14\", \"Topic14\", \"Topic14\", \"Topic14\", \"Topic14\", \"Topic14\", \"Topic14\", \"Topic14\", \"Topic14\", \"Topic15\", \"Topic15\", \"Topic15\", \"Topic15\", \"Topic15\", \"Topic15\", \"Topic15\", \"Topic15\", \"Topic15\", \"Topic15\", \"Topic15\", \"Topic15\", \"Topic15\", \"Topic15\", \"Topic15\", \"Topic15\", \"Topic15\", \"Topic15\", \"Topic15\", \"Topic15\", \"Topic15\", \"Topic15\", \"Topic15\", \"Topic15\", \"Topic15\", \"Topic15\", \"Topic15\", \"Topic15\", \"Topic15\", \"Topic15\", \"Topic15\", \"Topic16\", \"Topic16\", \"Topic16\", \"Topic16\", \"Topic16\", \"Topic16\", \"Topic16\", \"Topic16\", \"Topic16\", \"Topic16\", \"Topic16\", \"Topic16\", \"Topic16\", \"Topic16\", \"Topic16\", \"Topic16\", \"Topic16\", \"Topic16\", \"Topic16\", \"Topic16\", \"Topic16\", \"Topic16\", \"Topic16\", \"Topic16\", \"Topic16\", \"Topic16\", \"Topic16\", \"Topic16\", \"Topic16\", \"Topic16\", \"Topic16\", \"Topic17\", \"Topic17\", \"Topic17\", \"Topic17\", \"Topic17\", \"Topic17\", \"Topic17\", \"Topic17\", \"Topic17\", \"Topic17\", \"Topic17\", \"Topic17\", \"Topic17\", \"Topic17\", \"Topic17\", \"Topic17\", \"Topic17\", \"Topic17\", \"Topic17\", \"Topic17\", \"Topic17\", \"Topic17\", \"Topic17\", \"Topic17\", \"Topic17\", \"Topic17\", \"Topic17\", \"Topic17\", \"Topic17\", \"Topic17\", \"Topic17\", \"Topic18\", \"Topic18\", \"Topic18\", \"Topic18\", \"Topic18\", \"Topic18\", \"Topic18\", \"Topic18\", \"Topic18\", \"Topic18\", \"Topic18\", \"Topic18\", \"Topic18\", \"Topic18\", \"Topic18\", \"Topic18\", \"Topic18\", \"Topic18\", \"Topic18\", \"Topic18\", \"Topic18\", \"Topic18\", \"Topic18\", \"Topic18\", \"Topic18\", \"Topic18\", \"Topic18\", \"Topic18\", \"Topic18\", \"Topic18\", \"Topic18\", \"Topic19\", \"Topic19\", \"Topic19\", \"Topic19\", \"Topic19\", \"Topic19\", \"Topic19\", \"Topic19\", \"Topic19\", \"Topic19\", \"Topic19\", \"Topic19\", \"Topic19\", \"Topic19\", \"Topic19\", \"Topic19\", \"Topic19\", \"Topic19\", \"Topic19\", \"Topic19\", \"Topic19\", \"Topic19\", \"Topic19\", \"Topic19\", \"Topic19\", \"Topic19\", \"Topic19\", \"Topic19\", \"Topic19\", \"Topic19\", \"Topic20\", \"Topic20\", \"Topic20\", \"Topic20\", \"Topic20\", \"Topic20\", \"Topic20\", \"Topic20\", \"Topic20\", \"Topic20\", \"Topic20\", \"Topic20\", \"Topic20\", \"Topic20\", \"Topic20\", \"Topic20\", \"Topic20\", \"Topic20\", \"Topic20\", \"Topic20\", \"Topic20\", \"Topic20\", \"Topic20\", \"Topic20\", \"Topic20\", \"Topic20\", \"Topic20\", \"Topic20\", \"Topic20\", \"Topic20\"], \"logprob\": [30.0, 29.0, 28.0, 27.0, 26.0, 25.0, 24.0, 23.0, 22.0, 21.0, 20.0, 19.0, 18.0, 17.0, 16.0, 15.0, 14.0, 13.0, 12.0, 11.0, 10.0, 9.0, 8.0, 7.0, 6.0, 5.0, 4.0, 3.0, 2.0, 1.0, -5.734, -6.0519, -6.0525, -6.1643, -6.2782, -6.3514, -6.3884, -6.4025, -6.3962, -6.4191, -6.4794, -6.5426, -6.5852, -6.6082, -6.6103, -6.6192, -6.6399, -6.6602, -6.6631, -6.7136, -6.7206, -6.7224, -6.7403, -6.7649, -6.7748, -6.7789, -6.7871, -6.8363, -6.8471, -6.8503, -6.557, -5.936, -6.298, -5.8531, -6.4308, -6.4369, -6.4375, -6.4731, -6.6224, -6.7297, -6.7503, -6.7595, -6.7608, -6.8281, -6.8285, -6.8416, -6.8763, -6.8839, -6.9224, -6.957, -6.9594, -6.9669, -6.98, -6.9895, -7.0127, -7.0247, -6.3231, -7.0685, -7.088, -7.0926, -7.0966, -7.1137, -7.1149, -7.1266, -5.9841, -6.065, -5.548, -5.5182, -6.2996, -6.3649, -6.1823, -6.026, -6.1894, -5.6028, -6.1832, -6.4315, -6.2405, -5.9616, -6.1788, -6.1869, -6.3031, -6.4679, -6.5451, -6.1928, -6.6298, -6.7418, -6.0381, -6.6858, -6.7802, -6.8765, -7.0311, -7.3611, -7.5155, -7.5765, -7.5849, -7.6608, -7.707, -7.7804, -7.7871, -7.8042, -7.8066, -7.8331, -7.8769, -7.8845, -7.9041, -7.9393, -7.9543, -7.964, -7.9691, -8.005, -8.0402, -8.0424, -8.0494, -8.0494, -8.0829, -8.1063, -6.3546, -6.9845, -7.8556, -7.5022, -7.7953, -7.8022, -7.0032, -7.2511, -7.4878, -7.5983, -7.7513, -7.8061, -7.8554, -7.8674, -7.9776, -8.0223, -8.0702, -8.2179, -8.2255, -8.2291, -8.419, -8.4427, -8.4575, -8.4668, -8.4812, -8.6738, -8.8207, -8.8319, -8.8564, -8.8875, -8.9018, -8.9319, -8.9364, -8.9513, -8.9613, -8.9816, -7.2011, -7.2129, -7.2495, -7.3201, -7.3438, -7.5288, -7.5425, -7.606, -7.6358, -7.6397, -7.6437, -7.6554, -7.6989, -7.7071, -7.7636, -7.8511, -7.8822, -7.9266, -7.9527, -8.0259, -8.0559, -8.0627, -8.0894, -8.0904, -8.1127, -8.1239, -8.1239, -8.144, -8.1514, -8.1859, -7.7574, -8.1426, -7.2294, -7.3512, -7.5034, -7.5224, -7.6755, -7.6962, -7.7418, -7.7669, -7.7777, -7.8302, -7.8768, -7.8769, -7.8876, -7.9541, -7.958, -7.9779, -7.9927, -7.9927, -7.9927, -8.0413, -8.0489, -8.0724, -8.073, -8.0759, -8.095, -8.1063, -8.1599, -8.2141, -8.236, -8.2441, -7.8526, -8.1843, -6.8307, -6.8392, -6.8786, -6.9718, -7.0402, -7.2285, -7.3195, -7.3277, -7.4799, -7.499, -7.5927, -7.6711, -7.8538, -7.3444, -8.0083, -8.0353, -8.0369, -8.0599, -8.0709, -8.0992, -8.1181, -8.1334, -8.1908, -8.1934, -8.2105, -8.2105, -8.2105, -8.2234, -8.271, -8.2391, -8.2498, -7.4033, -7.4852, -7.6235, -7.2318, -7.7975, -6.3584, -6.796, -6.8955, -6.9888, -7.6015, -7.9455, -8.0533, -8.266, -8.3367, -8.362, -8.4018, -8.6208, -8.6596, -8.6922, -8.7512, -8.7805, -8.8778, -8.9219, -8.925, -8.979, -9.008, -9.0834, -9.0884, -9.181, -9.2108, -9.1739, -9.2345, -9.1413, -9.2492, -9.2496, -6.8797, -7.3909, -7.3986, -7.5608, -7.6014, -7.6753, -7.7275, -7.8438, -8.0147, -7.5046, -8.1066, -8.1693, -8.1811, -8.2086, -8.2228, -8.2601, -8.2714, -8.2781, -8.2922, -8.305, -8.3588, -8.3899, -8.3923, -8.366, -7.4268, -8.5896, -8.6229, -8.6229, -8.6535, -8.6535, -8.1859, -7.3134, -7.4518, -7.4938, -7.5784, -7.6208, -7.6729, -7.792, -7.8001, -7.8635, -7.9233, -7.9728, -7.9857, -8.1495, -8.1531, -8.2153, -8.2153, -8.3185, -8.3368, -8.3831, -8.389, -8.4155, -8.4597, -8.0052, -7.9075, -8.6223, -8.6421, -8.7177, -8.7177, -8.8184, -8.8857, -8.5009, -7.0368, -7.4206, -7.4979, -7.6107, -7.6779, -7.7071, -7.725, -7.7951, -7.8323, -7.8766, -7.9011, -8.0181, -8.0423, -8.1444, -8.1892, -8.2132, -8.2437, -8.2752, -8.2926, -8.3421, -8.429, -8.429, -8.4332, -8.5394, -8.5588, -8.6044, -8.6592, -8.6638, -8.7132, -8.7605, -8.3029, -8.4794, -8.6413, -9.2924, -10.5308, -10.5308, -10.5308, -10.5308, -10.5308, -10.5308, -10.5308, -10.5308, -10.5308, -10.5308, -10.5308, -10.5308, -10.5308, -10.5308, -10.5308, -10.5308, -10.5308, -10.5308, -10.5308, -10.5308, -10.5308, -10.5308, -10.5308, -10.5308, -10.5308, -10.5308, -10.5308, -10.5308, -10.5308, -10.5308, -10.5308, -10.5308, -10.5308, -10.5308, -10.5308, -10.5308, -10.5308, -10.5308, -10.5308, -10.5308, -10.5308, -10.5308, -10.5308, -7.3416, -7.7216, -7.8189, -8.0913, -8.2933, -8.45, -8.7094, -8.7094, -8.8355, -8.8552, -9.1078, -9.2843, -9.2843, -9.3217, -9.3588, -9.3636, -9.4083, -9.4693, -9.4693, -9.5022, -9.5027, -9.529, -9.5904, -9.6072, -9.6172, -9.6172, -9.6172, -9.6172, -9.6172, -9.6172, -7.632, -7.6927, -7.7668, -7.8352, -7.9248, -7.9373, -8.1894, -8.2341, -8.3136, -8.3847, -8.4548, -8.5075, -8.5542, -8.6055, -8.6431, -7.9137, -8.6679, -8.6955, -8.7373, -8.7571, -8.0193, -8.8085, -8.8085, -8.8909, -6.3956, -8.9279, -9.0695, -9.1316, -9.1316, -9.1316, -8.2766, -8.3519, -8.3947, -7.5021, -7.3008, -7.9666, -8.2444, -8.518, -8.4388, -8.7571, -9.0063, -9.0505, -9.3296, -9.3373, -9.3373, -9.4051, -9.4051, -9.4607, -9.4633, -9.4728, -9.5582, -9.6132, -9.6311, -9.6311, -9.6311, -9.6311, -9.6905, -9.6905, -9.7464, -9.7464, -9.7464, -9.7464, -9.7464, -9.7464, -7.5272, -7.5595, -7.7708, -7.8411, -7.9018, -8.0693, -8.0829, -8.209, -8.3002, -8.3191, -8.3573, -8.3403, -8.3871, -8.5084, -8.5597, -8.5759, -8.6374, -8.6597, -8.7467, -8.8574, -9.0068, -9.0107, -8.9863, -9.1087, -9.1172, -9.1172, -9.1172, -9.1172, -9.1242, -9.2751, -9.1584, -7.1474, -7.7657, -8.1016, -8.1771, -8.2698, -8.6097, -8.6284, -8.7676, -8.7676, -8.8737, -8.9954, -8.9954, -9.0503, -9.2288, -9.2288, -9.4381, -9.4381, -9.4381, -9.4782, -9.5276, -9.607, -9.607, -9.7282, -9.7884, -9.7884, -9.7884, -10.21, -10.21, -10.21, -10.21, -10.21, -7.3474, -7.4716, -7.6934, -8.1596, -8.1907, -8.2631, -8.7702, -8.7812, -8.8587, -8.9514, -9.216, -9.2588, -9.3095, -9.3121, -9.3137, -9.3282, -9.37, -9.3766, -9.3956, -9.3956, -9.5117, -9.5417, -9.5417, -9.5417, -9.5932, -9.6142, -9.6732, -9.6885, -9.6885, -9.6885, -8.8704, -7.5403, -7.7587, -7.7587, -7.8518, -7.8553, -8.0592, -8.1845, -8.1914, -8.2671, -8.4195, -8.4542, -8.5068, -8.6008, -8.6784, -8.6802, -8.6802, -8.7176, -8.7176, -8.8017, -8.8365, -8.8603, -8.8945, -8.8945, -8.8458, -9.0555, -9.1127, -9.122, -9.1835, -9.0604, -9.233, -7.474, -7.8868, -7.7959, -8.0042, -8.0309, -8.0353, -8.0417, -8.1843, -8.3229, -8.3612, -8.4405, -8.4487, -8.4568, -8.4874, -8.49, -8.5005, -8.5455, -8.6488, -8.6488, -8.7032, -8.7336, -8.7377, -8.7465, -8.7777, -8.8012, -8.8296, -8.9043, -8.9556, -8.9916, -9.0799], \"loglift\": [30.0, 29.0, 28.0, 27.0, 26.0, 25.0, 24.0, 23.0, 22.0, 21.0, 20.0, 19.0, 18.0, 17.0, 16.0, 15.0, 14.0, 13.0, 12.0, 11.0, 10.0, 9.0, 8.0, 7.0, 6.0, 5.0, 4.0, 3.0, 2.0, 1.0, 0.2601, 0.2598, 0.2598, 0.2596, 0.2595, 0.2593, 0.2593, 0.2592, 0.2592, 0.2592, 0.2591, 0.259, 0.2589, 0.2588, 0.2588, 0.2588, 0.2588, 0.2587, 0.2587, 0.2586, 0.2586, 0.2586, 0.2585, 0.2585, 0.2584, 0.2584, 0.2584, 0.2583, 0.2583, 0.2582, 0.2556, 0.2335, 0.2435, 0.2217, 2.3158, 2.3158, 2.3157, 2.3152, 2.3127, 2.3106, 2.3102, 2.31, 2.31, 2.3085, 2.3085, 2.3082, 2.3074, 2.3072, 2.3063, 2.3055, 2.3054, 2.3052, 2.3049, 2.3046, 2.304, 2.3037, 2.3031, 2.3025, 2.3019, 2.3018, 2.3017, 2.3012, 2.3012, 2.3008, 2.2756, 2.269, 2.2466, 2.2113, 2.2233, 2.2191, 2.1859, 2.1534, 2.0763, 1.9059, 2.049, 2.1184, 1.9865, 1.8165, 1.8575, 1.7465, 1.6793, 1.8587, 1.8808, 1.0094, 0.6686, 1.6597, 4.6034, 4.5052, 4.4859, 4.4647, 4.4273, 4.3318, 4.2791, 4.2567, 4.2536, 4.2244, 4.206, 4.1757, 4.1729, 4.1656, 4.1628, 4.1532, 4.1339, 4.1305, 4.1216, 4.1056, 4.0953, 4.0941, 4.0917, 4.0748, 4.0578, 4.0567, 4.0533, 4.0533, 4.0368, 4.0251, 3.773, 3.309, 3.8375, 2.9503, 2.8796, 1.7682, 4.4784, 4.4071, 4.3266, 4.2847, 4.2217, 4.1978, 4.1756, 4.1701, 4.1181, 4.0961, 4.072, 3.9941, 3.9899, 3.988, 3.8794, 3.8652, 3.8563, 3.8506, 3.8419, 3.72, 3.6214, 3.6137, 3.5968, 3.5751, 3.565, 3.5437, 3.5405, 3.5299, 3.5227, 3.5082, 4.4469, 4.4436, 4.4319, 4.4087, 4.4006, 4.3333, 4.3281, 4.3029, 4.2907, 4.2892, 4.2875, 4.2827, 4.2644, 4.2609, 4.2363, 4.1966, 4.1821, 4.1609, 4.1482, 4.1116, 4.0964, 4.0929, 4.079, 4.0785, 4.0662, 4.0608, 4.0608, 4.0501, 4.0461, 4.0273, 3.212, 3.8304, 4.4435, 4.4037, 4.3483, 4.341, 4.2791, 4.2703, 4.2506, 4.2395, 4.2346, 4.2108, 4.1891, 4.189, 4.1839, 4.1518, 4.1499, 4.14, 4.1326, 4.1326, 4.1326, 4.108, 4.104, 4.0919, 4.0906, 4.0901, 4.0757, 4.0741, 4.0438, 4.0149, 3.9935, 3.9924, 3.8756, 3.9614, 4.5878, 4.5857, 4.5757, 4.551, 4.5317, 4.4736, 4.4427, 4.4399, 4.3838, 4.3763, 4.3382, 4.3021, 4.2223, 4.1586, 4.1455, 4.1314, 4.1306, 4.1185, 4.1126, 4.0975, 4.0873, 4.0789, 4.0469, 4.0455, 4.0359, 4.0359, 4.0359, 4.0285, 4.0012, 4.0006, 3.9992, 3.3378, 3.1594, 2.5607, 1.1428, 1.9501, 4.6944, 4.6043, 4.5791, 4.5538, 4.3411, 4.1825, 4.1268, 3.9897, 3.9665, 3.9513, 3.927, 3.7866, 3.7606, 3.7385, 3.6976, 3.6774, 3.6083, 3.5763, 3.5741, 3.5344, 3.5128, 3.456, 3.4523, 3.381, 3.3578, 3.3447, 3.3392, 3.3343, 3.3276, 3.3273, 4.6068, 4.4437, 4.4401, 4.376, 4.3592, 4.327, 4.3035, 4.2486, 4.1618, 4.1246, 4.1122, 4.0771, 4.0704, 4.0546, 4.0463, 4.0245, 4.0179, 4.0139, 4.0055, 3.9978, 3.9652, 3.946, 3.9445, 3.9417, 3.917, 3.8174, 3.7951, 3.7951, 3.7744, 3.7744, 3.6241, 4.482, 4.4297, 4.4129, 4.3778, 4.3584, 4.3366, 4.2811, 4.2776, 4.2467, 4.2166, 4.1911, 4.1843, 4.0948, 4.0896, 4.057, 4.057, 3.9956, 3.9843, 3.9559, 3.9517, 3.9356, 3.9075, 3.8561, 3.8179, 3.8003, 3.7869, 3.7347, 3.7347, 3.6321, 3.6146, 2.5872, 4.575, 4.4433, 4.4126, 4.3653, 4.3356, 4.3224, 4.3138, 4.2802, 4.2632, 4.241, 4.229, 4.1681, 4.1551, 4.0986, 4.0731, 4.0591, 4.0413, 4.0224, 4.0118, 3.982, 3.9278, 3.9278, 3.9237, 3.8564, 3.8435, 3.8131, 3.7758, 3.7726, 3.7385, 3.7053, 3.2416, 2.8177, 3.0831, 3.304, 2.2139, 2.2139, 2.2139, 2.2139, 2.2139, 2.2139, 2.2139, 2.2139, 2.2139, 2.2139, 2.2139, 2.2139, 2.2139, 2.2139, 2.2139, 2.2139, 2.2139, 2.2139, 2.2139, 2.2139, 2.2139, 2.2139, 2.2139, 2.2139, 2.2139, 2.2139, 2.2139, 2.2139, 2.2139, 2.2139, 2.2139, 2.2139, 2.2139, 2.2139, 2.2139, 2.2139, 2.2139, 2.2139, 2.2139, 2.2139, 2.2139, 2.2139, 2.2139, 4.4903, 4.3303, 4.2835, 4.1402, 4.0222, 3.9239, 3.7489, 3.7489, 3.6587, 3.6443, 3.4534, 3.3134, 3.3134, 3.2735, 3.2528, 3.2489, 3.2121, 3.1615, 3.1615, 3.1339, 3.1335, 3.1114, 3.0594, 3.0451, 3.0366, 3.0366, 3.0366, 3.0366, 3.0366, 3.0366, 4.3701, 4.3437, 4.3089, 4.2756, 4.2301, 4.2236, 4.0842, 4.0579, 4.0098, 3.9656, 3.9208, 3.8864, 3.8554, 3.8197, 3.7951, 3.7877, 3.7779, 3.7587, 3.7286, 3.7152, 3.6994, 3.6783, 3.6783, 3.6181, 3.5878, 3.5597, 3.4831, 3.4348, 3.4348, 3.4348, 2.9359, 2.4551, 1.0096, 4.4304, 4.2275, 4.2109, 4.0484, 3.8813, 3.8667, 3.7167, 3.5328, 3.4989, 3.2776, 3.2713, 3.2713, 3.2156, 3.2156, 3.1695, 3.1673, 3.1593, 3.0875, 3.0407, 3.0254, 3.0254, 3.0254, 3.0254, 2.9742, 2.9742, 2.9258, 2.9258, 2.9258, 2.9258, 2.9258, 2.9258, 4.4267, 4.4128, 4.316, 4.2813, 4.2504, 4.1602, 4.1526, 4.0796, 4.0246, 4.013, 3.9891, 3.9825, 3.9703, 3.8916, 3.8572, 3.8463, 3.8042, 3.7887, 3.7274, 3.6471, 3.5351, 3.532, 3.5165, 3.4563, 3.4496, 3.4496, 3.4496, 3.4496, 3.4426, 3.3238, 3.1848, 4.5727, 4.3207, 4.144, 4.1004, 4.045, 3.8246, 3.8118, 3.7137, 3.7137, 3.6353, 3.5448, 3.5448, 3.4864, 3.362, 3.362, 3.1907, 3.1907, 3.1907, 3.1571, 3.1148, 3.048, 3.048, 2.9434, 2.8908, 2.8908, 2.8908, 2.5126, 2.5126, 2.5126, 2.5126, 2.5126, 4.5055, 4.456, 4.3583, 4.1122, 4.0946, 4.0511, 3.7133, 3.7054, 3.6487, 3.5794, 3.3733, 3.3388, 3.2976, 3.2955, 3.2942, 3.2824, 3.2481, 3.2426, 3.2269, 3.2269, 3.1298, 3.1043, 3.1043, 3.1043, 3.0605, 3.0425, 2.9917, 2.9785, 2.9785, 2.9785, 0.8962, 4.4273, 4.3274, 4.3274, 4.2812, 4.2795, 4.1706, 4.0986, 4.0935, 4.049, 3.9533, 3.9308, 3.8961, 3.8326, 3.7788, 3.7775, 3.7775, 3.751, 3.751, 3.6906, 3.6652, 3.6477, 3.6222, 3.6222, 3.5991, 3.4999, 3.4552, 3.4479, 3.3993, 3.3815, 3.3594, 4.3911, 4.2641, 4.2466, 4.2017, 4.1871, 4.1847, 4.1811, 4.0994, 4.0153, 3.9436, 3.9403, 3.935, 3.9297, 3.9095, 3.9078, 3.9009, 3.8708, 3.7999, 3.7999, 3.7613, 3.7401, 3.7372, 3.7309, 3.7085, 3.6913, 3.6707, 3.6154, 3.5767, 3.5494, 3.4813]}, \"token.table\": {\"Topic\": [1, 3, 1, 2, 2, 2, 1, 2, 1, 1, 2, 1, 1, 2, 2, 1, 2, 1, 1, 14, 1, 1, 2, 1, 2, 2, 1, 2, 1, 2, 1, 1, 2, 2, 2, 1, 1, 2, 1, 1, 2, 1, 2, 1, 2, 3, 2, 1, 2, 8, 1, 3, 1, 2, 1, 1, 2, 1, 2, 2, 8, 8, 1, 7, 7, 7, 1, 1, 2, 2, 1, 2, 3, 1, 3, 1, 2, 7, 1, 1, 1, 2, 2, 1, 9, 1, 4, 1, 2, 2, 3, 2, 2, 1, 2, 2, 2, 1, 2, 1, 2, 1, 2, 2, 2, 1, 1, 1, 2, 1, 1, 2, 1, 1, 1, 2, 1, 2, 2, 1, 2, 2, 1, 2, 1, 1, 1, 1, 2, 1, 2, 1, 1, 2, 1, 8, 2, 2, 2, 1, 2, 3, 1, 1, 1, 1, 2, 1, 1, 2, 1, 2], \"Freq\": [0.9978920305677121, 1.1315289845882535, 1.0020910049699012, 0.9930401581611791, 1.013911506624063, 1.0206675732300665, 0.9759438961673252, 0.02568273410966645, 0.9985597330767212, 0.3015331253797522, 0.703577292552755, 0.7801537333239088, 0.37372337803600697, 0.6228722967266782, 0.9727122148090519, 0.7115068655099712, 1.0115696095065407, 0.6631791670759284, 0.5820603865941397, 0.29103019329706986, 0.5811212436179497, 0.11574164342305854, 0.8680623256729391, 0.47216366823985645, 0.5115106405931779, 0.973865040261857, 0.2525730776683392, 0.7577192330050175, 0.20894119883219583, 0.7835294956207345, 0.9628178570630849, 0.9943050423880995, 0.9578640399275241, 1.0200149604320707, 0.9901630868323417, 1.0825574391921184, 1.000658805620972, 0.933557642214516, 0.9952868851084695, 0.3886065142349231, 0.6106673795120221, 0.34305158474994885, 0.6615994848749014, 0.38495760833465736, 0.6095162131965408, 1.0496186502332558, 0.9646496968090738, 1.002060897024803, 0.9987243247962747, 0.8480099343642419, 1.0040331162093084, 0.9735851552057166, 0.05592566456137127, 0.9507362975433116, 0.9195619761764199, 0.06522085649417551, 0.9130919909184573, 0.5824852552819647, 0.40773967869737526, 0.9371783724627148, 1.2002917371385504, 1.2930155877448088, 0.9998613953749108, 1.2669636272977796, 1.2301963867383883, 1.2223697013542612, 0.5637753692551019, 0.8140236139825209, 0.19854234487378558, 0.9251421259038727, 0.06755155688306046, 0.878170239479786, 1.1240459163380818, 0.6723376639552348, 0.3361688319776174, 0.9992017449232719, 0.9906724594150051, 1.3567240590047402, 0.9940207590400688, 0.9945480114845271, 0.9973788589581617, 0.9983948594304126, 0.9689316876107215, 0.9958714042567534, 1.308330402267667, 0.9931397295947693, 1.3020988514690046, 0.20821032419775654, 0.8328412967910261, 0.930436244264891, 1.2721143552071328, 0.8784564709116766, 0.9070249979348737, 1.0019797228419824, 1.0225764786375025, 0.9889977086649255, 0.915683550263615, 0.4496157533292987, 0.5620196916616234, 0.36784078249830116, 0.6130679708305019, 0.14374504745990685, 0.8145552689394722, 0.946572314223404, 0.9225385991303655, 0.9981660583448021, 1.0029568500094714, 0.9947723576208156, 0.9346941500667642, 0.9952862927892872, 0.6054671350414752, 0.3725951600255232, 0.9917209658549287, 0.9785594050601701, 0.689385062744985, 0.321713029280993, 0.47863044127362486, 0.5384592464328279, 1.0201163775856612, 0.620900288680332, 0.968907711568451, 1.0131264261724606, 0.05192128764649061, 0.934583177636831, 1.00176219803905, 0.9899346066210879, 1.0041243072883947, 0.122227935624598, 0.8861525332783354, 0.07181342038662733, 0.861761044639528, 0.9982466762783705, 0.9779810648564567, 0.018628210759170608, 0.9932281489192021, 1.383970101454486, 1.019996426919931, 1.045919016405018, 1.0002696420673756, 0.9956080773466227, 0.7937267807472658, 0.3968633903736329, 0.9984417658074114, 0.9894205003394044, 1.002707925618054, 1.0022418422439328, 1.0014587548392822, 0.9968017277200075, 0.9637106641337067, 0.035044024150316606, 0.7393865062534511, 0.27050725838540896], \"Term\": [\"also\", \"anas\", \"anyone\", \"armenia\", \"armenian\", \"armenians\", \"article\", \"article\", \"back\", \"baseball\", \"baseball\", \"beth\", \"bible\", \"bible\", \"bobby\", \"brains\", \"braves\", \"cape\", \"captain\", \"captain\", \"chess\", \"christ\", \"christ\", \"christian\", \"christian\", \"christianity\", \"christians\", \"christians\", \"church\", \"church\", \"civilians\", \"could\", \"cubs\", \"detroit\", \"devils\", \"discomfort\", \"drive\", \"espn\", \"even\", \"faith\", \"faith\", \"game\", \"game\", \"games\", \"games\", \"gehrels\", \"genocide\", \"good\", \"greek\", \"gtoal\", \"help\", \"hernlem\", \"hockey\", \"hockey\", \"humor\", \"jesus\", \"jesus\", \"jewish\", \"jewish\", \"kaldis\", \"keller\", \"kkeller\", \"know\", \"koufax\", \"lafayette\", \"lafibm\", \"lame\", \"last\", \"last\", \"leafs\", \"league\", \"league\", \"lebanese\", \"lebanon\", \"lebanon\", \"like\", \"livesey\", \"lowenstein\", \"mail\", \"make\", \"many\", \"montreal\", \"morality\", \"much\", \"mydisplay\", \"need\", \"nrhj\", \"objective\", \"objective\", \"occupation\", \"omran\", \"oriolefan\", \"pens\", \"people\", \"philadelphia\", \"phillies\", \"pitching\", \"play\", \"play\", \"player\", \"player\", \"players\", \"players\", \"playoff\", \"playoffs\", \"please\", \"problem\", \"providence\", \"rangers\", \"really\", \"religion\", \"religion\", \"right\", \"rochester\", \"runs\", \"runs\", \"rutgers\", \"rutgers\", \"sandvik\", \"sandy\", \"scored\", \"scripture\", \"season\", \"season\", \"someone\", \"something\", \"system\", \"team\", \"team\", \"teams\", \"teams\", \"thanks\", \"think\", \"think\", \"time\", \"toal\", \"turkish\", \"turks\", \"upenn\", \"used\", \"villages\", \"villages\", \"want\", \"well\", \"windows\", \"work\", \"worship\", \"would\", \"writes\", \"writes\", \"year\", \"year\"]}, \"R\": 30, \"lambda.step\": 0.01, \"plot.opts\": {\"xlab\": \"PC1\", \"ylab\": \"PC2\"}, \"topic.order\": [20, 9, 10, 11, 4, 17, 8, 2, 3, 15, 13, 6, 5, 19, 14, 18, 7, 16, 1, 12]};\n",
       "\n",
       "function LDAvis_load_lib(url, callback){\n",
       "  var s = document.createElement('script');\n",
       "  s.src = url;\n",
       "  s.async = true;\n",
       "  s.onreadystatechange = s.onload = callback;\n",
       "  s.onerror = function(){console.warn(\"failed to load library \" + url);};\n",
       "  document.getElementsByTagName(\"head\")[0].appendChild(s);\n",
       "}\n",
       "\n",
       "if(typeof(LDAvis) !== \"undefined\"){\n",
       "   // already loaded: just create the visualization\n",
       "   !function(LDAvis){\n",
       "       new LDAvis(\"#\" + \"ldavis_el120140436826670688878046572\", ldavis_el120140436826670688878046572_data);\n",
       "   }(LDAvis);\n",
       "}else if(typeof define === \"function\" && define.amd){\n",
       "   // require.js is available: use it to load d3/LDAvis\n",
       "   require.config({paths: {d3: \"https://cdnjs.cloudflare.com/ajax/libs/d3/3.5.5/d3.min\"}});\n",
       "   require([\"d3\"], function(d3){\n",
       "      window.d3 = d3;\n",
       "      LDAvis_load_lib(\"https://cdn.rawgit.com/bmabey/pyLDAvis/files/ldavis.v1.0.0.js\", function(){\n",
       "        new LDAvis(\"#\" + \"ldavis_el120140436826670688878046572\", ldavis_el120140436826670688878046572_data);\n",
       "      });\n",
       "    });\n",
       "}else{\n",
       "    // require.js not available: dynamically load d3 & LDAvis\n",
       "    LDAvis_load_lib(\"https://cdnjs.cloudflare.com/ajax/libs/d3/3.5.5/d3.min.js\", function(){\n",
       "         LDAvis_load_lib(\"https://cdn.rawgit.com/bmabey/pyLDAvis/files/ldavis.v1.0.0.js\", function(){\n",
       "                 new LDAvis(\"#\" + \"ldavis_el120140436826670688878046572\", ldavis_el120140436826670688878046572_data);\n",
       "            })\n",
       "         });\n",
       "}\n",
       "</script>"
      ],
      "text/plain": [
       "<IPython.core.display.HTML object>"
      ]
     },
     "execution_count": 35,
     "metadata": {
      "tags": []
     },
     "output_type": "execute_result"
    }
   ],
   "source": [
    "import pyLDAvis\n",
    "import pyLDAvis.sklearn\n",
    "\n",
    "pyLDAvis.enable_notebook()\n",
    "vis = pyLDAvis.sklearn.prepare(lda, tfidf, tfidf_vect, mds='tsne')\n",
    "pyLDAvis.display(vis)"
   ]
  },
  {
   "cell_type": "markdown",
   "metadata": {
    "colab_type": "text",
    "id": "TSmfM-_EN2NH"
   },
   "source": []
  },
  {
   "cell_type": "code",
   "execution_count": null,
   "metadata": {
    "colab": {
     "base_uri": "https://localhost:8080/",
     "height": 490
    },
    "colab_type": "code",
    "executionInfo": {
     "elapsed": 253993,
     "status": "ok",
     "timestamp": 1596171973788,
     "user": {
      "displayName": "홍경수",
      "photoUrl": "",
      "userId": "10514684854108920109"
     },
     "user_tz": -540
    },
    "id": "fwXgElV_O8Li",
    "outputId": "ca94cf18-1f32-474c-ced9-6b4aa0040389"
   },
   "outputs": [
    {
     "data": {
      "text/plain": [
       "Pipeline(memory=None,\n",
       "         steps=[('tfidf_vect',\n",
       "                 TfidfVectorizer(analyzer='word', binary=False,\n",
       "                                 decode_error='strict',\n",
       "                                 dtype=<class 'numpy.float64'>,\n",
       "                                 encoding='utf-8', input='content',\n",
       "                                 lowercase=True, max_df=1.0, max_features=None,\n",
       "                                 min_df=1, ngram_range=(1, 1), norm='l2',\n",
       "                                 preprocessor=None, smooth_idf=True,\n",
       "                                 stop_words=None, strip_accents=None,\n",
       "                                 sublinear_tf=False,\n",
       "                                 token_patt...\n",
       "                                 use_idf=True, vocabulary=None)),\n",
       "                ('lda',\n",
       "                 LatentDirichletAllocation(batch_size=128, doc_topic_prior=None,\n",
       "                                           evaluate_every=-1,\n",
       "                                           learning_decay=0.7,\n",
       "                                           learning_method='online',\n",
       "                                           learning_offset=10.0,\n",
       "                                           max_doc_update_iter=100, max_iter=20,\n",
       "                                           mean_change_tol=0.001,\n",
       "                                           n_components=20, n_jobs=None,\n",
       "                                           perp_tol=0.1, random_state=100,\n",
       "                                           topic_word_prior=None,\n",
       "                                           total_samples=1000000.0,\n",
       "                                           verbose=0))],\n",
       "         verbose=False)"
      ]
     },
     "execution_count": 38,
     "metadata": {
      "tags": []
     },
     "output_type": "execute_result"
    }
   ],
   "source": [
    "from sklearn.pipeline import Pipeline\n",
    "from sklearn.feature_extraction.text import TfidfVectorizer\n",
    "from sklearn.decomposition import LatentDirichletAllocation\n",
    "\n",
    "lda_pipeline = Pipeline([('tfidf_vect', TfidfVectorizer(tokenizer=my_tokenizer)),\n",
    "                         ('lda', LatentDirichletAllocation(n_components=20,\n",
    "                                                           max_iter=20,\n",
    "                                                           learning_method='online',\n",
    "                                                           random_state=100))])\n",
    "lda_pipeline.fit(tokenized_docs)"
   ]
  },
  {
   "cell_type": "code",
   "execution_count": null,
   "metadata": {
    "colab": {
     "base_uri": "https://localhost:8080/",
     "height": 881
    },
    "colab_type": "code",
    "executionInfo": {
     "elapsed": 72653,
     "status": "ok",
     "timestamp": 1596172746870,
     "user": {
      "displayName": "홍경수",
      "photoUrl": "",
      "userId": "10514684854108920109"
     },
     "user_tz": -540
    },
    "id": "RsphXJuCPyAd",
    "outputId": "fe2d6a0c-0879-44d1-de70-504445f720bc"
   },
   "outputs": [
    {
     "data": {
      "text/html": [
       "\n",
       "<link rel=\"stylesheet\" type=\"text/css\" href=\"https://cdn.rawgit.com/bmabey/pyLDAvis/files/ldavis.v1.0.0.css\">\n",
       "\n",
       "\n",
       "<div id=\"ldavis_el1201404369307520888510899379\"></div>\n",
       "<script type=\"text/javascript\">\n",
       "\n",
       "var ldavis_el1201404369307520888510899379_data = {\"mdsDat\": {\"x\": [-10.878067970275879, -60.88402557373047, -2.3361191749572754, -61.385318756103516, -28.737743377685547, 1.0666056871414185, 45.14072036743164, -140.7959747314453, 61.531681060791016, -72.56305694580078, 15.984491348266602, -160.85162353515625, 85.96183013916016, -99.02083587646484, -176.76412963867188, -117.18988037109375, 108.82991790771484, 47.588096618652344, -106.46783447265625, -50.61380386352539], \"y\": [10.538727760314941, -75.5918197631836, -53.2890739440918, -12.914633750915527, 126.2969970703125, -123.55281066894531, -7.947869300842285, -98.53054809570312, -83.24056243896484, -140.39688110351562, 63.57818603515625, 68.94514465332031, 51.922935485839844, 109.93634796142578, -8.681683540344238, -37.42020034790039, -22.946203231811523, 121.934814453125, 30.176889419555664, 59.32884216308594], \"topics\": [1, 2, 3, 4, 5, 6, 7, 8, 9, 10, 11, 12, 13, 14, 15, 16, 17, 18, 19, 20], \"cluster\": [1, 1, 1, 1, 1, 1, 1, 1, 1, 1, 1, 1, 1, 1, 1, 1, 1, 1, 1, 1], \"Freq\": [77.02650313380965, 9.71966757975285, 0.8882724211278362, 0.8365663751869188, 0.8067421672990776, 0.7997456428544005, 0.765516379091133, 0.7574205227799189, 0.733387443783382, 0.722033365087754, 0.7203689001824809, 0.7129369428551657, 0.7005846236485908, 0.7004879049111802, 0.6964152514446207, 0.6880305723303216, 0.6847913718269533, 0.6808364982401592, 0.6804680550446321, 0.6792248487429746]}, \"tinfo\": {\"Term\": [\"game\", \"team\", \"jesus\", \"year\", \"games\", \"play\", \"bible\", \"players\", \"season\", \"christian\", \"last\", \"christians\", \"hockey\", \"church\", \"baseball\", \"christ\", \"jewish\", \"faith\", \"league\", \"teams\", \"player\", \"christianity\", \"objective\", \"religion\", \"rutgers\", \"would\", \"armenian\", \"turkish\", \"armenians\", \"runs\", \"would\", \"like\", \"know\", \"people\", \"anyone\", \"thanks\", \"could\", \"also\", \"good\", \"time\", \"please\", \"windows\", \"much\", \"need\", \"even\", \"system\", \"want\", \"right\", \"make\", \"problem\", \"used\", \"many\", \"drive\", \"really\", \"something\", \"mail\", \"work\", \"help\", \"back\", \"someone\", \"well\", \"article\", \"think\", \"writes\", \"armenian\", \"turkish\", \"armenians\", \"morality\", \"sandvik\", \"detroit\", \"leafs\", \"espn\", \"rangers\", \"montreal\", \"greek\", \"braves\", \"pitching\", \"playoffs\", \"cubs\", \"livesey\", \"armenia\", \"upenn\", \"scripture\", \"philadelphia\", \"turks\", \"pens\", \"christianity\", \"playoff\", \"genocide\", \"scored\", \"bobby\", \"phillies\", \"devils\", \"worship\", \"season\", \"hockey\", \"jesus\", \"team\", \"league\", \"teams\", \"christ\", \"players\", \"church\", \"game\", \"christians\", \"objective\", \"baseball\", \"games\", \"bible\", \"play\", \"christian\", \"faith\", \"player\", \"year\", \"last\", \"rutgers\", \"lebanese\", \"hernlem\", \"gehrels\", \"anas\", \"omran\", \"amehdi\", \"dorin\", \"nysernet\", \"syrian\", \"honeywell\", \"brader\", \"hizbollah\", \"hezbollah\", \"stalk\", \"radii\", \"golan\", \"shnekendorf\", \"phenylalanine\", \"gameboy\", \"hossien\", \"retaliation\", \"shai\", \"xtici\", \"azerbadjan\", \"specint\", \"transferable\", \"amoss\", \"shuldig\", \"shaig\", \"fairchild\", \"lebanon\", \"villages\", \"shelling\", \"occupation\", \"chess\", \"civilians\", \"nrhj\", \"wwiz\", \"gizw\", \"bhjn\", \"bxom\", \"pnei\", \"tbxn\", \"nriz\", \"pmfq\", \"wmbxn\", \"bxlt\", \"mbxn\", \"wwhj\", \"tbxom\", \"gizwt\", \"eqtm\", \"jpwu\", \"nkjz\", \"nrizwt\", \"fijh\", \"zbhj\", \"bizw\", \"qtct\", \"eqtcv\", \"mbxlt\", \"ghjn\", \"wmbs\", \"desparate\", \"wmbxlt\", \"giyu\", \"vinyl\", \"skidmore\", \"yassin\", \"cjackson\", \"smokers\", \"howabout\", \"antibiotic\", \"muskingum\", \"roofs\", \"stark\", \"noemi\", \"vomiting\", \"liek\", \"deir\", \"aerostitch\", \"irgun\", \"eggs\", \"sportswriting\", \"interlan\", \"diving\", \"eugenics\", \"fiddle\", \"buyback\", \"prolactin\", \"cholesterol\", \"adorn\", \"souvlaki\", \"bacitracin\", \"miners\", \"tron\", \"beth\", \"jayson\", \"libxmu\", \"unlv\", \"inet\", \"spikes\", \"lxmu\", \"dylan\", \"krillean\", \"todamhyp\", \"lazarus\", \"swee\", \"magnet\", \"dundee\", \"acne\", \"dealy\", \"pmax\", \"parse\", \"inguiry\", \"eridan\", \"chuvashia\", \"lxext\", \"adresses\", \"struct\", \"clad\", \"nodefinitions\", \"photographed\", \"intravenous\", \"snapped\", \"scrollbar\", \"organic\", \"cursors\", \"huey\", \"hess\", \"lafibm\", \"lafayette\", \"koufax\", \"lowenstein\", \"dock\", \"stankowitz\", \"hplsla\", \"racking\", \"ampere\", \"stuttgart\", \"greenberg\", \"matchups\", \"pablo\", \"hank\", \"guzzi\", \"deion\", \"reboots\", \"beamers\", \"biscayne\", \"energietechnik\", \"stanky\", \"kens\", \"bmws\", \"breeder\", \"ikesg\", \"wnkretz\", \"kretzschmar\", \"informations\", \"blomberg\", \"ornaments\", \"polluted\", \"sandy\", \"lame\", \"brains\", \"jewish\", \"humor\", \"gtoal\", \"keller\", \"kkeller\", \"toal\", \"celp\", \"melittin\", \"novitskey\", \"maria\", \"ibmpcug\", \"connectivity\", \"rchz\", \"coder\", \"chzd\", \"pizzabox\", \"elliptical\", \"rlhz\", \"chzv\", \"overstreet\", \"zrlk\", \"zrck\", \"zack\", \"mbps\", \"qvei\", \"mrlk\", \"iqvg\", \"superhighway\", \"fdzd\", \"nsfnet\", \"xtgc\", \"macii\", \"mydisplay\", \"xsizehints\", \"xman\", \"neon\", \"bulbs\", \"xopendisplay\", \"kurt\", \"emitting\", \"timmbake\", \"timmons\", \"bilinsky\", \"myhint\", \"tvga\", \"pposition\", \"whirr\", \"haferman\", \"whirrr\", \"drdos\", \"psize\", \"equiv\", \"thruput\", \"dres\", \"swyatt\", \"imprecise\", \"bake\", \"chirps\", \"ktiedtke\", \"tiedtke\", \"jhawk\", \"hawkinson\", \"xxxxx\", \"kirlian\", \"opel\", \"nanosecond\", \"manta\", \"gibbons\", \"hillel\", \"erzurum\", \"vxcrna\", \"rubenstein\", \"gibbonsa\", \"dexter\", \"kadett\", \"keysearch\", \"windowed\", \"jebright\", \"ebright\", \"calibra\", \"ermeni\", \"microsecond\", \"logs\", \"seater\", \"lokkur\", \"headlights\", \"aura\", \"overturn\", \"dialix\", \"dank\", \"vielen\", \"llama\", \"traveler\", \"oriolefan\", \"crohn\", \"prozac\", \"halat\", \"jasmine\", \"inkjet\", \"silverlining\", \"venerable\", \"webo\", \"desiree\", \"recurrence\", \"nodine\", \"megadrive\", \"omnipotence\", \"mintaka\", \"inhibitors\", \"turmeric\", \"taber\", \"intestinal\", \"specialize\", \"paxil\", \"adriana\", \"gilmete\", \"therapist\", \"eyles\", \"lipoxygenase\", \"nutritionists\", \"colitis\", \"hicnet\", \"lipoxygnase\", \"ccfa\", \"vegetables\", \"discomfort\", \"intestine\", \"lags\", \"gbwh\", \"yiei\", \"omvp\", \"uhfju\", \"vdxt\", \"nvnc\", \"dxnb\", \"zpwh\", \"siyq\", \"gosr\", \"lhuq\", \"bnxs\", \"nfanq\", \"zako\", \"kzqxm\", \"gcvk\", \"cpplzu\", \"mprfw\", \"btyiewzy\", \"hzdte\", \"pafy\", \"iktr\", \"mnnts\", \"wiwf\", \"euvm\", \"zivo\", \"ivnp\", \"mhbhnb\", \"onmf\", \"vttg\", \"djfxs\", \"mtgt\", \"uyhjl\", \"wlra\", \"eikt\", \"wzkn\", \"xlprj\", \"kskm\", \"jmczj\", \"midkx\", \"sfdu\", \"qjcrj\", \"nzhv\", \"unisql\", \"wharfie\", \"wrat\", \"mcgee\", \"rollover\", \"shos\", \"jcyuhn\", \"yuhn\", \"wollt\", \"chrissc\", \"paronoid\", \"euren\", \"neue\", \"claris\", \"childcare\", \"macproducts\", \"ernet\", \"topps\", \"pricelist\", \"linton\", \"braked\", \"riduculously\", \"coyle\", \"sitter\", \"eigenes\", \"neuen\", \"damals\", \"wirklich\", \"juden\", \"denen\", \"trivia\", \"breton\", \"utica\", \"binghamton\", \"striped\", \"critus\", \"fredericton\", \"captains\", \"prefereably\", \"collingridge\", \"precompiled\", \"vergolini\", \"oooo\", \"damon\", \"happend\", \"springfield\", \"sittler\", \"volkert\", \"loney\", \"skipjacks\", \"adirondack\", \"vergolin\", \"euler\", \"reformatory\", \"captain\", \"applicon\", \"joit\", \"kennedey\", \"qvos\", \"doubter\", \"providence\", \"cape\", \"rochester\", \"convertibles\", \"decnet\", \"grady\", \"grading\", \"viscous\", \"diffs\", \"macpgp\", \"yingbin\", \"cytoskeleton\", \"pasting\", \"lebaron\", \"festiva\", \"lterature\", \"lloking\", \"hofs\", \"srcsignature\", \"vibrational\", \"psxop\", \"translational\", \"motility\", \"cytoplasm\", \"acoustical\", \"microtubules\", \"macapp\", \"appmaker\", \"dunixconn\", \"timessqr\", \"ddnetconn\", \"dtcpconn\", \"cmcgc\", \"extralibraries\", \"pyron\", \"pagemaker\", \"dillon\", \"woof\", \"atmanager\", \"skndiv\", \"wabc\", \"enabler\", \"elided\", \"postcript\", \"sunshade\", \"phonetic\", \"kepley\", \"preempted\", \"slant\", \"crystalscan\", \"mohney\", \"coop\", \"weidlich\", \"ttfonts\", \"mcelwane\", \"kenyon\", \"bickering\", \"avinash\", \"mysstem\", \"sleepp\", \"expressmodem\", \"aftwer\", \"filesharing\", \"felixg\", \"centering\", \"clones\", \"wharton\", \"hartmann\", \"trinomials\", \"wathcing\", \"scand\", \"calloway\", \"awdpa\", \"ibmpa\", \"zhang\", \"hplvec\", \"lvld\", \"boucher\", \"irreducibility\", \"tverberg\", \"inesc\", \"fanout\", \"ingrina\", \"hzhang\", \"ljunggren\", \"qmrdd\", \"zeeff\", \"prcgs\", \"bremner\", \"quadrinomials\", \"thsoe\", \"mpkjao\", \"qtvzv\", \"mycwg\", \"jvafk\", \"muzog\", \"clas\", \"hennessy\", \"remus\", \"underwear\", \"thigpen\", \"prostitutes\", \"miniskirts\", \"miniskirt\", \"holcomb\", \"muzzah\", \"wilmott\", \"rolex\", \"knucklehead\", \"navn\", \"jnha\", \"meer\", \"parlors\", \"psycology\", \"mcqs\", \"cryco\", \"jaar\", \"leefing\", \"vell\", \"fazah\", \"horloges\", \"nader\", \"deze\", \"staat\", \"onderzoek\", \"inschrijving\", \"kaldis\", \"rathole\", \"ryukoku\", \"rins\", \"embarassment\", \"regal\", \"prodigy\", \"datadesk\", \"robb\", \"hesh\", \"reiken\", \"egaillou\", \"rebuilds\", \"woodstock\", \"ulaval\", \"janis\", \"joplin\", \"gadfly\", \"cbnewsi\", \"bambi\", \"arche\", \"gailloux\", \"tinman\", \"trintex\", \"primitives\", \"reverted\", \"gopath\", \"varnet\", \"polytchnic\", \"redistribute\", \"divergence\", \"needle\", \"lunatics\", \"yorku\", \"westford\", \"byuvm\", \"betting\", \"graders\", \"thud\", \"chlorine\", \"coincide\", \"spreads\", \"jewelry\", \"guage\", \"koblenz\", \"basalts\", \"luddington\", \"isscck\", \"eastwick\", \"rawley\", \"spira\", \"gspira\", \"evades\", \"hodgen\", \"pigment\", \"wingo\", \"ozzy\", \"uniko\", \"pinn\", \"lefthanded\", \"plunger\"], \"Freq\": [40.0, 32.0, 30.0, 55.0, 31.0, 26.0, 24.0, 20.0, 19.0, 25.0, 50.0, 19.0, 17.0, 19.0, 19.0, 17.0, 17.0, 18.0, 14.0, 13.0, 16.0, 13.0, 14.0, 21.0, 16.0, 185.0, 11.0, 11.0, 11.0, 21.0, 185.4247705249104, 134.93910728470328, 134.84997112408382, 120.5893719393868, 107.60589934741066, 100.00689733589262, 96.38110422438558, 95.03193682258686, 95.63229709531599, 93.4652749328296, 87.99294039780649, 82.60710617294913, 79.15876820791384, 77.3631467429091, 77.19576164599658, 76.51498973682011, 74.94830696870821, 73.44067153157398, 73.23143391598504, 69.62488771713404, 69.13563648910707, 69.01257102279098, 67.78648772743605, 66.14383077015947, 65.49215982326422, 65.22224549144488, 64.6858632190919, 61.582208252750355, 60.91923964065922, 60.723952024811645, 81.42394493312634, 151.51367076723625, 105.49419870011192, 164.61206749856953, 11.657083691317547, 11.586478366831699, 11.578742386699759, 11.174440798781859, 9.624534385938013, 8.645131271363349, 8.469051265763508, 8.391100361726693, 8.38068072953799, 7.834593021733063, 7.831949710234179, 7.730232997691469, 7.466293632762674, 7.4094896696565264, 7.129657766033206, 6.887638813900224, 6.8707916199321275, 6.819844082047616, 6.731036783483516, 6.6671849875350695, 6.514410021817951, 6.436763938521702, 12.981710100885199, 6.160391205331358, 6.041605721669485, 6.014271521906247, 5.99005105491709, 5.888479404955973, 5.881339111000162, 5.812991487697957, 18.220948165799456, 16.805996179532183, 28.18318830073084, 29.03462478688628, 13.291315680141354, 12.450900749772186, 14.945305436800783, 17.473276975798175, 14.839837609491127, 26.678583538957216, 14.931288101128105, 11.648345490685115, 14.099523771429025, 18.63518122565879, 14.998080120045769, 14.875989043095803, 13.244887104901407, 11.23171566652369, 10.398178401385197, 14.78860100133467, 9.553722588505236, 8.54131421215242, 1.577693107311074, 0.8255407913997809, 0.7511361477489511, 0.682169218047253, 0.5845021222506662, 0.42021367883705213, 0.36009206684771566, 0.338780176239655, 0.33591972349915034, 0.311390365392279, 0.2973287849530871, 0.27628898945473596, 0.27442922777834644, 0.26979179569792433, 0.26912914287306, 0.26209831599599254, 0.2508708748709637, 0.24897527525722637, 0.24412450808139216, 0.23568954099564876, 0.23217851771927783, 0.22993994998046094, 0.2287690332868126, 0.22070272492673093, 0.2130764291920606, 0.2126078482852575, 0.21112437725430017, 0.21112437714549728, 0.20416527040314855, 0.1994434796480608, 1.1496741534700297, 0.6123575725884656, 0.25626128330371156, 0.3649126077715721, 0.2721998863298971, 0.27032685058870065, 0.5660066623851939, 0.4417454796686824, 0.3486433824792466, 0.3121816518193186, 0.26789119942808565, 0.2536025612793126, 0.2413953740370008, 0.23851776640485525, 0.21362297641244082, 0.20428786181053393, 0.19473221472020125, 0.16799376348438677, 0.16672003726451268, 0.16611918246615398, 0.13739251158498986, 0.134172612406018, 0.13220173606121757, 0.13097809844452535, 0.12910723304228344, 0.10648564958999905, 0.09194067596351588, 0.09091852490047493, 0.08871398682144524, 0.08600378999486769, 0.08477507168748688, 0.082260947452019, 0.08189475126989539, 0.08068540039394814, 0.07987844890309645, 0.07828001637302456, 0.4478245387533088, 0.4425927156518179, 0.42667800125154776, 0.3976148056854308, 0.38826903473165125, 0.32269353675098655, 0.3183279304008518, 0.2987174988704595, 0.28995091010171237, 0.28884431801544136, 0.2876898068870816, 0.28434485662695835, 0.27223470050275184, 0.27001318794627605, 0.25517849085110456, 0.23378394271663794, 0.226639442475068, 0.21679452610511388, 0.21120223210852987, 0.1963073243814924, 0.19049119928304137, 0.18920393574279604, 0.18423022212452303, 0.18403612720265, 0.17998152671698514, 0.17796896234439985, 0.17796896230791628, 0.1744372748128986, 0.1731428437770643, 0.16727334883154507, 0.25675000207750337, 0.17468521599658687, 0.4315643346097346, 0.3820772473210435, 0.32813708653175067, 0.3219584580054452, 0.2762497142109419, 0.2705855613509921, 0.2585327519193443, 0.252118931493836, 0.2494144510343402, 0.2366537677417882, 0.225896678686356, 0.22585925865136536, 0.22345381167624762, 0.20908993289397784, 0.20827717761634024, 0.20416611862560358, 0.20116181188841367, 0.2011618118881642, 0.20116181188779703, 0.1916277768270595, 0.1901679691332397, 0.18576191171506987, 0.18565259805333748, 0.18511572591194245, 0.18161018222019637, 0.17956646410066318, 0.17020049376377727, 0.16121488292848213, 0.15772562445164173, 0.1564467668342, 0.23141054322550803, 0.166097164425363, 0.615483618982916, 0.6102672966031016, 0.5866890332649495, 0.5344700707957204, 0.4991353013710204, 0.4134750306368711, 0.3775000292577756, 0.37441159067168095, 0.32157155746383037, 0.3154726898946182, 0.2872714560731038, 0.2655977319350915, 0.2212418304352486, 0.3682049824551909, 0.189578666405967, 0.1845220619383574, 0.18423775895545297, 0.18004802380239057, 0.17807166392141324, 0.17310114252926004, 0.16987071222996547, 0.1672801904270686, 0.15794525373325888, 0.15753521518565286, 0.15487370073506754, 0.1548737007354593, 0.15487370073507664, 0.15288089464803237, 0.1457851238261957, 0.15050229106886479, 0.1488982765052808, 0.34715476378239984, 0.31987276866124065, 0.278545360593718, 0.4120943436432603, 0.23406733922686127, 0.9765716869851208, 0.6304709542976602, 0.5707260486090162, 0.5198991806219354, 0.2817294908750294, 0.19972592460181776, 0.17931920243012803, 0.14495364092459997, 0.13506625523781798, 0.1316876248547203, 0.1265568018513109, 0.10166521618279453, 0.09779227587738962, 0.09465931711667153, 0.08923595715565916, 0.08665714711432754, 0.07862033481452207, 0.07522675568705811, 0.0749962557006875, 0.07105273455477386, 0.06902353627349056, 0.06401066928280773, 0.06369484376819086, 0.05806036006481583, 0.05635206192349426, 0.05847023698360766, 0.05503568825474255, 0.06041010309679229, 0.05423118986523671, 0.054206899195842886, 0.5614630351316178, 0.33675124685282953, 0.33415043428290303, 0.28411149002621705, 0.2728288602638578, 0.253381257358693, 0.24048665810058412, 0.21409659062092867, 0.18045251509029622, 0.3005375620124961, 0.16462098421834387, 0.1546165127786977, 0.15279599572983527, 0.1486529072206249, 0.14655144554288171, 0.1411861448700196, 0.1396086954963038, 0.1386728783197995, 0.13673255207682755, 0.1349959871445627, 0.127923015399002, 0.12400954257123396, 0.12370347239855801, 0.126998057400084, 0.3248613512304895, 0.10155544650030032, 0.09822749320219475, 0.09822749318348586, 0.09526866224717288, 0.09526866224670406, 0.15206309350813585, 0.3582437370369139, 0.31192422602462, 0.2991075603474722, 0.27485830505182096, 0.2634341511728626, 0.25005871595520696, 0.2219817876461134, 0.2201870017230657, 0.2066584453121811, 0.19466554076193887, 0.18526808749278267, 0.18289283497932218, 0.15526172437665137, 0.1546983133111201, 0.1453695769813704, 0.14536957698091388, 0.1311186947964971, 0.12874161432428136, 0.12292102992581629, 0.12219529380587045, 0.11899874317656445, 0.11385715046751223, 0.1793588193112223, 0.19777198815667343, 0.09676402401768604, 0.0948743133518449, 0.08796059347637417, 0.08796059347575491, 0.07953517254335662, 0.07436231747567755, 0.10925518914205147, 0.4713102190220916, 0.3210834062819902, 0.29719167179976297, 0.2654961151167615, 0.24823738884112811, 0.24109670631704883, 0.23683088446138076, 0.2207855787539244, 0.21272562841720985, 0.2035072292545888, 0.1985785287458081, 0.17664942147376025, 0.17242515312038764, 0.15569237062789856, 0.14888129838679423, 0.1453380190078515, 0.14098315757224636, 0.13660606308379067, 0.13424460082269563, 0.12777118900596532, 0.11713692832339731, 0.11713692830226095, 0.11663827388021579, 0.1048888135147676, 0.10287036408869878, 0.09828519271044633, 0.09304890562317067, 0.09261667323630214, 0.08815524549174313, 0.08408323093109549, 0.13287463381521897, 0.11137830155410305, 0.0947262468266714, 0.0488890067383277, 0.014170110418820634, 0.014170110418711825, 0.014170110418604803, 0.014170110418640528, 0.014170110418663066, 0.014170110418748518, 0.014170110418589104, 0.014170110418659287, 0.014170110418661857, 0.014170110418630963, 0.014170110418567024, 0.014170110418523237, 0.01417011041863859, 0.014170110418466348, 0.014170110418562872, 0.014170110418497332, 0.014170110418394881, 0.014170110418401702, 0.01417011041860958, 0.014170110418448175, 0.014170110418504819, 0.01417011041842774, 0.014170110418437175, 0.014170110418505537, 0.014170110418401046, 0.014170110418575367, 0.014170110418433357, 0.014170110418369117, 0.01417011041837475, 0.01417011041865943, 0.014170110418593772, 0.014170110418599264, 0.014170110418651103, 0.014170110418542553, 0.014170110418524185, 0.014170110418522222, 0.014170110418528118, 0.014170110418558167, 0.014170110418550293, 0.014170110418561494, 0.014170110418539434, 0.014170110418540369, 0.014170110418528534, 0.33791855078898553, 0.2311036182302232, 0.20966574768056703, 0.15967547707542068, 0.13047208334439014, 0.11154802542789334, 0.08606389354356797, 0.08606389353476092, 0.07586216835090497, 0.07438149972961386, 0.05778038776963405, 0.04843250971543312, 0.048432509714823754, 0.046655393449676924, 0.04495243493652531, 0.044740009863744656, 0.04278289456459606, 0.040251947413391824, 0.04025194740883825, 0.03894978182059762, 0.038930256175514856, 0.03792035684509677, 0.03566245543758283, 0.035065965865492314, 0.034717680235449744, 0.03471768023523324, 0.03471768023504274, 0.0347176802347969, 0.03471768023489115, 0.03471768023530993, 0.2527292290428016, 0.23785131452729488, 0.2208613037280425, 0.20626050753621036, 0.1885789114500184, 0.18624041381415563, 0.14473553952227658, 0.1384101321515702, 0.12783729223626913, 0.11905563597980719, 0.11100357984295905, 0.10529680611615157, 0.10049783967971611, 0.09546856715226146, 0.09194695294255904, 0.1906821902685796, 0.0896924677173433, 0.08725662316553952, 0.08368335958498302, 0.08204226284703219, 0.17156745642889734, 0.07793015400229995, 0.0779301540018813, 0.07176802934975278, 0.8701706033390553, 0.0691594736067313, 0.06002563611224451, 0.056411086774731146, 0.05641108677473787, 0.056411086774658, 0.1326522330236081, 0.12303258583003888, 0.11787143559698404, 0.2861245719195756, 0.3499238948742257, 0.17981400111632148, 0.13618932300138858, 0.10359127439672411, 0.11212900776949877, 0.0815604140831864, 0.06357177102778153, 0.06082145483286031, 0.04601030487685596, 0.04565828395144342, 0.04565828327346295, 0.042665629436966564, 0.042665629430497745, 0.04035957344994993, 0.0402538869070082, 0.03987427883281655, 0.03660973657055944, 0.03464919817220984, 0.034034464118001824, 0.034034464107876514, 0.034034464104678835, 0.03403446410396592, 0.032070472646315344, 0.0320704726455323, 0.030328676553950374, 0.030328676553681624, 0.03032867655314663, 0.030328676551325758, 0.0303286765508405, 0.030328676551134068, 0.27566730141403745, 0.2668953246992593, 0.21606890933262632, 0.2013861744749136, 0.18953753816202107, 0.16029953461904695, 0.158131678433272, 0.13940291238313124, 0.12724963948848766, 0.12487276306532594, 0.1201910720508252, 0.12224718003339059, 0.11665845652543966, 0.10333526657236153, 0.09816355638065466, 0.09658733208850433, 0.09082456712612318, 0.08882572732490208, 0.0814224403870078, 0.07288827981921413, 0.06277735977787713, 0.06252873317563838, 0.06407297999570435, 0.056692629560009554, 0.056214623980438895, 0.056214623979544465, 0.05621462397906665, 0.05621462397602627, 0.05582425217893642, 0.04800152282138982, 0.05394774442479615, 0.4011133946185648, 0.2161395782168805, 0.1544811879037258, 0.1432386098436773, 0.1305683956349454, 0.09293578590822522, 0.09122158632607756, 0.07936722528957349, 0.07936722520633398, 0.07137413648742734, 0.06319743917515827, 0.06319743917183353, 0.059818520244022226, 0.05004246532391992, 0.0500424653226263, 0.04058972762065757, 0.04058972759356795, 0.04058972759053356, 0.03899407648757208, 0.03711730490014112, 0.034281922568091795, 0.034281922301789586, 0.030369832358554658, 0.02859580426953334, 0.028595804269346565, 0.028595804268727477, 0.018759487447763398, 0.018759487447844846, 0.018759487447775294, 0.018759487447665514, 0.018759487447725348, 0.3265039760442615, 0.28836828506495327, 0.23100992859254998, 0.14493619135867525, 0.1404901868447714, 0.1306804308292098, 0.07870186395701091, 0.0778432389767271, 0.07203423058513689, 0.06565635071044292, 0.05039367206181995, 0.04828221026345736, 0.045894221322220694, 0.045774718323758866, 0.04570352531116112, 0.04504642577047185, 0.04320292820209883, 0.04291637915712833, 0.0421093175603815, 0.0421092636934749, 0.03749475670409404, 0.03638445304577118, 0.03638445289194566, 0.03638445173181644, 0.0345589927024713, 0.03384201477877394, 0.03190037130558365, 0.03141831644558269, 0.03141831644513697, 0.031418316444752625, 0.07119947225843673, 0.26906986498770913, 0.21628527419545165, 0.21628527419574445, 0.19705524565953075, 0.1963766909396505, 0.16015291488700487, 0.1412964401170313, 0.1403176647298876, 0.13009237204413698, 0.1116962703446245, 0.10789544150481739, 0.10236434267915234, 0.09318058313731793, 0.08622564044649463, 0.08606301849246106, 0.0860630184912125, 0.08290297325139878, 0.0829029732516502, 0.07621590377299019, 0.07361524805648868, 0.0718834874842849, 0.06946182528083705, 0.06946182528088263, 0.07293270703700935, 0.059136235352465025, 0.05584451396601283, 0.05532911293939361, 0.05202822615338325, 0.05884802527906555, 0.04951923390531572, 0.28701255430430117, 0.18993031785898418, 0.20801356804988433, 0.16888884232787485, 0.1644425242309051, 0.1637323205998374, 0.16268765556567244, 0.14106455087960298, 0.12280944544768145, 0.11818775632365579, 0.10917570101981028, 0.10828645084211921, 0.10741632362366627, 0.10417469932500303, 0.1039064690852775, 0.10281989259012378, 0.09830009195186463, 0.08864684342877924, 0.08864684342855007, 0.08395988935773813, 0.08144140572546833, 0.08110766504207557, 0.08040021487842725, 0.07792798170564855, 0.0761166073931257, 0.07398475477521271, 0.06866417351464885, 0.06522519641921345, 0.06292113082661135, 0.05760402453255036], \"Total\": [40.0, 32.0, 30.0, 55.0, 31.0, 26.0, 24.0, 20.0, 19.0, 25.0, 50.0, 19.0, 17.0, 19.0, 19.0, 17.0, 17.0, 18.0, 14.0, 13.0, 16.0, 13.0, 14.0, 21.0, 16.0, 185.0, 11.0, 11.0, 11.0, 21.0, 185.59357879841556, 135.10785052758948, 135.01871421826425, 120.76092683472633, 107.77464268651318, 100.1756403265139, 96.54984728773914, 95.20068012363363, 95.80256078750452, 93.63407601888802, 88.16168338354946, 82.77584915751021, 79.32751122516657, 77.5318897285665, 77.36462838210542, 76.68373272223238, 75.11704995568734, 73.60941485901651, 73.4001769216103, 69.79363070239657, 69.30437947419095, 69.18133403396556, 67.95523071203246, 66.31257807744461, 65.66090281646221, 65.39098847671033, 64.85460620409803, 61.750951237623326, 61.08798300132663, 60.89269501225692, 81.8661024025824, 155.74665777092954, 107.36404187478965, 171.21321382110145, 11.835352416460294, 11.764747094493488, 11.757011111878544, 11.3527095260191, 9.802803111216868, 8.823399998160484, 8.64731999116776, 8.569369086865375, 8.55894946965119, 8.012861769504728, 8.010218437036551, 7.908501723279848, 7.64456235779793, 7.587758394714949, 7.307926499182127, 7.065907539343043, 7.0490603451143, 6.9981130143390855, 6.9093055113029065, 6.845453759436081, 6.692678773601478, 6.61503267678496, 13.348872238502887, 6.338659931040322, 6.219874447529668, 6.192540247499221, 6.168319785290071, 6.066748130387037, 6.059607836113915, 5.991260220160442, 19.25992295893283, 17.880878266589534, 30.665037343976124, 32.72574292905764, 14.803507811538902, 13.924973836592445, 17.279865231303184, 20.870284249874803, 19.14414209527182, 40.810188969698636, 19.796250836225866, 14.408507414601706, 19.898311313039233, 31.172263491329602, 24.0819829021584, 26.68945629939082, 25.41491607080634, 18.01307940959608, 16.31140505750667, 55.4513771258165, 50.36708922903602, 16.714356861030776, 1.7792867452564594, 1.027131519675546, 0.9527269735325025, 0.8837599510222756, 0.7860928507776915, 0.6218044061569482, 0.5616827942787357, 0.540370911177111, 0.5375107843263932, 0.5129968385589031, 0.49896155128649855, 0.4778797162873884, 0.4760205110132969, 0.471382541801017, 0.47154185956772376, 0.4636892261705911, 0.45246213728498685, 0.45056641812459325, 0.44571543486209325, 0.4372802691400524, 0.4352394996626964, 0.4315309641545431, 0.43035976058127695, 0.42229345685983377, 0.4146679476601566, 0.4141997289455219, 0.4127151041420258, 0.4127151045488564, 0.40575634404108124, 0.4010342272893279, 2.9746957625940214, 2.5197587488695676, 0.6216021083075264, 2.149529333501124, 1.7208112953747678, 5.193090222954178, 0.7679908471402289, 0.6437296644242418, 0.5506275672348259, 0.5141658365745826, 0.46987538418554564, 0.45558674603495514, 0.4433795587940727, 0.4405019511604714, 0.41560716116766233, 0.4062720465655794, 0.3967163994747271, 0.3699779482426243, 0.3687042220201461, 0.36810336722182574, 0.3393766963415189, 0.3361567971592776, 0.3341859232331843, 0.33296228420175006, 0.3310914177978883, 0.30846983434543873, 0.2939248607250469, 0.29290270965632925, 0.2906981715791321, 0.2879879747520146, 0.2867592564458974, 0.2842451322109518, 0.2838789360250476, 0.2826697535750327, 0.28186263366085484, 0.28026420112873046, 0.6502774233975163, 0.6448516609959583, 0.6289250210236007, 0.5998618312454175, 0.5905195124072792, 0.5249405406212732, 0.5205845090904668, 0.500964515611864, 0.492244154572789, 0.4911050262832355, 0.48993681084916174, 0.4865920475558708, 0.47448190623587966, 0.47226021887414743, 0.45742549508935587, 0.43603095287750626, 0.4288928844601372, 0.41904153023812385, 0.4134492386627131, 0.3986083699995205, 0.3927404858859877, 0.39145142785524356, 0.3864772435352127, 0.38628324270272624, 0.3824521751788208, 0.3802159660927562, 0.3802159662433504, 0.37668427840477275, 0.37538988155574055, 0.36952035237212766, 1.2817986472222829, 0.4698732686502336, 0.6342897760756824, 0.5844107877734531, 0.5304518864923415, 0.5242732014558839, 0.47856445778717965, 0.47290053874341914, 0.4608475055834475, 0.4544336750457107, 0.4517467163749486, 0.4389685123698015, 0.4282115906931404, 0.4281740059543696, 0.425774402523487, 0.4114046788006606, 0.41059192216888446, 0.40648416477460725, 0.40347655481966904, 0.4034765548225275, 0.4034765548228082, 0.3939425205941632, 0.39248275640614777, 0.3880787642897873, 0.3883369734236539, 0.38743074234084435, 0.3855896750479654, 0.3818812073752764, 0.3730746012082834, 0.36375537046966727, 0.3635614745708293, 0.36102960685632, 0.6001505589021763, 0.3953454286596086, 0.8180831043931323, 0.8128783426614458, 0.7892886413265326, 0.7370695561583656, 0.7017351582092873, 0.6160745159906711, 0.580099514790744, 0.5770199605069513, 0.5241710439263104, 0.5180815505442581, 0.4901071233652952, 0.4697819565286882, 0.423841317814765, 0.7517250984238016, 0.3921781601601002, 0.3871216714093808, 0.38683729949199014, 0.3826475092769827, 0.38067114942738495, 0.37570063076253996, 0.3724701978133445, 0.3698796758916494, 0.36059288031342446, 0.3601347414491161, 0.35747318613690016, 0.3574731861388073, 0.35747318613948004, 0.3554996454338883, 0.3483846180583537, 0.35988192369003164, 0.35655340509084876, 1.610564559609741, 1.7737560995636747, 2.8109356310518576, 17.167816540110156, 4.349897128883232, 1.1792314682606944, 0.8331307873400526, 0.7733858814062196, 0.7225589620390267, 0.48438958991040987, 0.40238570111692623, 0.3819789867989992, 0.3541579063945979, 0.3377260416017508, 0.3343477814193316, 0.32921657841827745, 0.30432499455224377, 0.3004520532464953, 0.2973198813259394, 0.2919742039940984, 0.28931692423697636, 0.2812801114092755, 0.27788972458644007, 0.2776560328702698, 0.27371251211245023, 0.27169026158956083, 0.2666716531082793, 0.2663546225808591, 0.2607201381195174, 0.2590118411809508, 0.2722829314083091, 0.25769546664582343, 0.2842395401855886, 0.25689096658486654, 0.25686691097907693, 0.7643329225299264, 0.5396211353367342, 0.5373788057043128, 0.48718830444739636, 0.47573936318943927, 0.45631541868656417, 0.44339497970992015, 0.4169934722944769, 0.38332325674861234, 0.6626460168347125, 0.36749087048794277, 0.3574863993388739, 0.35566699605181384, 0.35152279400373615, 0.3494213334632553, 0.34405603203168295, 0.3424785838478646, 0.34154277363566327, 0.3396024388968162, 0.3378668789099247, 0.33079290341902445, 0.32687943027730193, 0.3265734043874169, 0.3361930088687381, 0.8815075648143975, 0.3044253389319964, 0.3010973798561045, 0.3010973799412293, 0.29813855213652624, 0.29813855213809465, 0.5530513183743382, 0.5612001241261296, 0.5148806092051417, 0.5020640667460786, 0.4778630951064879, 0.46696449185623895, 0.4530151037722335, 0.4251130038280736, 0.42314360106477084, 0.40961483788406267, 0.39762191850160794, 0.388224467784455, 0.3858492126670314, 0.3582181249704266, 0.3587752074816977, 0.34832596003508165, 0.3483259600360119, 0.33407510346812763, 0.33174015595766654, 0.32587741715024454, 0.32529797657276893, 0.32195516065967955, 0.3168135292920601, 0.5254122161905818, 0.6019006215888432, 0.29972040706197445, 0.29783072130642274, 0.29091697097380537, 0.29091697097707814, 0.29147749071094453, 0.27731871039435063, 1.1383603321427909, 0.674286407332423, 0.5240595977745721, 0.500167862051063, 0.4684722940390089, 0.4512181120952883, 0.4440730077412563, 0.4399496407352957, 0.4241619442433722, 0.415701901890962, 0.4066261792497427, 0.40155470537517957, 0.37962561694128577, 0.3754034938182005, 0.3586686898975858, 0.3518574746487533, 0.34831419526627483, 0.34395933931431055, 0.3396257336729095, 0.337331888518021, 0.33074736565436513, 0.3201131047905854, 0.32011310488427397, 0.32007891408332434, 0.30786498988724775, 0.3058465404043486, 0.3012613690984303, 0.29602509941426175, 0.2955931746147548, 0.29113142182768315, 0.2870594116896617, 0.7212410209432635, 0.9237385138162011, 0.6025062835490212, 0.2519176434036454, 0.2171968507568843, 0.21719685075524559, 0.2171968507536316, 0.2171968507548521, 0.21719685075565848, 0.21719685075701023, 0.21719685075473338, 0.21719685075607809, 0.21719685075620443, 0.2171968507559125, 0.2171968507549531, 0.21719685075450787, 0.21719685075645573, 0.2171968507538971, 0.21719685075543246, 0.21719685075444897, 0.21719685075307024, 0.21719685075329662, 0.21719685075665823, 0.21719685075418876, 0.21719685075522596, 0.2171968507540676, 0.21719685075430928, 0.21719685075535988, 0.2171968507538849, 0.2171968507566089, 0.21719685075445475, 0.21719685075351958, 0.21719685075360928, 0.21719685075823317, 0.21719685075726874, 0.21719685075736664, 0.2171968507585232, 0.21719685075650202, 0.2171968507561787, 0.2171968507561761, 0.21719685075634473, 0.2171968507571529, 0.2171968507570022, 0.21719685075790854, 0.21719685075696937, 0.2171968507591049, 0.21719685075805134, 0.5410643118095217, 0.43424938424365217, 0.4128115152742591, 0.3628234785824479, 0.33361783995077804, 0.31469378192783787, 0.28920965029552276, 0.2892096503360536, 0.27900792435064004, 0.27752726023296703, 0.260926174680002, 0.25157826593629445, 0.2515782659385769, 0.25220926704595337, 0.24809994532798493, 0.24788577331866027, 0.24592874980690027, 0.2433977142921928, 0.24339771431419185, 0.24209989024063444, 0.24207603560687938, 0.24106614786261818, 0.23881546849611984, 0.23821200066247225, 0.23786343740419835, 0.23786343740523397, 0.23786343740395655, 0.23786343740345575, 0.237863437404206, 0.23786343740735102, 0.45638636199260985, 0.4410002018533759, 0.424030646067114, 0.40940904978266096, 0.3917271678495525, 0.3893886559942163, 0.3478915112629087, 0.34155837636254066, 0.3309855896423383, 0.3222038794129346, 0.31415182205398084, 0.30844513519375344, 0.3036460835499344, 0.29895394311744433, 0.29509618194162046, 0.6165068448843967, 0.2928411131615448, 0.29040486811897265, 0.28704371847879623, 0.28519137770110115, 0.6059014835096467, 0.2810784053909377, 0.28107840539329065, 0.2749162749943212, 3.4360696004460514, 0.28087079707140233, 0.2631816575228851, 0.25955933433479456, 0.2595593343364699, 0.25955933433746947, 1.0052551142370776, 1.5078881389009442, 6.131462197362529, 0.4893108813659512, 0.7330018698803612, 0.38300446480976946, 0.3412688123744275, 0.30677791889844536, 0.3369334730209575, 0.2847476541812882, 0.2667580748241289, 0.26400775842718394, 0.24919761828133458, 0.24884459212154153, 0.24884459534168388, 0.2458519365492934, 0.24585193657898266, 0.2435486601109419, 0.24344021379198766, 0.24307548221883127, 0.2397960387746406, 0.2378407392738485, 0.2372207727714631, 0.23722077281943676, 0.2372207728350941, 0.2372207728387527, 0.2352567774191819, 0.23525677742471623, 0.2335149820046154, 0.23351498200677936, 0.23351498200910042, 0.2335149820193807, 0.2335149820161694, 0.23351498201920956, 0.47892375891679806, 0.4702157618355662, 0.4193254143086186, 0.4046431942208184, 0.3927940204627788, 0.36355599350000034, 0.36138843762157113, 0.34271087677363793, 0.3305062006745457, 0.32812921952912666, 0.3234475414201004, 0.33115821057732486, 0.3199149167906463, 0.3065918776495887, 0.30142019161072414, 0.29984382326153003, 0.2940811737080344, 0.2920821877843485, 0.28467889604471586, 0.27614491670671065, 0.26603381664653547, 0.265785191687528, 0.276609982514999, 0.25994909653845777, 0.25947107950387344, 0.2594710795075171, 0.259471079509714, 0.2594710795263789, 0.259497617379346, 0.2512579920152798, 0.3245209284365719, 0.6050586526483491, 0.41948489165170116, 0.3577793203758262, 0.3465232426255486, 0.333853029195442, 0.29622041904040763, 0.29450621908822183, 0.28265186300602196, 0.28265186341093407, 0.2748974715930737, 0.2664820720207888, 0.2664820720325111, 0.267394698938332, 0.25332709879454823, 0.25332709879732684, 0.2438743681647984, 0.24387436829528472, 0.24387436831004927, 0.24227871314987107, 0.2405827253905517, 0.2375665894716537, 0.2375665907597313, 0.2336544655313242, 0.23188044211646247, 0.2318804421184393, 0.23188044212093403, 0.22204412637126344, 0.2220441263729386, 0.22204412637300458, 0.22204412637208462, 0.22204412637280502, 0.5298252195429479, 0.49168951608803735, 0.4343312770780688, 0.3485193701852143, 0.34381141062958903, 0.3340231674661388, 0.2820230869084583, 0.28116446323860783, 0.27535545368610537, 0.2689775749109871, 0.2537148963112322, 0.25160344129136397, 0.24921545158185152, 0.24909595507654947, 0.24902475779709318, 0.24836764939824912, 0.24652415532837496, 0.24623765163145386, 0.24543060318807589, 0.24543086506521516, 0.24081597890942863, 0.2397056773502251, 0.23970567809391596, 0.23970568373331474, 0.23788021723964595, 0.23716962550792628, 0.23522159361185113, 0.2347395390235758, 0.2347395390220528, 0.23473953902549052, 4.268130931669721, 0.4723963863303157, 0.41961178727292386, 0.4196117872738827, 0.4003819246232524, 0.3997032562949964, 0.3634796127566219, 0.34462295136122784, 0.34396720407128073, 0.3334188860430237, 0.3150227848848147, 0.3112219548737302, 0.30569086347363034, 0.2965072169816571, 0.289552151343975, 0.28938959854000545, 0.2893895985482138, 0.28622949486022564, 0.2862294948630992, 0.27954266431896274, 0.2769417629264326, 0.2752099999197682, 0.2727883362854731, 0.27278833628751187, 0.29313227810902437, 0.2624649457104366, 0.25917104218302733, 0.2586556333103248, 0.25535485603120156, 0.29401488443015933, 0.2529271880026803, 0.5234436338293664, 0.39326621916069593, 0.43833822828921265, 0.37222482466890505, 0.3677783820609021, 0.36706869601816794, 0.3660235981902581, 0.34440039771242953, 0.3261464013631622, 0.3371917912954711, 0.3125115492460157, 0.3116231020889691, 0.31075221463115194, 0.3075143272862252, 0.30724231768230087, 0.30615583521774825, 0.30163596441936613, 0.29198269026433593, 0.29198269026417295, 0.28744133202401934, 0.2847772909547583, 0.2844435160372747, 0.28373606239818505, 0.28126383072830835, 0.2794948650281826, 0.2773206275517507, 0.2720100587912761, 0.2685612061711229, 0.2662569823059636, 0.26093987727976947], \"Category\": [\"Default\", \"Default\", \"Default\", \"Default\", \"Default\", \"Default\", \"Default\", \"Default\", \"Default\", \"Default\", \"Default\", \"Default\", \"Default\", \"Default\", \"Default\", \"Default\", \"Default\", \"Default\", \"Default\", \"Default\", \"Default\", \"Default\", \"Default\", \"Default\", \"Default\", \"Default\", \"Default\", \"Default\", \"Default\", \"Default\", \"Topic1\", \"Topic1\", \"Topic1\", \"Topic1\", \"Topic1\", \"Topic1\", \"Topic1\", \"Topic1\", \"Topic1\", \"Topic1\", \"Topic1\", \"Topic1\", \"Topic1\", \"Topic1\", \"Topic1\", \"Topic1\", \"Topic1\", \"Topic1\", \"Topic1\", \"Topic1\", \"Topic1\", \"Topic1\", \"Topic1\", \"Topic1\", \"Topic1\", \"Topic1\", \"Topic1\", \"Topic1\", \"Topic1\", \"Topic1\", \"Topic1\", \"Topic1\", \"Topic1\", \"Topic1\", \"Topic2\", \"Topic2\", \"Topic2\", \"Topic2\", \"Topic2\", \"Topic2\", \"Topic2\", \"Topic2\", \"Topic2\", \"Topic2\", \"Topic2\", \"Topic2\", \"Topic2\", \"Topic2\", \"Topic2\", \"Topic2\", \"Topic2\", \"Topic2\", \"Topic2\", \"Topic2\", \"Topic2\", \"Topic2\", \"Topic2\", \"Topic2\", \"Topic2\", \"Topic2\", \"Topic2\", \"Topic2\", \"Topic2\", \"Topic2\", \"Topic2\", \"Topic2\", \"Topic2\", \"Topic2\", \"Topic2\", \"Topic2\", \"Topic2\", \"Topic2\", \"Topic2\", \"Topic2\", \"Topic2\", \"Topic2\", \"Topic2\", \"Topic2\", \"Topic2\", \"Topic2\", \"Topic2\", \"Topic2\", \"Topic2\", \"Topic2\", \"Topic2\", \"Topic2\", \"Topic3\", \"Topic3\", \"Topic3\", \"Topic3\", \"Topic3\", \"Topic3\", \"Topic3\", \"Topic3\", \"Topic3\", \"Topic3\", \"Topic3\", \"Topic3\", \"Topic3\", \"Topic3\", \"Topic3\", \"Topic3\", \"Topic3\", \"Topic3\", \"Topic3\", \"Topic3\", \"Topic3\", \"Topic3\", \"Topic3\", \"Topic3\", \"Topic3\", \"Topic3\", \"Topic3\", \"Topic3\", \"Topic3\", \"Topic3\", \"Topic3\", \"Topic3\", \"Topic3\", \"Topic3\", \"Topic3\", \"Topic3\", \"Topic4\", \"Topic4\", \"Topic4\", \"Topic4\", \"Topic4\", \"Topic4\", \"Topic4\", \"Topic4\", \"Topic4\", \"Topic4\", \"Topic4\", \"Topic4\", \"Topic4\", \"Topic4\", \"Topic4\", \"Topic4\", \"Topic4\", \"Topic4\", \"Topic4\", \"Topic4\", \"Topic4\", \"Topic4\", \"Topic4\", \"Topic4\", \"Topic4\", \"Topic4\", \"Topic4\", \"Topic4\", \"Topic4\", \"Topic4\", \"Topic5\", \"Topic5\", \"Topic5\", \"Topic5\", \"Topic5\", \"Topic5\", \"Topic5\", \"Topic5\", \"Topic5\", \"Topic5\", \"Topic5\", \"Topic5\", \"Topic5\", \"Topic5\", \"Topic5\", \"Topic5\", \"Topic5\", \"Topic5\", \"Topic5\", \"Topic5\", \"Topic5\", \"Topic5\", \"Topic5\", \"Topic5\", \"Topic5\", \"Topic5\", \"Topic5\", \"Topic5\", \"Topic5\", \"Topic5\", \"Topic5\", \"Topic5\", \"Topic6\", \"Topic6\", \"Topic6\", \"Topic6\", \"Topic6\", \"Topic6\", \"Topic6\", \"Topic6\", \"Topic6\", \"Topic6\", \"Topic6\", \"Topic6\", \"Topic6\", \"Topic6\", \"Topic6\", \"Topic6\", \"Topic6\", \"Topic6\", \"Topic6\", \"Topic6\", \"Topic6\", \"Topic6\", \"Topic6\", \"Topic6\", \"Topic6\", \"Topic6\", \"Topic6\", \"Topic6\", \"Topic6\", \"Topic6\", \"Topic6\", \"Topic6\", \"Topic7\", \"Topic7\", \"Topic7\", \"Topic7\", \"Topic7\", \"Topic7\", \"Topic7\", \"Topic7\", \"Topic7\", \"Topic7\", \"Topic7\", \"Topic7\", \"Topic7\", \"Topic7\", \"Topic7\", \"Topic7\", \"Topic7\", \"Topic7\", \"Topic7\", \"Topic7\", \"Topic7\", \"Topic7\", \"Topic7\", \"Topic7\", \"Topic7\", \"Topic7\", \"Topic7\", \"Topic7\", \"Topic7\", \"Topic7\", \"Topic7\", \"Topic7\", \"Topic7\", \"Topic7\", \"Topic7\", \"Topic7\", \"Topic8\", \"Topic8\", \"Topic8\", \"Topic8\", \"Topic8\", \"Topic8\", \"Topic8\", \"Topic8\", \"Topic8\", \"Topic8\", \"Topic8\", \"Topic8\", \"Topic8\", \"Topic8\", \"Topic8\", \"Topic8\", \"Topic8\", \"Topic8\", \"Topic8\", \"Topic8\", \"Topic8\", \"Topic8\", \"Topic8\", \"Topic8\", \"Topic8\", \"Topic8\", \"Topic8\", \"Topic8\", \"Topic8\", \"Topic8\", \"Topic9\", \"Topic9\", \"Topic9\", \"Topic9\", \"Topic9\", \"Topic9\", \"Topic9\", \"Topic9\", \"Topic9\", \"Topic9\", \"Topic9\", \"Topic9\", \"Topic9\", \"Topic9\", \"Topic9\", \"Topic9\", \"Topic9\", \"Topic9\", \"Topic9\", \"Topic9\", \"Topic9\", \"Topic9\", \"Topic9\", \"Topic9\", \"Topic9\", \"Topic9\", \"Topic9\", \"Topic9\", \"Topic9\", \"Topic9\", \"Topic9\", \"Topic10\", \"Topic10\", \"Topic10\", \"Topic10\", \"Topic10\", \"Topic10\", \"Topic10\", \"Topic10\", \"Topic10\", \"Topic10\", \"Topic10\", \"Topic10\", \"Topic10\", \"Topic10\", \"Topic10\", \"Topic10\", \"Topic10\", \"Topic10\", \"Topic10\", \"Topic10\", \"Topic10\", \"Topic10\", \"Topic10\", \"Topic10\", \"Topic10\", \"Topic10\", \"Topic10\", \"Topic10\", \"Topic10\", \"Topic10\", \"Topic10\", \"Topic11\", \"Topic11\", \"Topic11\", \"Topic11\", \"Topic11\", \"Topic11\", \"Topic11\", \"Topic11\", \"Topic11\", \"Topic11\", \"Topic11\", \"Topic11\", \"Topic11\", \"Topic11\", \"Topic11\", \"Topic11\", \"Topic11\", \"Topic11\", \"Topic11\", \"Topic11\", \"Topic11\", \"Topic11\", \"Topic11\", \"Topic11\", \"Topic11\", \"Topic11\", \"Topic11\", \"Topic11\", \"Topic11\", \"Topic11\", \"Topic11\", \"Topic11\", \"Topic11\", \"Topic12\", \"Topic12\", \"Topic12\", \"Topic12\", \"Topic12\", \"Topic12\", \"Topic12\", \"Topic12\", \"Topic12\", \"Topic12\", \"Topic12\", \"Topic12\", \"Topic12\", \"Topic12\", \"Topic12\", \"Topic12\", \"Topic12\", \"Topic12\", \"Topic12\", \"Topic12\", \"Topic12\", \"Topic12\", \"Topic12\", \"Topic12\", \"Topic12\", \"Topic12\", \"Topic12\", \"Topic12\", \"Topic12\", \"Topic12\", \"Topic12\", \"Topic12\", \"Topic12\", \"Topic12\", \"Topic12\", \"Topic12\", \"Topic12\", \"Topic12\", \"Topic12\", \"Topic12\", \"Topic12\", \"Topic12\", \"Topic12\", \"Topic12\", \"Topic13\", \"Topic13\", \"Topic13\", \"Topic13\", \"Topic13\", \"Topic13\", \"Topic13\", \"Topic13\", \"Topic13\", \"Topic13\", \"Topic13\", \"Topic13\", \"Topic13\", \"Topic13\", \"Topic13\", \"Topic13\", \"Topic13\", \"Topic13\", \"Topic13\", \"Topic13\", \"Topic13\", \"Topic13\", \"Topic13\", \"Topic13\", \"Topic13\", \"Topic13\", \"Topic13\", \"Topic13\", \"Topic13\", \"Topic13\", \"Topic14\", \"Topic14\", \"Topic14\", \"Topic14\", \"Topic14\", \"Topic14\", \"Topic14\", \"Topic14\", \"Topic14\", \"Topic14\", \"Topic14\", \"Topic14\", \"Topic14\", \"Topic14\", \"Topic14\", \"Topic14\", \"Topic14\", \"Topic14\", \"Topic14\", \"Topic14\", \"Topic14\", \"Topic14\", \"Topic14\", \"Topic14\", \"Topic14\", \"Topic14\", \"Topic14\", \"Topic14\", \"Topic14\", \"Topic14\", \"Topic14\", \"Topic14\", \"Topic14\", \"Topic15\", \"Topic15\", \"Topic15\", \"Topic15\", \"Topic15\", \"Topic15\", \"Topic15\", \"Topic15\", \"Topic15\", \"Topic15\", \"Topic15\", \"Topic15\", \"Topic15\", \"Topic15\", \"Topic15\", \"Topic15\", \"Topic15\", \"Topic15\", \"Topic15\", \"Topic15\", \"Topic15\", \"Topic15\", \"Topic15\", \"Topic15\", \"Topic15\", \"Topic15\", \"Topic15\", \"Topic15\", \"Topic15\", \"Topic15\", \"Topic15\", \"Topic16\", \"Topic16\", \"Topic16\", \"Topic16\", \"Topic16\", \"Topic16\", \"Topic16\", \"Topic16\", \"Topic16\", \"Topic16\", \"Topic16\", \"Topic16\", \"Topic16\", \"Topic16\", \"Topic16\", \"Topic16\", \"Topic16\", \"Topic16\", \"Topic16\", \"Topic16\", \"Topic16\", \"Topic16\", \"Topic16\", \"Topic16\", \"Topic16\", \"Topic16\", \"Topic16\", \"Topic16\", \"Topic16\", \"Topic16\", \"Topic16\", \"Topic17\", \"Topic17\", \"Topic17\", \"Topic17\", \"Topic17\", \"Topic17\", \"Topic17\", \"Topic17\", \"Topic17\", \"Topic17\", \"Topic17\", \"Topic17\", \"Topic17\", \"Topic17\", \"Topic17\", \"Topic17\", \"Topic17\", \"Topic17\", \"Topic17\", \"Topic17\", \"Topic17\", \"Topic17\", \"Topic17\", \"Topic17\", \"Topic17\", \"Topic17\", \"Topic17\", \"Topic17\", \"Topic17\", \"Topic17\", \"Topic17\", \"Topic18\", \"Topic18\", \"Topic18\", \"Topic18\", \"Topic18\", \"Topic18\", \"Topic18\", \"Topic18\", \"Topic18\", \"Topic18\", \"Topic18\", \"Topic18\", \"Topic18\", \"Topic18\", \"Topic18\", \"Topic18\", \"Topic18\", \"Topic18\", \"Topic18\", \"Topic18\", \"Topic18\", \"Topic18\", \"Topic18\", \"Topic18\", \"Topic18\", \"Topic18\", \"Topic18\", \"Topic18\", \"Topic18\", \"Topic18\", \"Topic18\", \"Topic19\", \"Topic19\", \"Topic19\", \"Topic19\", \"Topic19\", \"Topic19\", \"Topic19\", \"Topic19\", \"Topic19\", \"Topic19\", \"Topic19\", \"Topic19\", \"Topic19\", \"Topic19\", \"Topic19\", \"Topic19\", \"Topic19\", \"Topic19\", \"Topic19\", \"Topic19\", \"Topic19\", \"Topic19\", \"Topic19\", \"Topic19\", \"Topic19\", \"Topic19\", \"Topic19\", \"Topic19\", \"Topic19\", \"Topic19\", \"Topic20\", \"Topic20\", \"Topic20\", \"Topic20\", \"Topic20\", \"Topic20\", \"Topic20\", \"Topic20\", \"Topic20\", \"Topic20\", \"Topic20\", \"Topic20\", \"Topic20\", \"Topic20\", \"Topic20\", \"Topic20\", \"Topic20\", \"Topic20\", \"Topic20\", \"Topic20\", \"Topic20\", \"Topic20\", \"Topic20\", \"Topic20\", \"Topic20\", \"Topic20\", \"Topic20\", \"Topic20\", \"Topic20\", \"Topic20\"], \"logprob\": [30.0, 29.0, 28.0, 27.0, 26.0, 25.0, 24.0, 23.0, 22.0, 21.0, 20.0, 19.0, 18.0, 17.0, 16.0, 15.0, 14.0, 13.0, 12.0, 11.0, 10.0, 9.0, 8.0, 7.0, 6.0, 5.0, 4.0, 3.0, 2.0, 1.0, -5.734, -6.0519, -6.0525, -6.1643, -6.2782, -6.3514, -6.3884, -6.4025, -6.3962, -6.4191, -6.4794, -6.5426, -6.5852, -6.6082, -6.6103, -6.6192, -6.6399, -6.6602, -6.6631, -6.7136, -6.7206, -6.7224, -6.7403, -6.7649, -6.7748, -6.7789, -6.7871, -6.8363, -6.8471, -6.8503, -6.557, -5.936, -6.298, -5.8531, -6.4308, -6.4369, -6.4375, -6.4731, -6.6224, -6.7297, -6.7503, -6.7595, -6.7608, -6.8281, -6.8285, -6.8416, -6.8763, -6.8839, -6.9224, -6.957, -6.9594, -6.9669, -6.98, -6.9895, -7.0127, -7.0247, -6.3231, -7.0685, -7.088, -7.0926, -7.0966, -7.1137, -7.1149, -7.1266, -5.9841, -6.065, -5.548, -5.5182, -6.2996, -6.3649, -6.1823, -6.026, -6.1894, -5.6028, -6.1832, -6.4315, -6.2405, -5.9616, -6.1788, -6.1869, -6.3031, -6.4679, -6.5451, -6.1928, -6.6298, -6.7418, -6.0381, -6.6858, -6.7802, -6.8765, -7.0311, -7.3611, -7.5155, -7.5765, -7.5849, -7.6608, -7.707, -7.7804, -7.7871, -7.8042, -7.8066, -7.8331, -7.8769, -7.8845, -7.9041, -7.9393, -7.9543, -7.964, -7.9691, -8.005, -8.0402, -8.0424, -8.0494, -8.0494, -8.0829, -8.1063, -6.3546, -6.9845, -7.8556, -7.5022, -7.7953, -7.8022, -7.0032, -7.2511, -7.4878, -7.5983, -7.7513, -7.8061, -7.8554, -7.8674, -7.9776, -8.0223, -8.0702, -8.2179, -8.2255, -8.2291, -8.419, -8.4427, -8.4575, -8.4668, -8.4812, -8.6738, -8.8207, -8.8319, -8.8564, -8.8875, -8.9018, -8.9319, -8.9364, -8.9513, -8.9613, -8.9816, -7.2011, -7.2129, -7.2495, -7.3201, -7.3438, -7.5288, -7.5425, -7.606, -7.6358, -7.6397, -7.6437, -7.6554, -7.6989, -7.7071, -7.7636, -7.8511, -7.8822, -7.9266, -7.9527, -8.0259, -8.0559, -8.0627, -8.0894, -8.0904, -8.1127, -8.1239, -8.1239, -8.144, -8.1514, -8.1859, -7.7574, -8.1426, -7.2294, -7.3512, -7.5034, -7.5224, -7.6755, -7.6962, -7.7418, -7.7669, -7.7777, -7.8302, -7.8768, -7.8769, -7.8876, -7.9541, -7.958, -7.9779, -7.9927, -7.9927, -7.9927, -8.0413, -8.0489, -8.0724, -8.073, -8.0759, -8.095, -8.1063, -8.1599, -8.2141, -8.236, -8.2441, -7.8526, -8.1843, -6.8307, -6.8392, -6.8786, -6.9718, -7.0402, -7.2285, -7.3195, -7.3277, -7.4799, -7.499, -7.5927, -7.6711, -7.8538, -7.3444, -8.0083, -8.0353, -8.0369, -8.0599, -8.0709, -8.0992, -8.1181, -8.1334, -8.1908, -8.1934, -8.2105, -8.2105, -8.2105, -8.2234, -8.271, -8.2391, -8.2498, -7.4033, -7.4852, -7.6235, -7.2318, -7.7975, -6.3584, -6.796, -6.8955, -6.9888, -7.6015, -7.9455, -8.0533, -8.266, -8.3367, -8.362, -8.4018, -8.6208, -8.6596, -8.6922, -8.7512, -8.7805, -8.8778, -8.9219, -8.925, -8.979, -9.008, -9.0834, -9.0884, -9.181, -9.2108, -9.1739, -9.2345, -9.1413, -9.2492, -9.2496, -6.8797, -7.3909, -7.3986, -7.5608, -7.6014, -7.6753, -7.7275, -7.8438, -8.0147, -7.5046, -8.1066, -8.1693, -8.1811, -8.2086, -8.2228, -8.2601, -8.2714, -8.2781, -8.2922, -8.305, -8.3588, -8.3899, -8.3923, -8.366, -7.4268, -8.5896, -8.6229, -8.6229, -8.6535, -8.6535, -8.1859, -7.3134, -7.4518, -7.4938, -7.5784, -7.6208, -7.6729, -7.792, -7.8001, -7.8635, -7.9233, -7.9728, -7.9857, -8.1495, -8.1531, -8.2153, -8.2153, -8.3185, -8.3368, -8.3831, -8.389, -8.4155, -8.4597, -8.0052, -7.9075, -8.6223, -8.6421, -8.7177, -8.7177, -8.8184, -8.8857, -8.5009, -7.0368, -7.4206, -7.4979, -7.6107, -7.6779, -7.7071, -7.725, -7.7951, -7.8323, -7.8766, -7.9011, -8.0181, -8.0423, -8.1444, -8.1892, -8.2132, -8.2437, -8.2752, -8.2926, -8.3421, -8.429, -8.429, -8.4332, -8.5394, -8.5588, -8.6044, -8.6592, -8.6638, -8.7132, -8.7605, -8.3029, -8.4794, -8.6413, -9.2924, -10.5308, -10.5308, -10.5308, -10.5308, -10.5308, -10.5308, -10.5308, -10.5308, -10.5308, -10.5308, -10.5308, -10.5308, -10.5308, -10.5308, -10.5308, -10.5308, -10.5308, -10.5308, -10.5308, -10.5308, -10.5308, -10.5308, -10.5308, -10.5308, -10.5308, -10.5308, -10.5308, -10.5308, -10.5308, -10.5308, -10.5308, -10.5308, -10.5308, -10.5308, -10.5308, -10.5308, -10.5308, -10.5308, -10.5308, -10.5308, -10.5308, -10.5308, -10.5308, -7.3416, -7.7216, -7.8189, -8.0913, -8.2933, -8.45, -8.7094, -8.7094, -8.8355, -8.8552, -9.1078, -9.2843, -9.2843, -9.3217, -9.3588, -9.3636, -9.4083, -9.4693, -9.4693, -9.5022, -9.5027, -9.529, -9.5904, -9.6072, -9.6172, -9.6172, -9.6172, -9.6172, -9.6172, -9.6172, -7.632, -7.6927, -7.7668, -7.8352, -7.9248, -7.9373, -8.1894, -8.2341, -8.3136, -8.3847, -8.4548, -8.5075, -8.5542, -8.6055, -8.6431, -7.9137, -8.6679, -8.6955, -8.7373, -8.7571, -8.0193, -8.8085, -8.8085, -8.8909, -6.3956, -8.9279, -9.0695, -9.1316, -9.1316, -9.1316, -8.2766, -8.3519, -8.3947, -7.5021, -7.3008, -7.9666, -8.2444, -8.518, -8.4388, -8.7571, -9.0063, -9.0505, -9.3296, -9.3373, -9.3373, -9.4051, -9.4051, -9.4607, -9.4633, -9.4728, -9.5582, -9.6132, -9.6311, -9.6311, -9.6311, -9.6311, -9.6905, -9.6905, -9.7464, -9.7464, -9.7464, -9.7464, -9.7464, -9.7464, -7.5272, -7.5595, -7.7708, -7.8411, -7.9018, -8.0693, -8.0829, -8.209, -8.3002, -8.3191, -8.3573, -8.3403, -8.3871, -8.5084, -8.5597, -8.5759, -8.6374, -8.6597, -8.7467, -8.8574, -9.0068, -9.0107, -8.9863, -9.1087, -9.1172, -9.1172, -9.1172, -9.1172, -9.1242, -9.2751, -9.1584, -7.1474, -7.7657, -8.1016, -8.1771, -8.2698, -8.6097, -8.6284, -8.7676, -8.7676, -8.8737, -8.9954, -8.9954, -9.0503, -9.2288, -9.2288, -9.4381, -9.4381, -9.4381, -9.4782, -9.5276, -9.607, -9.607, -9.7282, -9.7884, -9.7884, -9.7884, -10.21, -10.21, -10.21, -10.21, -10.21, -7.3474, -7.4716, -7.6934, -8.1596, -8.1907, -8.2631, -8.7702, -8.7812, -8.8587, -8.9514, -9.216, -9.2588, -9.3095, -9.3121, -9.3137, -9.3282, -9.37, -9.3766, -9.3956, -9.3956, -9.5117, -9.5417, -9.5417, -9.5417, -9.5932, -9.6142, -9.6732, -9.6885, -9.6885, -9.6885, -8.8704, -7.5403, -7.7587, -7.7587, -7.8518, -7.8553, -8.0592, -8.1845, -8.1914, -8.2671, -8.4195, -8.4542, -8.5068, -8.6008, -8.6784, -8.6802, -8.6802, -8.7176, -8.7176, -8.8017, -8.8365, -8.8603, -8.8945, -8.8945, -8.8458, -9.0555, -9.1127, -9.122, -9.1835, -9.0604, -9.233, -7.474, -7.8868, -7.7959, -8.0042, -8.0309, -8.0353, -8.0417, -8.1843, -8.3229, -8.3612, -8.4405, -8.4487, -8.4568, -8.4874, -8.49, -8.5005, -8.5455, -8.6488, -8.6488, -8.7032, -8.7336, -8.7377, -8.7465, -8.7777, -8.8012, -8.8296, -8.9043, -8.9556, -8.9916, -9.0799], \"loglift\": [30.0, 29.0, 28.0, 27.0, 26.0, 25.0, 24.0, 23.0, 22.0, 21.0, 20.0, 19.0, 18.0, 17.0, 16.0, 15.0, 14.0, 13.0, 12.0, 11.0, 10.0, 9.0, 8.0, 7.0, 6.0, 5.0, 4.0, 3.0, 2.0, 1.0, 0.2601, 0.2598, 0.2598, 0.2596, 0.2595, 0.2593, 0.2593, 0.2592, 0.2592, 0.2592, 0.2591, 0.259, 0.2589, 0.2588, 0.2588, 0.2588, 0.2588, 0.2587, 0.2587, 0.2586, 0.2586, 0.2586, 0.2585, 0.2585, 0.2584, 0.2584, 0.2584, 0.2583, 0.2583, 0.2582, 0.2556, 0.2335, 0.2435, 0.2217, 2.3158, 2.3158, 2.3157, 2.3152, 2.3127, 2.3106, 2.3102, 2.31, 2.31, 2.3085, 2.3085, 2.3082, 2.3074, 2.3072, 2.3063, 2.3055, 2.3054, 2.3052, 2.3049, 2.3046, 2.304, 2.3037, 2.3031, 2.3025, 2.3019, 2.3018, 2.3017, 2.3012, 2.3012, 2.3008, 2.2756, 2.269, 2.2466, 2.2113, 2.2233, 2.2191, 2.1859, 2.1534, 2.0763, 1.9059, 2.049, 2.1184, 1.9865, 1.8165, 1.8575, 1.7465, 1.6793, 1.8587, 1.8808, 1.0094, 0.6686, 1.6597, 4.6034, 4.5052, 4.4859, 4.4647, 4.4273, 4.3318, 4.2791, 4.2567, 4.2536, 4.2244, 4.206, 4.1757, 4.1729, 4.1656, 4.1628, 4.1532, 4.1339, 4.1305, 4.1216, 4.1056, 4.0953, 4.0941, 4.0917, 4.0748, 4.0578, 4.0567, 4.0533, 4.0533, 4.0368, 4.0251, 3.773, 3.309, 3.8375, 2.9503, 2.8796, 1.7682, 4.4784, 4.4071, 4.3266, 4.2847, 4.2217, 4.1978, 4.1756, 4.1701, 4.1181, 4.0961, 4.072, 3.9941, 3.9899, 3.988, 3.8794, 3.8652, 3.8563, 3.8506, 3.8419, 3.72, 3.6214, 3.6137, 3.5968, 3.5751, 3.565, 3.5437, 3.5405, 3.5299, 3.5227, 3.5082, 4.4469, 4.4436, 4.4319, 4.4087, 4.4006, 4.3333, 4.3281, 4.3029, 4.2907, 4.2892, 4.2875, 4.2827, 4.2644, 4.2609, 4.2363, 4.1966, 4.1821, 4.1609, 4.1482, 4.1116, 4.0964, 4.0929, 4.079, 4.0785, 4.0662, 4.0608, 4.0608, 4.0501, 4.0461, 4.0273, 3.212, 3.8304, 4.4435, 4.4037, 4.3483, 4.341, 4.2791, 4.2703, 4.2506, 4.2395, 4.2346, 4.2108, 4.1891, 4.189, 4.1839, 4.1518, 4.1499, 4.14, 4.1326, 4.1326, 4.1326, 4.108, 4.104, 4.0919, 4.0906, 4.0901, 4.0757, 4.0741, 4.0438, 4.0149, 3.9935, 3.9924, 3.8756, 3.9614, 4.5878, 4.5857, 4.5757, 4.551, 4.5317, 4.4736, 4.4427, 4.4399, 4.3838, 4.3763, 4.3382, 4.3021, 4.2223, 4.1586, 4.1455, 4.1314, 4.1306, 4.1185, 4.1126, 4.0975, 4.0873, 4.0789, 4.0469, 4.0455, 4.0359, 4.0359, 4.0359, 4.0285, 4.0012, 4.0006, 3.9992, 3.3378, 3.1594, 2.5607, 1.1428, 1.9501, 4.6944, 4.6043, 4.5791, 4.5538, 4.3411, 4.1825, 4.1268, 3.9897, 3.9665, 3.9513, 3.927, 3.7866, 3.7606, 3.7385, 3.6976, 3.6774, 3.6083, 3.5763, 3.5741, 3.5344, 3.5128, 3.456, 3.4523, 3.381, 3.3578, 3.3447, 3.3392, 3.3343, 3.3276, 3.3273, 4.6068, 4.4437, 4.4401, 4.376, 4.3592, 4.327, 4.3035, 4.2486, 4.1618, 4.1246, 4.1122, 4.0771, 4.0704, 4.0546, 4.0463, 4.0245, 4.0179, 4.0139, 4.0055, 3.9978, 3.9652, 3.946, 3.9445, 3.9417, 3.917, 3.8174, 3.7951, 3.7951, 3.7744, 3.7744, 3.6241, 4.482, 4.4297, 4.4129, 4.3778, 4.3584, 4.3366, 4.2811, 4.2776, 4.2467, 4.2166, 4.1911, 4.1843, 4.0948, 4.0896, 4.057, 4.057, 3.9956, 3.9843, 3.9559, 3.9517, 3.9356, 3.9075, 3.8561, 3.8179, 3.8003, 3.7869, 3.7347, 3.7347, 3.6321, 3.6146, 2.5872, 4.575, 4.4433, 4.4126, 4.3653, 4.3356, 4.3224, 4.3138, 4.2802, 4.2632, 4.241, 4.229, 4.1681, 4.1551, 4.0986, 4.0731, 4.0591, 4.0413, 4.0224, 4.0118, 3.982, 3.9278, 3.9278, 3.9237, 3.8564, 3.8435, 3.8131, 3.7758, 3.7726, 3.7385, 3.7053, 3.2416, 2.8177, 3.0831, 3.304, 2.2139, 2.2139, 2.2139, 2.2139, 2.2139, 2.2139, 2.2139, 2.2139, 2.2139, 2.2139, 2.2139, 2.2139, 2.2139, 2.2139, 2.2139, 2.2139, 2.2139, 2.2139, 2.2139, 2.2139, 2.2139, 2.2139, 2.2139, 2.2139, 2.2139, 2.2139, 2.2139, 2.2139, 2.2139, 2.2139, 2.2139, 2.2139, 2.2139, 2.2139, 2.2139, 2.2139, 2.2139, 2.2139, 2.2139, 2.2139, 2.2139, 2.2139, 2.2139, 4.4903, 4.3303, 4.2835, 4.1402, 4.0222, 3.9239, 3.7489, 3.7489, 3.6587, 3.6443, 3.4534, 3.3134, 3.3134, 3.2735, 3.2528, 3.2489, 3.2121, 3.1615, 3.1615, 3.1339, 3.1335, 3.1114, 3.0594, 3.0451, 3.0366, 3.0366, 3.0366, 3.0366, 3.0366, 3.0366, 4.3701, 4.3437, 4.3089, 4.2756, 4.2301, 4.2236, 4.0842, 4.0579, 4.0098, 3.9656, 3.9208, 3.8864, 3.8554, 3.8197, 3.7951, 3.7877, 3.7779, 3.7587, 3.7286, 3.7152, 3.6994, 3.6783, 3.6783, 3.6181, 3.5878, 3.5597, 3.4831, 3.4348, 3.4348, 3.4348, 2.9359, 2.4551, 1.0096, 4.4304, 4.2275, 4.2109, 4.0484, 3.8813, 3.8667, 3.7167, 3.5328, 3.4989, 3.2776, 3.2713, 3.2713, 3.2156, 3.2156, 3.1695, 3.1673, 3.1593, 3.0875, 3.0407, 3.0254, 3.0254, 3.0254, 3.0254, 2.9742, 2.9742, 2.9258, 2.9258, 2.9258, 2.9258, 2.9258, 2.9258, 4.4267, 4.4128, 4.316, 4.2813, 4.2504, 4.1602, 4.1526, 4.0796, 4.0246, 4.013, 3.9891, 3.9825, 3.9703, 3.8916, 3.8572, 3.8463, 3.8042, 3.7887, 3.7274, 3.6471, 3.5351, 3.532, 3.5165, 3.4563, 3.4496, 3.4496, 3.4496, 3.4496, 3.4426, 3.3238, 3.1848, 4.5727, 4.3207, 4.144, 4.1004, 4.045, 3.8246, 3.8118, 3.7137, 3.7137, 3.6353, 3.5448, 3.5448, 3.4864, 3.362, 3.362, 3.1907, 3.1907, 3.1907, 3.1571, 3.1148, 3.048, 3.048, 2.9434, 2.8908, 2.8908, 2.8908, 2.5126, 2.5126, 2.5126, 2.5126, 2.5126, 4.5055, 4.456, 4.3583, 4.1122, 4.0946, 4.0511, 3.7133, 3.7054, 3.6487, 3.5794, 3.3733, 3.3388, 3.2976, 3.2955, 3.2942, 3.2824, 3.2481, 3.2426, 3.2269, 3.2269, 3.1298, 3.1043, 3.1043, 3.1043, 3.0605, 3.0425, 2.9917, 2.9785, 2.9785, 2.9785, 0.8962, 4.4273, 4.3274, 4.3274, 4.2812, 4.2795, 4.1706, 4.0986, 4.0935, 4.049, 3.9533, 3.9308, 3.8961, 3.8326, 3.7788, 3.7775, 3.7775, 3.751, 3.751, 3.6906, 3.6652, 3.6477, 3.6222, 3.6222, 3.5991, 3.4999, 3.4552, 3.4479, 3.3993, 3.3815, 3.3594, 4.3911, 4.2641, 4.2466, 4.2017, 4.1871, 4.1847, 4.1811, 4.0994, 4.0153, 3.9436, 3.9403, 3.935, 3.9297, 3.9095, 3.9078, 3.9009, 3.8708, 3.7999, 3.7999, 3.7613, 3.7401, 3.7372, 3.7309, 3.7085, 3.6913, 3.6707, 3.6154, 3.5767, 3.5494, 3.4813]}, \"token.table\": {\"Topic\": [1, 3, 1, 2, 2, 2, 1, 2, 1, 1, 2, 1, 1, 2, 2, 1, 2, 1, 1, 14, 1, 1, 2, 1, 2, 2, 1, 2, 1, 2, 1, 1, 2, 2, 2, 1, 1, 2, 1, 1, 2, 1, 2, 1, 2, 3, 2, 1, 2, 8, 1, 3, 1, 2, 1, 1, 2, 1, 2, 2, 8, 8, 1, 7, 7, 7, 1, 1, 2, 2, 1, 2, 3, 1, 3, 1, 2, 7, 1, 1, 1, 2, 2, 1, 9, 1, 4, 1, 2, 2, 3, 2, 2, 1, 2, 2, 2, 1, 2, 1, 2, 1, 2, 2, 2, 1, 1, 1, 2, 1, 1, 2, 1, 1, 1, 2, 1, 2, 2, 1, 2, 2, 1, 2, 1, 1, 1, 1, 2, 1, 2, 1, 1, 2, 1, 8, 2, 2, 2, 1, 2, 3, 1, 1, 1, 1, 2, 1, 1, 2, 1, 2], \"Freq\": [0.9978920305677121, 1.1315289845882535, 1.0020910049699012, 0.9930401581611791, 1.013911506624063, 1.0206675732300665, 0.9759438961673252, 0.02568273410966645, 0.9985597330767212, 0.3015331253797522, 0.703577292552755, 0.7801537333239088, 0.37372337803600697, 0.6228722967266782, 0.9727122148090519, 0.7115068655099712, 1.0115696095065407, 0.6631791670759284, 0.5820603865941397, 0.29103019329706986, 0.5811212436179497, 0.11574164342305854, 0.8680623256729391, 0.47216366823985645, 0.5115106405931779, 0.973865040261857, 0.2525730776683392, 0.7577192330050175, 0.20894119883219583, 0.7835294956207345, 0.9628178570630849, 0.9943050423880995, 0.9578640399275241, 1.0200149604320707, 0.9901630868323417, 1.0825574391921184, 1.000658805620972, 0.933557642214516, 0.9952868851084695, 0.3886065142349231, 0.6106673795120221, 0.34305158474994885, 0.6615994848749014, 0.38495760833465736, 0.6095162131965408, 1.0496186502332558, 0.9646496968090738, 1.002060897024803, 0.9987243247962747, 0.8480099343642419, 1.0040331162093084, 0.9735851552057166, 0.05592566456137127, 0.9507362975433116, 0.9195619761764199, 0.06522085649417551, 0.9130919909184573, 0.5824852552819647, 0.40773967869737526, 0.9371783724627148, 1.2002917371385504, 1.2930155877448088, 0.9998613953749108, 1.2669636272977796, 1.2301963867383883, 1.2223697013542612, 0.5637753692551019, 0.8140236139825209, 0.19854234487378558, 0.9251421259038727, 0.06755155688306046, 0.878170239479786, 1.1240459163380818, 0.6723376639552348, 0.3361688319776174, 0.9992017449232719, 0.9906724594150051, 1.3567240590047402, 0.9940207590400688, 0.9945480114845271, 0.9973788589581617, 0.9983948594304126, 0.9689316876107215, 0.9958714042567534, 1.308330402267667, 0.9931397295947693, 1.3020988514690046, 0.20821032419775654, 0.8328412967910261, 0.930436244264891, 1.2721143552071328, 0.8784564709116766, 0.9070249979348737, 1.0019797228419824, 1.0225764786375025, 0.9889977086649255, 0.915683550263615, 0.4496157533292987, 0.5620196916616234, 0.36784078249830116, 0.6130679708305019, 0.14374504745990685, 0.8145552689394722, 0.946572314223404, 0.9225385991303655, 0.9981660583448021, 1.0029568500094714, 0.9947723576208156, 0.9346941500667642, 0.9952862927892872, 0.6054671350414752, 0.3725951600255232, 0.9917209658549287, 0.9785594050601701, 0.689385062744985, 0.321713029280993, 0.47863044127362486, 0.5384592464328279, 1.0201163775856612, 0.620900288680332, 0.968907711568451, 1.0131264261724606, 0.05192128764649061, 0.934583177636831, 1.00176219803905, 0.9899346066210879, 1.0041243072883947, 0.122227935624598, 0.8861525332783354, 0.07181342038662733, 0.861761044639528, 0.9982466762783705, 0.9779810648564567, 0.018628210759170608, 0.9932281489192021, 1.383970101454486, 1.019996426919931, 1.045919016405018, 1.0002696420673756, 0.9956080773466227, 0.7937267807472658, 0.3968633903736329, 0.9984417658074114, 0.9894205003394044, 1.002707925618054, 1.0022418422439328, 1.0014587548392822, 0.9968017277200075, 0.9637106641337067, 0.035044024150316606, 0.7393865062534511, 0.27050725838540896], \"Term\": [\"also\", \"anas\", \"anyone\", \"armenia\", \"armenian\", \"armenians\", \"article\", \"article\", \"back\", \"baseball\", \"baseball\", \"beth\", \"bible\", \"bible\", \"bobby\", \"brains\", \"braves\", \"cape\", \"captain\", \"captain\", \"chess\", \"christ\", \"christ\", \"christian\", \"christian\", \"christianity\", \"christians\", \"christians\", \"church\", \"church\", \"civilians\", \"could\", \"cubs\", \"detroit\", \"devils\", \"discomfort\", \"drive\", \"espn\", \"even\", \"faith\", \"faith\", \"game\", \"game\", \"games\", \"games\", \"gehrels\", \"genocide\", \"good\", \"greek\", \"gtoal\", \"help\", \"hernlem\", \"hockey\", \"hockey\", \"humor\", \"jesus\", \"jesus\", \"jewish\", \"jewish\", \"kaldis\", \"keller\", \"kkeller\", \"know\", \"koufax\", \"lafayette\", \"lafibm\", \"lame\", \"last\", \"last\", \"leafs\", \"league\", \"league\", \"lebanese\", \"lebanon\", \"lebanon\", \"like\", \"livesey\", \"lowenstein\", \"mail\", \"make\", \"many\", \"montreal\", \"morality\", \"much\", \"mydisplay\", \"need\", \"nrhj\", \"objective\", \"objective\", \"occupation\", \"omran\", \"oriolefan\", \"pens\", \"people\", \"philadelphia\", \"phillies\", \"pitching\", \"play\", \"play\", \"player\", \"player\", \"players\", \"players\", \"playoff\", \"playoffs\", \"please\", \"problem\", \"providence\", \"rangers\", \"really\", \"religion\", \"religion\", \"right\", \"rochester\", \"runs\", \"runs\", \"rutgers\", \"rutgers\", \"sandvik\", \"sandy\", \"scored\", \"scripture\", \"season\", \"season\", \"someone\", \"something\", \"system\", \"team\", \"team\", \"teams\", \"teams\", \"thanks\", \"think\", \"think\", \"time\", \"toal\", \"turkish\", \"turks\", \"upenn\", \"used\", \"villages\", \"villages\", \"want\", \"well\", \"windows\", \"work\", \"worship\", \"would\", \"writes\", \"writes\", \"year\", \"year\"]}, \"R\": 30, \"lambda.step\": 0.01, \"plot.opts\": {\"xlab\": \"PC1\", \"ylab\": \"PC2\"}, \"topic.order\": [20, 9, 10, 11, 4, 17, 8, 2, 3, 15, 13, 6, 5, 19, 14, 18, 7, 16, 1, 12]};\n",
       "\n",
       "function LDAvis_load_lib(url, callback){\n",
       "  var s = document.createElement('script');\n",
       "  s.src = url;\n",
       "  s.async = true;\n",
       "  s.onreadystatechange = s.onload = callback;\n",
       "  s.onerror = function(){console.warn(\"failed to load library \" + url);};\n",
       "  document.getElementsByTagName(\"head\")[0].appendChild(s);\n",
       "}\n",
       "\n",
       "if(typeof(LDAvis) !== \"undefined\"){\n",
       "   // already loaded: just create the visualization\n",
       "   !function(LDAvis){\n",
       "       new LDAvis(\"#\" + \"ldavis_el1201404369307520888510899379\", ldavis_el1201404369307520888510899379_data);\n",
       "   }(LDAvis);\n",
       "}else if(typeof define === \"function\" && define.amd){\n",
       "   // require.js is available: use it to load d3/LDAvis\n",
       "   require.config({paths: {d3: \"https://cdnjs.cloudflare.com/ajax/libs/d3/3.5.5/d3.min\"}});\n",
       "   require([\"d3\"], function(d3){\n",
       "      window.d3 = d3;\n",
       "      LDAvis_load_lib(\"https://cdn.rawgit.com/bmabey/pyLDAvis/files/ldavis.v1.0.0.js\", function(){\n",
       "        new LDAvis(\"#\" + \"ldavis_el1201404369307520888510899379\", ldavis_el1201404369307520888510899379_data);\n",
       "      });\n",
       "    });\n",
       "}else{\n",
       "    // require.js not available: dynamically load d3 & LDAvis\n",
       "    LDAvis_load_lib(\"https://cdnjs.cloudflare.com/ajax/libs/d3/3.5.5/d3.min.js\", function(){\n",
       "         LDAvis_load_lib(\"https://cdn.rawgit.com/bmabey/pyLDAvis/files/ldavis.v1.0.0.js\", function(){\n",
       "                 new LDAvis(\"#\" + \"ldavis_el1201404369307520888510899379\", ldavis_el1201404369307520888510899379_data);\n",
       "            })\n",
       "         });\n",
       "}\n",
       "</script>"
      ],
      "text/plain": [
       "<IPython.core.display.HTML object>"
      ]
     },
     "execution_count": 39,
     "metadata": {
      "tags": []
     },
     "output_type": "execute_result"
    }
   ],
   "source": [
    "tfidf_vect = lda_pipeline.named_steps['tfidf_vect']\n",
    "tfidf = tfidf_vect.fit_transform(tokenized_docs)\n",
    "lda = lda_pipeline.named_steps['lda']\n",
    "\n",
    "vis = pyLDAvis.sklearn.prepare(lda, tfidf, tfidf_vect, mds='tsne')\n",
    "pyLDAvis.display(vis)"
   ]
  },
  {
   "cell_type": "code",
   "execution_count": null,
   "metadata": {},
   "outputs": [],
   "source": []
  },
  {
   "cell_type": "markdown",
   "metadata": {},
   "source": [
    "# 실제로 전처리 해서 나타내보기 , 신문기사"
   ]
  },
  {
   "cell_type": "code",
   "execution_count": 3,
   "metadata": {},
   "outputs": [],
   "source": [
    "import pandas as pd\n",
    "news = pd.read_csv(\"C:/Users/User/Desktop/BOK/naver.csv\")"
   ]
  },
  {
   "cell_type": "code",
   "execution_count": 9,
   "metadata": {},
   "outputs": [
    {
     "ename": "UnicodeDecodeError",
     "evalue": "'cp949' codec can't decode byte 0x80 in position 16: illegal multibyte sequence",
     "output_type": "error",
     "traceback": [
      "\u001b[1;31m---------------------------------------------------------------------------\u001b[0m",
      "\u001b[1;31mUnicodeDecodeError\u001b[0m                        Traceback (most recent call last)",
      "\u001b[1;32m<ipython-input-9-2ef1a63a805d>\u001b[0m in \u001b[0;36m<module>\u001b[1;34m\u001b[0m\n\u001b[0;32m      1\u001b[0m \u001b[1;32mfrom\u001b[0m \u001b[0mekonlpy\u001b[0m\u001b[1;33m.\u001b[0m\u001b[0msentiment\u001b[0m \u001b[1;32mimport\u001b[0m \u001b[0mMPCK\u001b[0m\u001b[1;33m\u001b[0m\u001b[1;33m\u001b[0m\u001b[0m\n\u001b[1;32m----> 2\u001b[1;33m \u001b[0mmpck\u001b[0m \u001b[1;33m=\u001b[0m \u001b[0mMPCK\u001b[0m\u001b[1;33m(\u001b[0m\u001b[1;33m)\u001b[0m\u001b[1;33m\u001b[0m\u001b[1;33m\u001b[0m\u001b[0m\n\u001b[0m",
      "\u001b[1;32m~\\anaconda3\\envs\\nlp\\lib\\site-packages\\ekonlpy\\sentiment\\mpck.py\u001b[0m in \u001b[0;36m__init__\u001b[1;34m(self, classifier)\u001b[0m\n\u001b[0;32m     36\u001b[0m             \u001b[0mself\u001b[0m\u001b[1;33m.\u001b[0m\u001b[0mclassifier\u001b[0m \u001b[1;33m=\u001b[0m \u001b[0mclassifier\u001b[0m\u001b[1;33m\u001b[0m\u001b[1;33m\u001b[0m\u001b[0m\n\u001b[0;32m     37\u001b[0m         \u001b[0mself\u001b[0m\u001b[1;33m.\u001b[0m\u001b[0m_tokenizer\u001b[0m \u001b[1;33m=\u001b[0m \u001b[0mMecab\u001b[0m\u001b[1;33m(\u001b[0m\u001b[1;33m)\u001b[0m\u001b[1;33m\u001b[0m\u001b[1;33m\u001b[0m\u001b[0m\n\u001b[1;32m---> 38\u001b[1;33m         \u001b[0mself\u001b[0m\u001b[1;33m.\u001b[0m\u001b[0m_vocab\u001b[0m \u001b[1;33m=\u001b[0m \u001b[0mself\u001b[0m\u001b[1;33m.\u001b[0m\u001b[0mget_vocab\u001b[0m\u001b[1;33m(\u001b[0m\u001b[0mself\u001b[0m\u001b[1;33m.\u001b[0m\u001b[0mFILES\u001b[0m\u001b[1;33m[\u001b[0m\u001b[1;34m'vocab'\u001b[0m\u001b[1;33m]\u001b[0m\u001b[1;33m)\u001b[0m\u001b[1;33m\u001b[0m\u001b[1;33m\u001b[0m\u001b[0m\n\u001b[0m\u001b[0;32m     39\u001b[0m         \u001b[0mself\u001b[0m\u001b[1;33m.\u001b[0m\u001b[0m_positive_label\u001b[0m \u001b[1;33m=\u001b[0m \u001b[1;34m'pos'\u001b[0m\u001b[1;33m\u001b[0m\u001b[1;33m\u001b[0m\u001b[0m\n\u001b[0;32m     40\u001b[0m         \u001b[0mself\u001b[0m\u001b[1;33m.\u001b[0m\u001b[0m_negative_label\u001b[0m \u001b[1;33m=\u001b[0m \u001b[1;34m'neg'\u001b[0m\u001b[1;33m\u001b[0m\u001b[1;33m\u001b[0m\u001b[0m\n",
      "\u001b[1;32m~\\anaconda3\\envs\\nlp\\lib\\site-packages\\ekonlpy\\sentiment\\mpck.py\u001b[0m in \u001b[0;36mget_vocab\u001b[1;34m(self, file)\u001b[0m\n\u001b[0;32m     51\u001b[0m         \u001b[0mvocab_path\u001b[0m \u001b[1;33m=\u001b[0m \u001b[0mos\u001b[0m\u001b[1;33m.\u001b[0m\u001b[0mpath\u001b[0m\u001b[1;33m.\u001b[0m\u001b[0mjoin\u001b[0m\u001b[1;33m(\u001b[0m\u001b[0mLEXICON_PATH\u001b[0m\u001b[1;33m,\u001b[0m \u001b[0mfile\u001b[0m\u001b[1;33m)\u001b[0m\u001b[1;33m\u001b[0m\u001b[1;33m\u001b[0m\u001b[0m\n\u001b[0;32m     52\u001b[0m         \u001b[1;32mwith\u001b[0m \u001b[0mopen\u001b[0m\u001b[1;33m(\u001b[0m\u001b[0mvocab_path\u001b[0m\u001b[1;33m)\u001b[0m \u001b[1;32mas\u001b[0m \u001b[0mf\u001b[0m\u001b[1;33m:\u001b[0m\u001b[1;33m\u001b[0m\u001b[1;33m\u001b[0m\u001b[0m\n\u001b[1;32m---> 53\u001b[1;33m             \u001b[1;32mfor\u001b[0m \u001b[0mi\u001b[0m\u001b[1;33m,\u001b[0m \u001b[0mline\u001b[0m \u001b[1;32min\u001b[0m \u001b[0menumerate\u001b[0m\u001b[1;33m(\u001b[0m\u001b[0mf\u001b[0m\u001b[1;33m)\u001b[0m\u001b[1;33m:\u001b[0m\u001b[1;33m\u001b[0m\u001b[1;33m\u001b[0m\u001b[0m\n\u001b[0m\u001b[0;32m     54\u001b[0m                 \u001b[0mw\u001b[0m \u001b[1;33m=\u001b[0m \u001b[0mline\u001b[0m\u001b[1;33m.\u001b[0m\u001b[0mstrip\u001b[0m\u001b[1;33m(\u001b[0m\u001b[1;33m)\u001b[0m\u001b[1;33m.\u001b[0m\u001b[0msplit\u001b[0m\u001b[1;33m(\u001b[0m\u001b[1;33m)\u001b[0m\u001b[1;33m\u001b[0m\u001b[1;33m\u001b[0m\u001b[0m\n\u001b[0;32m     55\u001b[0m                 \u001b[1;32mif\u001b[0m \u001b[0mlen\u001b[0m\u001b[1;33m(\u001b[0m\u001b[0mw\u001b[0m\u001b[1;33m[\u001b[0m\u001b[1;36m0\u001b[0m\u001b[1;33m]\u001b[0m\u001b[1;33m)\u001b[0m \u001b[1;33m>\u001b[0m \u001b[1;36m0\u001b[0m\u001b[1;33m:\u001b[0m\u001b[1;33m\u001b[0m\u001b[1;33m\u001b[0m\u001b[0m\n",
      "\u001b[1;31mUnicodeDecodeError\u001b[0m: 'cp949' codec can't decode byte 0x80 in position 16: illegal multibyte sequence"
     ]
    }
   ],
   "source": [
    "from ekonlpy.sentiment import MPCK\n",
    "mpck = MPCK()"
   ]
  },
  {
   "cell_type": "code",
   "execution_count": 8,
   "metadata": {},
   "outputs": [
    {
     "ename": "UnicodeDecodeError",
     "evalue": "'cp949' codec can't decode byte 0x80 in position 16: illegal multibyte sequence",
     "output_type": "error",
     "traceback": [
      "\u001b[1;31m---------------------------------------------------------------------------\u001b[0m",
      "\u001b[1;31mUnicodeDecodeError\u001b[0m                        Traceback (most recent call last)",
      "\u001b[1;32m<ipython-input-8-90cdf5ccf8d8>\u001b[0m in \u001b[0;36m<module>\u001b[1;34m\u001b[0m\n\u001b[0;32m      2\u001b[0m \u001b[0mmecab\u001b[0m \u001b[1;33m=\u001b[0m \u001b[0mMecab\u001b[0m\u001b[1;33m(\u001b[0m\u001b[1;33m)\u001b[0m\u001b[1;33m\u001b[0m\u001b[1;33m\u001b[0m\u001b[0m\n\u001b[0;32m      3\u001b[0m \u001b[1;32mfrom\u001b[0m \u001b[0mekonlpy\u001b[0m\u001b[1;33m.\u001b[0m\u001b[0msentiment\u001b[0m \u001b[1;32mimport\u001b[0m \u001b[0mMPCK\u001b[0m\u001b[1;33m\u001b[0m\u001b[1;33m\u001b[0m\u001b[0m\n\u001b[1;32m----> 4\u001b[1;33m \u001b[0mmpck\u001b[0m \u001b[1;33m=\u001b[0m \u001b[0mMPCK\u001b[0m\u001b[1;33m(\u001b[0m\u001b[1;33m)\u001b[0m\u001b[1;33m\u001b[0m\u001b[1;33m\u001b[0m\u001b[0m\n\u001b[0m",
      "\u001b[1;32m~\\anaconda3\\envs\\nlp\\lib\\site-packages\\ekonlpy\\sentiment\\mpck.py\u001b[0m in \u001b[0;36m__init__\u001b[1;34m(self, classifier)\u001b[0m\n\u001b[0;32m     36\u001b[0m             \u001b[0mself\u001b[0m\u001b[1;33m.\u001b[0m\u001b[0mclassifier\u001b[0m \u001b[1;33m=\u001b[0m \u001b[0mclassifier\u001b[0m\u001b[1;33m\u001b[0m\u001b[1;33m\u001b[0m\u001b[0m\n\u001b[0;32m     37\u001b[0m         \u001b[0mself\u001b[0m\u001b[1;33m.\u001b[0m\u001b[0m_tokenizer\u001b[0m \u001b[1;33m=\u001b[0m \u001b[0mMecab\u001b[0m\u001b[1;33m(\u001b[0m\u001b[1;33m)\u001b[0m\u001b[1;33m\u001b[0m\u001b[1;33m\u001b[0m\u001b[0m\n\u001b[1;32m---> 38\u001b[1;33m         \u001b[0mself\u001b[0m\u001b[1;33m.\u001b[0m\u001b[0m_vocab\u001b[0m \u001b[1;33m=\u001b[0m \u001b[0mself\u001b[0m\u001b[1;33m.\u001b[0m\u001b[0mget_vocab\u001b[0m\u001b[1;33m(\u001b[0m\u001b[0mself\u001b[0m\u001b[1;33m.\u001b[0m\u001b[0mFILES\u001b[0m\u001b[1;33m[\u001b[0m\u001b[1;34m'vocab'\u001b[0m\u001b[1;33m]\u001b[0m\u001b[1;33m)\u001b[0m\u001b[1;33m\u001b[0m\u001b[1;33m\u001b[0m\u001b[0m\n\u001b[0m\u001b[0;32m     39\u001b[0m         \u001b[0mself\u001b[0m\u001b[1;33m.\u001b[0m\u001b[0m_positive_label\u001b[0m \u001b[1;33m=\u001b[0m \u001b[1;34m'pos'\u001b[0m\u001b[1;33m\u001b[0m\u001b[1;33m\u001b[0m\u001b[0m\n\u001b[0;32m     40\u001b[0m         \u001b[0mself\u001b[0m\u001b[1;33m.\u001b[0m\u001b[0m_negative_label\u001b[0m \u001b[1;33m=\u001b[0m \u001b[1;34m'neg'\u001b[0m\u001b[1;33m\u001b[0m\u001b[1;33m\u001b[0m\u001b[0m\n",
      "\u001b[1;32m~\\anaconda3\\envs\\nlp\\lib\\site-packages\\ekonlpy\\sentiment\\mpck.py\u001b[0m in \u001b[0;36mget_vocab\u001b[1;34m(self, file)\u001b[0m\n\u001b[0;32m     51\u001b[0m         \u001b[0mvocab_path\u001b[0m \u001b[1;33m=\u001b[0m \u001b[0mos\u001b[0m\u001b[1;33m.\u001b[0m\u001b[0mpath\u001b[0m\u001b[1;33m.\u001b[0m\u001b[0mjoin\u001b[0m\u001b[1;33m(\u001b[0m\u001b[0mLEXICON_PATH\u001b[0m\u001b[1;33m,\u001b[0m \u001b[0mfile\u001b[0m\u001b[1;33m)\u001b[0m\u001b[1;33m\u001b[0m\u001b[1;33m\u001b[0m\u001b[0m\n\u001b[0;32m     52\u001b[0m         \u001b[1;32mwith\u001b[0m \u001b[0mopen\u001b[0m\u001b[1;33m(\u001b[0m\u001b[0mvocab_path\u001b[0m\u001b[1;33m)\u001b[0m \u001b[1;32mas\u001b[0m \u001b[0mf\u001b[0m\u001b[1;33m:\u001b[0m\u001b[1;33m\u001b[0m\u001b[1;33m\u001b[0m\u001b[0m\n\u001b[1;32m---> 53\u001b[1;33m             \u001b[1;32mfor\u001b[0m \u001b[0mi\u001b[0m\u001b[1;33m,\u001b[0m \u001b[0mline\u001b[0m \u001b[1;32min\u001b[0m \u001b[0menumerate\u001b[0m\u001b[1;33m(\u001b[0m\u001b[0mf\u001b[0m\u001b[1;33m)\u001b[0m\u001b[1;33m:\u001b[0m\u001b[1;33m\u001b[0m\u001b[1;33m\u001b[0m\u001b[0m\n\u001b[0m\u001b[0;32m     54\u001b[0m                 \u001b[0mw\u001b[0m \u001b[1;33m=\u001b[0m \u001b[0mline\u001b[0m\u001b[1;33m.\u001b[0m\u001b[0mstrip\u001b[0m\u001b[1;33m(\u001b[0m\u001b[1;33m)\u001b[0m\u001b[1;33m.\u001b[0m\u001b[0msplit\u001b[0m\u001b[1;33m(\u001b[0m\u001b[1;33m)\u001b[0m\u001b[1;33m\u001b[0m\u001b[1;33m\u001b[0m\u001b[0m\n\u001b[0;32m     55\u001b[0m                 \u001b[1;32mif\u001b[0m \u001b[0mlen\u001b[0m\u001b[1;33m(\u001b[0m\u001b[0mw\u001b[0m\u001b[1;33m[\u001b[0m\u001b[1;36m0\u001b[0m\u001b[1;33m]\u001b[0m\u001b[1;33m)\u001b[0m \u001b[1;33m>\u001b[0m \u001b[1;36m0\u001b[0m\u001b[1;33m:\u001b[0m\u001b[1;33m\u001b[0m\u001b[1;33m\u001b[0m\u001b[0m\n",
      "\u001b[1;31mUnicodeDecodeError\u001b[0m: 'cp949' codec can't decode byte 0x80 in position 16: illegal multibyte sequence"
     ]
    }
   ],
   "source": [
    "from ekonlpy.tag import Mecab\n",
    "mecab = Mecab()\n"
   ]
  },
  {
   "cell_type": "code",
   "execution_count": 1,
   "metadata": {
    "colab": {
     "base_uri": "https://localhost:8080/",
     "height": 72
    },
    "colab_type": "code",
    "id": "NjGs9m9ITiRH",
    "outputId": "c85dd305-8dc3-4a24-83aa-67c8e2d3de97"
   },
   "outputs": [
    {
     "ename": "NameError",
     "evalue": "name 'tokenized_docs' is not defined",
     "output_type": "error",
     "traceback": [
      "\u001b[1;31m---------------------------------------------------------------------------\u001b[0m",
      "\u001b[1;31mNameError\u001b[0m                                 Traceback (most recent call last)",
      "\u001b[1;32m<ipython-input-1-1fa950ca35ce>\u001b[0m in \u001b[0;36m<module>\u001b[1;34m\u001b[0m\n\u001b[0;32m     24\u001b[0m \u001b[1;33m\u001b[0m\u001b[0m\n\u001b[0;32m     25\u001b[0m \u001b[1;33m\u001b[0m\u001b[0m\n\u001b[1;32m---> 26\u001b[1;33m \u001b[0mlda_pipeline\u001b[0m \u001b[1;33m=\u001b[0m \u001b[0mtuning_hyperparams\u001b[0m\u001b[1;33m(\u001b[0m\u001b[0mtokenized_docs\u001b[0m\u001b[1;33m)\u001b[0m\u001b[1;33m\u001b[0m\u001b[1;33m\u001b[0m\u001b[0m\n\u001b[0m",
      "\u001b[1;31mNameError\u001b[0m: name 'tokenized_docs' is not defined"
     ]
    }
   ],
   "source": [
    "from sklearn.model_selection import GridSearchCV\n",
    "from sklearn.pipeline import Pipeline\n",
    "from sklearn.feature_extraction.text import TfidfVectorizer\n",
    "from sklearn.decomposition import LatentDirichletAllocation\n",
    "\n",
    "def tuning_hyperparams(train_data, n_jobs=-1):\n",
    "  lda_pipeline = Pipeline([('tfidf_vect', TfidfVectorizer(tokenizer=my_tokenizer)),\n",
    "                         ('lda', LatentDirichletAllocation(max_iter=20,\n",
    "                                                           learning_method='online',\n",
    "                                                           random_state=100))])\n",
    "  search_params = {'tfidf_vect__ngram_range': [(1, 1), (1, 2)],\n",
    "                   'tfidf_vect__use_idf' : (True, False), \n",
    "                   'lda__n_components': [10, 20]}\n",
    "\n",
    "  gs_lda = GridSearchCV(lda_pipeline, search_params, n_jobs=n_jobs)\n",
    "  gs_lda = gs_lda.fit(train_data)\n",
    "\n",
    "  print(\"Best parameters set:\")\n",
    "  best_parameters = gs_lda.best_estimator_.get_params()\n",
    "  for param_name in sorted(list(best_parameters.keys())):\n",
    "    print(\"\\t{} : {}\".format(param_name, best_parameters[param_name]))\n",
    "\n",
    "  return gs_lda.best_estimator_\n",
    "\n",
    "\n",
    "lda_pipeline = tuning_hyperparams(tokenized_docs)\n"
   ]
  },
  {
   "cell_type": "code",
   "execution_count": null,
   "metadata": {
    "colab": {},
    "colab_type": "code",
    "id": "pmSnnziUUg2G"
   },
   "outputs": [],
   "source": [
    "tfidf_vect = lda_pipeline.named_steps['tfidf_vect']\n",
    "tfidf = tfidf_vect.fit_transform(tokenized_docs)\n",
    "lda = lda_pipeline.named_steps['lda']\n",
    "\n",
    "vis = pyLDAvis.sklearn.prepare(lda, tfidf, tfidf_vect, mds='tsne')\n",
    "pyLDAvis.display(vis)"
   ]
  },
  {
   "cell_type": "code",
   "execution_count": null,
   "metadata": {
    "colab": {},
    "colab_type": "code",
    "id": "MLmjNaHCWODo"
   },
   "outputs": [],
   "source": []
  }
 ],
 "metadata": {
  "colab": {
   "collapsed_sections": [],
   "name": "12 Prac. Topic Modeling LSA 연습의 사본",
   "provenance": [
    {
     "file_id": "1KLWLT7cZtDDk2l3vDvWoDul5VpIULSZK",
     "timestamp": 1596070545370
    }
   ]
  },
  "kernelspec": {
   "display_name": "Python 3",
   "language": "python",
   "name": "python3"
  },
  "language_info": {
   "codemirror_mode": {
    "name": "ipython",
    "version": 3
   },
   "file_extension": ".py",
   "mimetype": "text/x-python",
   "name": "python",
   "nbconvert_exporter": "python",
   "pygments_lexer": "ipython3",
   "version": "3.6.10"
  }
 },
 "nbformat": 4,
 "nbformat_minor": 1
}
