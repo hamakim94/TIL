{
 "cells": [
  {
   "cell_type": "markdown",
   "metadata": {},
   "source": [
    "# TextRank 활용 키워드 추출"
   ]
  },
  {
   "cell_type": "code",
   "execution_count": 1,
   "metadata": {},
   "outputs": [],
   "source": [
    "# 우선 TFIDF를 활용해 해보자\n",
    "from konlpy.tag import Komoran\n"
   ]
  },
  {
   "cell_type": "raw",
   "metadata": {},
   "source": [
    "근데 사실 속도를 위해서 MeCab 설치하는게 꼭 필요!"
   ]
  },
  {
   "cell_type": "markdown",
   "metadata": {},
   "source": [
    "## Mecab 설치 # 나는 class라는 폴더 안에 설치했다.,."
   ]
  },
  {
   "cell_type": "code",
   "execution_count": 2,
   "metadata": {},
   "outputs": [
    {
     "name": "stdout",
     "output_type": "stream",
     "text": [
      "Requirement already satisfied: mecab-python==0.996-ko-0.9.2-msvc from file:///C:/Users/student/TIL/NLP/class/mecab_python-0.996_ko_0.9.2_msvc-cp36-cp36m-win_amd64.whl in c:\\users\\student\\anaconda3\\envs\\nlp\\lib\\site-packages (0.996-ko-0.9.2-msvc)\n"
     ]
    }
   ],
   "source": [
    "!pip install mecab_python-0.996_ko_0.9.2_msvc-cp36-cp36m-win_amd64.whl"
   ]
  },
  {
   "cell_type": "code",
   "execution_count": 3,
   "metadata": {},
   "outputs": [],
   "source": [
    "import MeCab"
   ]
  },
  {
   "cell_type": "code",
   "execution_count": 4,
   "metadata": {},
   "outputs": [
    {
     "name": "stdout",
     "output_type": "stream",
     "text": [
      "메\tVV+EC,*,F,메,Inflect,VV,EC,메/VV/*+어/EC/*\n",
      "캎이\tUNKNOWN,*,*,*,*,*,*,*\n",
      "잘\tMAG,*,T,잘,*,*,*,*\n",
      "실행\tNNG,행위,T,실행,*,*,*,*\n",
      "되\tXSV,*,F,되,*,*,*,*\n",
      "는지\tEC,*,F,는지,*,*,*,*\n",
      "확인\tNNG,행위,T,확인,*,*,*,*\n",
      "중\tNNB,*,T,중,*,*,*,*\n",
      "입\tVV,*,T,입,*,*,*,*\n",
      "니\tEC,*,F,니,*,*,*,*\n",
      "다다다다\tMAG,*,F,다다다다,*,*,*,*\n",
      "다\tMAG,성분부사|정도부사,F,다,*,*,*,*\n",
      "EOS\n",
      "\n"
     ]
    }
   ],
   "source": [
    "n = MeCab.Tagger()\n",
    "out = n.parse(\"메캎이 잘 실행되는지 확인 중입니 다다다다 다\")\n",
    "print(out)"
   ]
  },
  {
   "cell_type": "markdown",
   "metadata": {},
   "source": [
    "## 실습 1, TF-IDF 활용 핵심키워드추출"
   ]
  },
  {
   "cell_type": "code",
   "execution_count": 19,
   "metadata": {},
   "outputs": [
    {
     "data": {
      "text/plain": [
       "5"
      ]
     },
     "execution_count": 19,
     "metadata": {},
     "output_type": "execute_result"
    }
   ],
   "source": [
    "import requests \n",
    "from bs4 import BeautifulSoup\n",
    "\n",
    "def get_news_by_url(url):\n",
    "    resp = requests.get(url)\n",
    "    soup = BeautifulSoup(resp.content, 'lxml')\n",
    "    text = soup.select('div._article_body_contents')[0].text\n",
    "    return text\n",
    "\n",
    "docs = []\n",
    "docs.append( get_news_by_url('https://news.naver.com/main/read.nhn?mode=LSD&mid=sec&sid1=105&oid=018&aid=0004430108') )\n",
    "docs.append( get_news_by_url('https://news.naver.com/main/read.nhn?mode=LSD&mid=sec&sid1=101&oid=001&aid=0011614790') )\n",
    "docs.append( get_news_by_url('https://news.naver.com/main/read.nhn?mode=LSD&mid=sec&sid1=102&oid=014&aid=0004424362') )\n",
    "docs.append( get_news_by_url('https://news.naver.com/main/read.nhn?mode=LSD&mid=sec&sid1=101&oid=119&aid=0002402191') )\n",
    "docs.append( get_news_by_url('https://news.naver.com/main/read.nhn?mode=LSD&mid=sec&sid1=101&oid=030&aid=0002882728') )\n",
    "len(docs)"
   ]
  },
  {
   "cell_type": "code",
   "execution_count": 12,
   "metadata": {},
   "outputs": [],
   "source": [
    "url = 'https://news.naver.com/main/read.nhn?mode=LSD&mid=sec&sid1=105&oid=018&aid=0004430108'\n",
    "\n",
    "resp = requests.get(url)\n",
    "\n",
    "soup = BeautifulSoup(resp.content, 'lxml')\n",
    "\n",
    "text = soup.select('div._article_body_contents')"
   ]
  },
  {
   "cell_type": "code",
   "execution_count": 20,
   "metadata": {},
   "outputs": [
    {
     "data": {
      "text/plain": [
       "['\\n\\n\\n\\n\\n// flash 오류를 우회하기 위한 함수 추가\\nfunction _flash_removeCallback() {}\\n\\n과기정통부, 22일 유영민 장관 등 참석해 기념행사2021년까지 1516억원 투입, 5100여종 데이터 구축민간 클라우드 통한 외부연계체계도..\"개방성 강화\"[이데일리 이재운 기자] 국가 차원의 빅데이터 활용 시대가 열린다. 새로운 산업 창출과 기존 산업의 변화에 이르는 ‘혁신성장’을 위한 센터가 문을 연다. 10개 분야에 걸쳐 ‘데이터 경제’의 발전을 위한 정부의 청사진을 현실로 구현하는데 앞장선다는 계획이다.22일 과학기술정보통신부는 서울 중구 대한상공회의소에서 데이터 생태계 조성과 혁신 성장의 기반 마련을 위한 ‘빅데이터 플랫폼 및 센터’ 출범식 행사를 개최했다. 유영민 과기정통부 장관을 비롯해 노웅래 국회 과학기술정보방송통신위원회 위원장 등 300여명이 참가했다.◇10개 분야 100개 센터..3년간 1516억원 투입이미지: 픽사베이빅데이터는 데이터 활용을 통해 혁신성장을 이루자는 문재인 정부의 경제 성장 핵심 요소중 하나다. 문재인 대통령이 직접 올 들어 데이터 활용과 이에 따른 정보보호(보안)에 대한 중요성을 강조하기도 했다.이런 맥락 속에서 빅데이터센터는 공공과 민간이 협업해 활용도 높은 양질의 데이터를 생산·구축하고, 플랫폼은 이를 수집·분석·유통하는 역할을 담당한다. 과기정통부는 분야별 플랫폼 10개소와 이와 연계된 기관별 센터 100개소를 구축하는데 3년간 총 1516억원을 투입할 계획이며, 올해 우선 640억원 규모의 사업을 추진하고 있다.대상 분야는 △금융(BC카드) △환경(한국수자원공사) △문화(한국문화정보원) △교통(한국교통연구원) △헬스케어(국립암센터) △유통·소비(매일방송) △통신(KT) △중소기업(더존비즈온) △지역경제(경기도청) △산림(한국임업진흥원) 등으로 현재 1차 공모를 통해 72개 빅데이터 센터를 선정했고, 다음달 8일까지 2차 공모를 통해 28개를 추가 선정해 총 100개를 지원, 운영할 계획이다. 이를 통해 데이터 생태계를 혁신하고 기업의 경쟁력을 제고하는 역할을 수행한다.주요 활용 전략·사례를 보면 빅데이터 활용을 통해 ‘신(新) 시장’을 창출하는 방안을 담고 있다. 금융 플랫폼의 경우 소상공인 신용평가 고도화 등을 통해 금융 취약 계층 대상 중금리 대출이자를 2%p 절감해 연간 1조원의 신규대출을 창출할 전망이다. 유통·소비와 중소기업 플랫폼은 소상공인이나 중소기업의 폐업률 감소를, 문화 플랫폼은 문화·예술 관람률과 생활체육 참여율을 높이는 방안을 모색한다. 의료비 절감(헬스케어)과 기업의 매출 향상을 통한 산업 육성(통신·산림) 등도 눈길을 끈다.과기정통부 제공◇2021년까지 5100여종 데이터 구축..AI 알고리즘 제공도센터는 우선 분야별 데이터 부족 문제를 해소하기 위해 올해 말까지 시장 수요가 높은 1400여종 신규 데이터를 생산ㆍ구축하고, 사업이 완료되는 2021년까지 총 5100여종 양질의 풍부한 데이터를 생산·구축해 시장에 공급할 계획이다.특히 공공과 민간 사이 데이터 파일형식 등이 달라 호환이 제대로 이뤄지지 못한 문제를 해소하기 위해 개방형 표준을 적용하고, 품질관리기준도 마련해 운영한다.기업들이 실제 활용 가능한 최신 데이터를 확보하는데도 수개월이 소요된다는 문제점을 개선하기 위한 방안도 추진한다. 센터와 플랫폼 간 연계체계에는 민간 클라우드를 기반으로 활용하고, 센터에 축적된 데이터도 계속 외부와 개방·공유하며 최신·연속성을 확보한다는 계획이다.100개 센터에서 수집된 데이터를 융합·분석한 뒤 맞춤형 데이터 제작 등 양질의 데이터로 재생산하고, 기업들이 필요로 하는 데이터를 원하는 형태로 즉시 활용할 수 있도록 제공할 계획이다. 다양한 분석 도구는 물론 인공지능(AI) 학습 알고리즘도 제공해 이용자가 보다 사용하기 편리한 환경을 제공한다.이밖에 필요한 데이터를 쉽게 등록하고 검색할 수 있도록 기준을 마련하고, 데이터 보유와 관리에 대한 체계(거버넌스)를 논의하는 ‘데이터 얼라이언스’를 구성해 보다 안전하게 이용하는 방안도 마련했다.유영민 과기정통부 장관은 “오늘 출범식은 대한민국이 데이터 강국으로 가기 위한 초석을 놓은 자리”라며 “세계 주요국들보다 데이터 경제로 나아가는 발걸음이 다소 늦었지만, 빅데이터 플랫폼과 센터를 지렛대로 우리나라의 낙후된 데이터 생태계를 혁신하고 기업의 경쟁력을 한 단계 제고할 수 있도록 정책적 역량을 집중하겠다”고 밝혔다.이재운 (jwlee@edaily.co.kr)네이버 홈에서 ‘이데일리’ 뉴스 [구독하기▶]꿀잼가득 [영상보기▶] , 청춘뉘우스~ [스냅타임▶]＜ⓒ종합 경제정보 미디어 이데일리 - 무단전재 & 재배포 금지＞\\n\\n',\n",
       " '\\n\\n\\n\\n\\n// flash 오류를 우회하기 위한 함수 추가\\nfunction _flash_removeCallback() {}\\n\\n한국전력공사[한국전력공사 제공]    (나주=연합뉴스) 송형일 기자 = 한국전력은 전력 데이터를 활용한 신(新)서비스 개발 경진대회가 8월 20일 한전 아트센터에서 개최된다고 18일 밝혔다.    산업통상자원부가 주최하고 한전과 전력그룹사, 광주과학기술원이 주관하는 이번 행사는 전력 빅데이터를 활용하는 새로운 사업 모델 발굴을 위해 마련됐다.    대회 참가를 희망하는 학생·일반인, 벤처기업과 새싹기업은 경진대회 홈페이지(http://contest.kepco.co.kr)에서 18일부터 6월 17일까지 제안서를 내면 된다.    1차 서류심사를 통과한 팀이나 개인은 제공된 전력 데이터를 활용해 서비스를 개발하고, 데이터가 외부 반출이 불가한 경우에는 한전 아트센터에 마련된 데이터 공유센터에서 개발한다.    완성도, 기술성, 상용화 가능성, 확장성 등을 기준으로 사내 직원과 사외 전문위원이 함께 평가한다.    시상은 개인(학생·일반인)과 기업 2개의 부문으로 나눠서 진행한다.    최종 선정 팀에는 총 2천150만 원의 상금을 주며, 수상작의 서비스 솔루션은 에너지마켓플레이스(EN:TER)에 등록해 사업화 할 수 있는 기회를 제공한다.    김종갑 한전 사장은 \"한전의 전력 데이터와 다른 공공기관 및 민간의 데이터를 융합해 보다 가치 있는 대국민 편익서비스를 많이 만들어 내길 기대한다\"고 말했다.    nicepen@yna.co.kr▶코로나19 속보는 네이버 연합뉴스에서 [구독 클릭]▶[팩트체크] 등교개학후 확진자 나오면?▶제보하기\\n\\n',\n",
       " \"\\n\\n\\n\\n\\n// flash 오류를 우회하기 위한 함수 추가\\nfunction _flash_removeCallback() {}\\n\\n판교\\xa0자율주행\\xa0실증단지\\xa0자율주행\\xa0데이터\\xa0개방\\xa0사업\\xa0선정 [파이낸셜뉴스 수원=장충식 기자] 경기도는 경기도 자율주행센터에서 수집되는 자율주행 관련 데이터를 공공에 개방한다고 14일 밝혔다.   이는 정부의 2020년 국가중점 데이터 개방 지원 사업에 경기도 자율주행센터의 판교 자율주행 실증단지 자율주행 데이터가 선정된 데 따른 조치로, 오는 6월부터 ‘경기도 자율주행센터 자율주행 데이터 개방 사업’이 추진될 예정이다.   이에 따라 누구나 공공데이터포털 및 경기도자율주행센터포털에 접속하면 판교 자율주행 실증단지에서 수집되는 자율주행 관련 데이터를 별도의 데이터 가공 처리 없이 편리하게 활용할 수 있게 된다.   올 하반기부터 2022년까지 3개년에 걸쳐 자율주행 산업 발전에 필요한 데이터가 공공에 개방될 예정으로, 자율주행 산업 활성화에 기여할 것으로 도는 기대하고 있다.   임문영 경기도 미래성장정책관은 “경기도 자율주행센터는 작년 개소 이후, 건강하고 발전적인 자율주행 생태계 조성을 위해 힘써오고 있다”며 “센터는 앞으로도 경기도의 선진화된 자율주행기술 및 방대한 양의 데이터를 활용해 국내 자율주행 기술 발전에 앞장설 것”이라고 말했다.   한편, 경기도는 차세대융합기술연구원과 함께 자율주행 분야 산업생태계를 구축하기 위해 지난해 5월 경기도 자율주행센터를 출범했다.   운전자 없이 주행이 가능한 자율주행 레벨4 수준의 자율주행차 ‘제로셔틀’ 개발과 스타트업의 실증 테스트 및 빅데이터 서비스 등을 지원하는 등 자율주행 분야의 세계적인 실증단지 구축 및 운영을 위해 꾸준한 지원을 이어가고 있다.    jjang@fnnews.com 장충식 기자   ▶ 헉! 소리나는 스!토리 뉴스 [헉스]▶ '아는 척'하고 싶은 당신을 위한 [두유노우]  ※ 저작권자 ⓒ 파이낸셜뉴스. 무단 전재-재배포 금지\\n\\t\\n\",\n",
       " '\\n\\n\\n\\n\\n// flash 오류를 우회하기 위한 함수 추가\\nfunction _flash_removeCallback() {}\\n\\n통계청·SK텔레콤, 모바일 빅데이터 분석…5월 들어 회복세‘코로나19’ 발생 후 4주차·20대 미만 큰 폭 감소돼코로나19 발생 후 인구 이동을 분석한 결과, 발생 후 4주차 토요일인 2월 29일~3월 1일 가장 큰 폭으로 감소했으며 이후 감소폭이 점차 완화돼 5월 첫째 주를 기해 전년 대비 약 83%로 상당 수준 회복된 것으로 나타났다.인구 이동은 사람 간 접촉 가능성이 상대적으로 높은 상업지역, 관광지, 레저스포츠시설이 대형아울렛이나 주거지역보다 이동량 감소가 큰 편이었으나 5월 초 4일 연휴를 기점으로 관광지와 레저스포츠시설에서 큰 폭으로 늘어난 것으로 파악됐다.이 같은 이동결과는 통계청과 SK텔레콤이 모바일 빅데이터를 기반으로 전국 SKT 가입자의 주중과 주말 인구 이동 정보를 이용해 추정한 결과다.ⓒ코로나19 발생 전후 인구 이동 ⓒ통계청코로나19 발생 전후 대비 ⓒ통계청통계청과 SK텔레콤(시장점유율 약 42%)은 지난해 5월 업무협약을 체결한 이후, 정부혁신의 일환으로 공공·민간 협업을 추진하고 있으며, 통계데이터센터 홈페이지를 통해 모바일 유동인구 지도를 서비스 중이다.분석은 성·연령별, 입지유형별, 17개 시도별로 주중과 주말의 인구 이동 변화를 다각적으로 작년 같은 시기와 비교했으며, 인구 이동은 시·군·구 간 이동을 의미하며 본인이 실거주하는 시·군·구 외 타 시·군·구(행정동)를 30분 이상 방문한 경우를 이동 건수로 집계한 것이다.통계청은 인구 이동량을 등록센서스 인구를 모수로 성과 연령(5세별), 지역(읍·면·동)별 가중치를 적용·추정해본 결과, 코로나19 지역 집단감염(2월20일~29일) 영향으로 발생 후 4주차 토요일(2월29일) 인구 이동량은 작년 같은 주 토요일 대비 가장 큰 폭(-41.9%)으로 감소한 이후 3월부터 감소폭은 점차 완화됐다고 설명했다.이어 발생 후 13주차 토요일인 5월 2일에 상당 수준 회복(약 83%)됐다가 발생 후 14주차 토요일인 5월 9일에는 회복세가 주춤(약 75%)한 것으로 집계됐다.이는 13주차 4일간 연휴(4월30일～5월3일) 기간에 일시 이동량이 크게 늘어난 것으로 보였으며, 특히 연휴가 낀 주말에 코로나19로 인한 인구 이동량 변동이 크게 나타났다.성별·연령별로는 전반적으로 남성보다 여성이, 연령별로는 20세 미만·20대·60대·70세 이상에서 이동량 감소가 큰 편이었다.다만 13주차인 4월 27일〜5월 3일에는 4일간 연휴에 따른 가족 동반 이동이 늘어 여성과 20세 미만의 이동량이 큰 폭으로 늘었다.코로나19 발생 후 입지유형별 이동 ⓒ통계청입지유형별로는 레저스포츠시설이 대형아울렛, 주거지역보다 이동량 감소가 큰 편이었으며, 연휴기간에는 관광지, 레저스포츠시설에서 큰 폭의 증가세를 보였다.입지분류로는 △상업지역 △관광지 △대형아울렛 △사무지역 △레저·스포츠시설 △주거지역 등 6개로 한정했다.시·도별 이동으로는 코로나19 발생 후 제주·강원·부산·대구 등 관광지역이나 대규모 확진자 발생지역을 중심으로 인구 유입이 감소했고, 13주차에는 4일간 연로 전남·전북·충남·강원 등 대도시가 아닌 지역으로 인구 유입이 큰 폭으로 늘어났다.통계청은 앞으로도 각종 사회·경제적 이슈 발생될 때 모바일 빅데이터를 활용해 정부정책에 참고할 수 있는 다양한 기초자료를 제공한다는 방침이다.데일리안 이소희 기자 (aswith@dailian.co.kr)ⓒ (주)데일리안 - 무단전재, 변형, 무단배포 금지\\n\\t\\n',\n",
       " \"\\n\\n\\n\\n\\n// flash 오류를 우회하기 위한 함수 추가\\nfunction _flash_removeCallback() {}\\n\\n금융결제원·신용정보원 등 지정비씨카드 추가 포함 여부도 논의시행령 발표한 후 빠르게 추진하반기 데이터 유통·판매 급물살정부가 금융결제원과 신용정보원 등 업권별 9곳의 마이데이터 중계기관을 선정했다. 14일 서울 중구 한국신용정보원에서 마이데이터 태스크포스(TF)가 마이데이터 전송항목 표준화 관련 실무회의를 진행하고 있다. 이동근기자 foto@etnews.com정부가 미래 신사업으로 떠오른 마이데이터 중계기관 9곳을 최종 선정했다.마이데이터 중계기관은 여러 기관에 흩어져 있는 개인 금융, 비금융 데이터를 한 번에 통합 조회할 때 마이데이터 사업자와 금융기관을 연결, 효율 높게 데이터를 오갈 수 있는 허브 역할을 담당하게 된다. 중계기관이 없는 경우 기업과 금융기관은 별도의 계약을 맺어 데이터를 연결해야 한다. 비효율이 발생한다. 중계기관은 금융기관과 다수 핀테크 사업자 등을 1대 N으로 연결, 데이터 유통과 관리를 중계하는 일종의 정보기술(IT) 인프라를 운영한다.14일 정부와 금융권에 따르면 금융위원회는 마이데이터 중계기관 9곳을 최종 선정, 조만간 인프라 개발 작업에 착수한다.선정된 중계기관은 금융결제원, 신용정보원, 농협중앙회, 수협중앙회, 상호저축은행중앙회, 신협중앙회, 새마을금고중앙회, 코스콤, 행정정보공유센터다.이들 중계기관은 앞으로 업권별·유형별 데이터를 관리·유통하는 허브 역할을 전담한다. 이종산업 간 데이터도 결합하는 마이데이터 산업의 핵심 역할을 담당하게 된다. 9곳 외에 카드데이터 중계 기관으로 프로세싱 인프라를 보유한 비씨카드도 중계기관으로 포함할 것인지에 대한 논의가 진행되고 있는 것으로 알려졌다. 사실상 다수의 데이터를 개별 계약·관리하기보다는 중계기간을 거쳐 더 효율 높게 데이터를 관리하겠다는 전략이다.이보다 앞서 금융위는 마이데이터 산업 활성화를 위한 공청회 등을 열기도 했다. 공청회 당시 중계기관 선정을 놓고 의견이 엇갈렸다.일부 기업은 중계기관이 데이터를 독점할 수 있다는 우려를 지속 제기했고, 다수 금융사와 기업은 마이데이터 산업의 조속한 진흥을 위해 중계기관이 필요하다는 입장을 제시했다.코로나19 여파로 중계기관 간 공식 회의는 아직 열리지 않았지만 인프라 개발과 구축 작업을 위한 논의는 시작됐다. 대형 인프라 설비가 필요하기 때문에 시스템통합(SI)업계에도 사업 기회가 주어질 것으로 전망된다.우선 9개 기관 가운데 마이데이터 중계 핵심 역할은 금융결제원과 신용정보원이 전담할 가능성이 높다. 일부 중계기관의 경우 인프라 개발 경험이 전무하고 데이터를 중계할 수 있는 시스템 자체가 없다.비씨카드를 중계기관으로 허용할지에 대한 논의도 쟁점으로 떠올랐다. 업권을 대변하는 여신금융협회 대신 카드정보 실제 프로세싱을 할 수 있는 비씨카드가 중계 역할에 적합하다는 의견이 제기됐다. 내부에서 의견이 갈리고 있어 시간은 걸릴 수 있다.현재로선 금융결제원과 신용정보원이 데이터 중계를 위한 핵심 인프라 설비와 개발을 도맡을 가능성이 짙다. 그 외 농협중앙회가 농협은행 응용프로그램개발환경(API)을 활용할 수 있어 인프라 자체 개발이 가능한 상황이다.정부 부처인 행정안전부 내 행정정보공유센터도 중계기관에 이름을 올렸다.국민 신용정보 등을 행안부 내 행정정보공유센터가 다수 보유하고 있어 공유센터를 거쳐야 데이터 유통이 가능하다. 이 때문에 행안부도 중계기관으로 선정됐다.정부가 마이데이터 관련 시행령 발표 이후 중계기관을 조속히 선정함에 따라 올 하반기에 마이데이터 산업은 급물살을 탈 것으로 보인다.지난 13일 금융위는 마이데이터 산업 허가 관련 사전 수요 조사와 예비 컨설팅에 착수했다. 이와 함께 마이데이터 허가(라이선스) 세부 심사 요건도 발표했다. 올 하반기에 데이터 중계와 판매·유통 사업을 본격화하겠다는 것이다. 중계 인프라를 조속히 가동해야 하는 문제가 시급하지만 업권별로 9개 중계기관이 중계 인프라를 구축하는 작업에 곧 착수한다.중계기관 관계자는 “IT 개발 역량이 다소 취약한 중계기관도 포함된 상황이어서 개발이나 인프라 설비 구축을 위한 '중계기관의 중계' 허용이 필요한 상황”이라면서 “중계기관을 통하면 서비스 수준이 균일해지고 업무 편의성도 높아질 수 있어 사업에 만전을 기하겠다”고 분위기를 전했다.[표]마이데이터 중계기관 선정 현황길재식기자 osolgil@etnews.com▶ 네이버 홈에서 [전자신문] 구독하기▶ 전자신문 바로가기 [Copyright ⓒ 전자신문 & 전자신문인터넷, 무단전재 및 재배포 금지]\\n\\n\"]"
      ]
     },
     "execution_count": 20,
     "metadata": {},
     "output_type": "execute_result"
    }
   ],
   "source": [
    "docs"
   ]
  },
  {
   "cell_type": "code",
   "execution_count": 30,
   "metadata": {},
   "outputs": [
    {
     "ename": "Exception",
     "evalue": "The MeCab dictionary does not exist at \"/usr/local/lib/mecab/dic/mecab-ko-dic\". Is the dictionary correctly installed?\nYou can also try entering the dictionary path when initializing the Mecab class: \"Mecab('/some/dic/path')\"",
     "output_type": "error",
     "traceback": [
      "\u001b[1;31m---------------------------------------------------------------------------\u001b[0m",
      "\u001b[1;31mRuntimeError\u001b[0m                              Traceback (most recent call last)",
      "\u001b[1;32m~\\anaconda3\\envs\\nlp\\lib\\site-packages\\konlpy\\tag\\_mecab.py\u001b[0m in \u001b[0;36m__init__\u001b[1;34m(self, dicpath)\u001b[0m\n\u001b[0;32m    107\u001b[0m         \u001b[1;32mtry\u001b[0m\u001b[1;33m:\u001b[0m\u001b[1;33m\u001b[0m\u001b[1;33m\u001b[0m\u001b[0m\n\u001b[1;32m--> 108\u001b[1;33m             \u001b[0mself\u001b[0m\u001b[1;33m.\u001b[0m\u001b[0mtagger\u001b[0m \u001b[1;33m=\u001b[0m \u001b[0mTagger\u001b[0m\u001b[1;33m(\u001b[0m\u001b[1;34m'-d %s'\u001b[0m \u001b[1;33m%\u001b[0m \u001b[0mdicpath\u001b[0m\u001b[1;33m)\u001b[0m\u001b[1;33m\u001b[0m\u001b[1;33m\u001b[0m\u001b[0m\n\u001b[0m\u001b[0;32m    109\u001b[0m             \u001b[0mself\u001b[0m\u001b[1;33m.\u001b[0m\u001b[0mtagset\u001b[0m \u001b[1;33m=\u001b[0m \u001b[0mutils\u001b[0m\u001b[1;33m.\u001b[0m\u001b[0mread_json\u001b[0m\u001b[1;33m(\u001b[0m\u001b[1;34m'%s/data/tagset/mecab.json'\u001b[0m \u001b[1;33m%\u001b[0m \u001b[0mutils\u001b[0m\u001b[1;33m.\u001b[0m\u001b[0minstallpath\u001b[0m\u001b[1;33m)\u001b[0m\u001b[1;33m\u001b[0m\u001b[1;33m\u001b[0m\u001b[0m\n",
      "\u001b[1;32m~\\anaconda3\\envs\\nlp\\lib\\site-packages\\MeCab.py\u001b[0m in \u001b[0;36m__init__\u001b[1;34m(self, *args)\u001b[0m\n\u001b[0;32m    308\u001b[0m     \u001b[1;32mdef\u001b[0m \u001b[0m__init__\u001b[0m\u001b[1;33m(\u001b[0m\u001b[0mself\u001b[0m\u001b[1;33m,\u001b[0m \u001b[1;33m*\u001b[0m\u001b[0margs\u001b[0m\u001b[1;33m)\u001b[0m\u001b[1;33m:\u001b[0m\u001b[1;33m\u001b[0m\u001b[1;33m\u001b[0m\u001b[0m\n\u001b[1;32m--> 309\u001b[1;33m         \u001b[0mthis\u001b[0m \u001b[1;33m=\u001b[0m \u001b[0m_MeCab\u001b[0m\u001b[1;33m.\u001b[0m\u001b[0mnew_Tagger\u001b[0m\u001b[1;33m(\u001b[0m\u001b[1;33m*\u001b[0m\u001b[0margs\u001b[0m\u001b[1;33m)\u001b[0m\u001b[1;33m\u001b[0m\u001b[1;33m\u001b[0m\u001b[0m\n\u001b[0m\u001b[0;32m    310\u001b[0m         \u001b[1;32mtry\u001b[0m\u001b[1;33m:\u001b[0m \u001b[0mself\u001b[0m\u001b[1;33m.\u001b[0m\u001b[0mthis\u001b[0m\u001b[1;33m.\u001b[0m\u001b[0mappend\u001b[0m\u001b[1;33m(\u001b[0m\u001b[0mthis\u001b[0m\u001b[1;33m)\u001b[0m\u001b[1;33m\u001b[0m\u001b[1;33m\u001b[0m\u001b[0m\n",
      "\u001b[1;31mRuntimeError\u001b[0m: ",
      "\nDuring handling of the above exception, another exception occurred:\n",
      "\u001b[1;31mException\u001b[0m                                 Traceback (most recent call last)",
      "\u001b[1;32m<ipython-input-30-013cfa0098c6>\u001b[0m in \u001b[0;36m<module>\u001b[1;34m\u001b[0m\n\u001b[0;32m      1\u001b[0m \u001b[1;32mfrom\u001b[0m \u001b[0mkonlpy\u001b[0m\u001b[1;33m.\u001b[0m\u001b[0mtag\u001b[0m \u001b[1;32mimport\u001b[0m \u001b[0mMecab\u001b[0m\u001b[1;33m\u001b[0m\u001b[1;33m\u001b[0m\u001b[0m\n\u001b[1;32m----> 2\u001b[1;33m \u001b[0mmecab\u001b[0m \u001b[1;33m=\u001b[0m \u001b[0mMecab\u001b[0m\u001b[1;33m(\u001b[0m\u001b[1;33m)\u001b[0m\u001b[1;33m\u001b[0m\u001b[1;33m\u001b[0m\u001b[0m\n\u001b[0m",
      "\u001b[1;32m~\\anaconda3\\envs\\nlp\\lib\\site-packages\\konlpy\\tag\\_mecab.py\u001b[0m in \u001b[0;36m__init__\u001b[1;34m(self, dicpath)\u001b[0m\n\u001b[0;32m    109\u001b[0m             \u001b[0mself\u001b[0m\u001b[1;33m.\u001b[0m\u001b[0mtagset\u001b[0m \u001b[1;33m=\u001b[0m \u001b[0mutils\u001b[0m\u001b[1;33m.\u001b[0m\u001b[0mread_json\u001b[0m\u001b[1;33m(\u001b[0m\u001b[1;34m'%s/data/tagset/mecab.json'\u001b[0m \u001b[1;33m%\u001b[0m \u001b[0mutils\u001b[0m\u001b[1;33m.\u001b[0m\u001b[0minstallpath\u001b[0m\u001b[1;33m)\u001b[0m\u001b[1;33m\u001b[0m\u001b[1;33m\u001b[0m\u001b[0m\n\u001b[0;32m    110\u001b[0m         \u001b[1;32mexcept\u001b[0m \u001b[0mRuntimeError\u001b[0m\u001b[1;33m:\u001b[0m\u001b[1;33m\u001b[0m\u001b[1;33m\u001b[0m\u001b[0m\n\u001b[1;32m--> 111\u001b[1;33m             \u001b[1;32mraise\u001b[0m \u001b[0mException\u001b[0m\u001b[1;33m(\u001b[0m\u001b[1;34m'The MeCab dictionary does not exist at \"%s\". Is the dictionary correctly installed?\\nYou can also try entering the dictionary path when initializing the Mecab class: \"Mecab(\\'/some/dic/path\\')\"'\u001b[0m \u001b[1;33m%\u001b[0m \u001b[0mdicpath\u001b[0m\u001b[1;33m)\u001b[0m\u001b[1;33m\u001b[0m\u001b[1;33m\u001b[0m\u001b[0m\n\u001b[0m\u001b[0;32m    112\u001b[0m         \u001b[1;32mexcept\u001b[0m \u001b[0mNameError\u001b[0m\u001b[1;33m:\u001b[0m\u001b[1;33m\u001b[0m\u001b[1;33m\u001b[0m\u001b[0m\n\u001b[0;32m    113\u001b[0m             \u001b[1;32mraise\u001b[0m \u001b[0mException\u001b[0m\u001b[1;33m(\u001b[0m\u001b[1;34m'Install MeCab in order to use it: http://konlpy.org/en/latest/install/'\u001b[0m\u001b[1;33m)\u001b[0m\u001b[1;33m\u001b[0m\u001b[1;33m\u001b[0m\u001b[0m\n",
      "\u001b[1;31mException\u001b[0m: The MeCab dictionary does not exist at \"/usr/local/lib/mecab/dic/mecab-ko-dic\". Is the dictionary correctly installed?\nYou can also try entering the dictionary path when initializing the Mecab class: \"Mecab('/some/dic/path')\""
     ]
    }
   ],
   "source": [
    "from konlpy.tag import Mecab\n",
    "mecab = Mecab()"
   ]
  },
  {
   "cell_type": "code",
   "execution_count": null,
   "metadata": {},
   "outputs": [],
   "source": [
    "preprocessed_docs = []\n",
    "for doc in docs :\n",
    "  # 명사와 동사만으로 문서 전처리\n",
    "  pass\n",
    "preprocessed_docs[0][:100]"
   ]
  },
  {
   "cell_type": "code",
   "execution_count": null,
   "metadata": {},
   "outputs": [],
   "source": []
  },
  {
   "cell_type": "code",
   "execution_count": null,
   "metadata": {},
   "outputs": [],
   "source": []
  },
  {
   "cell_type": "code",
   "execution_count": null,
   "metadata": {},
   "outputs": [],
   "source": []
  },
  {
   "cell_type": "code",
   "execution_count": null,
   "metadata": {},
   "outputs": [],
   "source": []
  },
  {
   "cell_type": "code",
   "execution_count": null,
   "metadata": {},
   "outputs": [],
   "source": []
  },
  {
   "cell_type": "code",
   "execution_count": null,
   "metadata": {},
   "outputs": [],
   "source": []
  }
 ],
 "metadata": {
  "kernelspec": {
   "display_name": "Python 3",
   "language": "python",
   "name": "python3"
  },
  "language_info": {
   "codemirror_mode": {
    "name": "ipython",
    "version": 3
   },
   "file_extension": ".py",
   "mimetype": "text/x-python",
   "name": "python",
   "nbconvert_exporter": "python",
   "pygments_lexer": "ipython3",
   "version": "3.6.10"
  }
 },
 "nbformat": 4,
 "nbformat_minor": 4
}
