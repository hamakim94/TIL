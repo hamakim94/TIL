{
 "cells": [
  {
   "cell_type": "markdown",
   "metadata": {},
   "source": [
    "\n",
    "# 10장 문서 분류 (Document Classification)"
   ]
  },
  {
   "cell_type": "markdown",
   "metadata": {},
   "source": [
    "# 11-1 나이브 베이즈 분류(Naive Bayes Classifier)"
   ]
  },
  {
   "cell_type": "markdown",
   "metadata": {},
   "source": [
    "## 1.1 직접구현"
   ]
  },
  {
   "cell_type": "markdown",
   "metadata": {},
   "source": [
    "### Naive Bayes Classifier"
   ]
  },
  {
   "cell_type": "code",
   "execution_count": 1,
   "metadata": {},
   "outputs": [],
   "source": [
    "training_set = [['me free lottery', 1],\n",
    " ['free get free you', 1],\n",
    " ['you free scholarship', 0],\n",
    " ['free to contact me', 0],\n",
    " ['you won award', 0],\n",
    " ['you ticket lottery', 1]]\n",
    "# 1이 스팸!!"
   ]
  },
  {
   "cell_type": "markdown",
   "metadata": {},
   "source": [
    "### 토큰 빈도수 및 문서별 토큰수 계산 (확률 계산을 위한 준비)"
   ]
  },
  {
   "cell_type": "markdown",
   "metadata": {},
   "source": [
    "![대체 텍스트](https://wikimedia.org/api/rest_v1/media/math/render/svg/98f086c560aa2f66650060277dda4f90e54e30c0)"
   ]
  },
  {
   "cell_type": "code",
   "execution_count": 28,
   "metadata": {},
   "outputs": [
    {
     "name": "stdout",
     "output_type": "stream",
     "text": [
      "10 10\n"
     ]
    }
   ],
   "source": [
    "from collections import defaultdict\n",
    "\n",
    "# 범주에 속하는 토큰수 세기 1(스팸), 0(정상))\n",
    "\n",
    "doccnt0 = 0\n",
    "doccnt1 = 0\n",
    "\n",
    "for doc in training_set:\n",
    "    if doc[1] == 0:  # 정상인 문서\n",
    "        for token in doc[0].split():\n",
    "            doccnt0 += 1\n",
    "    else:\n",
    "        for token in doc[0].split():\n",
    "            doccnt1 += 1 # 스팸인 문서\n",
    "    \n",
    "print(doccnt0, doccnt1)\n"
   ]
  },
  {
   "cell_type": "code",
   "execution_count": 45,
   "metadata": {},
   "outputs": [],
   "source": [
    "# 토큰별로 문서내 빈도수 카운팅\n",
    "wordfreq = defaultdict(lambda : [0, 0])\n",
    "\n",
    "# 하고싶은거 : 토큰 별로 문장에 들어가서 있으면, 스팸인 경우에 +1, 노말이면 +1 해주고파"
   ]
  },
  {
   "cell_type": "code",
   "execution_count": 46,
   "metadata": {},
   "outputs": [
    {
     "data": {
      "text/plain": [
       "[[0, 0],\n",
       " [0, 0],\n",
       " [0, 0],\n",
       " [0, 0],\n",
       " [0, 0],\n",
       " [0, 0],\n",
       " [0, 0],\n",
       " [0, 0],\n",
       " [0, 0],\n",
       " [0, 0],\n",
       " [0, 0],\n",
       " [0, 0],\n",
       " [0, 0],\n",
       " [0, 0],\n",
       " [0, 0],\n",
       " [0, 0],\n",
       " [0, 0],\n",
       " [0, 0],\n",
       " [0, 0],\n",
       " [0, 0]]"
      ]
     },
     "execution_count": 46,
     "metadata": {},
     "output_type": "execute_result"
    }
   ],
   "source": [
    "[wordfreq[token] for sent in training_set for token in sent[0].split()]"
   ]
  },
  {
   "cell_type": "code",
   "execution_count": 47,
   "metadata": {},
   "outputs": [
    {
     "data": {
      "text/plain": [
       "0"
      ]
     },
     "execution_count": 47,
     "metadata": {},
     "output_type": "execute_result"
    }
   ],
   "source": [
    "wordfreq['me'][0]"
   ]
  },
  {
   "cell_type": "code",
   "execution_count": null,
   "metadata": {},
   "outputs": [],
   "source": [
    "# training_set에 문장에 하나씩 들어가서\n",
    "# split 해주고\n",
    "# 그 문장이 일단 1이면  wordfreq['me']에 1번째 열에 들어가서 +1씩 들어가자"
   ]
  },
  {
   "cell_type": "code",
   "execution_count": 48,
   "metadata": {},
   "outputs": [],
   "source": [
    "for sent in training_set:\n",
    "    if sent[1] == 1: # 스팸일 때\n",
    "        for token in sent[0].split():\n",
    "            wordfreq[token][0] += 1 # 스팸일때는, 첫 번째 원소에 카운트 들어감\n",
    "    else:\n",
    "        for token in sent[0].split():\n",
    "            wordfreq[token][1] += 1"
   ]
  },
  {
   "cell_type": "code",
   "execution_count": 67,
   "metadata": {},
   "outputs": [
    {
     "data": {
      "text/plain": [
       "defaultdict(<function __main__.<lambda>()>,\n",
       "            {'me': [1, 1],\n",
       "             'free': [3, 2],\n",
       "             'lottery': [2, 0],\n",
       "             'get': [1, 0],\n",
       "             'you': [2, 2],\n",
       "             'scholarship': [0, 1],\n",
       "             'to': [0, 1],\n",
       "             'contact': [0, 1],\n",
       "             'won': [0, 1],\n",
       "             'award': [0, 1],\n",
       "             'ticket': [1, 0],\n",
       "             0: [0, 0]})"
      ]
     },
     "execution_count": 67,
     "metadata": {},
     "output_type": "execute_result"
    }
   ],
   "source": [
    "wordfreq"
   ]
  },
  {
   "cell_type": "markdown",
   "metadata": {},
   "source": [
    "### Training : 토큰별 조건부 확률 계산 "
   ]
  },
  {
   "cell_type": "code",
   "execution_count": 53,
   "metadata": {},
   "outputs": [
    {
     "data": {
      "text/plain": [
       "[[0, 0],\n",
       " [0, 0],\n",
       " [0, 0],\n",
       " [0, 0],\n",
       " [0, 0],\n",
       " [0, 0],\n",
       " [0, 0],\n",
       " [0, 0],\n",
       " [0, 0],\n",
       " [0, 0],\n",
       " [0, 0],\n",
       " [0, 0],\n",
       " [0, 0],\n",
       " [0, 0],\n",
       " [0, 0],\n",
       " [0, 0],\n",
       " [0, 0],\n",
       " [0, 0],\n",
       " [0, 0],\n",
       " [0, 0]]"
      ]
     },
     "execution_count": 53,
     "metadata": {},
     "output_type": "execute_result"
    }
   ],
   "source": [
    "k = 0.5\n",
    "\n",
    "wordprobs = defaultdict(lambda : [0, 0])\n",
    "[wordprobs[token] for sent in training_set for token in sent[0].split() ]\n"
   ]
  },
  {
   "cell_type": "code",
   "execution_count": 90,
   "metadata": {},
   "outputs": [],
   "source": [
    "for key in wordprobs:\n",
    "    # print(key)\n",
    "    # print(wordprobs[key])\n",
    "    for values in wordprobs[key]:\n",
    "        wordprobs[key][0] = (wordfreq[key][0] + k) / (doccnt1 + 2*k) \n",
    "        wordprobs[key][1] = (wordfreq[key][1] + k) / (doccnt0 + 2*k)\n",
    "        "
   ]
  },
  {
   "cell_type": "code",
   "execution_count": 71,
   "metadata": {},
   "outputs": [
    {
     "data": {
      "text/plain": [
       "0.14285714285714285"
      ]
     },
     "execution_count": 71,
     "metadata": {},
     "output_type": "execute_result"
    }
   ],
   "source": [
    "(1+0.5) / (10+0.5)"
   ]
  },
  {
   "cell_type": "code",
   "execution_count": 91,
   "metadata": {},
   "outputs": [
    {
     "data": {
      "text/plain": [
       "defaultdict(<function __main__.<lambda>()>,\n",
       "            {'me': [0.13636363636363635, 0.13636363636363635],\n",
       "             'free': [0.22727272727272727, 0.3181818181818182],\n",
       "             'lottery': [0.045454545454545456, 0.22727272727272727],\n",
       "             'get': [0.045454545454545456, 0.13636363636363635],\n",
       "             'you': [0.22727272727272727, 0.22727272727272727],\n",
       "             'scholarship': [0.13636363636363635, 0.045454545454545456],\n",
       "             'to': [0.13636363636363635, 0.045454545454545456],\n",
       "             'contact': [0.13636363636363635, 0.045454545454545456],\n",
       "             'won': [0.13636363636363635, 0.045454545454545456],\n",
       "             'award': [0.13636363636363635, 0.045454545454545456],\n",
       "             'ticket': [0.045454545454545456, 0.13636363636363635]})"
      ]
     },
     "execution_count": 91,
     "metadata": {},
     "output_type": "execute_result"
    }
   ],
   "source": [
    "wordprobs"
   ]
  },
  {
   "cell_type": "code",
   "execution_count": 92,
   "metadata": {},
   "outputs": [
    {
     "data": {
      "text/plain": [
       "(-0.6931471805599453, -0.6931471805599453)"
      ]
     },
     "execution_count": 92,
     "metadata": {},
     "output_type": "execute_result"
    }
   ],
   "source": [
    "### 원할한 계산을 위해, 스팸,normal 확률의 로그값을 계산해보자\n",
    "import math\n",
    "\n",
    "spam = (doccnt1) / (doccnt0 + doccnt1)\n",
    "normal = (doccnt0) / (doccnt1 + doccnt0)\n",
    "\n",
    "logspam = math.log(spam)\n",
    "lognon = math.log(normal)\n",
    "\n",
    "logspam, lognon"
   ]
  },
  {
   "cell_type": "markdown",
   "metadata": {},
   "source": [
    "### Classify : 신규 텍스트가 주어졌을 때 확률 계산"
   ]
  },
  {
   "cell_type": "code",
   "execution_count": 93,
   "metadata": {},
   "outputs": [
    {
     "name": "stdout",
     "output_type": "stream",
     "text": [
      "정상확률 : 0.8749999999999999\n",
      "스팸확률 : 0.12500000000000008\n"
     ]
    }
   ],
   "source": [
    "import math\n",
    "\n",
    "doc = \"free lottery\"\n",
    "\n",
    "tokens = doc.split() # 우선 해당 문서를 토큰화\n",
    "\n",
    "log_prob_spam, log_prob_non = 0, 0\n",
    "\n",
    "# print(tokens)\n",
    "for token in tokens:\n",
    "    # print(wordprobs[token])\n",
    "    log_prob_spam += math.log(wordprobs[token][0])\n",
    "    log_prob_non += math.log(wordprobs[token][1])\n",
    "\n",
    "sum_log_prob_spam =log_prob_spam + logspam\n",
    "sum_log_prob_non = log_prob_non + lognon\n",
    "\n",
    "pnormal = math.exp(sum_log_prob_non)\n",
    "pspam = math.exp(sum_log_prob_spam)\n",
    "\n",
    "\n",
    "print(\"정상확률 : {}\".format(pnormal / (pnormal + pspam)))\n",
    "print(\"스팸확률 : {}\".format(pspam / (pnormal + pspam)))"
   ]
  },
  {
   "cell_type": "code",
   "execution_count": 80,
   "metadata": {},
   "outputs": [
    {
     "data": {
      "text/plain": [
       "(-3.226843994517378, -5.172754143572691)"
      ]
     },
     "execution_count": 80,
     "metadata": {},
     "output_type": "execute_result"
    }
   ],
   "source": [
    "sum_log_prob_spam ,sum_log_prob_non "
   ]
  },
  {
   "cell_type": "markdown",
   "metadata": {},
   "source": [
    "# 선생님의 방식"
   ]
  },
  {
   "cell_type": "markdown",
   "metadata": {},
   "source": [
    "### Naive Bayes Classifier"
   ]
  },
  {
   "cell_type": "code",
   "execution_count": 83,
   "metadata": {},
   "outputs": [],
   "source": [
    "training_set = [['me free lottery', 1],\n",
    " ['free get free you', 1],\n",
    " ['you free scholarship', 0],\n",
    " ['free to contact me', 0],\n",
    " ['you won award', 0],\n",
    " ['you ticket lottery', 1]]"
   ]
  },
  {
   "cell_type": "code",
   "execution_count": 95,
   "metadata": {},
   "outputs": [
    {
     "name": "stdout",
     "output_type": "stream",
     "text": [
      "defaultdict(<function <lambda> at 0x000001FB9D9786A8>, {'me': [1, 1], 'free': [2, 3], 'lottery': [0, 2], 'get': [0, 1], 'you': [2, 2], 'scholarship': [1, 0], 'to': [1, 0], 'contact': [1, 0], 'won': [1, 0], 'award': [1, 0], 'ticket': [0, 1]})\n",
      "doccnt0 : 10\n",
      "doccnt1 : 10\n"
     ]
    }
   ],
   "source": [
    "from collections import defaultdict\n",
    "\n",
    "# 범주에 속하는 토큰수 세기 1(스팸), 0(정상))\n",
    "doccnt0 = 0\n",
    "doccnt1 = 0\n",
    "\n",
    "# 토큰별로 문서내 빈도수 카운팅\n",
    "wordfreq = defaultdict(lambda : [0, 0])\n",
    "\n",
    "for doc, label in training_set:\n",
    "    words = doc.split()\n",
    "    for word in words:\n",
    "        wordfreq[word][label] += 1\n",
    "\n",
    "print(wordfreq)        \n",
    "\n",
    "for key, (cnt0, cnt1) in wordfreq.items(): \n",
    "    doccnt0 += cnt0\n",
    "    doccnt1 += cnt1\n",
    "\n",
    "    \n",
    "print('doccnt0 : {}'.format(doccnt0))\n",
    "print('doccnt1 : {}'.format(doccnt1))"
   ]
  },
  {
   "cell_type": "code",
   "execution_count": 96,
   "metadata": {},
   "outputs": [
    {
     "data": {
      "text/plain": [
       "defaultdict(<function __main__.<lambda>()>, {'free': 1})"
      ]
     },
     "execution_count": 96,
     "metadata": {},
     "output_type": "execute_result"
    }
   ],
   "source": [
    "## DefaultDict\n",
    "test_dict = defaultdict(lambda : 0)\n",
    "test_dict['free'] += 1\n",
    "test_dict"
   ]
  },
  {
   "cell_type": "markdown",
   "metadata": {},
   "source": [
    "### Training : 토큰별 조건부 확률 계산"
   ]
  },
  {
   "cell_type": "code",
   "execution_count": 105,
   "metadata": {},
   "outputs": [
    {
     "data": {
      "text/plain": [
       "defaultdict(<function __main__.<lambda>()>,\n",
       "            {'me': [0.13636363636363635, 0.13636363636363635],\n",
       "             'free': [0.22727272727272727, 0.3181818181818182],\n",
       "             'lottery': [0.045454545454545456, 0.22727272727272727],\n",
       "             'get': [0.045454545454545456, 0.13636363636363635],\n",
       "             'you': [0.22727272727272727, 0.22727272727272727],\n",
       "             'scholarship': [0.13636363636363635, 0.045454545454545456],\n",
       "             'to': [0.13636363636363635, 0.045454545454545456],\n",
       "             'contact': [0.13636363636363635, 0.045454545454545456],\n",
       "             'won': [0.13636363636363635, 0.045454545454545456],\n",
       "             'award': [0.13636363636363635, 0.045454545454545456],\n",
       "             'ticket': [0.045454545454545456, 0.13636363636363635]})"
      ]
     },
     "execution_count": 105,
     "metadata": {},
     "output_type": "execute_result"
    }
   ],
   "source": [
    "k = 0.5 # For Laplace Smoothing\n",
    "\n",
    "wordprobs = defaultdict(lambda : [0, 0])\n",
    "\n",
    "for key, (cnt0, cnt1) in wordfreq.items():\n",
    "    wordprobs[key][0] = (cnt0 + k) / (2 * k + doccnt0 )\n",
    "    wordprobs[key][1] = (cnt1 + k) / (2 * k + doccnt1 )\n",
    "    \n",
    "wordprobs\n"
   ]
  },
  {
   "cell_type": "markdown",
   "metadata": {},
   "source": [
    "### Classify : 신규 텍스트가 주어졌을 때 확률 계산\n"
   ]
  },
  {
   "cell_type": "code",
   "execution_count": 107,
   "metadata": {},
   "outputs": [
    {
     "name": "stdout",
     "output_type": "stream",
     "text": [
      "0.00516528925619835 0.03615702479338842\n",
      "정상확률 : 12.500000000000009\n",
      "스팸확률 : 87.49999999999999\n"
     ]
    }
   ],
   "source": [
    "import math\n",
    "\n",
    "doc = \"free lottery\"\n",
    "tokens = doc.split()\n",
    "\n",
    "log_prob1 = log_prob0 = 0.0\n",
    "\n",
    "for word, (prob0, prob1) in wordprobs.items():\n",
    "    if word in tokens:\n",
    "        log_prob0 += math.log(prob0)\n",
    "        log_prob1 += math.log(prob1)\n",
    "\n",
    "log_prob0 += math.log(doccnt0/ (doccnt0 + doccnt1))\n",
    "log_prob1 += math.log(doccnt1/ (doccnt0 + doccnt1))\n",
    "\n",
    "prob0 = math.exp(log_prob0)\n",
    "prob1 = math.exp(log_prob1)\n",
    "\n",
    "print(prob0, prob1)\n",
    "\n",
    "print(\"정상확률 : {}\".format(prob0 / (prob0 + prob1)*100))\n",
    "print(\"스팸확률 : {}\".format(prob1 / (prob0 + prob1)*100))"
   ]
  },
  {
   "cell_type": "markdown",
   "metadata": {},
   "source": [
    "# 근데 사실.. 다 제공해줘"
   ]
  },
  {
   "cell_type": "code",
   "execution_count": 110,
   "metadata": {},
   "outputs": [],
   "source": [
    "from sklearn.datasets import fetch_20newsgroups\n",
    "\n"
   ]
  },
  {
   "cell_type": "code",
   "execution_count": 114,
   "metadata": {},
   "outputs": [],
   "source": [
    "twenty_train = fetch_20newsgroups(subset='train', shuffle=True)"
   ]
  },
  {
   "cell_type": "code",
   "execution_count": 116,
   "metadata": {},
   "outputs": [
    {
     "name": "stdout",
     "output_type": "stream",
     "text": [
      "['alt.atheism', 'comp.graphics', 'comp.os.ms-windows.misc', 'comp.sys.ibm.pc.hardware', 'comp.sys.mac.hardware', 'comp.windows.x', 'misc.forsale', 'rec.autos', 'rec.motorcycles', 'rec.sport.baseball', 'rec.sport.hockey', 'sci.crypt', 'sci.electronics', 'sci.med', 'sci.space', 'soc.religion.christian', 'talk.politics.guns', 'talk.politics.mideast', 'talk.politics.misc', 'talk.religion.misc']\n",
      "From: lerxst@wam.umd.edu (where's my thing)\n",
      "Subject: WHAT car is this!?\n",
      "Nntp-Posting-Host: rac3.wam.umd.edu\n",
      "Organization: University of Maryland, College Park\n",
      "Lines: 15\n",
      "\n",
      " I was wondering if anyone out there could enlighten me on this car I saw\n",
      "the other day. It was a 2-door sports car, looked to be from the late 60s/\n",
      "early 70s. It was called a Bricklin. The doors were really small. In addition,\n",
      "the front bumper was separate from the rest of the body. This is \n",
      "all I know. If anyone can tellme a model name, engine specs, years\n",
      "of production, where this car is made, history, or whatever info you\n",
      "have on this funky looking car, please e-mail.\n",
      "\n",
      "Thanks,\n",
      "- IL\n",
      "   ---- brought to you by your neighborhood Lerxst ----\n",
      "\n",
      "\n",
      "\n",
      "\n",
      "\n",
      "7\n"
     ]
    }
   ],
   "source": [
    "print(twenty_train.target_names)\n",
    "print(twenty_train.data[0])\n",
    "print(twenty_train.target[0])\n"
   ]
  },
  {
   "cell_type": "code",
   "execution_count": null,
   "metadata": {},
   "outputs": [],
   "source": [
    "from sklearn.naive_bayes import MultinomialNB\n",
    "from sklearn.feature_extraction.text import CountVectorizer\n",
    "from sklearn.feature_extraction.text import TfidfTransformer"
   ]
  },
  {
   "cell_type": "code",
   "execution_count": null,
   "metadata": {},
   "outputs": [],
   "source": []
  },
  {
   "cell_type": "code",
   "execution_count": null,
   "metadata": {},
   "outputs": [],
   "source": []
  }
 ],
 "metadata": {
  "kernelspec": {
   "display_name": "Python 3",
   "language": "python",
   "name": "python3"
  },
  "language_info": {
   "codemirror_mode": {
    "name": "ipython",
    "version": 3
   },
   "file_extension": ".py",
   "mimetype": "text/x-python",
   "name": "python",
   "nbconvert_exporter": "python",
   "pygments_lexer": "ipython3",
   "version": "3.6.10"
  }
 },
 "nbformat": 4,
 "nbformat_minor": 4
}
