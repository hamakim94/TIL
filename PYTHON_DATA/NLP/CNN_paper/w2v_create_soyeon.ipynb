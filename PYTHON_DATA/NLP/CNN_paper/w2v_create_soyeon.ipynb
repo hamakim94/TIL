{
 "cells": [
  {
   "cell_type": "code",
   "execution_count": 2,
   "metadata": {},
   "outputs": [],
   "source": [
    "import pandas as pd \n",
    "df_train = pd.read_pickle('token_train_data_ver2.pkl')\n",
    "df_test = pd.read_pickle('token_test_data_ver2.pkl')"
   ]
  },
  {
   "cell_type": "code",
   "execution_count": 3,
   "metadata": {},
   "outputs": [],
   "source": [
    "df = pd.concat([df_train, df_test], axis = 0, ignore_index=True)"
   ]
  },
  {
   "cell_type": "code",
   "execution_count": 4,
   "metadata": {},
   "outputs": [
    {
     "data": {
      "text/plain": [
       "195339"
      ]
     },
     "execution_count": 4,
     "metadata": {},
     "output_type": "execute_result"
    }
   ],
   "source": [
    "token = df['token']\n",
    "len(token)"
   ]
  },
  {
   "cell_type": "code",
   "execution_count": 5,
   "metadata": {},
   "outputs": [],
   "source": [
    "from gensim.models import Word2Vec\n",
    "model = Word2Vec(sentences =token , size = 200, window = 5, min_count = 5, workers = 4, sg = 0)"
   ]
  },
  {
   "cell_type": "code",
   "execution_count": 6,
   "metadata": {},
   "outputs": [
    {
     "data": {
      "text/plain": [
       "(16350, 200)"
      ]
     },
     "execution_count": 6,
     "metadata": {},
     "output_type": "execute_result"
    }
   ],
   "source": [
    "# 완성된 임베딩 매트릭스의 크기 확인\n",
    "model.wv.vectors.shape"
   ]
  },
  {
   "cell_type": "code",
   "execution_count": 7,
   "metadata": {},
   "outputs": [
    {
     "name": "stdout",
     "output_type": "stream",
     "text": [
      "[('한석규', 0.9022693634033203), ('이민호', 0.8778703808784485), ('이미숙', 0.8716947436332703), ('설경구', 0.8695714473724365), ('김명민', 0.8679181933403015), ('이정재', 0.863978385925293), ('정재영', 0.8619986176490784), ('메릴', 0.8613458871841431), ('이주승', 0.861168622970581), ('공리', 0.8594560027122498)]\n"
     ]
    }
   ],
   "source": [
    "print(model.wv.most_similar(\"최민식\"))"
   ]
  },
  {
   "cell_type": "code",
   "execution_count": 8,
   "metadata": {},
   "outputs": [
    {
     "name": "stderr",
     "output_type": "stream",
     "text": [
      "C:\\Users\\leeso\\anaconda\\envs\\crawl\\lib\\site-packages\\ipykernel_launcher.py:1: DeprecationWarning: Call to deprecated `__getitem__` (Method will be removed in 4.0.0, use self.wv.__getitem__() instead).\n",
      "  \"\"\"Entry point for launching an IPython kernel.\n"
     ]
    },
    {
     "data": {
      "text/plain": [
       "array([ 1.37894905e+00,  9.87708807e-01, -5.03856897e-01, -5.77842712e-01,\n",
       "        2.71781266e-01, -4.84355837e-01,  7.09133685e-01,  4.83562052e-01,\n",
       "       -2.12013578e+00, -1.53143942e+00, -2.21780896e+00, -4.36312646e-01,\n",
       "       -7.34049320e-01,  1.32041967e+00, -5.64270079e-01, -1.27724886e+00,\n",
       "       -6.67323589e-01,  1.25785872e-01,  8.86485755e-01,  5.52864611e-01,\n",
       "        1.83218852e-01,  3.81816566e-01, -1.45142281e+00,  1.32863295e+00,\n",
       "       -2.28901446e-01, -8.47232699e-01, -1.07557023e+00,  1.31017220e+00,\n",
       "       -1.11492407e+00,  4.67573434e-01, -1.73956227e+00,  5.30944943e-01,\n",
       "       -7.81446993e-01,  8.03073198e-02,  1.06718056e-02, -7.76855171e-01,\n",
       "       -5.18462360e-01,  1.82522148e-01, -3.42364371e-01,  8.30587745e-01,\n",
       "       -6.77727163e-01,  2.17546612e-01, -8.99270713e-01,  3.50216419e-01,\n",
       "        1.27970874e-01, -1.43166259e-02, -6.87184393e-01,  7.87147760e-01,\n",
       "        3.13703835e-01, -1.34181023e+00, -2.88948655e-01,  4.87908751e-01,\n",
       "       -4.40034330e-01, -1.24677551e+00,  1.91388345e+00,  6.20720275e-02,\n",
       "        2.17562735e-01,  1.57734001e+00, -9.75034893e-01, -9.16822493e-01,\n",
       "       -1.28605997e-03, -9.09354508e-01,  6.59039021e-02, -1.49107993e-01,\n",
       "        7.56315291e-01, -2.35793933e-01, -4.70089018e-02, -1.36861193e+00,\n",
       "       -1.82109869e+00, -2.76795030e-01, -1.14091682e+00,  5.86995006e-01,\n",
       "       -1.56029269e-01, -7.26923466e-01,  1.91490936e+00,  1.51382649e+00,\n",
       "        1.50504267e+00,  8.43366921e-01, -5.34677446e-01, -1.56727165e-01,\n",
       "       -1.01984635e-01,  2.61996478e-01,  6.94197237e-01, -1.58868562e-02,\n",
       "       -2.45960546e+00,  7.53313005e-01, -2.39308095e+00, -1.71987832e-01,\n",
       "       -7.16078401e-01, -2.36521065e-02,  1.96674049e-01,  2.53489375e-01,\n",
       "       -1.37074280e+00,  1.99862218e+00, -1.62576354e+00, -9.51833278e-02,\n",
       "       -2.33517003e+00, -1.19210348e-01, -5.35374522e-01,  5.34276724e-01,\n",
       "        3.40814203e-01, -9.24165905e-01,  4.04475778e-01,  1.42486405e+00,\n",
       "        6.24129474e-01,  1.50174610e-02, -5.80463648e-01, -1.29222524e+00,\n",
       "        4.28030491e-02,  7.02565312e-01,  8.17283809e-01,  8.40790153e-01,\n",
       "       -3.29402745e-01, -1.98169827e+00, -1.63232219e+00, -1.35585296e+00,\n",
       "        1.65320903e-01,  8.78293335e-01, -5.97452402e-01, -1.20649469e+00,\n",
       "        1.48789003e-01, -2.45120630e-01, -4.30667073e-01,  7.01792955e-01,\n",
       "       -6.28360271e-01, -1.01060845e-01,  9.60004985e-01,  1.21269250e+00,\n",
       "       -6.82425559e-01,  4.79231983e-01, -1.70215476e+00,  1.10598314e+00,\n",
       "        2.02842426e+00, -6.66181982e-01,  1.52281523e-01,  1.93755940e-01,\n",
       "        8.20553601e-01,  3.45031060e-02, -6.68196499e-01,  1.61060047e+00,\n",
       "        2.65534937e-01,  1.24002767e+00,  1.61996996e+00, -2.00592852e+00,\n",
       "        6.29359245e-01, -1.35131919e+00,  2.76473194e-01, -4.46986228e-01,\n",
       "       -2.53276855e-01,  1.53764343e+00,  6.05187058e-01,  6.05335459e-02,\n",
       "       -5.39341196e-02,  5.79544425e-01,  4.22562987e-01, -1.97442901e+00,\n",
       "        9.51142833e-02, -9.14012849e-01, -5.47553599e-01, -5.43647826e-01,\n",
       "        3.91458243e-01, -1.23735213e+00, -1.14660323e+00,  1.74715757e+00,\n",
       "        6.80540562e-01,  2.29177308e+00,  6.59082353e-01,  1.84193575e+00,\n",
       "       -1.89989954e-01, -9.19043645e-02,  1.62832558e+00,  8.45791772e-02,\n",
       "       -1.06711626e-01, -1.12618256e+00, -1.31909204e+00,  2.38393173e-01,\n",
       "       -5.44293463e-01,  2.38525525e-01, -2.90395641e+00, -5.06984890e-01,\n",
       "       -6.50369704e-01, -1.33505285e+00,  6.70029342e-01, -3.81612420e-01,\n",
       "       -2.00835848e+00,  1.00355136e+00, -6.54984117e-01,  1.10105038e+00,\n",
       "        1.05699301e-01,  6.22650683e-01,  4.73337799e-01, -2.59310812e-01,\n",
       "        4.99202013e-01,  7.38488376e-01, -1.88814163e+00,  7.97092259e-01,\n",
       "        1.51610231e+00,  2.06020311e-01, -1.39211369e+00, -2.56290108e-01],\n",
       "      dtype=float32)"
      ]
     },
     "execution_count": 8,
     "metadata": {},
     "output_type": "execute_result"
    }
   ],
   "source": [
    "model['평점']"
   ]
  },
  {
   "cell_type": "code",
   "execution_count": 9,
   "metadata": {},
   "outputs": [],
   "source": [
    "# 모델 저장 \n",
    "model.save('word2vec_movie.model')"
   ]
  },
  {
   "cell_type": "code",
   "execution_count": 10,
   "metadata": {},
   "outputs": [],
   "source": [
    "# 모델 불러오기\n",
    "from gensim.models import Word2Vec\n",
    "model = Word2Vec.load('word2vec_movie.model')"
   ]
  },
  {
   "cell_type": "code",
   "execution_count": null,
   "metadata": {},
   "outputs": [],
   "source": []
  }
 ],
 "metadata": {
  "kernelspec": {
   "display_name": "Python 3",
   "language": "python",
   "name": "python3"
  },
  "language_info": {
   "codemirror_mode": {
    "name": "ipython",
    "version": 3
   },
   "file_extension": ".py",
   "mimetype": "text/x-python",
   "name": "python",
   "nbconvert_exporter": "python",
   "pygments_lexer": "ipython3",
   "version": "3.6.10"
  },
  "toc": {
   "base_numbering": 1,
   "nav_menu": {},
   "number_sections": true,
   "sideBar": true,
   "skip_h1_title": false,
   "title_cell": "Table of Contents",
   "title_sidebar": "Contents",
   "toc_cell": false,
   "toc_position": {},
   "toc_section_display": true,
   "toc_window_display": false
  },
  "varInspector": {
   "cols": {
    "lenName": 16,
    "lenType": 16,
    "lenVar": 40
   },
   "kernels_config": {
    "python": {
     "delete_cmd_postfix": "",
     "delete_cmd_prefix": "del ",
     "library": "var_list.py",
     "varRefreshCmd": "print(var_dic_list())"
    },
    "r": {
     "delete_cmd_postfix": ") ",
     "delete_cmd_prefix": "rm(",
     "library": "var_list.r",
     "varRefreshCmd": "cat(var_dic_list()) "
    }
   },
   "types_to_exclude": [
    "module",
    "function",
    "builtin_function_or_method",
    "instance",
    "_Feature"
   ],
   "window_display": false
  }
 },
 "nbformat": 4,
 "nbformat_minor": 4
}
