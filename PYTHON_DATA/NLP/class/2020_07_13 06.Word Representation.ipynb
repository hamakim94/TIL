{
 "cells": [
  {
   "cell_type": "markdown",
   "metadata": {},
   "source": [
    "# 단어의 표현(Word Representation)"
   ]
  },
  {
   "cell_type": "markdown",
   "metadata": {},
   "source": [
    "기게는 문자를 그대로 인식할 수 없기 때문에 숫자로 반환"
   ]
  },
  {
   "cell_type": "markdown",
   "metadata": {},
   "source": [
    "## 1. One-Hot"
   ]
  },
  {
   "cell_type": "markdown",
   "metadata": {},
   "source": [
    "### 1.1, 직접 구현"
   ]
  },
  {
   "cell_type": "markdown",
   "metadata": {},
   "source": [
    "\"원숭이, 바나나, 사과\" 로 원-핫 인코딩을 한다면"
   ]
  },
  {
   "cell_type": "code",
   "execution_count": 3,
   "metadata": {},
   "outputs": [],
   "source": [
    "#인코딩 대상 단어들을 담은 리스트 \n",
    "word_ls = ['원숭이','바나나','사과','사과'] "
   ]
  },
  {
   "cell_type": "code",
   "execution_count": 4,
   "metadata": {},
   "outputs": [],
   "source": [
    "from collections import defaultdict\n",
    "import numpy as np"
   ]
  },
  {
   "cell_type": "code",
   "execution_count": 9,
   "metadata": {},
   "outputs": [],
   "source": [
    "def one_hot_encode(word_ls):\n",
    "    # 고유 단어와 인덱스를 매칭시켜주는 사전 생성 \n",
    "    word2id_dic = defaultdict(lambda:len(word2id_dic))\n",
    "    \n",
    "    # {단어 : 인덱스} 사전 구축 for\n",
    "    for word in word_ls:\n",
    "        word2id_dic[word] \n",
    "        \n",
    "    n_unique_words = len(word2id_dic) # 고유단어개수\n",
    "    one_hot_vectors = np.zeros((len(word_ls), n_unique_words))\n",
    "    \n",
    "    for i, word in enumerate(word_ls):\n",
    "        index = word2id_dic[word]# 해당 단어의 고유 인덱스 \n",
    "        one_hot_vectors[i, index] = 1\n",
    "    \n",
    "    return one_hot_vectors\n",
    "        \n",
    "    "
   ]
  },
  {
   "cell_type": "code",
   "execution_count": 10,
   "metadata": {},
   "outputs": [],
   "source": [
    "one_hot_vectors= one_hot_encode(word_ls) "
   ]
  },
  {
   "cell_type": "code",
   "execution_count": 11,
   "metadata": {},
   "outputs": [
    {
     "data": {
      "text/plain": [
       "array([[1., 0., 0.],\n",
       "       [0., 1., 0.],\n",
       "       [0., 0., 1.],\n",
       "       [0., 0., 1.]])"
      ]
     },
     "execution_count": 11,
     "metadata": {},
     "output_type": "execute_result"
    }
   ],
   "source": [
    "one_hot_vectors"
   ]
  },
  {
   "cell_type": "markdown",
   "metadata": {},
   "source": [
    "\"코끼리\"라는 단어가 추가된다면?"
   ]
  },
  {
   "cell_type": "code",
   "execution_count": 15,
   "metadata": {},
   "outputs": [],
   "source": [
    "word_ls = ['원숭이','바나나','사과','코끼리']"
   ]
  },
  {
   "cell_type": "code",
   "execution_count": 16,
   "metadata": {},
   "outputs": [
    {
     "data": {
      "text/plain": [
       "array([[1., 0., 0., 0.],\n",
       "       [0., 1., 0., 0.],\n",
       "       [0., 0., 1., 0.],\n",
       "       [0., 0., 0., 1.]])"
      ]
     },
     "execution_count": 16,
     "metadata": {},
     "output_type": "execute_result"
    }
   ],
   "source": [
    "one_hot_vectors = one_hot_encode(word_ls)\n",
    "one_hot_vectors"
   ]
  },
  {
   "cell_type": "markdown",
   "metadata": {},
   "source": [
    "## 1.3 sklearn 활용"
   ]
  },
  {
   "cell_type": "code",
   "execution_count": 17,
   "metadata": {},
   "outputs": [],
   "source": [
    "# sklearn을 활용한 one-hot encoding\n",
    "from numpy import array\n",
    "from numpy import argmax # 확률로, 가장 큰 놈을 뽑아내는것\n",
    "from sklearn.preprocessing import LabelEncoder\n",
    "from sklearn.preprocessing import OneHotEncoder"
   ]
  },
  {
   "cell_type": "code",
   "execution_count": 18,
   "metadata": {},
   "outputs": [
    {
     "name": "stdout",
     "output_type": "stream",
     "text": [
      "['원숭이' '바나나' '사과' '코끼리']\n"
     ]
    }
   ],
   "source": [
    "# 예제 데이터 배열\n",
    "values = array(word_ls)\n",
    "print(values)"
   ]
  },
  {
   "cell_type": "code",
   "execution_count": 19,
   "metadata": {},
   "outputs": [
    {
     "name": "stdout",
     "output_type": "stream",
     "text": [
      "[2 0 1 3]\n"
     ]
    }
   ],
   "source": [
    "# 문자열에 숫자를 붙임\n",
    "label_enc = LabelEncoder()\n",
    "int_enc = label_enc.fit_transform(values)\n",
    "print(int_enc)"
   ]
  },
  {
   "cell_type": "code",
   "execution_count": 20,
   "metadata": {},
   "outputs": [
    {
     "name": "stdout",
     "output_type": "stream",
     "text": [
      "[[2]\n",
      " [0]\n",
      " [1]\n",
      " [3]]\n",
      "[[0. 0. 1. 0.]\n",
      " [1. 0. 0. 0.]\n",
      " [0. 1. 0. 0.]\n",
      " [0. 0. 0. 1.]]\n"
     ]
    }
   ],
   "source": [
    "# binary encode\n",
    "onehot_enc = OneHotEncoder(sparse=False) # Sparse True로 하면 index까지 표현\n",
    "# onehot_enc = OneHotEncoder(sparse=True)\n",
    "int_enc = int_enc.reshape(len(int_enc), 1) # n:1 matrix로 변환\n",
    "print(int_enc)\n",
    "onehot_enc = onehot_enc.fit_transform(int_enc)\n",
    "print(onehot_enc)"
   ]
  },
  {
   "cell_type": "code",
   "execution_count": 21,
   "metadata": {},
   "outputs": [
    {
     "name": "stdout",
     "output_type": "stream",
     "text": [
      "['원숭이']\n"
     ]
    }
   ],
   "source": [
    "# one-hot encoding 의 첫번째 배열을 값을 역으로 산출\n",
    "inverted = label_enc.inverse_transform([argmax(onehot_enc[0, :])]) # 첫번째 행\n",
    "print(inverted)"
   ]
  },
  {
   "cell_type": "code",
   "execution_count": 22,
   "metadata": {},
   "outputs": [
    {
     "data": {
      "text/plain": [
       "array([0., 0., 1., 0.])"
      ]
     },
     "execution_count": 22,
     "metadata": {},
     "output_type": "execute_result"
    }
   ],
   "source": [
    "onehot_enc[0, :] # 0번째 행의 모든걸 가지고와~"
   ]
  },
  {
   "cell_type": "code",
   "execution_count": 23,
   "metadata": {},
   "outputs": [
    {
     "data": {
      "text/plain": [
       "2"
      ]
     },
     "execution_count": 23,
     "metadata": {},
     "output_type": "execute_result"
    }
   ],
   "source": [
    "argmax(onehot_enc[0, :]) # 가장 큰 index를 가져와줘"
   ]
  },
  {
   "cell_type": "markdown",
   "metadata": {},
   "source": [
    "## 2 밀집 벡터 (Dense Vector)"
   ]
  },
  {
   "cell_type": "code",
   "execution_count": 24,
   "metadata": {},
   "outputs": [],
   "source": [
    "word_embedding_dic = {\n",
    "'사과' : [1.0, 0.5],\n",
    "'바나나' : [0.9, 1.2],\n",
    "'원숭이' : [0.5, 1.5]\n",
    "}"
   ]
  },
  {
   "cell_type": "markdown",
   "metadata": {},
   "source": [
    "### 2-1 유사도 계산"
   ]
  },
  {
   "cell_type": "markdown",
   "metadata": {},
   "source": [
    "### 2.1.1 유클리디언 거리(Euclidean distance)"
   ]
  },
  {
   "cell_type": "markdown",
   "metadata": {},
   "source": [
    "두 벡터사이의 직선 거리. 피타고라스 정리를 생각하면 이해하기 쉬움"
   ]
  },
  {
   "cell_type": "code",
   "execution_count": 27,
   "metadata": {},
   "outputs": [],
   "source": [
    "import numpy as np\n",
    "def euclidean_dist(x,y): # np기반이기때문에 데이터를 다시 array로\n",
    "    x = np.array(x)\n",
    "    y = np.array(y)\n",
    "    return np.sqrt(np.sum(x-y)**2)"
   ]
  },
  {
   "cell_type": "code",
   "execution_count": 28,
   "metadata": {},
   "outputs": [
    {
     "data": {
      "text/plain": [
       "0.6"
      ]
     },
     "execution_count": 28,
     "metadata": {},
     "output_type": "execute_result"
    }
   ],
   "source": [
    "# 사과와 바나나의 유클리디안 유사도\n",
    "euclidean_dist(word_embedding_dic['사과'], word_embedding_dic['바나나'])"
   ]
  },
  {
   "cell_type": "markdown",
   "metadata": {},
   "source": [
    "### 2.1.2 코사인 유사도(Cosine Similarity)\n",
    "- 두 벡터간의 유사도를 측정하는 방법 중 하나\n",
    "- 두 벡터 사이의 코사인을 측정\n",
    "- 0도 = 1, 90도 = 0, 180도 = -1 ==> 1에 가까울수록 유사도가 높음"
   ]
  },
  {
   "cell_type": "code",
   "execution_count": 29,
   "metadata": {},
   "outputs": [],
   "source": [
    "def cosine_similarity(x, y):\n",
    "# x와 y, 두 벡터의 코사인 유사도를 계산하는 함수\n",
    "    nominator = np.dot(x, y) # 분자\n",
    "    denominator = np.linalg.norm(x)*np.linalg.norm(y) # 분모\n",
    "    return nominator/denominator"
   ]
  },
  {
   "cell_type": "code",
   "execution_count": 31,
   "metadata": {},
   "outputs": [
    {
     "data": {
      "text/plain": [
       "11"
      ]
     },
     "execution_count": 31,
     "metadata": {},
     "output_type": "execute_result"
    }
   ],
   "source": [
    "a =np.array([1, 2])\n",
    "b = np.array([3, 4])\n",
    "np.dot(a, b)"
   ]
  },
  {
   "cell_type": "markdown",
   "metadata": {},
   "source": [
    "numpy의 linalg 서브 패키지의 norm 명령으로 벡터의 길이를 계산할 수 있다. 위에서 예로 든 2차원 벡터 𝑎=[1,2] 의 길\n",
    "이는 √5≈2.236 이다."
   ]
  },
  {
   "cell_type": "code",
   "execution_count": 32,
   "metadata": {},
   "outputs": [
    {
     "data": {
      "text/plain": [
       "2.23606797749979"
      ]
     },
     "execution_count": 32,
     "metadata": {},
     "output_type": "execute_result"
    }
   ],
   "source": [
    "np.linalg.norm(a)"
   ]
  },
  {
   "cell_type": "code",
   "execution_count": 33,
   "metadata": {},
   "outputs": [
    {
     "name": "stdout",
     "output_type": "stream",
     "text": [
      "0.8944271909999159\n",
      "0.6\n"
     ]
    }
   ],
   "source": [
    "# 사과와 바나나의 코사인 유사도\n",
    "print(cosine_similarity(word_embedding_dic['사과'], word_embedding_dic['바나나']))\n",
    "print(euclidean_dist(word_embedding_dic['사과'], word_embedding_dic['바나나']))"
   ]
  },
  {
   "cell_type": "code",
   "execution_count": 34,
   "metadata": {},
   "outputs": [
    {
     "name": "stdout",
     "output_type": "stream",
     "text": [
      "0.7071067811865475\n",
      "0.5\n"
     ]
    }
   ],
   "source": [
    "# 사과와 원숭이의 코사인 유사도\n",
    "print(cosine_similarity(word_embedding_dic['사과'], word_embedding_dic['원숭이']))\n",
    "print(euclidean_dist(word_embedding_dic['사과'], word_embedding_dic['원숭이']))"
   ]
  },
  {
   "cell_type": "code",
   "execution_count": 36,
   "metadata": {},
   "outputs": [
    {
     "name": "stdout",
     "output_type": "stream",
     "text": [
      "0.9486832980505138\n",
      "0.09999999999999998\n"
     ]
    }
   ],
   "source": [
    "# 바나나와 원숭이의 코사인 유사도\n",
    "print(cosine_similarity(word_embedding_dic['바나나'], word_embedding_dic['원숭이']))\n",
    "print(euclidean_dist(word_embedding_dic['바나나'], word_embedding_dic['원숭이']))"
   ]
  },
  {
   "cell_type": "markdown",
   "metadata": {},
   "source": [
    "### 2.1.3 자카드 유사도(Jaccard index)"
   ]
  },
  {
   "cell_type": "code",
   "execution_count": 37,
   "metadata": {},
   "outputs": [],
   "source": [
    "s1 = '대부분 원숭이는 바나나를 좋아합니다.'\n",
    "s2 = '코주부 원숭이는 바나나를 싫어합니다.'"
   ]
  },
  {
   "cell_type": "code",
   "execution_count": 38,
   "metadata": {},
   "outputs": [
    {
     "name": "stdout",
     "output_type": "stream",
     "text": [
      "{'좋아합니다.', '대부분', '코주부', '바나나를', '싫어합니다.', '원숭이는'}\n",
      "{'원숭이는', '바나나를'}\n",
      "0.3333333333333333\n"
     ]
    }
   ],
   "source": [
    "# 토큰화를 수행합니다.\n",
    "token_s1 = s1.split()\n",
    "token_s2 = s2.split()\n",
    "\n",
    "union = set(token_s1).union(set(token_s2))\n",
    "print(union)\n",
    "\n",
    "intersection = set(token_s1).intersection(set(token_s2))\n",
    "print(intersection)\n",
    "      \n",
    "print(len(intersection)/len(union)) # 2를 6로 나눔."
   ]
  },
  {
   "cell_type": "code",
   "execution_count": 39,
   "metadata": {},
   "outputs": [],
   "source": [
    "## \n",
    "\n",
    "from collections import defaultdict\n",
    "d_dict = defaultdict(int)"
   ]
  },
  {
   "cell_type": "code",
   "execution_count": 40,
   "metadata": {},
   "outputs": [
    {
     "data": {
      "text/plain": [
       "defaultdict(int, {'a': 0})"
      ]
     },
     "execution_count": 40,
     "metadata": {},
     "output_type": "execute_result"
    }
   ],
   "source": [
    "d_dict['a'] \n",
    "d_dict "
   ]
  },
  {
   "cell_type": "code",
   "execution_count": 43,
   "metadata": {},
   "outputs": [],
   "source": [
    "word2iddict = defaultdict(lambda : len(word2iddict))\n",
    "# 호출될때마다 lambda 쓰겠다 이말이야!"
   ]
  },
  {
   "cell_type": "code",
   "execution_count": 44,
   "metadata": {},
   "outputs": [
    {
     "data": {
      "text/plain": [
       "0"
      ]
     },
     "execution_count": 44,
     "metadata": {},
     "output_type": "execute_result"
    }
   ],
   "source": [
    "word2iddict['a']"
   ]
  },
  {
   "cell_type": "code",
   "execution_count": 45,
   "metadata": {},
   "outputs": [
    {
     "data": {
      "text/plain": [
       "1"
      ]
     },
     "execution_count": 45,
     "metadata": {},
     "output_type": "execute_result"
    }
   ],
   "source": [
    "word2iddict['b']"
   ]
  },
  {
   "cell_type": "code",
   "execution_count": 46,
   "metadata": {},
   "outputs": [
    {
     "data": {
      "text/plain": [
       "defaultdict(<function __main__.<lambda>()>, {'a': 0, 'b': 1})"
      ]
     },
     "execution_count": 46,
     "metadata": {},
     "output_type": "execute_result"
    }
   ],
   "source": [
    "word2iddict"
   ]
  },
  {
   "cell_type": "code",
   "execution_count": null,
   "metadata": {},
   "outputs": [],
   "source": []
  }
 ],
 "metadata": {
  "kernelspec": {
   "display_name": "Python 3",
   "language": "python",
   "name": "python3"
  },
  "language_info": {
   "codemirror_mode": {
    "name": "ipython",
    "version": 3
   },
   "file_extension": ".py",
   "mimetype": "text/x-python",
   "name": "python",
   "nbconvert_exporter": "python",
   "pygments_lexer": "ipython3",
   "version": "3.6.10"
  }
 },
 "nbformat": 4,
 "nbformat_minor": 4
}
