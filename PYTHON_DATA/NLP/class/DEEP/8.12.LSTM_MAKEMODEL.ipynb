{
 "cells": [
  {
   "cell_type": "code",
   "execution_count": 5,
   "metadata": {
    "colab": {
     "base_uri": "https://localhost:8080/",
     "height": 314
    },
    "colab_type": "code",
    "executionInfo": {
     "elapsed": 888,
     "status": "error",
     "timestamp": 1597215093923,
     "user": {
      "displayName": "김민균",
      "photoUrl": "",
      "userId": "00979122829839263648"
     },
     "user_tz": -540
    },
    "id": "P28926wwbRX5",
    "outputId": "4d93de1f-0eb5-40fa-f081-15cb66e789e1"
   },
   "outputs": [
    {
     "ename": "ValueError",
     "evalue": "ignored",
     "output_type": "error",
     "traceback": [
      "\u001b[0;31m---------------------------------------------------------------------------\u001b[0m",
      "\u001b[0;31mValueError\u001b[0m                                Traceback (most recent call last)",
      "\u001b[0;32m<ipython-input-5-05bac4d8221a>\u001b[0m in \u001b[0;36m<module>\u001b[0;34m()\u001b[0m\n\u001b[1;32m      1\u001b[0m \u001b[0;32mfrom\u001b[0m \u001b[0mgoogle\u001b[0m\u001b[0;34m.\u001b[0m\u001b[0mcolab\u001b[0m \u001b[0;32mimport\u001b[0m \u001b[0mdrive\u001b[0m\u001b[0;34m\u001b[0m\u001b[0;34m\u001b[0m\u001b[0m\n\u001b[0;32m----> 2\u001b[0;31m \u001b[0mdrive\u001b[0m\u001b[0;34m.\u001b[0m\u001b[0mmount\u001b[0m\u001b[0;34m(\u001b[0m\u001b[0;34m'/content/drive/My_Drive/[멀캠] 기업데이터분석/홍경수 강사님/LSTM'\u001b[0m\u001b[0;34m)\u001b[0m\u001b[0;34m\u001b[0m\u001b[0;34m\u001b[0m\u001b[0m\n\u001b[0m",
      "\u001b[0;32m/usr/local/lib/python3.6/dist-packages/google/colab/drive.py\u001b[0m in \u001b[0;36mmount\u001b[0;34m(mountpoint, force_remount, timeout_ms, use_metadata_server)\u001b[0m\n\u001b[1;32m     96\u001b[0m \u001b[0;34m\u001b[0m\u001b[0m\n\u001b[1;32m     97\u001b[0m   \u001b[0;32mif\u001b[0m \u001b[0;34m' '\u001b[0m \u001b[0;32min\u001b[0m \u001b[0mmountpoint\u001b[0m\u001b[0;34m:\u001b[0m\u001b[0;34m\u001b[0m\u001b[0;34m\u001b[0m\u001b[0m\n\u001b[0;32m---> 98\u001b[0;31m     \u001b[0;32mraise\u001b[0m \u001b[0mValueError\u001b[0m\u001b[0;34m(\u001b[0m\u001b[0;34m'Mountpoint must not contain a space.'\u001b[0m\u001b[0;34m)\u001b[0m\u001b[0;34m\u001b[0m\u001b[0;34m\u001b[0m\u001b[0m\n\u001b[0m\u001b[1;32m     99\u001b[0m \u001b[0;34m\u001b[0m\u001b[0m\n\u001b[1;32m    100\u001b[0m   \u001b[0mmountpoint\u001b[0m \u001b[0;34m=\u001b[0m \u001b[0m_os\u001b[0m\u001b[0;34m.\u001b[0m\u001b[0mpath\u001b[0m\u001b[0;34m.\u001b[0m\u001b[0mexpanduser\u001b[0m\u001b[0;34m(\u001b[0m\u001b[0mmountpoint\u001b[0m\u001b[0;34m)\u001b[0m\u001b[0;34m\u001b[0m\u001b[0;34m\u001b[0m\u001b[0m\n",
      "\u001b[0;31mValueError\u001b[0m: Mountpoint must not contain a space."
     ]
    }
   ],
   "source": [
    "from google.colab import drive\n",
    "drive.mount('/content/drive/)"
   ]
  },
  {
   "cell_type": "code",
   "execution_count": 2,
   "metadata": {
    "colab": {
     "base_uri": "https://localhost:8080/",
     "height": 1000
    },
    "colab_type": "code",
    "executionInfo": {
     "elapsed": 83869,
     "status": "ok",
     "timestamp": 1597215029870,
     "user": {
      "displayName": "김민균",
      "photoUrl": "",
      "userId": "00979122829839263648"
     },
     "user_tz": -540
    },
    "id": "viF0XrHl6gBU",
    "outputId": "f231a513-f90a-402e-a4f7-96425e2fd545"
   },
   "outputs": [
    {
     "name": "stdout",
     "output_type": "stream",
     "text": [
      "\r",
      "0% [Working]\r",
      "            \r",
      "Get:1 http://security.ubuntu.com/ubuntu bionic-security InRelease [88.7 kB]\n",
      "\r",
      "0% [Connecting to archive.ubuntu.com] [1 InRelease 14.2 kB/88.7 kB 16%] [Connec\r",
      "                                                                               \r",
      "Hit:2 http://ppa.launchpad.net/graphics-drivers/ppa/ubuntu bionic InRelease\n",
      "\r",
      "0% [Connecting to archive.ubuntu.com] [1 InRelease 88.7 kB/88.7 kB 100%] [Conne\r",
      "                                                                               \r",
      "Hit:3 http://archive.ubuntu.com/ubuntu bionic InRelease\n",
      "\r",
      "                                                                               \r",
      "Get:4 http://ppa.launchpad.net/marutter/c2d4u3.5/ubuntu bionic InRelease [15.4 kB]\n",
      "\r",
      "0% [Waiting for headers] [Connecting to cloud.r-project.org] [Connected to deve\r",
      "0% [2 InRelease gpgv 21.3 kB] [Waiting for headers] [Connecting to cloud.r-proj\r",
      "                                                                               \r",
      "Get:5 http://archive.ubuntu.com/ubuntu bionic-updates InRelease [88.7 kB]\n",
      "\r",
      "0% [2 InRelease gpgv 21.3 kB] [5 InRelease 14.2 kB/88.7 kB 16%] [Connecting to \r",
      "0% [2 InRelease gpgv 21.3 kB] [Waiting for headers] [Connecting to cloud.r-proj\r",
      "                                                                               \r",
      "Get:6 http://archive.ubuntu.com/ubuntu bionic-backports InRelease [74.6 kB]\n",
      "\r",
      "0% [2 InRelease gpgv 21.3 kB] [6 InRelease 17.1 kB/74.6 kB 23%] [Connecting to \r",
      "0% [2 InRelease gpgv 21.3 kB] [Connecting to cloud.r-project.org] [Waiting for \r",
      "                                                                               \r",
      "Ign:7 https://developer.download.nvidia.com/compute/cuda/repos/ubuntu1804/x86_64  InRelease\n",
      "\r",
      "0% [2 InRelease gpgv 21.3 kB] [Connecting to cloud.r-project.org] [Waiting for \r",
      "                                                                               \r",
      "0% [Connecting to cloud.r-project.org] [Waiting for headers]\r",
      "0% [3 InRelease gpgv 242 kB] [Connecting to cloud.r-project.org] [Waiting for h\r",
      "                                                                               \r",
      "Ign:8 https://developer.download.nvidia.com/compute/machine-learning/repos/ubuntu1804/x86_64  InRelease\n",
      "\r",
      "                                                                               \r",
      "0% [3 InRelease gpgv 242 kB] [Connecting to cloud.r-project.org]\r",
      "                                                                \r",
      "Get:9 https://developer.download.nvidia.com/compute/cuda/repos/ubuntu1804/x86_64  Release [697 B]\n",
      "\r",
      "0% [3 InRelease gpgv 242 kB] [Connecting to cloud.r-project.org]\r",
      "                                                                \r",
      "Hit:10 https://developer.download.nvidia.com/compute/machine-learning/repos/ubuntu1804/x86_64  Release\n",
      "\r",
      "0% [3 InRelease gpgv 242 kB] [Connecting to cloud.r-project.org]\r",
      "                                                                \r",
      "Get:11 https://developer.download.nvidia.com/compute/cuda/repos/ubuntu1804/x86_64  Release.gpg [836 B]\n",
      "\r",
      "0% [3 InRelease gpgv 242 kB] [Connecting to cloud.r-project.org] [11 Release.gp\r",
      "                                                                               \r",
      "0% [3 InRelease gpgv 242 kB] [Connecting to cloud.r-project.org]\r",
      "                                                                \r",
      "0% [Connecting to cloud.r-project.org]\r",
      "0% [1 InRelease gpgv 88.7 kB] [Connecting to cloud.r-project.org]\r",
      "                                                                 \r",
      "0% [Connecting to cloud.r-project.org]\r",
      "0% [4 InRelease gpgv 15.4 kB] [Waiting for headers] [Connecting to cloud.r-proj\r",
      "                                                                               \r",
      "Get:12 http://security.ubuntu.com/ubuntu bionic-security/main amd64 Packages [1,037 kB]\n",
      "\r",
      "0% [4 InRelease gpgv 15.4 kB] [12 Packages 20.1 kB/1,037 kB 2%] [Connecting to \r",
      "                                                                               \r",
      "0% [4 InRelease gpgv 15.4 kB] [Connecting to cloud.r-project.org]\r",
      "0% [12 Packages store 0 B] [4 InRelease gpgv 15.4 kB] [Waiting for headers] [Co\r",
      "                                                                               \r",
      "Get:13 http://security.ubuntu.com/ubuntu bionic-security/universe amd64 Packages [882 kB]\n",
      "Get:14 http://security.ubuntu.com/ubuntu bionic-security/multiverse amd64 Packages [9,558 B]\n",
      "Get:15 http://ppa.launchpad.net/marutter/c2d4u3.5/ubuntu bionic/main Sources [1,856 kB]\n",
      "Get:16 http://ppa.launchpad.net/marutter/c2d4u3.5/ubuntu bionic/main amd64 Packages [896 kB]\n",
      "Get:17 http://archive.ubuntu.com/ubuntu bionic-updates/multiverse amd64 Packages [27.1 kB]\n",
      "Get:18 http://archive.ubuntu.com/ubuntu bionic-updates/universe amd64 Packages [1,413 kB]\n",
      "Get:19 http://archive.ubuntu.com/ubuntu bionic-updates/restricted amd64 Packages [116 kB]\n",
      "Get:20 http://archive.ubuntu.com/ubuntu bionic-updates/main amd64 Packages [1,334 kB]\n",
      "Ign:22 https://developer.download.nvidia.com/compute/cuda/repos/ubuntu1804/x86_64  Packages\n",
      "Get:22 https://developer.download.nvidia.com/compute/cuda/repos/ubuntu1804/x86_64  Packages [255 kB]\n",
      "Get:23 https://cloud.r-project.org/bin/linux/ubuntu bionic-cran35/ InRelease [3,626 B]\n",
      "Fetched 8,098 kB in 3s (3,230 kB/s)\n",
      "Reading package lists... Done\n",
      "Reading package lists... Done\n",
      "Building dependency tree       \n",
      "Reading state information... Done\n",
      "python-dev is already the newest version (2.7.15~rc1-1).\n",
      "g++ is already the newest version (4:7.4.0-1ubuntu2.3).\n",
      "g++ set to manually installed.\n",
      "python3-dev is already the newest version (3.6.7-1~18.04).\n",
      "The following package was automatically installed and is no longer required:\n",
      "  libnvidia-common-440\n",
      "Use 'apt autoremove' to remove it.\n",
      "The following additional packages will be installed:\n",
      "  fonts-dejavu-core fonts-dejavu-extra libatk-wrapper-java\n",
      "  libatk-wrapper-java-jni libxxf86dga1 openjdk-8-jdk-headless openjdk-8-jre\n",
      "  openjdk-8-jre-headless x11-utils\n",
      "Suggested packages:\n",
      "  openjdk-8-demo openjdk-8-source visualvm icedtea-8-plugin libnss-mdns\n",
      "  fonts-ipafont-gothic fonts-ipafont-mincho fonts-wqy-microhei\n",
      "  fonts-wqy-zenhei fonts-indic mesa-utils\n",
      "The following NEW packages will be installed:\n",
      "  fonts-dejavu-core fonts-dejavu-extra libatk-wrapper-java\n",
      "  libatk-wrapper-java-jni libxxf86dga1 openjdk-8-jdk openjdk-8-jdk-headless\n",
      "  openjdk-8-jre openjdk-8-jre-headless x11-utils\n",
      "0 upgraded, 10 newly installed, 0 to remove and 51 not upgraded.\n",
      "Need to get 40.7 MB of archives.\n",
      "After this operation, 153 MB of additional disk space will be used.\n",
      "Get:1 http://archive.ubuntu.com/ubuntu bionic/main amd64 libxxf86dga1 amd64 2:1.1.4-1 [13.7 kB]\n",
      "Get:2 http://archive.ubuntu.com/ubuntu bionic/main amd64 fonts-dejavu-core all 2.37-1 [1,041 kB]\n",
      "Get:3 http://archive.ubuntu.com/ubuntu bionic/main amd64 fonts-dejavu-extra all 2.37-1 [1,953 kB]\n",
      "Get:4 http://archive.ubuntu.com/ubuntu bionic/main amd64 x11-utils amd64 7.7+3build1 [196 kB]\n",
      "Get:5 http://archive.ubuntu.com/ubuntu bionic/main amd64 libatk-wrapper-java all 0.33.3-20ubuntu0.1 [34.7 kB]\n",
      "Get:6 http://archive.ubuntu.com/ubuntu bionic/main amd64 libatk-wrapper-java-jni amd64 0.33.3-20ubuntu0.1 [28.3 kB]\n",
      "Get:7 http://archive.ubuntu.com/ubuntu bionic-updates/universe amd64 openjdk-8-jre-headless amd64 8u265-b01-0ubuntu2~18.04 [27.5 MB]\n",
      "Get:8 http://archive.ubuntu.com/ubuntu bionic-updates/universe amd64 openjdk-8-jre amd64 8u265-b01-0ubuntu2~18.04 [69.6 kB]\n",
      "Get:9 http://archive.ubuntu.com/ubuntu bionic-updates/universe amd64 openjdk-8-jdk-headless amd64 8u265-b01-0ubuntu2~18.04 [8,262 kB]\n",
      "Get:10 http://archive.ubuntu.com/ubuntu bionic-updates/universe amd64 openjdk-8-jdk amd64 8u265-b01-0ubuntu2~18.04 [1,610 kB]\n",
      "Fetched 40.7 MB in 1s (65.3 MB/s)\n",
      "Selecting previously unselected package libxxf86dga1:amd64.\n",
      "(Reading database ... 144487 files and directories currently installed.)\n",
      "Preparing to unpack .../0-libxxf86dga1_2%3a1.1.4-1_amd64.deb ...\n",
      "Unpacking libxxf86dga1:amd64 (2:1.1.4-1) ...\n",
      "Selecting previously unselected package fonts-dejavu-core.\n",
      "Preparing to unpack .../1-fonts-dejavu-core_2.37-1_all.deb ...\n",
      "Unpacking fonts-dejavu-core (2.37-1) ...\n",
      "Selecting previously unselected package fonts-dejavu-extra.\n",
      "Preparing to unpack .../2-fonts-dejavu-extra_2.37-1_all.deb ...\n",
      "Unpacking fonts-dejavu-extra (2.37-1) ...\n",
      "Selecting previously unselected package x11-utils.\n",
      "Preparing to unpack .../3-x11-utils_7.7+3build1_amd64.deb ...\n",
      "Unpacking x11-utils (7.7+3build1) ...\n",
      "Selecting previously unselected package libatk-wrapper-java.\n",
      "Preparing to unpack .../4-libatk-wrapper-java_0.33.3-20ubuntu0.1_all.deb ...\n",
      "Unpacking libatk-wrapper-java (0.33.3-20ubuntu0.1) ...\n",
      "Selecting previously unselected package libatk-wrapper-java-jni:amd64.\n",
      "Preparing to unpack .../5-libatk-wrapper-java-jni_0.33.3-20ubuntu0.1_amd64.deb ...\n",
      "Unpacking libatk-wrapper-java-jni:amd64 (0.33.3-20ubuntu0.1) ...\n",
      "Selecting previously unselected package openjdk-8-jre-headless:amd64.\n",
      "Preparing to unpack .../6-openjdk-8-jre-headless_8u265-b01-0ubuntu2~18.04_amd64.deb ...\n",
      "Unpacking openjdk-8-jre-headless:amd64 (8u265-b01-0ubuntu2~18.04) ...\n",
      "Selecting previously unselected package openjdk-8-jre:amd64.\n",
      "Preparing to unpack .../7-openjdk-8-jre_8u265-b01-0ubuntu2~18.04_amd64.deb ...\n",
      "Unpacking openjdk-8-jre:amd64 (8u265-b01-0ubuntu2~18.04) ...\n",
      "Selecting previously unselected package openjdk-8-jdk-headless:amd64.\n",
      "Preparing to unpack .../8-openjdk-8-jdk-headless_8u265-b01-0ubuntu2~18.04_amd64.deb ...\n",
      "Unpacking openjdk-8-jdk-headless:amd64 (8u265-b01-0ubuntu2~18.04) ...\n",
      "Selecting previously unselected package openjdk-8-jdk:amd64.\n",
      "Preparing to unpack .../9-openjdk-8-jdk_8u265-b01-0ubuntu2~18.04_amd64.deb ...\n",
      "Unpacking openjdk-8-jdk:amd64 (8u265-b01-0ubuntu2~18.04) ...\n",
      "Setting up fonts-dejavu-core (2.37-1) ...\n",
      "Setting up libxxf86dga1:amd64 (2:1.1.4-1) ...\n",
      "Setting up fonts-dejavu-extra (2.37-1) ...\n",
      "Setting up openjdk-8-jre-headless:amd64 (8u265-b01-0ubuntu2~18.04) ...\n",
      "update-alternatives: using /usr/lib/jvm/java-8-openjdk-amd64/jre/bin/orbd to provide /usr/bin/orbd (orbd) in auto mode\n",
      "update-alternatives: using /usr/lib/jvm/java-8-openjdk-amd64/jre/bin/servertool to provide /usr/bin/servertool (servertool) in auto mode\n",
      "update-alternatives: using /usr/lib/jvm/java-8-openjdk-amd64/jre/bin/tnameserv to provide /usr/bin/tnameserv (tnameserv) in auto mode\n",
      "Setting up openjdk-8-jdk-headless:amd64 (8u265-b01-0ubuntu2~18.04) ...\n",
      "update-alternatives: using /usr/lib/jvm/java-8-openjdk-amd64/bin/idlj to provide /usr/bin/idlj (idlj) in auto mode\n",
      "update-alternatives: using /usr/lib/jvm/java-8-openjdk-amd64/bin/wsimport to provide /usr/bin/wsimport (wsimport) in auto mode\n",
      "update-alternatives: using /usr/lib/jvm/java-8-openjdk-amd64/bin/jsadebugd to provide /usr/bin/jsadebugd (jsadebugd) in auto mode\n",
      "update-alternatives: using /usr/lib/jvm/java-8-openjdk-amd64/bin/native2ascii to provide /usr/bin/native2ascii (native2ascii) in auto mode\n",
      "update-alternatives: using /usr/lib/jvm/java-8-openjdk-amd64/bin/javah to provide /usr/bin/javah (javah) in auto mode\n",
      "update-alternatives: using /usr/lib/jvm/java-8-openjdk-amd64/bin/clhsdb to provide /usr/bin/clhsdb (clhsdb) in auto mode\n",
      "update-alternatives: using /usr/lib/jvm/java-8-openjdk-amd64/bin/jhat to provide /usr/bin/jhat (jhat) in auto mode\n",
      "update-alternatives: using /usr/lib/jvm/java-8-openjdk-amd64/bin/extcheck to provide /usr/bin/extcheck (extcheck) in auto mode\n",
      "update-alternatives: using /usr/lib/jvm/java-8-openjdk-amd64/bin/hsdb to provide /usr/bin/hsdb (hsdb) in auto mode\n",
      "update-alternatives: using /usr/lib/jvm/java-8-openjdk-amd64/bin/schemagen to provide /usr/bin/schemagen (schemagen) in auto mode\n",
      "update-alternatives: using /usr/lib/jvm/java-8-openjdk-amd64/bin/xjc to provide /usr/bin/xjc (xjc) in auto mode\n",
      "update-alternatives: using /usr/lib/jvm/java-8-openjdk-amd64/bin/wsgen to provide /usr/bin/wsgen (wsgen) in auto mode\n",
      "Setting up x11-utils (7.7+3build1) ...\n",
      "Setting up libatk-wrapper-java (0.33.3-20ubuntu0.1) ...\n",
      "Setting up libatk-wrapper-java-jni:amd64 (0.33.3-20ubuntu0.1) ...\n",
      "Setting up openjdk-8-jre:amd64 (8u265-b01-0ubuntu2~18.04) ...\n",
      "update-alternatives: using /usr/lib/jvm/java-8-openjdk-amd64/jre/bin/policytool to provide /usr/bin/policytool (policytool) in auto mode\n",
      "Setting up openjdk-8-jdk:amd64 (8u265-b01-0ubuntu2~18.04) ...\n",
      "update-alternatives: using /usr/lib/jvm/java-8-openjdk-amd64/bin/appletviewer to provide /usr/bin/appletviewer (appletviewer) in auto mode\n",
      "update-alternatives: using /usr/lib/jvm/java-8-openjdk-amd64/bin/jconsole to provide /usr/bin/jconsole (jconsole) in auto mode\n",
      "Processing triggers for man-db (2.8.3-2ubuntu0.1) ...\n",
      "Processing triggers for hicolor-icon-theme (0.17-2) ...\n",
      "Processing triggers for fontconfig (2.12.6-0ubuntu2) ...\n",
      "Processing triggers for mime-support (3.60ubuntu1) ...\n",
      "Processing triggers for libc-bin (2.27-3ubuntu1) ...\n",
      "/sbin/ldconfig.real: /usr/local/lib/python3.6/dist-packages/ideep4py/lib/libmkldnn.so.0 is not a symbolic link\n",
      "\n",
      "Collecting JPype1-py3\n",
      "\u001b[?25l  Downloading https://files.pythonhosted.org/packages/9b/81/63f5e4202c598f362ee4684b41890f993d6e58309c5d90703f570ab85f62/JPype1-py3-0.5.5.4.tar.gz (88kB)\n",
      "\u001b[K     |████████████████████████████████| 92kB 4.8MB/s \n",
      "\u001b[?25hBuilding wheels for collected packages: JPype1-py3\n",
      "  Building wheel for JPype1-py3 (setup.py) ... \u001b[?25l\u001b[?25hdone\n",
      "  Created wheel for JPype1-py3: filename=JPype1_py3-0.5.5.4-cp36-cp36m-linux_x86_64.whl size=2678150 sha256=a8d4c42b079c4f8c3a9a0c2a83d1405e90c6b04e44c5c13dfa6a203cae57d9fd\n",
      "  Stored in directory: /root/.cache/pip/wheels/52/37/1f/1015d908d12a0e9b239543d031fda0cded9823aa1306939541\n",
      "Successfully built JPype1-py3\n",
      "Installing collected packages: JPype1-py3\n",
      "Successfully installed JPype1-py3-0.5.5.4\n",
      "Collecting konlpy\n",
      "\u001b[?25l  Downloading https://files.pythonhosted.org/packages/85/0e/f385566fec837c0b83f216b2da65db9997b35dd675e107752005b7d392b1/konlpy-0.5.2-py2.py3-none-any.whl (19.4MB)\n",
      "\u001b[K     |████████████████████████████████| 19.4MB 36.7MB/s \n",
      "\u001b[?25hCollecting JPype1>=0.7.0\n",
      "\u001b[?25l  Downloading https://files.pythonhosted.org/packages/8b/f7/a368401e630f0e390dd0e62c39fb928e5b23741b53c2360ee7d376660927/JPype1-1.0.2-cp36-cp36m-manylinux2010_x86_64.whl (3.8MB)\n",
      "\u001b[K     |████████████████████████████████| 3.8MB 41.5MB/s \n",
      "\u001b[?25hCollecting colorama\n",
      "  Downloading https://files.pythonhosted.org/packages/c9/dc/45cdef1b4d119eb96316b3117e6d5708a08029992b2fee2c143c7a0a5cc5/colorama-0.4.3-py2.py3-none-any.whl\n",
      "Requirement already satisfied: lxml>=4.1.0 in /usr/local/lib/python3.6/dist-packages (from konlpy) (4.2.6)\n",
      "Requirement already satisfied: numpy>=1.6 in /usr/local/lib/python3.6/dist-packages (from konlpy) (1.18.5)\n",
      "Collecting tweepy>=3.7.0\n",
      "  Downloading https://files.pythonhosted.org/packages/bb/7c/99d51f80f3b77b107ebae2634108717362c059a41384a1810d13e2429a81/tweepy-3.9.0-py2.py3-none-any.whl\n",
      "Collecting beautifulsoup4==4.6.0\n",
      "\u001b[?25l  Downloading https://files.pythonhosted.org/packages/9e/d4/10f46e5cfac773e22707237bfcd51bbffeaf0a576b0a847ec7ab15bd7ace/beautifulsoup4-4.6.0-py3-none-any.whl (86kB)\n",
      "\u001b[K     |████████████████████████████████| 92kB 10.6MB/s \n",
      "\u001b[?25hRequirement already satisfied: typing-extensions; python_version < \"3.8\" in /usr/local/lib/python3.6/dist-packages (from JPype1>=0.7.0->konlpy) (3.7.4.2)\n",
      "Requirement already satisfied: six>=1.10.0 in /usr/local/lib/python3.6/dist-packages (from tweepy>=3.7.0->konlpy) (1.15.0)\n",
      "Requirement already satisfied: requests-oauthlib>=0.7.0 in /usr/local/lib/python3.6/dist-packages (from tweepy>=3.7.0->konlpy) (1.3.0)\n",
      "Requirement already satisfied: requests[socks]>=2.11.1 in /usr/local/lib/python3.6/dist-packages (from tweepy>=3.7.0->konlpy) (2.23.0)\n",
      "Requirement already satisfied: oauthlib>=3.0.0 in /usr/local/lib/python3.6/dist-packages (from requests-oauthlib>=0.7.0->tweepy>=3.7.0->konlpy) (3.1.0)\n",
      "Requirement already satisfied: certifi>=2017.4.17 in /usr/local/lib/python3.6/dist-packages (from requests[socks]>=2.11.1->tweepy>=3.7.0->konlpy) (2020.6.20)\n",
      "Requirement already satisfied: chardet<4,>=3.0.2 in /usr/local/lib/python3.6/dist-packages (from requests[socks]>=2.11.1->tweepy>=3.7.0->konlpy) (3.0.4)\n",
      "Requirement already satisfied: urllib3!=1.25.0,!=1.25.1,<1.26,>=1.21.1 in /usr/local/lib/python3.6/dist-packages (from requests[socks]>=2.11.1->tweepy>=3.7.0->konlpy) (1.24.3)\n",
      "Requirement already satisfied: idna<3,>=2.5 in /usr/local/lib/python3.6/dist-packages (from requests[socks]>=2.11.1->tweepy>=3.7.0->konlpy) (2.10)\n",
      "Requirement already satisfied: PySocks!=1.5.7,>=1.5.6; extra == \"socks\" in /usr/local/lib/python3.6/dist-packages (from requests[socks]>=2.11.1->tweepy>=3.7.0->konlpy) (1.7.1)\n",
      "Installing collected packages: JPype1, colorama, tweepy, beautifulsoup4, konlpy\n",
      "  Found existing installation: tweepy 3.6.0\n",
      "    Uninstalling tweepy-3.6.0:\n",
      "      Successfully uninstalled tweepy-3.6.0\n",
      "  Found existing installation: beautifulsoup4 4.6.3\n",
      "    Uninstalling beautifulsoup4-4.6.3:\n",
      "      Successfully uninstalled beautifulsoup4-4.6.3\n",
      "Successfully installed JPype1-1.0.2 beautifulsoup4-4.6.0 colorama-0.4.3 konlpy-0.5.2 tweepy-3.9.0\n"
     ]
    }
   ],
   "source": [
    "!apt-get update\n",
    "\n",
    "!apt-get install g++ openjdk-8-jdk python-dev python3-dev\n",
    "\n",
    "!pip3 install JPype1-py3\n",
    "\n",
    "!pip3 install konlpy\n",
    "\n",
    "!JAVA_HOME=\"/usr/lib/jvm/java-8-openjdk-amd64\""
   ]
  },
  {
   "cell_type": "code",
   "execution_count": 13,
   "metadata": {
    "colab": {},
    "colab_type": "code",
    "executionInfo": {
     "elapsed": 901,
     "status": "ok",
     "timestamp": 1597215352686,
     "user": {
      "displayName": "김민균",
      "photoUrl": "",
      "userId": "00979122829839263648"
     },
     "user_tz": -540
    },
    "id": "DisPcbir7pW8"
   },
   "outputs": [],
   "source": [
    "import functions as fc\n",
    "import pandas as pd\n",
    "import tensorflow as tf\n",
    "from tensorflow import keras"
   ]
  },
  {
   "cell_type": "code",
   "execution_count": 8,
   "metadata": {
    "colab": {},
    "colab_type": "code",
    "executionInfo": {
     "elapsed": 5025,
     "status": "ok",
     "timestamp": 1597215305727,
     "user": {
      "displayName": "김민균",
      "photoUrl": "",
      "userId": "00979122829839263648"
     },
     "user_tz": -540
    },
    "id": "-AfnyBoP9pZR"
   },
   "outputs": [],
   "source": [
    "training_padded, training_labels, testing_padded, testing_labels = fc.tokenize_and_pad_model3('.')"
   ]
  },
  {
   "cell_type": "code",
   "execution_count": null,
   "metadata": {
    "colab": {},
    "colab_type": "code",
    "executionInfo": {
     "elapsed": 2742,
     "status": "aborted",
     "timestamp": 1597215255488,
     "user": {
      "displayName": "김민균",
      "photoUrl": "",
      "userId": "00979122829839263648"
     },
     "user_tz": -540
    },
    "id": "W4KzWCxU-DT5"
   },
   "outputs": [],
   "source": [
    "training_padded.shape"
   ]
  },
  {
   "cell_type": "code",
   "execution_count": 14,
   "metadata": {
    "colab": {},
    "colab_type": "code",
    "executionInfo": {
     "elapsed": 2159,
     "status": "ok",
     "timestamp": 1597215355410,
     "user": {
      "displayName": "김민균",
      "photoUrl": "",
      "userId": "00979122829839263648"
     },
     "user_tz": -540
    },
    "id": "kVdldeF6_3GS"
   },
   "outputs": [],
   "source": [
    "# model = tf.keras.Sequential([\n",
    "#   tf.keras.layers.Embedding(145791, 64),\n",
    "#   tf.keras.layers.Bidirectional(tf.keras.layers.LSTM(32)),\n",
    "#   tf.keras.layers.Dense(10, activation='relu'),\n",
    "#   tf.keras.layers.Dense(1, activation='sigmoid')\n",
    "# ])\n",
    "# print(model.summary())\n",
    "\n",
    "model3 = tf.keras.Sequential([\n",
    "    tf.keras.layers.Embedding(training_padded.shape[0], 64),\n",
    "    tf.keras.layers.Bidirectional(tf.keras.layers.LSTM(64, return_sequences=True)),\n",
    "    tf.keras.layers.Bidirectional(tf.keras.layers.LSTM(64)),\n",
    "    tf.keras.layers.Dense(64, activation='relu'),\n",
    "    tf.keras.layers.Dense(1, activation='sigmoid')\n",
    "])\n"
   ]
  },
  {
   "cell_type": "code",
   "execution_count": 9,
   "metadata": {
    "colab": {},
    "colab_type": "code",
    "executionInfo": {
     "elapsed": 859,
     "status": "ok",
     "timestamp": 1597215323750,
     "user": {
      "displayName": "김민균",
      "photoUrl": "",
      "userId": "00979122829839263648"
     },
     "user_tz": -540
    },
    "id": "W_nKn7t9L-KP"
   },
   "outputs": [],
   "source": []
  },
  {
   "cell_type": "code",
   "execution_count": 15,
   "metadata": {
    "colab": {
     "base_uri": "https://localhost:8080/",
     "height": 288
    },
    "colab_type": "code",
    "executionInfo": {
     "elapsed": 1155334,
     "status": "ok",
     "timestamp": 1597216512667,
     "user": {
      "displayName": "김민균",
      "photoUrl": "",
      "userId": "00979122829839263648"
     },
     "user_tz": -540
    },
    "id": "cqvXA5F8AynW",
    "outputId": "1e8b135f-9aea-453d-f8f5-78b67ccd006b"
   },
   "outputs": [
    {
     "name": "stdout",
     "output_type": "stream",
     "text": [
      "Epoch 1/10\n",
      "2916/2916 [==============================] - ETA: 0s - loss: 0.4073 - accuracy: 0.8107WARNING:tensorflow:From /usr/local/lib/python3.6/dist-packages/tensorflow/python/training/tracking/tracking.py:111: Model.state_updates (from tensorflow.python.keras.engine.training) is deprecated and will be removed in a future version.\n",
      "Instructions for updating:\n",
      "This property should not be used in TensorFlow 2.0, as updates are applied automatically.\n",
      "WARNING:tensorflow:From /usr/local/lib/python3.6/dist-packages/tensorflow/python/training/tracking/tracking.py:111: Layer.updates (from tensorflow.python.keras.engine.base_layer) is deprecated and will be removed in a future version.\n",
      "Instructions for updating:\n",
      "This property should not be used in TensorFlow 2.0, as updates are applied automatically.\n",
      "INFO:tensorflow:Assets written to: ./ckpt1/ckpt-loss=0.41/assets\n",
      "2916/2916 [==============================] - 392s 134ms/step - loss: 0.4073 - accuracy: 0.8107 - val_loss: 0.3813 - val_accuracy: 0.8258\n",
      "Epoch 2/10\n",
      "2916/2916 [==============================] - ETA: 0s - loss: 0.3309 - accuracy: 0.8532INFO:tensorflow:Assets written to: ./ckpt1/ckpt-loss=0.33/assets\n",
      "2916/2916 [==============================] - 388s 133ms/step - loss: 0.3309 - accuracy: 0.8532 - val_loss: 0.3766 - val_accuracy: 0.8287\n",
      "Epoch 3/10\n",
      "2916/2916 [==============================] - 362s 124ms/step - loss: 0.2857 - accuracy: 0.8753 - val_loss: 0.3995 - val_accuracy: 0.8274\n"
     ]
    }
   ],
   "source": [
    "num_epochs = 10\n",
    "batch_size = 50\n",
    "model3.compile(loss='binary_crossentropy', optimizer='adam', metrics=['accuracy'])\n",
    "checkpoint_dir = './ckpt1'\n",
    "callbacks = [\n",
    "        keras.callbacks.EarlyStopping(monitor='val_accuracy', patience=0),\n",
    "        # This callback saves a SavedModel every 100 batches.\n",
    "        # We include the training loss in the folder name.\n",
    "        keras.callbacks.ModelCheckpoint()\n",
    "            filepath=checkpoint_dir + '/ckpt-loss={loss:.2f}',\n",
    "            monitor='val_loss',\n",
    "            save_best_only=True)\n",
    "    ]\n",
    "history = model3.fit(training_padded, training_labels, epochs=num_epochs, validation_data=(testing_padded, testing_labels), callbacks=callbacks, batch_size = batch_size)"
   ]
  },
  {
   "cell_type": "code",
   "execution_count": 22,
   "metadata": {
    "colab": {},
    "colab_type": "code",
    "executionInfo": {
     "elapsed": 2834,
     "status": "ok",
     "timestamp": 1597217184257,
     "user": {
      "displayName": "김민균",
      "photoUrl": "",
      "userId": "00979122829839263648"
     },
     "user_tz": -540
    },
    "id": "cQF3VA-9j5I2"
   },
   "outputs": [],
   "source": [
    "model4 = tf.keras.Sequential([\n",
    "    tf.keras.layers.Embedding(training_padded.shape[0], 64),\n",
    "    tf.keras.layers.Bidirectional(tf.keras.layers.GRU(32)),\n",
    "    tf.keras.layers.Dense(32, activation='relu'),\n",
    "    tf.keras.layers.Dense(1, activation='sigmoid')\n",
    "])"
   ]
  },
  {
   "cell_type": "code",
   "execution_count": 24,
   "metadata": {
    "colab": {
     "base_uri": "https://localhost:8080/",
     "height": 143
    },
    "colab_type": "code",
    "executionInfo": {
     "elapsed": 1144340,
     "status": "ok",
     "timestamp": 1597218356249,
     "user": {
      "displayName": "김민균",
      "photoUrl": "",
      "userId": "00979122829839263648"
     },
     "user_tz": -540
    },
    "id": "k9PV1NjPkBdt",
    "outputId": "71e24c59-da63-464c-db32-29d5f5764079"
   },
   "outputs": [
    {
     "name": "stdout",
     "output_type": "stream",
     "text": [
      "Epoch 1/10\n",
      "2916/2916 [==============================] - ETA: 0s - loss: 0.4048 - accuracy: 0.8114INFO:tensorflow:Assets written to: ./ckpt2/ckpt-loss=0.40/assets\n",
      "2916/2916 [==============================] - 415s 142ms/step - loss: 0.4048 - accuracy: 0.8114 - val_loss: 0.3750 - val_accuracy: 0.8290\n",
      "Epoch 2/10\n",
      "2916/2916 [==============================] - 357s 123ms/step - loss: 0.3276 - accuracy: 0.8556 - val_loss: 0.3757 - val_accuracy: 0.8306\n",
      "Epoch 3/10\n",
      "2916/2916 [==============================] - 356s 122ms/step - loss: 0.2831 - accuracy: 0.8771 - val_loss: 0.3973 - val_accuracy: 0.8285\n"
     ]
    }
   ],
   "source": [
    "num_epochs = 10\n",
    "batch_size = 50\n",
    "model4.compile(loss='binary_crossentropy', optimizer='adam', metrics=['accuracy'])\n",
    "checkpoint_dir = './ckpt2'\n",
    "callbacks = [\n",
    "        keras.callbacks.EarlyStopping(monitor='val_accuracy', patience=0),\n",
    "        # This callback saves a SavedModel every 100 batches.\n",
    "        # We include the training loss in the folder name.\n",
    "        keras.callbacks.ModelCheckpoint(\n",
    "            filepath=checkpoint_dir + '/ckpt-loss={loss:.2f}',\n",
    "            monitor='val_loss',\n",
    "            save_best_only=True)\n",
    "    ]\n",
    "history = model4.fit(training_padded, training_labels, epochs=num_epochs, validation_data=(testing_padded, testing_labels), callbacks=callbacks, batch_size = batch_size)"
   ]
  },
  {
   "cell_type": "code",
   "execution_count": 33,
   "metadata": {
    "colab": {},
    "colab_type": "code",
    "executionInfo": {
     "elapsed": 1426,
     "status": "ok",
     "timestamp": 1597221002536,
     "user": {
      "displayName": "김민균",
      "photoUrl": "",
      "userId": "00979122829839263648"
     },
     "user_tz": -540
    },
    "id": "maev75k6o-S5"
   },
   "outputs": [],
   "source": [
    "model6 = tf.keras.Sequential([\n",
    "    tf.keras.layers.Embedding(training_padded.shape[0], 64),\n",
    "    tf.keras.layers.GRU(64, return_sequences=True),\n",
    "    tf.keras.layers.GRU(16),\n",
    "    tf.keras.layers.Dense(10, activation='relu'),\n",
    "    tf.keras.layers.Dense(1, activation='sigmoid')\n",
    "])"
   ]
  },
  {
   "cell_type": "code",
   "execution_count": 34,
   "metadata": {
    "colab": {
     "base_uri": "https://localhost:8080/",
     "height": 107
    },
    "colab_type": "code",
    "executionInfo": {
     "elapsed": 656474,
     "status": "ok",
     "timestamp": 1597221658077,
     "user": {
      "displayName": "김민균",
      "photoUrl": "",
      "userId": "00979122829839263648"
     },
     "user_tz": -540
    },
    "id": "WRubBeEUpKAw",
    "outputId": "f3948741-b006-4eb7-efab-57d5bba69ff8"
   },
   "outputs": [
    {
     "name": "stdout",
     "output_type": "stream",
     "text": [
      "Epoch 1/10\n",
      "2916/2916 [==============================] - ETA: 0s - loss: 0.4429 - accuracy: 0.7726INFO:tensorflow:Assets written to: ./ckpt4/ckpt-loss=0.44/assets\n",
      "2916/2916 [==============================] - 333s 114ms/step - loss: 0.4429 - accuracy: 0.7726 - val_loss: 0.3786 - val_accuracy: 0.8272\n",
      "Epoch 2/10\n",
      "2916/2916 [==============================] - 316s 109ms/step - loss: 0.3360 - accuracy: 0.8511 - val_loss: 0.3814 - val_accuracy: 0.8271\n"
     ]
    }
   ],
   "source": [
    "num_epochs = 10\n",
    "batch_size = 50\n",
    "model6.compile(loss='binary_crossentropy', optimizer='adam', metrics=['accuracy'])\n",
    "checkpoint_dir = './ckpt4'\n",
    "callbacks = [\n",
    "        keras.callbacks.EarlyStopping(monitor='val_accuracy', patience=0),\n",
    "        # This callback saves a SavedModel every 100 batches.\n",
    "        # We include the training loss in the folder name.\n",
    "        keras.callbacks.ModelCheckpoint(\n",
    "            filepath=checkpoint_dir + '/ckpt-loss={loss:.2f}',\n",
    "            monitor='val_loss',\n",
    "            save_best_only=True)\n",
    "    ]\n",
    "history = model6.fit(training_padded, training_labels, epochs=num_epochs, validation_data=(testing_padded, testing_labels), callbacks=callbacks, batch_size = batch_size)"
   ]
  },
  {
   "cell_type": "code",
   "execution_count": 16,
   "metadata": {
    "colab": {},
    "colab_type": "code",
    "executionInfo": {
     "elapsed": 1120,
     "status": "ok",
     "timestamp": 1597217025722,
     "user": {
      "displayName": "김민균",
      "photoUrl": "",
      "userId": "00979122829839263648"
     },
     "user_tz": -540
    },
    "id": "tH7fBvRTIeTU"
   },
   "outputs": [],
   "source": [
    "\n",
    "import numpy as np\n",
    "import pandas as pd\n",
    "import re\n",
    "import os\n",
    "import pickle\n",
    "from konlpy.tag import Okt\n",
    "from gensim import models\n",
    "from gensim.models import Word2Vec\n",
    "import tensorflow as tf\n",
    "from tensorflow import keras\n",
    "from tensorflow.keras.preprocessing.text import Tokenizer\n",
    "from tensorflow.keras.preprocessing.sequence import pad_sequences\n",
    "\n",
    "def tokenize(sentence):\n",
    "    okt = Okt()\n",
    "    tokenized_sentence = []\n",
    "    # 우선 단어의 기본형으로 모두 살리고, 명사, 동사, 영어만 담는다.\n",
    "    # 그냥 nouns로 분리하는 것보다 좀 더 정확하고 많은 데이터를 얻을 수 있다.\n",
    "    for line in sentence:\n",
    "        result = []\n",
    "        temp_sentence = okt.pos(line, norm=True, stem=True) # 먼저 형태소 분리해서 리스트에 담고\n",
    "        for i in temp_sentence:                             \n",
    "            if (i[1] == 'Noun' or i[1] == 'Adjective' or i[1] == 'Alpha'):                  \n",
    "                result.append(i[0])\n",
    "        tokenized_sentence.append(result)\n",
    "    return tokenized_sentence"
   ]
  },
  {
   "cell_type": "code",
   "execution_count": 17,
   "metadata": {
    "colab": {},
    "colab_type": "code",
    "executionInfo": {
     "elapsed": 596,
     "status": "ok",
     "timestamp": 1597217025727,
     "user": {
      "displayName": "김민균",
      "photoUrl": "",
      "userId": "00979122829839263648"
     },
     "user_tz": -540
    },
    "id": "d_slddoJ-I-l"
   },
   "outputs": [],
   "source": [
    "import os\n",
    "import sys\n",
    "import argparse\n",
    "\n",
    "import tensorflow as tf\n",
    "from tensorflow.keras.preprocessing.text import Tokenizer\n",
    "from tensorflow.keras.preprocessing.sequence import pad_sequences\n",
    "import numpy as np\n",
    "import pickle\n",
    "import json\n",
    "import pandas as pd\n",
    "from konlpy.tag import Mecab\n",
    "\n",
    "class Evaluator:\n",
    "    def __init__(self, model_path, tokenizer_path, param_path, testset_path):\n",
    "        self.model = self.load_model(model_path)\n",
    "        self.tokenizer = self.load_tokenizer(tokenizer_path)\n",
    "        self.max_len, self.pad_type, self.trunc_type = self.load_parameters(param_path)\n",
    "        self.sentences, self.targets = self.load_testset(testset_path)\n",
    "\n",
    "    def load_model(self, model_path):\n",
    "        return tf.keras.models.load_model(model_path)\n",
    "\n",
    "    def load_tokenizer(self, tokenizer_path):\n",
    "        with open(tokenizer_path, \"rb\") as f:\n",
    "            return pickle.load(f)\n",
    "\n",
    "    def load_parameters(self, param_path):\n",
    "        with open(param_path, \"r\") as f:\n",
    "            params = json.load(f)\n",
    "\n",
    "        return params[\"max_len\"], params[\"pad_type\"], params[\"trunc_type\"]\n",
    "\n",
    "    def load_testset(self, testset_path, ):\n",
    "        df = pd.read_csv(\n",
    "            testset_path, sep=\"\\t\", header=None, names=[\"sentence\", \"label\"]\n",
    "        )\n",
    "        \n",
    "        sentences = np.array(tokenize(df[\"sentence\"]))\n",
    "        targets = np.array(df[\"label\"])\n",
    "        return sentences, targets\n",
    "\n",
    "    def get_seqeunces(self):\n",
    "        sequences = self.tokenizer.texts_to_sequences(self.sentences)\n",
    "        padded = pad_sequences(\n",
    "            sequences,\n",
    "            maxlen=self.max_len,\n",
    "            padding=self.pad_type,\n",
    "            truncating=self.trunc_type,\n",
    "        )\n",
    "        return padded\n",
    "\n",
    "    def predict(self):\n",
    "        padded = self.get_seqeunces()\n",
    "        result = self.model.predict(padded)\n",
    "        predicted = result > 0.5\n",
    "        accuracy = np.mean(tf.squeeze(predicted) == self.targets)\n",
    "        return accuracy"
   ]
  },
  {
   "cell_type": "code",
   "execution_count": 20,
   "metadata": {
    "colab": {},
    "colab_type": "code",
    "executionInfo": {
     "elapsed": 25975,
     "status": "ok",
     "timestamp": 1597217099734,
     "user": {
      "displayName": "김민균",
      "photoUrl": "",
      "userId": "00979122829839263648"
     },
     "user_tz": -540
    },
    "id": "OPRZ3oY5Isfr"
   },
   "outputs": [],
   "source": [
    "# 단순 모델\n",
    "ev = Evaluator('/content/ckpt2/ckpt-loss=0.40','/content/tokenizer.pickle','/content/parameter.json','/content/review.tsv')"
   ]
  },
  {
   "cell_type": "code",
   "execution_count": 21,
   "metadata": {
    "colab": {
     "base_uri": "https://localhost:8080/",
     "height": 35
    },
    "colab_type": "code",
    "executionInfo": {
     "elapsed": 28004,
     "status": "ok",
     "timestamp": 1597217101870,
     "user": {
      "displayName": "김민균",
      "photoUrl": "",
      "userId": "00979122829839263648"
     },
     "user_tz": -540
    },
    "id": "VKyfKaxRK8PW",
    "outputId": "8d066fd2-a6b9-401b-9414-6850de6b5583"
   },
   "outputs": [
    {
     "data": {
      "text/plain": [
       "0.78"
      ]
     },
     "execution_count": 21,
     "metadata": {
      "tags": []
     },
     "output_type": "execute_result"
    }
   ],
   "source": [
    "ev.predict()"
   ]
  },
  {
   "cell_type": "code",
   "execution_count": 25,
   "metadata": {
    "colab": {
     "base_uri": "https://localhost:8080/",
     "height": 35
    },
    "colab_type": "code",
    "executionInfo": {
     "elapsed": 21178,
     "status": "ok",
     "timestamp": 1597218442163,
     "user": {
      "displayName": "김민균",
      "photoUrl": "",
      "userId": "00979122829839263648"
     },
     "user_tz": -540
    },
    "id": "czIEyyW5orIB",
    "outputId": "a383833e-beaf-4a38-94fa-a15631665127"
   },
   "outputs": [
    {
     "data": {
      "text/plain": [
       "0.76"
      ]
     },
     "execution_count": 25,
     "metadata": {
      "tags": []
     },
     "output_type": "execute_result"
    }
   ],
   "source": [
    "# 단순 모델\n",
    "ev2 = Evaluator('/content/ckpt2/ckpt-loss=0.40','/content/tokenizer.pickle','/content/parameter.json','/content/review.tsv')\n",
    "ev2.predict()"
   ]
  },
  {
   "cell_type": "code",
   "execution_count": 28,
   "metadata": {
    "colab": {
     "base_uri": "https://localhost:8080/",
     "height": 35
    },
    "colab_type": "code",
    "executionInfo": {
     "elapsed": 8411,
     "status": "ok",
     "timestamp": 1597219998033,
     "user": {
      "displayName": "김민균",
      "photoUrl": "",
      "userId": "00979122829839263648"
     },
     "user_tz": -540
    },
    "id": "C1sohn3noviE",
    "outputId": "2c874d42-770b-4b24-8f53-d65f896f589a"
   },
   "outputs": [
    {
     "data": {
      "text/plain": [
       "0.76"
      ]
     },
     "execution_count": 28,
     "metadata": {
      "tags": []
     },
     "output_type": "execute_result"
    }
   ],
   "source": [
    "# 단순 모델\n",
    "ev3 = Evaluator('/content/ckpt3/ckpt-loss=0.35','/content/tokenizer.pickle','/content/parameter.json','/content/review.tsv')\n",
    "ev3.predict()"
   ]
  },
  {
   "cell_type": "code",
   "execution_count": 32,
   "metadata": {
    "colab": {
     "base_uri": "https://localhost:8080/",
     "height": 35
    },
    "colab_type": "code",
    "executionInfo": {
     "elapsed": 9297,
     "status": "ok",
     "timestamp": 1597220969226,
     "user": {
      "displayName": "김민균",
      "photoUrl": "",
      "userId": "00979122829839263648"
     },
     "user_tz": -540
    },
    "id": "xHROMfA4uuYy",
    "outputId": "2a94429d-f708-48f9-e092-2d30015f2ecf"
   },
   "outputs": [
    {
     "data": {
      "text/plain": [
       "0.72"
      ]
     },
     "execution_count": 32,
     "metadata": {
      "tags": []
     },
     "output_type": "execute_result"
    }
   ],
   "source": [
    "ev4 = Evaluator('/content/ckpt4/ckpt-loss=0.38','/content/tokenizer.pickle','/content/parameter.json','/content/review.tsv')\n",
    "ev4.predict()"
   ]
  },
  {
   "cell_type": "code",
   "execution_count": null,
   "metadata": {
    "colab": {},
    "colab_type": "code",
    "id": "c_lYOiaSyYkJ"
   },
   "outputs": [],
   "source": []
  }
 ],
 "metadata": {
  "accelerator": "GPU",
  "colab": {
   "authorship_tag": "ABX9TyPxB0rgWJl5pcgZpR8tj06G",
   "collapsed_sections": [],
   "name": "LSTM_MAKEMODEL.ipynb",
   "provenance": []
  },
  "kernelspec": {
   "display_name": "Python 3",
   "language": "python",
   "name": "python3"
  },
  "language_info": {
   "codemirror_mode": {
    "name": "ipython",
    "version": 3
   },
   "file_extension": ".py",
   "mimetype": "text/x-python",
   "name": "python",
   "nbconvert_exporter": "python",
   "pygments_lexer": "ipython3",
   "version": "3.6.10"
  }
 },
 "nbformat": 4,
 "nbformat_minor": 1
}
