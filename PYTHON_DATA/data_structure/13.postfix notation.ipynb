{
 "cells": [
  {
   "cell_type": "markdown",
   "metadata": {},
   "source": [
    "## 후위 표기 수식 계산"
   ]
  },
  {
   "cell_type": "markdown",
   "metadata": {},
   "source": [
    "A B + C D + * -> pop()2 + pop()1 push /  pop2 pop1 + (C+D) push  \n",
    "\n",
    "stack : A B (+)만나 pop()1 pop()2  (A + B) / C D + 만나 pop pop (C+D) * 만나 -> pop  \n",
    "\n",
    "뺄쌤이나 나눗셈은 pop2 pop1 해야함니당~~  \n",
    "원칙에 따라 push\n",
    "그래서 stack에서 pop 하면 된다~~"
   ]
  },
  {
   "cell_type": "code",
   "execution_count": null,
   "metadata": {},
   "outputs": [],
   "source": [
    "## 알고리즘의 설계\n",
    "\n",
    "- 후위 표현식을 왼쪽부터 한 글자씩 읽어\n",
    "    - 피연산자이면 스택에 push\n",
    "    - 연산자를 만나면 스택에서 pop -> (1) pop(2)\n",
    "        - (2)연산(1) 계산, 결과를 스택에 push\n",
    "        \n",
    "- 수식의 끝에 도달하면, stack에서 pop -> 계산 결과"
   ]
  },
  {
   "cell_type": "code",
   "execution_count": 66,
   "metadata": {},
   "outputs": [],
   "source": [
    "class ArrayStack:\n",
    "\n",
    "    def __init__(self):\n",
    "        self.data = []\n",
    "\n",
    "    def size(self):\n",
    "        return len(self.data)\n",
    "\n",
    "    def isEmpty(self):\n",
    "        return self.size() == 0\n",
    "\n",
    "    def push(self, item):\n",
    "        self.data.append(item)\n",
    "\n",
    "    def pop(self):\n",
    "        return self.data.pop()\n",
    "\n",
    "    def peek(self):\n",
    "        return self.data[-1]\n",
    "\n",
    "\n",
    "def splitTokens(exprStr):\n",
    "    tokens = []\n",
    "    val = 0\n",
    "    valProcessing = False\n",
    "    for c in exprStr:\n",
    "        if c == ' ':\n",
    "            continue\n",
    "        if c in '0123456789':\n",
    "            val = val * 10 + int(c)\n",
    "            valProcessing = True\n",
    "        else:\n",
    "            if valProcessing:\n",
    "                tokens.append(val)\n",
    "                val = 0\n",
    "            valProcessing = False\n",
    "            tokens.append(c)\n",
    "    if valProcessing:\n",
    "        tokens.append(val)\n",
    "\n",
    "    return tokens\n",
    "\n",
    "\n",
    "def infixToPostfix(tokenList):\n",
    "    prec = {\n",
    "        '*': 3,\n",
    "        '/': 3,\n",
    "        '+': 2,\n",
    "        '-': 2,\n",
    "        '(': 1,\n",
    "    }\n",
    "\n",
    "    opStack = ArrayStack()\n",
    "    postfixList = []\n",
    "    \n",
    "    for token in tokenList:\n",
    "        if type(token) is int:\n",
    "            postfixList.append(token)\n",
    "        elif token == '(':\n",
    "            opStack.push(token)\n",
    "        elif token == ')':\n",
    "            while not opStack.peek() == '(':\n",
    "                postfixList.append(opStack.pop())\n",
    "            opStack.pop()\n",
    "        else:\n",
    "            if opStack.isEmpty():\n",
    "                opStack.push(token)\n",
    "            else:\n",
    "                if prec[token] <= prec[opStack.peek()]:\n",
    "                    while not opStack.isEmpty():\n",
    "                        postfixList.append(opStack.pop())\n",
    "                    opStack.push(token)\n",
    "                else:\n",
    "                    opStack.push(token)\n",
    "            \n",
    "    while not opStack.isEmpty():\n",
    "        \n",
    "            postfixList.append(opStack.pop())\n",
    "                \n",
    "    return postfixList\n",
    "\n",
    "\n",
    "\n",
    "def postfixEval(tokenList):\n",
    "    valStack = ArrayStack()\n",
    "    \n",
    "    for token in tokenList:\n",
    "        if type(token) is int:\n",
    "            valStack.push(token)\n",
    "        elif token == '+':\n",
    "            pop1 = valStack.pop()\n",
    "            pop2 = valStack.pop()\n",
    "            summ = pop2 + pop1\n",
    "            valStack.push(summ)\n",
    "        elif token == '-':\n",
    "            pop1 = valStack.pop()\n",
    "            pop2 = valStack.pop()\n",
    "            summ = pop2 - pop1\n",
    "            valStack.push(summ)\n",
    "        elif token == '*':\n",
    "            pop1 = valStack.pop()\n",
    "            pop2 = valStack.pop()\n",
    "            summ = pop2 * pop1\n",
    "            valStack.push(summ)\n",
    "        elif token == '/':\n",
    "            pop1 = valStack.pop()\n",
    "            pop2 = valStack.pop()\n",
    "            summ = pop2 / pop1\n",
    "            valStack.push(summ)\n",
    "            \n",
    "    return valStack.pop()\n",
    "\n",
    "\n",
    "\n",
    "def solution(expr):\n",
    "    tokens = splitTokens(expr)\n",
    "    postfix = infixToPostfix(tokens)\n",
    "    val = postfixEval(postfix)\n",
    "    return val"
   ]
  },
  {
   "cell_type": "code",
   "execution_count": 67,
   "metadata": {},
   "outputs": [],
   "source": [
    "start  = '(123+45)*(34+11)'"
   ]
  },
  {
   "cell_type": "code",
   "execution_count": 68,
   "metadata": {},
   "outputs": [
    {
     "data": {
      "text/plain": [
       "['(', 123, '+', 45, ')', '*', '(', 34, '+', 11, ')']"
      ]
     },
     "execution_count": 68,
     "metadata": {},
     "output_type": "execute_result"
    }
   ],
   "source": [
    "llist = splitTokens(start)\n",
    "llist"
   ]
  },
  {
   "cell_type": "code",
   "execution_count": 69,
   "metadata": {},
   "outputs": [
    {
     "data": {
      "text/plain": [
       "[123, 45, '+', 34, 11, '+', '*']"
      ]
     },
     "execution_count": 69,
     "metadata": {},
     "output_type": "execute_result"
    }
   ],
   "source": [
    "k = infixToPostfix(llist)\n",
    "k"
   ]
  },
  {
   "cell_type": "code",
   "execution_count": 70,
   "metadata": {},
   "outputs": [
    {
     "data": {
      "text/plain": [
       "7560"
      ]
     },
     "execution_count": 70,
     "metadata": {},
     "output_type": "execute_result"
    }
   ],
   "source": [
    "postfixEval(k)"
   ]
  },
  {
   "cell_type": "code",
   "execution_count": 71,
   "metadata": {},
   "outputs": [
    {
     "data": {
      "text/plain": [
       "7560"
      ]
     },
     "execution_count": 71,
     "metadata": {},
     "output_type": "execute_result"
    }
   ],
   "source": [
    "(123+45)*(34+11)"
   ]
  },
  {
   "cell_type": "code",
   "execution_count": null,
   "metadata": {},
   "outputs": [],
   "source": []
  }
 ],
 "metadata": {
  "kernelspec": {
   "display_name": "Python 3",
   "language": "python",
   "name": "python3"
  },
  "language_info": {
   "codemirror_mode": {
    "name": "ipython",
    "version": 3
   },
   "file_extension": ".py",
   "mimetype": "text/x-python",
   "name": "python",
   "nbconvert_exporter": "python",
   "pygments_lexer": "ipython3",
   "version": "3.6.10"
  }
 },
 "nbformat": 4,
 "nbformat_minor": 4
}
