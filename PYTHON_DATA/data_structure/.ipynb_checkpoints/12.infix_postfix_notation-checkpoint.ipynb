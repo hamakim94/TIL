{
 "cells": [
  {
   "cell_type": "markdown",
   "metadata": {},
   "source": [
    "# 중위 표기법과 후위 표기법"
   ]
  },
  {
   "cell_type": "markdown",
   "metadata": {},
   "source": [
    "## 중위 표기법\n",
    "\n",
    "- infix notation : 연산자가 피연산자들의 사이에 위치\n",
    "    - (A+B)1 * 3 (C+D)2\n",
    "- prefix notation : 연산자가 피연사자들의 뒤에 위치\n",
    "    - AB+CD+* 앞에나오는 연사자들대로 하며, 괄호도 필요 없게 된다"
   ]
  },
  {
   "cell_type": "markdown",
   "metadata": {},
   "source": [
    "## 중위 -> 후위\n",
    "- A * B + C   \n",
    "- A 넣고, * 를 스택으로, B를 넣고, 연산자 우선순위 비교, pop해, + 스택에 넣고 C를 만나서 그냥 적어, 스택에서 pop해서 맨 끝에 붙임\n",
    "AB*C+\n",
    "- A + B * C \n",
    "- A 일단 적어, + 스택에 넣어, B도 그냥 써, * 연산자를 보는데 스택에 들어있는 덧셈보다 우선순위가 높으므로 일단 push해서 넣어그다음 C 만났으니 적고 수식의 끝이 왔으므로 수식에 있는 연산자들을 pop 해서 더해준다\n",
    "ABC*+"
   ]
  },
  {
   "cell_type": "markdown",
   "metadata": {},
   "source": [
    "- A + B + C\n",
    "A , + push stack, B, + push stack but 우선순위가 동일하므로 먼저 나온 연산을 처리해야하므로 stack에 pop 해서 적고 새로만난 + 연산을 stack 에 넣고 C 출력해서 수식에 끝까지 왔으면 "
   ]
  },
  {
   "cell_type": "markdown",
   "metadata": {},
   "source": [
    "## 괄호의 처리  \n",
    "\n",
    "( A + B ) * C\n",
    "- 여는 괄호는 stack에 push\n",
    "- 닫는 괄호를 만나면 여는 괄호가 나올 떄 까지 pop 한다."
   ]
  },
  {
   "cell_type": "markdown",
   "metadata": {},
   "source": [
    "A * (B + C)\n",
    "- 여는 괄호보다 곱샘이 먼저 pop 하지 않도록 해야해\n",
    "- 여는 괄호의 우선순위는 가장 낮게 설정?\n",
    "- A B C + * stack : * ( +  : (가 제일 낮으니 +가 stack에 쌓일 수 있게 한다\n"
   ]
  },
  {
   "cell_type": "markdown",
   "metadata": {},
   "source": [
    "(A + B) * ( C + D )  \n",
    "stack :  ( + ) pop   * ( + ) pop pop  \n",
    "\n",
    "답은 AB+CD+*  \n",
    "  \n",
    "(A + ( B - C ) ) * D  \n",
    "\n",
    "stack : ( + ( - ) pop ) pop / * pop pop  \n",
    "A B C - + D  *  \n",
    "\n",
    "A * ( B - ( C + D ))  \n",
    "stack : * ( - ( + ) pop ) pop pop  \n",
    "A B C D + - *"
   ]
  },
  {
   "cell_type": "markdown",
   "metadata": {},
   "source": [
    "## 알고리즘의 설계\n",
    "- 연산자의 우선순위 설정( 4연산과 소괄호만 한다)  \n",
    "- dict로 연산자의 우선순위를 결정한다 가장 높은거 3 * / 2 + - 1 (괄호)  \n",
    "  \n",
    "  \n",
    "- 중위 표현식을 왼쪽부터 한 글자씩 읽어서\n",
    "    - 피연산자이면 그냥 추력\n",
    "    - ( 이면 stack에 push\n",
    "    - ) 나오면 ( 나올 때 까지 pop, 출력\n",
    "    - 연산자이면 stack에서 이보다 높(거나 같)은 우선순위 것들을 pop, 출력\n",
    "        - 그리고 이 연산자는 stack에 push\n",
    "- stack에 남아 있는 연산자를 모두 pop, 출력!\n",
    "\n",
    "\n"
   ]
  },
  {
   "cell_type": "markdown",
   "metadata": {},
   "source": [
    "## 힌트 2개\n",
    "- 스택의 맨 위에 있는 연산자와의 우선순위 비교 \n",
    "    - stack의 peek()연ㅅ나을 이용\n",
    "- 스택에 남아 있는 연산자 모두 pop하는 순환문\n",
    "    - while not opStack.isEmpty()"
   ]
  },
  {
   "cell_type": "code",
   "execution_count": 3,
   "metadata": {},
   "outputs": [],
   "source": [
    "class ArrayStack:\n",
    "\n",
    "    def __init__(self):\n",
    "        self.data = []\n",
    "\n",
    "    def size(self):\n",
    "        return len(self.data)\n",
    "\n",
    "    def isEmpty(self):\n",
    "        return self.size() == 0\n",
    "\n",
    "    def push(self, item):\n",
    "        self.data.append(item)\n",
    "\n",
    "    def pop(self):\n",
    "        return self.data.pop()\n",
    "\n",
    "    def peek(self):\n",
    "        return self.data[-1]\n",
    "\n",
    "prec = {\n",
    "    '*': 3, '/': 3,\n",
    "    '+': 2, '-': 2,\n",
    "    '(': 1, ')' : 1\n",
    "}\n"
   ]
  },
  {
   "cell_type": "code",
   "execution_count": 43,
   "metadata": {},
   "outputs": [],
   "source": [
    "\n",
    "def solution(S):\n",
    "    opStack = ArrayStack()\n",
    "    answer = ''\n",
    "    for letter in S: # 우선 letter가 문자인지 아니면 괄호인지 그게 중요하니까, 우선 모든 조건이 아니라면 그냥 append 하는걸로 하자\n",
    "        if letter not in prec.keys():\n",
    "            answer += letter\n",
    "        elif letter == '(':\n",
    "            opStack.push(letter)\n",
    "        elif letter == ')':\n",
    "            while not opStack.peek() == '(':\n",
    "                answer += opStack.pop()\n",
    "            opStack.pop()\n",
    "        else:\n",
    "            if opStack.isEmpty():\n",
    "                opStack.push(letter)\n",
    "            else:\n",
    "                if prec[letter] <= prec[opStack.peek()]:\n",
    "                    while not opStack.isEmpty():\n",
    "                        answer += opStack.pop()\n",
    "                    opStack.push(letter)\n",
    "                else:\n",
    "                    opStack.push(letter)\n",
    "         \n",
    "\n",
    "    \n",
    "    while not opStack.isEmpty():\n",
    "        if opStack.peek() == '(':\n",
    "            opStack.pop()\n",
    "        else:\n",
    "            answer += opStack.pop()\n",
    "                \n",
    "        \n",
    "        \n",
    "    \n",
    "    return answer"
   ]
  },
  {
   "cell_type": "code",
   "execution_count": 47,
   "metadata": {},
   "outputs": [
    {
     "data": {
      "text/plain": [
       "'AB+CD+*'"
      ]
     },
     "execution_count": 47,
     "metadata": {},
     "output_type": "execute_result"
    }
   ],
   "source": [
    "solution('((A+B)*(C+D)') # stack : ( ( + ) pop * ( + ) pop pop"
   ]
  },
  {
   "cell_type": "code",
   "execution_count": 48,
   "metadata": {},
   "outputs": [
    {
     "data": {
      "text/plain": [
       "'ABC+*'"
      ]
     },
     "execution_count": 48,
     "metadata": {},
     "output_type": "execute_result"
    }
   ],
   "source": [
    "solution(\"A*(B+C)\") # stack : * ( + ) pop pop"
   ]
  },
  {
   "cell_type": "code",
   "execution_count": 50,
   "metadata": {},
   "outputs": [
    {
     "data": {
      "text/plain": [
       "'ABC*+D-'"
      ]
     },
     "execution_count": 50,
     "metadata": {},
     "output_type": "execute_result"
    }
   ],
   "source": [
    "solution('A+B*C-D')"
   ]
  },
  {
   "cell_type": "code",
   "execution_count": null,
   "metadata": {},
   "outputs": [],
   "source": []
  }
 ],
 "metadata": {
  "kernelspec": {
   "display_name": "Python 3",
   "language": "python",
   "name": "python3"
  },
  "language_info": {
   "codemirror_mode": {
    "name": "ipython",
    "version": 3
   },
   "file_extension": ".py",
   "mimetype": "text/x-python",
   "name": "python",
   "nbconvert_exporter": "python",
   "pygments_lexer": "ipython3",
   "version": "3.6.10"
  }
 },
 "nbformat": 4,
 "nbformat_minor": 4
}
